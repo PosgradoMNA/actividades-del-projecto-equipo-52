{
  "nbformat": 4,
  "nbformat_minor": 0,
  "metadata": {
    "colab": {
      "name": "assignment01.ipynb",
      "provenance": [],
      "include_colab_link": true
    },
    "kernelspec": {
      "name": "python3",
      "display_name": "Python 3"
    },
    "language_info": {
      "name": "python"
    }
  },
  "cells": [
    {
      "cell_type": "markdown",
      "metadata": {
        "id": "view-in-github",
        "colab_type": "text"
      },
      "source": [
        "<a href=\"https://colab.research.google.com/github/PosgradoMNA/actividades-del-projecto-equipo-52/blob/main/Proyecto%20final%20-%20Avance%202.ipynb\" target=\"_parent\"><img src=\"https://colab.research.google.com/assets/colab-badge.svg\" alt=\"Open In Colab\"/></a>"
      ]
    },
    {
      "cell_type": "markdown",
      "source": [
        "> # **Proyecto final - Avance 2**\n",
        ">### **Maestría en Inteligencia Artificial Aplicada**\n",
        ">### **Curso: Inteligencia Artificial y Aprendizaje Automático**\n",
        ">### **Tecnológico de Monterrey**\n",
        ">### **Prof: Jobish Vallikavungal Devassia**\n",
        "\n",
        "### **Genaro Ramos Higuera - A00351269**\n",
        "### **Gerardo Aaron Castañeda Jaramillo - A01137646**"
      ],
      "metadata": {
        "id": "g4kUMHJDsYA-"
      }
    },
    {
      "cell_type": "markdown",
      "source": [
        "# **Metodología: CRoss Industry Standard Process for Data Mining (CRISP-DM)**\n",
        "\n",
        "### Modelo de proceso que sirve de base para la ciencia de datos. Consiste en 6 fases secuenciales:\n",
        "\n",
        "\n",
        "**1. Comprensión del negocio – ¿Qué necesita la empresa?**\n",
        "\n",
        ">La fase de comprensión empresarial se centra en la comprensión de los objetivos y requisitos del proyecto. Consiste de cuatro partes: determinar los objetivos del negocio, evaluar la situación, determinar los objetivos del data mining, y producir el plan del proyecto. Establecer un sólido entendimiento empresarial es esencial.\n",
        "\n",
        "**2. Comprensión de datos – ¿Qué datos tenemos/necesitamos? ¿Son datos limpios?**\n",
        "\n",
        ">Impulsa a identificar, recopilar y analizar los conjuntos de datos que pueden ayudar a lograr los objetivos del proyecto. Esta fase consiste de cuatro tareas: recopilar los datos iniciales, describir los datos, explorar los datos, y verificar la calidad de los datos. \n",
        "\n",
        "**3. Preparación de datos – ¿Cómo los organizamos para el modelado de datos?**\n",
        "\n",
        ">También conocida como “recopilación de datos”, es la fase donde se preparan los conjuntos de datos finales para el modelado. Consiste en cinco tareas: Seleccionar datos, limpiar datos, construir datos, integrar datos, y formatear datos. \n",
        "\n",
        "**4. Modelado – ¿Qué técnicas de modelado deberíamos aplicar?**\n",
        "\n",
        ">En esta fase probablemente se construirán y evaluaran varios modelos basados en diferentes técnicas de modelado. Consiste en cuatro tareas: seleccionar técnicas de modelado, generar el diseño de las pruebas, construir el modelo, y evaluar el modelo. Aunque la guía CRISP-DM sugiere iterar la construcción y evaluación del modelo hasta encontrar los mejores modelos, en la practica se itera hasta encontrar un modelo “suficientemente” bueno, se prosigue con la metodología CRISP-DM, y después se mejora en futuras iteraciones.\n",
        "\n",
        "**5. Evaluación – ¿Qué modelo cumple de mejor manera los objetivos comerciales?**\n",
        "\n",
        ">Aquí se analiza de manera amplia que modelo se adapta mejor al negocio, y que prosigue. Esta fase consiste de tres tareas: evaluar resultados, el proceso de revisión, determinar los siguientes pasos a seguir. \n",
        "\n",
        "**6. Implementación – ¿Cómo acceden las partes interesadas a los resultados?**\n",
        "\n",
        ">Para que un modelo sea particularmente útil debe de ser accesible para que el cliente vea sus resultados. La complejidad en esta fase puede variar ampliamente. Consiste en cuatro tareas: planificar la implementación, monitoreo y mantenimiento del plan, producir un informe final, y evaluar el proyecto. El trabajo del proyecto no termina aquí. A menudo se requiere un monitoreo constante y un ajuste ocasional del modelo. "
      ],
      "metadata": {
        "id": "4ohCj8x_sdQi"
      }
    },
    {
      "cell_type": "markdown",
      "source": [],
      "metadata": {
        "id": "MP0OQIuJ27c6"
      }
    }
  ]
}