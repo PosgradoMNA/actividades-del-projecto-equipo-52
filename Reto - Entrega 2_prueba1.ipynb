{
  "nbformat": 4,
  "nbformat_minor": 0,
  "metadata": {
    "colab": {
      "name": "assignment01.ipynb",
      "provenance": [],
      "include_colab_link": true
    },
    "kernelspec": {
      "name": "python3",
      "display_name": "Python 3"
    },
    "language_info": {
      "name": "python"
    }
  },
  "cells": [
    {
      "cell_type": "markdown",
      "metadata": {
        "id": "view-in-github",
        "colab_type": "text"
      },
      "source": [
        "<a href=\"https://colab.research.google.com/github/PosgradoMNA/actividades-del-projecto-equipo-52/blob/main/Reto%20-%20Entrega%202_prueba1.ipynb\" target=\"_parent\"><img src=\"https://colab.research.google.com/assets/colab-badge.svg\" alt=\"Open In Colab\"/></a>"
      ]
    },
    {
      "cell_type": "markdown",
      "source": [
        "> # **Reto - Entrega 2**\n",
        ">### **Maestría en Inteligencia Artificial Aplicada**\n",
        ">### **Curso: Inteligencia Artificial y Aprendizaje Automático**\n",
        ">### **Tecnológico de Monterrey**\n",
        ">### **Prof: María de la Paz Rico Fernández**\n",
        "\n",
        "### **Genaro Ramos Higuera - A00351269**\n",
        "### **Gerardo Aaron Castañeda Jaramillo - A01137646**"
      ],
      "metadata": {
        "id": "g4kUMHJDsYA-"
      }
    },
    {
      "cell_type": "code",
      "source": [
        "import numpy as np\n",
        "import pandas as pd\n",
        "import seaborn as sns \n",
        "import matplotlib.pyplot as plt \n",
        "\n",
        "from sklearn.preprocessing import OneHotEncoder\n",
        "from sklearn.ensemble import RandomForestClassifier\n",
        "from sklearn.tree import DecisionTreeClassifier\n",
        "from sklearn.inspection import permutation_importance\n",
        "from sklearn.model_selection import train_test_split\n",
        "from sklearn import metrics\n",
        "from sklearn.metrics import accuracy_score, f1_score, precision_score, recall_score\n",
        "from sklearn.model_selection import RepeatedStratifiedKFold, cross_validate, StratifiedKFold\n",
        "from sklearn.model_selection import GridSearchCV\n",
        "from sklearn.metrics import get_scorer\n",
        "from sklearn.metrics import confusion_matrix\n",
        "\n",
        "from sklearn.model_selection import learning_curve\n",
        "from sklearn.model_selection import validation_curve\n",
        "\n",
        "from sklearn.metrics import classification_report\n",
        "from sklearn.metrics import RocCurveDisplay, precision_recall_curve, roc_curve"
      ],
      "metadata": {
        "id": "8Yan2paWEogS"
      },
      "execution_count": 139,
      "outputs": []
    },
    {
      "cell_type": "code",
      "source": [
        "url = 'https://github.com/PosgradoMNA/actividades-del-projecto-equipo-52/blob/main/aguas_subterraneas.csv?raw=true'\n",
        "\n",
        "data_asb = pd.read_csv(url,sep=\",\")\n",
        "print(data_asb.shape)\n",
        "data_asb.head()"
      ],
      "metadata": {
        "colab": {
          "base_uri": "https://localhost:8080/",
          "height": 318
        },
        "id": "JRWpb_vPFRcK",
        "outputId": "00671148-7277-451c-ff35-2559a325d667"
      },
      "execution_count": 2,
      "outputs": [
        {
          "output_type": "stream",
          "name": "stdout",
          "text": [
            "(1054, 34)\n"
          ]
        },
        {
          "output_type": "execute_result",
          "data": {
            "text/plain": [
              "       CLAVE   LONGITUD   LATITUD  ORGANISMO_DE_CUENCA  SUBTIPO  ALC_mg/L  \\\n",
              "0     DLAGU6 -102.02210  22.20887                  6.0      5.0   229.990   \n",
              "1  DLAGU6516 -102.20075  21.99958                  6.0      5.0   231.990   \n",
              "2     DLAGU7 -102.28801  22.36685                  6.0      5.0   204.920   \n",
              "3     DLAGU9 -102.29449  22.18435                  6.0      5.0   327.000   \n",
              "4   DLBAJ107 -110.24480  23.45138                 10.0      5.0   309.885   \n",
              "\n",
              "   COND_mS/cm  SDT_M_mg/L  FLUO_mg/L  DUR_mg/L  ...  CALIDAD_CF  CALIDAD_NNO3  \\\n",
              "0       940.0       603.6     0.9766  213.7320  ...           1             1   \n",
              "1       608.0       445.4     0.9298  185.0514  ...           1             2   \n",
              "2       532.0       342.0     1.8045  120.7190  ...           1             1   \n",
              "3       686.0       478.6     1.1229  199.8790  ...           1             1   \n",
              "4      1841.0      1179.0     0.2343  476.9872  ...           3             3   \n",
              "\n",
              "   CALIDAD_AS  CALIDAD_CD  CALIDAD_CR  CALIDAD_HG  CALIDAD_PB  CALIDAD_MN  \\\n",
              "0           2           1           1           1           1           1   \n",
              "1           2           1           1           1           1           1   \n",
              "2           3           1           1           1           1           1   \n",
              "3           2           1           1           1           1           1   \n",
              "4           1           1           1           1           1           1   \n",
              "\n",
              "   CALIDAD_FE  SEMAFORO  \n",
              "0           1         1  \n",
              "1           1         1  \n",
              "2           1         3  \n",
              "3           1         1  \n",
              "4           1         3  \n",
              "\n",
              "[5 rows x 34 columns]"
            ],
            "text/html": [
              "\n",
              "  <div id=\"df-614e0d05-4de6-457c-9cd4-558baf66ff79\">\n",
              "    <div class=\"colab-df-container\">\n",
              "      <div>\n",
              "<style scoped>\n",
              "    .dataframe tbody tr th:only-of-type {\n",
              "        vertical-align: middle;\n",
              "    }\n",
              "\n",
              "    .dataframe tbody tr th {\n",
              "        vertical-align: top;\n",
              "    }\n",
              "\n",
              "    .dataframe thead th {\n",
              "        text-align: right;\n",
              "    }\n",
              "</style>\n",
              "<table border=\"1\" class=\"dataframe\">\n",
              "  <thead>\n",
              "    <tr style=\"text-align: right;\">\n",
              "      <th></th>\n",
              "      <th>CLAVE</th>\n",
              "      <th>LONGITUD</th>\n",
              "      <th>LATITUD</th>\n",
              "      <th>ORGANISMO_DE_CUENCA</th>\n",
              "      <th>SUBTIPO</th>\n",
              "      <th>ALC_mg/L</th>\n",
              "      <th>COND_mS/cm</th>\n",
              "      <th>SDT_M_mg/L</th>\n",
              "      <th>FLUO_mg/L</th>\n",
              "      <th>DUR_mg/L</th>\n",
              "      <th>...</th>\n",
              "      <th>CALIDAD_CF</th>\n",
              "      <th>CALIDAD_NNO3</th>\n",
              "      <th>CALIDAD_AS</th>\n",
              "      <th>CALIDAD_CD</th>\n",
              "      <th>CALIDAD_CR</th>\n",
              "      <th>CALIDAD_HG</th>\n",
              "      <th>CALIDAD_PB</th>\n",
              "      <th>CALIDAD_MN</th>\n",
              "      <th>CALIDAD_FE</th>\n",
              "      <th>SEMAFORO</th>\n",
              "    </tr>\n",
              "  </thead>\n",
              "  <tbody>\n",
              "    <tr>\n",
              "      <th>0</th>\n",
              "      <td>DLAGU6</td>\n",
              "      <td>-102.02210</td>\n",
              "      <td>22.20887</td>\n",
              "      <td>6.0</td>\n",
              "      <td>5.0</td>\n",
              "      <td>229.990</td>\n",
              "      <td>940.0</td>\n",
              "      <td>603.6</td>\n",
              "      <td>0.9766</td>\n",
              "      <td>213.7320</td>\n",
              "      <td>...</td>\n",
              "      <td>1</td>\n",
              "      <td>1</td>\n",
              "      <td>2</td>\n",
              "      <td>1</td>\n",
              "      <td>1</td>\n",
              "      <td>1</td>\n",
              "      <td>1</td>\n",
              "      <td>1</td>\n",
              "      <td>1</td>\n",
              "      <td>1</td>\n",
              "    </tr>\n",
              "    <tr>\n",
              "      <th>1</th>\n",
              "      <td>DLAGU6516</td>\n",
              "      <td>-102.20075</td>\n",
              "      <td>21.99958</td>\n",
              "      <td>6.0</td>\n",
              "      <td>5.0</td>\n",
              "      <td>231.990</td>\n",
              "      <td>608.0</td>\n",
              "      <td>445.4</td>\n",
              "      <td>0.9298</td>\n",
              "      <td>185.0514</td>\n",
              "      <td>...</td>\n",
              "      <td>1</td>\n",
              "      <td>2</td>\n",
              "      <td>2</td>\n",
              "      <td>1</td>\n",
              "      <td>1</td>\n",
              "      <td>1</td>\n",
              "      <td>1</td>\n",
              "      <td>1</td>\n",
              "      <td>1</td>\n",
              "      <td>1</td>\n",
              "    </tr>\n",
              "    <tr>\n",
              "      <th>2</th>\n",
              "      <td>DLAGU7</td>\n",
              "      <td>-102.28801</td>\n",
              "      <td>22.36685</td>\n",
              "      <td>6.0</td>\n",
              "      <td>5.0</td>\n",
              "      <td>204.920</td>\n",
              "      <td>532.0</td>\n",
              "      <td>342.0</td>\n",
              "      <td>1.8045</td>\n",
              "      <td>120.7190</td>\n",
              "      <td>...</td>\n",
              "      <td>1</td>\n",
              "      <td>1</td>\n",
              "      <td>3</td>\n",
              "      <td>1</td>\n",
              "      <td>1</td>\n",
              "      <td>1</td>\n",
              "      <td>1</td>\n",
              "      <td>1</td>\n",
              "      <td>1</td>\n",
              "      <td>3</td>\n",
              "    </tr>\n",
              "    <tr>\n",
              "      <th>3</th>\n",
              "      <td>DLAGU9</td>\n",
              "      <td>-102.29449</td>\n",
              "      <td>22.18435</td>\n",
              "      <td>6.0</td>\n",
              "      <td>5.0</td>\n",
              "      <td>327.000</td>\n",
              "      <td>686.0</td>\n",
              "      <td>478.6</td>\n",
              "      <td>1.1229</td>\n",
              "      <td>199.8790</td>\n",
              "      <td>...</td>\n",
              "      <td>1</td>\n",
              "      <td>1</td>\n",
              "      <td>2</td>\n",
              "      <td>1</td>\n",
              "      <td>1</td>\n",
              "      <td>1</td>\n",
              "      <td>1</td>\n",
              "      <td>1</td>\n",
              "      <td>1</td>\n",
              "      <td>1</td>\n",
              "    </tr>\n",
              "    <tr>\n",
              "      <th>4</th>\n",
              "      <td>DLBAJ107</td>\n",
              "      <td>-110.24480</td>\n",
              "      <td>23.45138</td>\n",
              "      <td>10.0</td>\n",
              "      <td>5.0</td>\n",
              "      <td>309.885</td>\n",
              "      <td>1841.0</td>\n",
              "      <td>1179.0</td>\n",
              "      <td>0.2343</td>\n",
              "      <td>476.9872</td>\n",
              "      <td>...</td>\n",
              "      <td>3</td>\n",
              "      <td>3</td>\n",
              "      <td>1</td>\n",
              "      <td>1</td>\n",
              "      <td>1</td>\n",
              "      <td>1</td>\n",
              "      <td>1</td>\n",
              "      <td>1</td>\n",
              "      <td>1</td>\n",
              "      <td>3</td>\n",
              "    </tr>\n",
              "  </tbody>\n",
              "</table>\n",
              "<p>5 rows × 34 columns</p>\n",
              "</div>\n",
              "      <button class=\"colab-df-convert\" onclick=\"convertToInteractive('df-614e0d05-4de6-457c-9cd4-558baf66ff79')\"\n",
              "              title=\"Convert this dataframe to an interactive table.\"\n",
              "              style=\"display:none;\">\n",
              "        \n",
              "  <svg xmlns=\"http://www.w3.org/2000/svg\" height=\"24px\"viewBox=\"0 0 24 24\"\n",
              "       width=\"24px\">\n",
              "    <path d=\"M0 0h24v24H0V0z\" fill=\"none\"/>\n",
              "    <path d=\"M18.56 5.44l.94 2.06.94-2.06 2.06-.94-2.06-.94-.94-2.06-.94 2.06-2.06.94zm-11 1L8.5 8.5l.94-2.06 2.06-.94-2.06-.94L8.5 2.5l-.94 2.06-2.06.94zm10 10l.94 2.06.94-2.06 2.06-.94-2.06-.94-.94-2.06-.94 2.06-2.06.94z\"/><path d=\"M17.41 7.96l-1.37-1.37c-.4-.4-.92-.59-1.43-.59-.52 0-1.04.2-1.43.59L10.3 9.45l-7.72 7.72c-.78.78-.78 2.05 0 2.83L4 21.41c.39.39.9.59 1.41.59.51 0 1.02-.2 1.41-.59l7.78-7.78 2.81-2.81c.8-.78.8-2.07 0-2.86zM5.41 20L4 18.59l7.72-7.72 1.47 1.35L5.41 20z\"/>\n",
              "  </svg>\n",
              "      </button>\n",
              "      \n",
              "  <style>\n",
              "    .colab-df-container {\n",
              "      display:flex;\n",
              "      flex-wrap:wrap;\n",
              "      gap: 12px;\n",
              "    }\n",
              "\n",
              "    .colab-df-convert {\n",
              "      background-color: #E8F0FE;\n",
              "      border: none;\n",
              "      border-radius: 50%;\n",
              "      cursor: pointer;\n",
              "      display: none;\n",
              "      fill: #1967D2;\n",
              "      height: 32px;\n",
              "      padding: 0 0 0 0;\n",
              "      width: 32px;\n",
              "    }\n",
              "\n",
              "    .colab-df-convert:hover {\n",
              "      background-color: #E2EBFA;\n",
              "      box-shadow: 0px 1px 2px rgba(60, 64, 67, 0.3), 0px 1px 3px 1px rgba(60, 64, 67, 0.15);\n",
              "      fill: #174EA6;\n",
              "    }\n",
              "\n",
              "    [theme=dark] .colab-df-convert {\n",
              "      background-color: #3B4455;\n",
              "      fill: #D2E3FC;\n",
              "    }\n",
              "\n",
              "    [theme=dark] .colab-df-convert:hover {\n",
              "      background-color: #434B5C;\n",
              "      box-shadow: 0px 1px 3px 1px rgba(0, 0, 0, 0.15);\n",
              "      filter: drop-shadow(0px 1px 2px rgba(0, 0, 0, 0.3));\n",
              "      fill: #FFFFFF;\n",
              "    }\n",
              "  </style>\n",
              "\n",
              "      <script>\n",
              "        const buttonEl =\n",
              "          document.querySelector('#df-614e0d05-4de6-457c-9cd4-558baf66ff79 button.colab-df-convert');\n",
              "        buttonEl.style.display =\n",
              "          google.colab.kernel.accessAllowed ? 'block' : 'none';\n",
              "\n",
              "        async function convertToInteractive(key) {\n",
              "          const element = document.querySelector('#df-614e0d05-4de6-457c-9cd4-558baf66ff79');\n",
              "          const dataTable =\n",
              "            await google.colab.kernel.invokeFunction('convertToInteractive',\n",
              "                                                     [key], {});\n",
              "          if (!dataTable) return;\n",
              "\n",
              "          const docLinkHtml = 'Like what you see? Visit the ' +\n",
              "            '<a target=\"_blank\" href=https://colab.research.google.com/notebooks/data_table.ipynb>data table notebook</a>'\n",
              "            + ' to learn more about interactive tables.';\n",
              "          element.innerHTML = '';\n",
              "          dataTable['output_type'] = 'display_data';\n",
              "          await google.colab.output.renderOutput(dataTable, element);\n",
              "          const docLink = document.createElement('div');\n",
              "          docLink.innerHTML = docLinkHtml;\n",
              "          element.appendChild(docLink);\n",
              "        }\n",
              "      </script>\n",
              "    </div>\n",
              "  </div>\n",
              "  "
            ]
          },
          "metadata": {},
          "execution_count": 2
        }
      ]
    },
    {
      "cell_type": "markdown",
      "source": [
        "### **Selecciona tus variables independientes X y dependiente Y (semáforo)**"
      ],
      "metadata": {
        "id": "WfUyFMLMEYPL"
      }
    },
    {
      "cell_type": "markdown",
      "source": [
        "Separamos las columnas en base a su tipo de variable:"
      ],
      "metadata": {
        "id": "YnyK89__GRTC"
      }
    },
    {
      "cell_type": "code",
      "source": [
        "#definimos variables numéricas #16\n",
        "num_nom_geo = ['LONGITUD','LATITUD']\n",
        "num_nom_cal = ['ALC_mg/L','COND_mS/cm','SDT_M_mg/L','FLUO_mg/L','DUR_mg/L','CF_NMP/100_mL','NNO3_mg/L','AS_TOT_mg/L', 'CD_TOT_mg/L','CR_TOT_mg/L',\n",
        "               'HG_TOT_mg/L','PB_TOT_mg/L','MN_TOT_mg/L','FE_TOT_mg/L']\n",
        "#definimos variables categóricas #16\n",
        "cat_nom = ['ORGANISMO_DE_CUENCA','SUBTIPO']\n",
        "cat_nom_cal = ['CALIDAD_ALC','CALIDAD_COND','CALIDAD_SDT','CALIDAD_FLUO','CALIDAD_DUR', 'CALIDAD_CF','CALIDAD_NNO3','CALIDAD_AS',\n",
        "               'CALIDAD_CD','CALIDAD_CR','CALIDAD_HG','CALIDAD_PB','CALIDAD_MN','CALIDAD_FE']\n",
        "#VARIABLE CATEGORICA DE SALIDA Y  #1\n",
        "y_nom = ['SEMAFORO']"
      ],
      "metadata": {
        "id": "TFvLpcIkFpyp"
      },
      "execution_count": 83,
      "outputs": []
    },
    {
      "cell_type": "markdown",
      "source": [
        "Generamos los datos en Y, y dos tipos de X. Una donde se utilizarán los datos numéricos de calidad, y otra donde se utilizarán los datos categóricos de calidad. Utilizar las variables numéricas y categorías de calidad, donde las categóricas son dependientes de las numéricas, puede afectar la correlación entre variables y eventualmente el modelo."
      ],
      "metadata": {
        "id": "aOFVhu15GV5J"
      }
    },
    {
      "cell_type": "code",
      "source": [
        "Y = data_asb[['SEMAFORO']]\n",
        "\n",
        "X_num = data_asb[num_nom_geo + cat_nom + num_nom_cal]\n",
        "X_cat = data_asb[num_nom_geo + cat_nom + cat_nom_cal]"
      ],
      "metadata": {
        "id": "8--iK74iF8na"
      },
      "execution_count": 84,
      "outputs": []
    },
    {
      "cell_type": "markdown",
      "source": [
        "### **Cambia a one hot encoding el semáforo**"
      ],
      "metadata": {
        "id": "hNkPnaumH-YC"
      }
    },
    {
      "cell_type": "markdown",
      "source": [
        "Previamente en la parte 1 del reto ya se cambiaron los valores del semáforo a 1:verde, 2:amarillo, 3:rojo"
      ],
      "metadata": {
        "id": "0GTAJeQ6qFg6"
      }
    },
    {
      "cell_type": "code",
      "source": [
        "Y.value_counts()"
      ],
      "metadata": {
        "id": "zze_cbLTOES6",
        "outputId": "3273d986-f9a1-4f71-c973-0dac808ea107",
        "colab": {
          "base_uri": "https://localhost:8080/"
        }
      },
      "execution_count": 85,
      "outputs": [
        {
          "output_type": "execute_result",
          "data": {
            "text/plain": [
              "SEMAFORO\n",
              "1           427\n",
              "3           382\n",
              "2           245\n",
              "dtype: int64"
            ]
          },
          "metadata": {},
          "execution_count": 85
        }
      ]
    },
    {
      "cell_type": "markdown",
      "source": [
        "### **Realiza un análisis general de las features importances a traves de decision trees o random forest.**"
      ],
      "metadata": {
        "id": "ERxnUhG1QCkS"
      }
    },
    {
      "cell_type": "markdown",
      "source": [
        "Definimos modelos a usar:"
      ],
      "metadata": {
        "id": "BVwjfJ0BVlK6"
      }
    },
    {
      "cell_type": "code",
      "source": [
        "def get_models():\n",
        "  modelos = list()\n",
        "  nombres = list()\n",
        "\n",
        "  modelos.append(DecisionTreeClassifier())\n",
        "  nombres.append('DTC')\n",
        "  \n",
        "  modelos.append(RandomForestClassifier())\n",
        "  nombres.append('RFC')\n",
        "  \n",
        "  return modelos, nombres"
      ],
      "metadata": {
        "id": "XlDaM4sJUhyi"
      },
      "execution_count": 86,
      "outputs": []
    },
    {
      "cell_type": "markdown",
      "source": [
        "Obtenemos los feature importance con variables de calidad numéricas:"
      ],
      "metadata": {
        "id": "8Ld2nABOVmdY"
      }
    },
    {
      "cell_type": "code",
      "source": [
        "modelos, nombres = get_models()\n",
        "\n",
        "for m in range(len(modelos)):\n",
        "  modelos[m].fit(X_num, np.ravel(Y))\n",
        "  importance = permutation_importance(modelos[m], X_num, Y, n_repeats=10)\n",
        "  print('\\033[1m' + nombres[m] + '\\033[0m')\n",
        "  for i,v in enumerate(importance['importances_mean']):\n",
        "    print(X_num.columns[i]+':', v.round(3))\n",
        "  f = plt.figure()\n",
        "  plt.bar(X_num.columns, importance['importances_mean'])\n",
        "  plt.xticks(rotation='vertical')\n",
        "  plt.show() "
      ],
      "metadata": {
        "colab": {
          "base_uri": "https://localhost:8080/",
          "height": 1000
        },
        "id": "B7ARZHo6UtQB",
        "outputId": "8f644551-df70-4802-e663-33eb3e8a7e87"
      },
      "execution_count": 87,
      "outputs": [
        {
          "output_type": "stream",
          "name": "stdout",
          "text": [
            "\u001b[1mDTC\u001b[0m\n",
            "LONGITUD: 0.0\n",
            "LATITUD: 0.007\n",
            "ORGANISMO_DE_CUENCA: 0.0\n",
            "SUBTIPO: 0.0\n",
            "ALC_mg/L: 0.03\n",
            "COND_mS/cm: 0.058\n",
            "SDT_M_mg/L: 0.005\n",
            "FLUO_mg/L: 0.204\n",
            "DUR_mg/L: 0.152\n",
            "CF_NMP/100_mL: 0.081\n",
            "NNO3_mg/L: 0.099\n",
            "AS_TOT_mg/L: 0.116\n",
            "CD_TOT_mg/L: 0.0\n",
            "CR_TOT_mg/L: 0.017\n",
            "HG_TOT_mg/L: 0.002\n",
            "PB_TOT_mg/L: 0.014\n",
            "MN_TOT_mg/L: 0.052\n",
            "FE_TOT_mg/L: 0.079\n"
          ]
        },
        {
          "output_type": "display_data",
          "data": {
            "text/plain": [
              "<Figure size 576x288 with 1 Axes>"
            ],
            "image/png": "[encoded data removed]"
          },
          "metadata": {}
        },
        {
          "output_type": "stream",
          "name": "stdout",
          "text": [
            "\u001b[1mRFC\u001b[0m\n",
            "LONGITUD: 0.0\n",
            "LATITUD: 0.002\n",
            "ORGANISMO_DE_CUENCA: 0.0\n",
            "SUBTIPO: 0.0\n",
            "ALC_mg/L: 0.026\n",
            "COND_mS/cm: 0.006\n",
            "SDT_M_mg/L: 0.006\n",
            "FLUO_mg/L: 0.192\n",
            "DUR_mg/L: 0.135\n",
            "CF_NMP/100_mL: 0.071\n",
            "NNO3_mg/L: 0.094\n",
            "AS_TOT_mg/L: 0.112\n",
            "CD_TOT_mg/L: 0.0\n",
            "CR_TOT_mg/L: 0.009\n",
            "HG_TOT_mg/L: 0.0\n",
            "PB_TOT_mg/L: 0.004\n",
            "MN_TOT_mg/L: 0.051\n",
            "FE_TOT_mg/L: 0.075\n"
          ]
        },
        {
          "output_type": "display_data",
          "data": {
            "text/plain": [
              "<Figure size 576x288 with 1 Axes>"
            ],
            "image/png": "[encoded data removed]"
          },
          "metadata": {}
        }
      ]
    },
    {
      "cell_type": "markdown",
      "source": [
        "Obtenemos los feature importance con las variables de calidad categóricas:"
      ],
      "metadata": {
        "id": "nzwiGjy0VqfY"
      }
    },
    {
      "cell_type": "code",
      "source": [
        "modelos, nombres = get_models()\n",
        "\n",
        "for m in range(len(modelos)):\n",
        "  modelos[m].fit(X_cat, np.ravel(Y))\n",
        "  importance = permutation_importance(modelos[m], X_cat, Y, n_repeats=10)\n",
        "  print('\\033[1m' + nombres[m] + '\\033[0m')\n",
        "  for i,v in enumerate(importance['importances_mean']):\n",
        "    print(X_cat.columns[i]+':', v.round(3))\n",
        "  f = plt.figure()\n",
        "  plt.bar(X_cat.columns, importance['importances_mean'])\n",
        "  plt.xticks(rotation='vertical')\n",
        "  plt.show() "
      ],
      "metadata": {
        "colab": {
          "base_uri": "https://localhost:8080/",
          "height": 1000
        },
        "id": "8o5qSU84VtcA",
        "outputId": "30ee4cf3-feec-4b99-ce4d-c394f3513366"
      },
      "execution_count": 88,
      "outputs": [
        {
          "output_type": "stream",
          "name": "stdout",
          "text": [
            "\u001b[1mDTC\u001b[0m\n",
            "LONGITUD: 0.0\n",
            "LATITUD: 0.006\n",
            "ORGANISMO_DE_CUENCA: 0.002\n",
            "SUBTIPO: 0.0\n",
            "CALIDAD_ALC: 0.031\n",
            "CALIDAD_COND: 0.061\n",
            "CALIDAD_SDT: 0.01\n",
            "CALIDAD_FLUO: 0.204\n",
            "CALIDAD_DUR: 0.156\n",
            "CALIDAD_CF: 0.08\n",
            "CALIDAD_NNO3: 0.1\n",
            "CALIDAD_AS: 0.115\n",
            "CALIDAD_CD: 0.0\n",
            "CALIDAD_CR: 0.021\n",
            "CALIDAD_HG: 0.0\n",
            "CALIDAD_PB: 0.013\n",
            "CALIDAD_MN: 0.055\n",
            "CALIDAD_FE: 0.078\n"
          ]
        },
        {
          "output_type": "display_data",
          "data": {
            "text/plain": [
              "<Figure size 576x288 with 1 Axes>"
            ],
            "image/png": "[encoded data removed]"
          },
          "metadata": {}
        },
        {
          "output_type": "stream",
          "name": "stdout",
          "text": [
            "\u001b[1mRFC\u001b[0m\n",
            "LONGITUD: 0.001\n",
            "LATITUD: 0.003\n",
            "ORGANISMO_DE_CUENCA: 0.0\n",
            "SUBTIPO: 0.0\n",
            "CALIDAD_ALC: 0.021\n",
            "CALIDAD_COND: 0.012\n",
            "CALIDAD_SDT: 0.01\n",
            "CALIDAD_FLUO: 0.201\n",
            "CALIDAD_DUR: 0.142\n",
            "CALIDAD_CF: 0.078\n",
            "CALIDAD_NNO3: 0.099\n",
            "CALIDAD_AS: 0.112\n",
            "CALIDAD_CD: 0.0\n",
            "CALIDAD_CR: 0.013\n",
            "CALIDAD_HG: 0.0\n",
            "CALIDAD_PB: 0.01\n",
            "CALIDAD_MN: 0.053\n",
            "CALIDAD_FE: 0.074\n"
          ]
        },
        {
          "output_type": "display_data",
          "data": {
            "text/plain": [
              "<Figure size 576x288 with 1 Axes>"
            ],
            "image/png": "[encoded data removed]"
          },
          "metadata": {}
        }
      ]
    },
    {
      "cell_type": "markdown",
      "source": [
        "Y donde observamos que las variables de ubicación geográfica, así como organismo de cuenca y subtipo no tienen ninguna importancia significativa. Mientras que las de calidad, con algunas excepciones como las de CD y HG, son las que tienen mayor importancia."
      ],
      "metadata": {
        "id": "vwah94seV9yA"
      }
    },
    {
      "cell_type": "markdown",
      "source": [
        "### **Selecciona las variables de mayor importancia.**"
      ],
      "metadata": {
        "id": "3T7Px_exWVzZ"
      }
    },
    {
      "cell_type": "markdown",
      "source": [
        "Removemos de nuestras listas de columnas las variables que no tienen feature importance"
      ],
      "metadata": {
        "id": "oi55ETsSXVEZ"
      }
    },
    {
      "cell_type": "code",
      "source": [
        "num_nom_cal.remove('CD_TOT_mg/L')\n",
        "num_nom_cal.remove('HG_TOT_mg/L')\n",
        "cat_nom_cal.remove('CALIDAD_CD')\n",
        "cat_nom_cal.remove('CALIDAD_HG')"
      ],
      "metadata": {
        "id": "izjGLNKWWa-Q"
      },
      "execution_count": 89,
      "outputs": []
    },
    {
      "cell_type": "markdown",
      "source": [
        "Observamos con cuales nos quedamos:"
      ],
      "metadata": {
        "id": "zQ9dpBw2XZI5"
      }
    },
    {
      "cell_type": "code",
      "source": [
        "print(num_nom_cal)\n",
        "print(cat_nom_cal)"
      ],
      "metadata": {
        "colab": {
          "base_uri": "https://localhost:8080/"
        },
        "id": "rSkEIhPOXJw5",
        "outputId": "e18c8417-f35e-44ad-c7ef-3a946d16b9cb"
      },
      "execution_count": 90,
      "outputs": [
        {
          "output_type": "stream",
          "name": "stdout",
          "text": [
            "['ALC_mg/L', 'COND_mS/cm', 'SDT_M_mg/L', 'FLUO_mg/L', 'DUR_mg/L', 'CF_NMP/100_mL', 'NNO3_mg/L', 'AS_TOT_mg/L', 'CR_TOT_mg/L', 'PB_TOT_mg/L', 'MN_TOT_mg/L', 'FE_TOT_mg/L']\n",
            "['CALIDAD_ALC', 'CALIDAD_COND', 'CALIDAD_SDT', 'CALIDAD_FLUO', 'CALIDAD_DUR', 'CALIDAD_CF', 'CALIDAD_NNO3', 'CALIDAD_AS', 'CALIDAD_CR', 'CALIDAD_PB', 'CALIDAD_MN', 'CALIDAD_FE']\n"
          ]
        }
      ]
    },
    {
      "cell_type": "markdown",
      "source": [
        "Generamos nuevas dataframes con las columnas a utilizar:"
      ],
      "metadata": {
        "id": "H_dSRj1IXbKh"
      }
    },
    {
      "cell_type": "code",
      "source": [
        "X_num = data_asb[num_nom_cal]\n",
        "X_cat = data_asb[cat_nom_cal]"
      ],
      "metadata": {
        "id": "ERDsHAoYXHVT"
      },
      "execution_count": 91,
      "outputs": []
    },
    {
      "cell_type": "markdown",
      "source": [
        "### **Realiza tu clasificador, recuerda dividir los datos de manera balanceada (auxiliate de train test split)**"
      ],
      "metadata": {
        "id": "kRewZgfGXieh"
      }
    },
    {
      "cell_type": "markdown",
      "source": [
        "* Comenzamos con variables numéricas:"
      ],
      "metadata": {
        "id": "vcGPXBtNX5j4"
      }
    },
    {
      "cell_type": "code",
      "source": [
        "score_list = list()\n",
        "grid_splits = list()"
      ],
      "metadata": {
        "id": "C4CedaQP28FE"
      },
      "execution_count": 92,
      "outputs": []
    },
    {
      "cell_type": "code",
      "source": [
        "def get_scores(yreal, ypred, model, aver='micro'):\n",
        "  temp_list = list()\n",
        "\n",
        "  temp_list.append(model)\n",
        "  accu = accuracy_score(yreal,ypred)\n",
        "  f1 = f1_score(yreal,ypred,average=aver)\n",
        "  precision = precision_score(yreal,ypred,average=aver)\n",
        "  recall = recall_score(yreal,ypred,average=aver)\n",
        "\n",
        "  temp_list.append(accu)\n",
        "  temp_list.append(f1)\n",
        "  temp_list.append(precision)\n",
        "  temp_list.append(recall)\n",
        "  print('Accuracy:', accu)\n",
        "  print('f1_score:', f1)\n",
        "  print('Precision:', precision)\n",
        "  print('Recall:', recall)\n",
        "\n",
        "  return temp_list"
      ],
      "metadata": {
        "id": "pSEb0oDB3dqB"
      },
      "execution_count": 93,
      "outputs": []
    },
    {
      "cell_type": "markdown",
      "source": [
        "Sabemos de la parte 1 que las clases de salida tienen diferentes proporciones, por lo que utilizamos el parámetro stratify:"
      ],
      "metadata": {
        "id": "2S_nAgTQYPey"
      }
    },
    {
      "cell_type": "code",
      "source": [
        "Xtv_num, Xtest_num, ytv_num, ytest_num = train_test_split(X_num, Y, test_size=0.15, stratify=Y, random_state=0) \n",
        "print(Xtv_num.shape, ': dimensión de datos de entrada de entrenamiento y validación')\n",
        "print(Xtest_num.shape, ': dimensión de datos de entrada de prueba')  \n",
        "print(ytv_num.shape, ': dimensión de variable de salida para entrenamiento y validación')\n",
        "print(ytest_num.shape, ': dimensión de variable de salida para prueba')"
      ],
      "metadata": {
        "colab": {
          "base_uri": "https://localhost:8080/"
        },
        "id": "JUpssKqvXuUZ",
        "outputId": "ff358d3d-36f0-437b-ccb0-77e960560d28"
      },
      "execution_count": 94,
      "outputs": [
        {
          "output_type": "stream",
          "name": "stdout",
          "text": [
            "(895, 12) : dimensión de datos de entrada de entrenamiento y validación\n",
            "(159, 12) : dimensión de datos de entrada de prueba\n",
            "(895, 1) : dimensión de variable de salida para entrenamiento y validación\n",
            "(159, 1) : dimensión de variable de salida para prueba\n"
          ]
        }
      ]
    },
    {
      "cell_type": "markdown",
      "source": [
        "* Decision Tree variables numéricas de calidad de entrada:"
      ],
      "metadata": {
        "id": "cHGl6mpztjPD"
      }
    },
    {
      "cell_type": "markdown",
      "source": [
        "Comenzamos viendo la curva de aprendizaje para el parámetro de max_depth:"
      ],
      "metadata": {
        "id": "ThjhgH_irKeZ"
      }
    },
    {
      "cell_type": "code",
      "source": [
        "#obtenemos el modelo y los parametros de cross validation\n",
        "modeloVC = DecisionTreeClassifier()\n",
        "cvVC = RepeatedStratifiedKFold(n_splits=5, n_repeats=3, random_state=1)\n",
        "\n",
        "delta_max_depth = np.linspace(1, 20, 20)\n",
        "\n",
        "train_scores, valid_scores = validation_curve(modeloVC, \n",
        "                                              Xtv_num, \n",
        "                                              np.ravel(ytv_num), \n",
        "                                              param_name=\"max_depth\", \n",
        "                                              param_range=delta_max_depth,\n",
        "                                              cv=cvVC,\n",
        "                                              scoring='accuracy')\n",
        "\n",
        "train_mean = np.mean(train_scores, axis=1)\n",
        "train_std = np.std(train_scores, axis=1)\n",
        "valid_mean = np.mean(valid_scores, axis=1)\n",
        "valid_std = np.std(valid_scores, axis=1)\n",
        "\n",
        "# Curva de entrenamiento con la métrica de exactitud (accuracy):\n",
        "plt.plot(delta_max_depth, train_mean, color='blue', marker='o', markersize=5, label='Training')\n",
        "\n",
        "# Curva de validación:\n",
        "plt.plot(delta_max_depth, valid_mean, color='red', marker='o', markersize=5, label='Validation')\n",
        "\n",
        "plt.title('Función validation_curve() para Decision Tree')\n",
        "plt.xlabel('Valores del parámetro max_depth')\n",
        "plt.ylabel('Accuracy')\n",
        "plt.grid(b=True)\n",
        "plt.legend(loc='lower right')\n",
        "plt.show()"
      ],
      "metadata": {
        "colab": {
          "base_uri": "https://localhost:8080/",
          "height": 301
        },
        "id": "1tjt7e8Hrp7K",
        "outputId": "f1f89dba-89fc-45b5-f6f1-65ac32490cfc"
      },
      "execution_count": 95,
      "outputs": [
        {
          "output_type": "display_data",
          "data": {
            "text/plain": [
              "<Figure size 576x288 with 1 Axes>"
            ],
            "image/png": "[encoded data removed]"
          },
          "metadata": {}
        }
      ]
    },
    {
      "cell_type": "markdown",
      "source": [
        "Y observamos que después de max_depth 10 ya no existen cambios significativos para las curvas de training o validación, asi que nos quedamos con un máximo de 10 para el gridsearch para este parámetro:"
      ],
      "metadata": {
        "id": "lshC8ISRrR0I"
      }
    },
    {
      "cell_type": "code",
      "source": [
        "#obtenemos el modelo y los parámetros\n",
        "modeloDTC_iter = DecisionTreeClassifier()\n",
        "cvSVM = RepeatedStratifiedKFold(n_splits=5, n_repeats=3, random_state=1)\n",
        "\n",
        "dicc_grid = [{'ccp_alpha':[0.0001,0.01,0.1,1.0,10.,100],'criterion':['gini','entropy'],\n",
        "             'max_depth':[1,2,3,4,5,6,7,8,9,10],'min_samples_split':[2,3,4,5,6],'class_weight':['balanced', None]}]\n",
        "\n",
        "grid1 = GridSearchCV(estimator=modeloDTC_iter, \n",
        "                    param_grid=dicc_grid, \n",
        "                    cv=cvSVM, \n",
        "                    scoring='accuracy',\n",
        "                    n_jobs=-1,\n",
        "                    error_score='raise')"
      ],
      "metadata": {
        "id": "Dzgy-_rBZU_5"
      },
      "execution_count": 96,
      "outputs": []
    },
    {
      "cell_type": "markdown",
      "source": [
        "Corremos el grid search:"
      ],
      "metadata": {
        "id": "NldM-6xJrhgA"
      }
    },
    {
      "cell_type": "code",
      "source": [
        "grid1.fit(Xtv_num, np.ravel(ytv_num))\n",
        "\n",
        "print('Mejor valor de accuracy obtenido con la mejor combinación:', grid1.best_score_)\n",
        "print('Mejor combinación de valores encontrados de los hiperparámetros:', grid1.best_params_)\n",
        "print('Métrica utilizada:', grid1.scoring)\n",
        "print('Mejor Index:',grid1.best_index_)\n",
        "\n",
        "grid_splits.append(grid1) "
      ],
      "metadata": {
        "colab": {
          "base_uri": "https://localhost:8080/"
        },
        "id": "lAMZluuSbI6J",
        "outputId": "f35a0d4e-6c71-4499-8f23-091ea06f1c36"
      },
      "execution_count": 97,
      "outputs": [
        {
          "output_type": "stream",
          "name": "stdout",
          "text": [
            "Mejor valor de accuracy obtenido con la mejor combinación: 0.9582867783985101\n",
            "Mejor combinación de valores encontrados de los hiperparámetros: {'ccp_alpha': 0.0001, 'class_weight': None, 'criterion': 'gini', 'max_depth': 10, 'min_samples_split': 4}\n",
            "Métrica utilizada: accuracy\n",
            "Mejor Index: 147\n"
          ]
        }
      ]
    },
    {
      "cell_type": "markdown",
      "source": [
        "Observamos un accuracy del 95.82% máximo con los hiper parámetros. Ahora probamos el modelo con sus hiper parámetros para los datos de prueba:"
      ],
      "metadata": {
        "id": "UwihYhqdrlFo"
      }
    },
    {
      "cell_type": "code",
      "source": [
        "model_DTC_num = DecisionTreeClassifier(**grid1.best_params_)\n",
        "\n",
        "model_DTC_num.fit(Xtv_num, ytv_num)\n",
        "#realizamos las predicciones\n",
        "yhat_num = model_DTC_num.predict(Xtest_num)\n",
        "\n",
        "score_list.append(get_scores(ytest_num,yhat_num, 'DTC num'))"
      ],
      "metadata": {
        "colab": {
          "base_uri": "https://localhost:8080/"
        },
        "id": "TRxoLMDLewVL",
        "outputId": "2f7e02d2-3c0a-432a-8f57-c8a09504db1e"
      },
      "execution_count": 98,
      "outputs": [
        {
          "output_type": "stream",
          "name": "stdout",
          "text": [
            "Accuracy: 0.949685534591195\n",
            "f1_score: 0.949685534591195\n",
            "Precision: 0.949685534591195\n",
            "Recall: 0.949685534591195\n"
          ]
        }
      ]
    },
    {
      "cell_type": "markdown",
      "source": [
        "Donde observamos que accuracy disminuye cerca de 1%. Lo que sugiere un muy mínimo sobreentrenamiento. Es un valor muy aceptable."
      ],
      "metadata": {
        "id": "t68LeM35r7K4"
      }
    },
    {
      "cell_type": "markdown",
      "source": [
        "* Random Forest variables numéricas de calidad de entrada:"
      ],
      "metadata": {
        "id": "8r1ey7SptstR"
      }
    },
    {
      "cell_type": "markdown",
      "source": [
        "Comenzamos viendo la curva de aprendizaje para el parámetro de max_depth:"
      ],
      "metadata": {
        "id": "4-YnGsxXsH_4"
      }
    },
    {
      "cell_type": "code",
      "source": [
        "#obtenemos el modelo y los parametros de cross validation\n",
        "modeloVC = RandomForestClassifier()\n",
        "cvVC = RepeatedStratifiedKFold(n_splits=5, n_repeats=3, random_state=1)\n",
        "\n",
        "delta_max_depth = np.linspace(1, 20, 20)\n",
        "\n",
        "train_scores, valid_scores = validation_curve(modeloVC, \n",
        "                                              Xtv_num, \n",
        "                                              np.ravel(ytv_num), \n",
        "                                              param_name=\"max_depth\", \n",
        "                                              param_range=delta_max_depth,\n",
        "                                              cv=cvVC,\n",
        "                                              scoring='accuracy')\n",
        "\n",
        "train_mean = np.mean(train_scores, axis=1)\n",
        "train_std = np.std(train_scores, axis=1)\n",
        "valid_mean = np.mean(valid_scores, axis=1)\n",
        "valid_std = np.std(valid_scores, axis=1)\n",
        "\n",
        "# Curva de entrenamiento con la métrica de exactitud (accuracy):\n",
        "plt.plot(delta_max_depth, train_mean, color='blue', marker='o', markersize=5, label='Training')\n",
        "\n",
        "# Curva de validación:\n",
        "plt.plot(delta_max_depth, valid_mean, color='red', marker='o', markersize=5, label='Validation')\n",
        "\n",
        "plt.title('Función validation_curve() para Random Forest')\n",
        "plt.xlabel('Valores del parámetro max_depth')\n",
        "plt.ylabel('Accuracy')\n",
        "plt.grid(b=True)\n",
        "plt.legend(loc='lower right')\n",
        "plt.show()"
      ],
      "metadata": {
        "colab": {
          "base_uri": "https://localhost:8080/",
          "height": 301
        },
        "id": "TL5YbONztv5y",
        "outputId": "6afafc8d-0af5-42a1-9a1e-c0825e789fd3"
      },
      "execution_count": 99,
      "outputs": [
        {
          "output_type": "display_data",
          "data": {
            "text/plain": [
              "<Figure size 576x288 with 1 Axes>"
            ],
            "image/png": "[encoded data removed]"
          },
          "metadata": {}
        }
      ]
    },
    {
      "cell_type": "markdown",
      "source": [
        "Y observamos que después de max_depth 10 ya no existen cambios significativos para las curvas de training o validación, así como que previo a 4 la métrica de accuracy aún sigue pudiendo subir. Por lo que nos quedamos con un mínimo de 4 y un máximo de 10 para el gridsearch de este parámetro:"
      ],
      "metadata": {
        "id": "pDzyA6cZsKkZ"
      }
    },
    {
      "cell_type": "code",
      "source": [
        "#obtenemos el modelo y los parámetros\n",
        "modeloRFC_iter = RandomForestClassifier()\n",
        "cvSVM = RepeatedStratifiedKFold(n_splits=5, n_repeats=3, random_state=1)\n",
        "\n",
        "dicc_grid = [{'ccp_alpha':[0.0001,0.01,0.1,1.0,10.,100],'criterion':['gini','entropy'],\n",
        "             'max_depth':[4,5,6,7,8,9,10],'min_samples_split':[2,3,4,5,6],'class_weight':['balanced', None]}]\n",
        "\n",
        "grid2 = GridSearchCV(estimator=modeloDTC_iter, \n",
        "                    param_grid=dicc_grid, \n",
        "                    cv=cvSVM, \n",
        "                    scoring='accuracy',\n",
        "                    n_jobs=-1,\n",
        "                    error_score='raise')"
      ],
      "metadata": {
        "id": "Rg45piMZuQnq"
      },
      "execution_count": 100,
      "outputs": []
    },
    {
      "cell_type": "markdown",
      "source": [
        "Corremos el grid search:"
      ],
      "metadata": {
        "id": "9HPhWuXDskM5"
      }
    },
    {
      "cell_type": "code",
      "source": [
        "grid2.fit(Xtv_num, np.ravel(ytv_num))\n",
        "\n",
        "print('Mejor valor de accuracy obtenido con la mejor combinación:', grid2.best_score_)\n",
        "print('Mejor combinación de valores encontrados de los hiperparámetros:', grid2.best_params_)\n",
        "print('Métrica utilizada:', grid2.scoring)\n",
        "print('Mejor Index:',grid2.best_index_)\n",
        "\n",
        "grid_splits.append(grid2)"
      ],
      "metadata": {
        "colab": {
          "base_uri": "https://localhost:8080/"
        },
        "id": "T3L6TlB4uUQx",
        "outputId": "9d2a2264-d88f-4ca6-8de4-de0ef0141a49"
      },
      "execution_count": 101,
      "outputs": [
        {
          "output_type": "stream",
          "name": "stdout",
          "text": [
            "Mejor valor de accuracy obtenido con la mejor combinación: 0.9564245810055865\n",
            "Mejor combinación de valores encontrados de los hiperparámetros: {'ccp_alpha': 0.0001, 'class_weight': None, 'criterion': 'gini', 'max_depth': 10, 'min_samples_split': 3}\n",
            "Métrica utilizada: accuracy\n",
            "Mejor Index: 101\n"
          ]
        }
      ]
    },
    {
      "cell_type": "markdown",
      "source": [
        "Observamos un accuracy del 95.64% máximo con los hiper parámetros. Ahora probamos el modelo con sus hiper parámetros para los datos de prueba:"
      ],
      "metadata": {
        "id": "rkGzwwMssoLI"
      }
    },
    {
      "cell_type": "code",
      "source": [
        "model_RFC_num = RandomForestClassifier(**grid2.best_params_)\n",
        "\n",
        "model_RFC_num.fit(Xtv_num, np.ravel(ytv_num))\n",
        "yhat_num = model_RFC_num.predict(Xtest_num)\n",
        "\n",
        "score_list.append(get_scores(ytest_num,yhat_num, 'RFC num'))"
      ],
      "metadata": {
        "colab": {
          "base_uri": "https://localhost:8080/"
        },
        "id": "mErTEe25uYwi",
        "outputId": "57ddc9ca-bd68-49b1-ffd4-8a51873f4f7b"
      },
      "execution_count": 102,
      "outputs": [
        {
          "output_type": "stream",
          "name": "stdout",
          "text": [
            "Accuracy: 0.9811320754716981\n",
            "f1_score: 0.9811320754716981\n",
            "Precision: 0.9811320754716981\n",
            "Recall: 0.9811320754716981\n"
          ]
        }
      ]
    },
    {
      "cell_type": "markdown",
      "source": [
        "Donde observamos que accuracy aumenta cerca de 1.5%. Lo cual es muy buena indicación de que está generalizando correctamente."
      ],
      "metadata": {
        "id": "QBIAjneZssbA"
      }
    },
    {
      "cell_type": "markdown",
      "source": [
        "* Comenzamos con variables categóricas:"
      ],
      "metadata": {
        "id": "W8LVZBxXu4AT"
      }
    },
    {
      "cell_type": "markdown",
      "source": [
        "Particionamos los datos:"
      ],
      "metadata": {
        "id": "nngtsD1As2H4"
      }
    },
    {
      "cell_type": "code",
      "source": [
        "Xtv_cat, Xtest_cat, ytv_cat, ytest_cat = train_test_split(X_cat, Y, test_size=0.15, stratify=Y, random_state=0) \n",
        "print(Xtv_cat.shape, ': dimensión de datos de entrada de entrenamiento y validación')\n",
        "print(Xtest_cat.shape, ': dimensión de datos de entrada de prueba')  \n",
        "print(ytv_cat.shape, ': dimensión de variable de salida para entrenamiento y validación')\n",
        "print(ytest_cat.shape, ': dimensión de variable de salida para prueba')"
      ],
      "metadata": {
        "colab": {
          "base_uri": "https://localhost:8080/"
        },
        "outputId": "dd69d11c-9ebe-4c1b-c19f-a7c1424e29d3",
        "id": "ACR1msWou2Fr"
      },
      "execution_count": 103,
      "outputs": [
        {
          "output_type": "stream",
          "name": "stdout",
          "text": [
            "(895, 12) : dimensión de datos de entrada de entrenamiento y validación\n",
            "(159, 12) : dimensión de datos de entrada de prueba\n",
            "(895, 1) : dimensión de variable de salida para entrenamiento y validación\n",
            "(159, 1) : dimensión de variable de salida para prueba\n"
          ]
        }
      ]
    },
    {
      "cell_type": "markdown",
      "source": [
        "* Decision Tree variables categóricas de calidad de entrada:"
      ],
      "metadata": {
        "id": "6LSkBn4eu2Ft"
      }
    },
    {
      "cell_type": "markdown",
      "source": [
        "Comenzamos viendo la curva de aprendizaje para el parámetro de max_depth:"
      ],
      "metadata": {
        "id": "9ZCOaNv6tTrh"
      }
    },
    {
      "cell_type": "code",
      "source": [
        "#obtenemos el modelo y los parametros de cross validation\n",
        "modeloVC = DecisionTreeClassifier()\n",
        "cvVC = RepeatedStratifiedKFold(n_splits=5, n_repeats=3, random_state=1)\n",
        "\n",
        "delta_max_depth = np.linspace(1, 20, 20)\n",
        "\n",
        "train_scores, valid_scores = validation_curve(modeloVC, \n",
        "                                              Xtv_cat, \n",
        "                                              np.ravel(ytv_cat), \n",
        "                                              param_name=\"max_depth\", \n",
        "                                              param_range=delta_max_depth,\n",
        "                                              cv=cvVC,\n",
        "                                              scoring='accuracy')\n",
        "\n",
        "train_mean = np.mean(train_scores, axis=1)\n",
        "train_std = np.std(train_scores, axis=1)\n",
        "valid_mean = np.mean(valid_scores, axis=1)\n",
        "valid_std = np.std(valid_scores, axis=1)\n",
        "\n",
        "# Curva de entrenamiento con la métrica de exactitud (accuracy):\n",
        "plt.plot(delta_max_depth, train_mean, color='blue', marker='o', markersize=5, label='Training')\n",
        "\n",
        "# Curva de validación:\n",
        "plt.plot(delta_max_depth, valid_mean, color='red', marker='o', markersize=5, label='Validation')\n",
        "\n",
        "plt.title('Función validation_curve() para Decision Tree')\n",
        "plt.xlabel('Valores del parámetro max_depth')\n",
        "plt.ylabel('Accuracy')\n",
        "plt.grid(b=True)\n",
        "plt.legend(loc='lower right')\n",
        "plt.show()"
      ],
      "metadata": {
        "outputId": "ee5c1d14-e1df-4190-95e7-b580ce690fb4",
        "colab": {
          "base_uri": "https://localhost:8080/",
          "height": 301
        },
        "id": "2PoJS1wRu2Ft"
      },
      "execution_count": 104,
      "outputs": [
        {
          "output_type": "display_data",
          "data": {
            "text/plain": [
              "<Figure size 576x288 with 1 Axes>"
            ],
            "image/png": "[encoded data removed]"
          },
          "metadata": {}
        }
      ]
    },
    {
      "cell_type": "markdown",
      "source": [
        "Y observamos que después de max_depth 10 ya no existen cambios significativos para las curvas de training o validación, asi que nos quedamos con un máximo de 10 para el gridsearch para este parámetro:"
      ],
      "metadata": {
        "id": "_vGZ9zD6tZdg"
      }
    },
    {
      "cell_type": "code",
      "source": [
        "#obtenemos el modelo y los parámetros\n",
        "modeloDTC_iter = DecisionTreeClassifier()\n",
        "cvSVM = RepeatedStratifiedKFold(n_splits=5, n_repeats=3, random_state=1)\n",
        "\n",
        "dicc_grid = [{'ccp_alpha':[0.0001,0.01,0.1,1.0,10.,100],'criterion':['gini','entropy'],\n",
        "             'max_depth':[1,2,3,4,5,6,7,8,9,10],'min_samples_split':[2,3,4,5,6],'class_weight':['balanced', None]}]\n",
        "\n",
        "grid3 = GridSearchCV(estimator=modeloDTC_iter, \n",
        "                    param_grid=dicc_grid, \n",
        "                    cv=cvSVM, \n",
        "                    scoring='accuracy',\n",
        "                    n_jobs=-1,\n",
        "                    error_score='raise')"
      ],
      "metadata": {
        "id": "BRNMSWvPu2Ft"
      },
      "execution_count": 105,
      "outputs": []
    },
    {
      "cell_type": "markdown",
      "source": [
        "Corremos el grid search:"
      ],
      "metadata": {
        "id": "DoNJBjewtdcP"
      }
    },
    {
      "cell_type": "code",
      "source": [
        "grid3.fit(Xtv_cat, np.ravel(ytv_cat))\n",
        "\n",
        "print('Mejor valor de accuracy obtenido con la mejor combinación:', grid3.best_score_)\n",
        "print('Mejor combinación de valores encontrados de los hiperparámetros:', grid3.best_params_)\n",
        "print('Métrica utilizada:', grid3.scoring)\n",
        "print('Mejor Index:',grid3.best_index_)\n",
        "\n",
        "grid_splits.append(grid3)"
      ],
      "metadata": {
        "colab": {
          "base_uri": "https://localhost:8080/"
        },
        "outputId": "7d9027cb-5bb9-4073-addd-acfebab592b3",
        "id": "0PTPjamSu2Fu"
      },
      "execution_count": 106,
      "outputs": [
        {
          "output_type": "stream",
          "name": "stdout",
          "text": [
            "Mejor valor de accuracy obtenido con la mejor combinación: 0.9802607076350093\n",
            "Mejor combinación de valores encontrados de los hiperparámetros: {'ccp_alpha': 0.0001, 'class_weight': None, 'criterion': 'entropy', 'max_depth': 10, 'min_samples_split': 3}\n",
            "Métrica utilizada: accuracy\n",
            "Mejor Index: 196\n"
          ]
        }
      ]
    },
    {
      "cell_type": "markdown",
      "source": [
        "Observamos un accuracy del 98.03% máximo con los hiper parámetros. Ahora probamos el modelo con sus hiper parámetros para los datos de prueba:"
      ],
      "metadata": {
        "id": "RwWLS24htgKn"
      }
    },
    {
      "cell_type": "code",
      "source": [
        "model_DTC_cat = DecisionTreeClassifier(**grid3.best_params_)\n",
        "\n",
        "model_DTC_cat.fit(Xtv_cat, np.ravel(ytv_cat))\n",
        "yhat_cat = model_DTC_cat.predict(Xtest_cat)\n",
        "\n",
        "score_list.append(get_scores(ytest_cat,yhat_cat, 'DTC cat'))"
      ],
      "metadata": {
        "colab": {
          "base_uri": "https://localhost:8080/"
        },
        "outputId": "344be420-005a-4520-ec69-7b0c0c8f940c",
        "id": "UzqKtJ58u2Fu"
      },
      "execution_count": 107,
      "outputs": [
        {
          "output_type": "stream",
          "name": "stdout",
          "text": [
            "Accuracy: 0.9937106918238994\n",
            "f1_score: 0.9937106918238994\n",
            "Precision: 0.9937106918238994\n",
            "Recall: 0.9937106918238994\n"
          ]
        }
      ]
    },
    {
      "cell_type": "markdown",
      "source": [
        "Donde observamos que accuracy incrementa a 99.4%. Lo cual es muy buena indicación de que está generalizando correctamente."
      ],
      "metadata": {
        "id": "trF_kBnrtnsv"
      }
    },
    {
      "cell_type": "markdown",
      "source": [
        "* Random Forest variables categóricas de calidad de entrada:"
      ],
      "metadata": {
        "id": "sAMYDTx3u2Fu"
      }
    },
    {
      "cell_type": "markdown",
      "source": [
        "Comenzamos viendo la curva de aprendizaje para el parámetro de max_depth:"
      ],
      "metadata": {
        "id": "e5RAJpEdtzFn"
      }
    },
    {
      "cell_type": "code",
      "source": [
        "#obtenemos el modelo y los parametros de cross validation\n",
        "modeloVC = RandomForestClassifier()\n",
        "cvVC = RepeatedStratifiedKFold(n_splits=5, n_repeats=3, random_state=1)\n",
        "\n",
        "delta_max_depth = np.linspace(1, 20, 20)\n",
        "\n",
        "train_scores, valid_scores = validation_curve(modeloVC, \n",
        "                                              Xtv_cat, \n",
        "                                              np.ravel(ytv_cat), \n",
        "                                              param_name=\"max_depth\", \n",
        "                                              param_range=delta_max_depth,\n",
        "                                              cv=cvVC,\n",
        "                                              scoring='accuracy')\n",
        "\n",
        "train_mean = np.mean(train_scores, axis=1)\n",
        "train_std = np.std(train_scores, axis=1)\n",
        "valid_mean = np.mean(valid_scores, axis=1)\n",
        "valid_std = np.std(valid_scores, axis=1)\n",
        "\n",
        "# Curva de entrenamiento con la métrica de exactitud (accuracy):\n",
        "plt.plot(delta_max_depth, train_mean, color='blue', marker='o', markersize=5, label='Training')\n",
        "\n",
        "# Curva de validación:\n",
        "plt.plot(delta_max_depth, valid_mean, color='red', marker='o', markersize=5, label='Validation')\n",
        "\n",
        "plt.title('Función validation_curve() para Random Forest')\n",
        "plt.xlabel('Valores del parámetro max_depth')\n",
        "plt.ylabel('Accuracy')\n",
        "plt.grid(b=True)\n",
        "plt.legend(loc='lower right')\n",
        "plt.show()"
      ],
      "metadata": {
        "outputId": "8ee99b3d-2496-4f5d-f038-5ac581aee9c7",
        "colab": {
          "base_uri": "https://localhost:8080/",
          "height": 301
        },
        "id": "DKssLygru2Fu"
      },
      "execution_count": 108,
      "outputs": [
        {
          "output_type": "display_data",
          "data": {
            "text/plain": [
              "<Figure size 576x288 with 1 Axes>"
            ],
            "image/png": "[encoded data removed]"
          },
          "metadata": {}
        }
      ]
    },
    {
      "cell_type": "markdown",
      "source": [
        "Y observamos que después de max_depth 10 ya no existen cambios significativos para las curvas de training o validación, así como que previo a 4 la métrica de accuracy aún sigue pudiendo subir. Por lo que nos quedamos con un mínimo de 4 y un máximo de 10 para el gridsearch de este parámetro:"
      ],
      "metadata": {
        "id": "DcOgWj2Gt3So"
      }
    },
    {
      "cell_type": "code",
      "source": [
        "#obtenemos el modelo y los parámetros\n",
        "modeloRFC_iter = RandomForestClassifier()\n",
        "cvSVM = RepeatedStratifiedKFold(n_splits=5, n_repeats=3, random_state=1)\n",
        "\n",
        "dicc_grid = [{'ccp_alpha':[0.0001,0.01,0.1,1.0,10.,100],'criterion':['gini','entropy'],\n",
        "             'max_depth':[4,5,6,7,8,9,10],'min_samples_split':[2,3,4,5,6],'class_weight':['balanced', None]}]\n",
        "\n",
        "grid4 = GridSearchCV(estimator=modeloDTC_iter, \n",
        "                    param_grid=dicc_grid, \n",
        "                    cv=cvSVM, \n",
        "                    scoring='accuracy',\n",
        "                    n_jobs=-1,\n",
        "                    error_score='raise')"
      ],
      "metadata": {
        "id": "cCbk3geDu2Fv"
      },
      "execution_count": 109,
      "outputs": []
    },
    {
      "cell_type": "markdown",
      "source": [
        "Corremos el grid search:"
      ],
      "metadata": {
        "id": "_GnI9_Wat4-I"
      }
    },
    {
      "cell_type": "code",
      "source": [
        "grid4.fit(Xtv_cat, np.ravel(ytv_cat))\n",
        "\n",
        "print('Mejor valor de accuracy obtenido con la mejor combinación:', grid4.best_score_)\n",
        "print('Mejor combinación de valores encontrados de los hiperparámetros:', grid4.best_params_)\n",
        "print('Métrica utilizada:', grid4.scoring)\n",
        "print('Mejor Index:',grid4.best_index_)\n",
        "\n",
        "grid_splits.append(grid4)"
      ],
      "metadata": {
        "colab": {
          "base_uri": "https://localhost:8080/"
        },
        "id": "vVhJNyInu2Fv",
        "outputId": "962770b3-8a4b-4c44-f3c9-8910635cfba8"
      },
      "execution_count": 110,
      "outputs": [
        {
          "output_type": "stream",
          "name": "stdout",
          "text": [
            "Mejor valor de accuracy obtenido con la mejor combinación: 0.980633147113594\n",
            "Mejor combinación de valores encontrados de los hiperparámetros: {'ccp_alpha': 0.0001, 'class_weight': None, 'criterion': 'entropy', 'max_depth': 10, 'min_samples_split': 4}\n",
            "Métrica utilizada: accuracy\n",
            "Mejor Index: 137\n"
          ]
        }
      ]
    },
    {
      "cell_type": "markdown",
      "source": [
        "Observamos un accuracy del 98.06% máximo con los hiper parámetros. Ahora probamos el modelo con sus hiper parámetros para los datos de prueba:"
      ],
      "metadata": {
        "id": "e2bQo8CCt8uQ"
      }
    },
    {
      "cell_type": "code",
      "source": [
        "model_RFC_cat = RandomForestClassifier(**grid4.best_params_)\n",
        "\n",
        "model_RFC_cat.fit(Xtv_cat, np.ravel(ytv_cat))\n",
        "#realizamos las predicciones\n",
        "yhat_cat = model_RFC_cat.predict(Xtest_cat)\n",
        "\n",
        "score_list.append(get_scores(ytest_cat,yhat_cat, 'RFC cat'))"
      ],
      "metadata": {
        "colab": {
          "base_uri": "https://localhost:8080/"
        },
        "id": "m9Kfr8z5u2Fv",
        "outputId": "71564a12-c4d7-408b-f774-713aa9607404"
      },
      "execution_count": 111,
      "outputs": [
        {
          "output_type": "stream",
          "name": "stdout",
          "text": [
            "Accuracy: 1.0\n",
            "f1_score: 1.0\n",
            "Precision: 1.0\n",
            "Recall: 1.0\n"
          ]
        }
      ]
    },
    {
      "cell_type": "markdown",
      "source": [
        "Donde observamos que accuracy incrementa a 100%. Lo cual es muy buena indicación de que está generalizando perfectamente."
      ],
      "metadata": {
        "id": "5vdHHQeJuBJh"
      }
    },
    {
      "cell_type": "markdown",
      "source": [
        "### **Explora que clasificador es el más optimo, ejemplo:**"
      ],
      "metadata": {
        "id": "GPPW6lSM5D7p"
      }
    },
    {
      "cell_type": "markdown",
      "source": [
        "Obtenemos los resultados de cada split del cross validation hecho en cada gridsearch:"
      ],
      "metadata": {
        "id": "K1wWypsgfn7a"
      }
    },
    {
      "cell_type": "code",
      "source": [
        "tot_resultados_cv = list()\n",
        "for grid in grid_splits:\n",
        "  indx = grid.best_index_\n",
        "  resultados_cv = list()\n",
        "  for i in range(15):\n",
        "    resultados_cv.append(grid.cv_results_['split' + str(i) + '_test_score'][indx])\n",
        "  tot_resultados_cv.append(resultados_cv)"
      ],
      "metadata": {
        "id": "qg69CEdVaueR"
      },
      "execution_count": 112,
      "outputs": []
    },
    {
      "cell_type": "markdown",
      "source": [
        "Generamos una lista con los nombres de cada modelo:"
      ],
      "metadata": {
        "id": "CBEQBKY-fu4j"
      }
    },
    {
      "cell_type": "code",
      "source": [
        "scores = list()\n",
        "for scor in score_list:\n",
        "  scores.append(scor[0])"
      ],
      "metadata": {
        "id": "xe6Dxg5rcKrD"
      },
      "execution_count": 113,
      "outputs": []
    },
    {
      "cell_type": "markdown",
      "source": [
        "Visualizamos en boxplots la distribución de los resultados de accuracy para cada modelo:"
      ],
      "metadata": {
        "id": "n8gnONHTfwiI"
      }
    },
    {
      "cell_type": "code",
      "source": [
        "sns.set(rc={'figure.figsize':(8,4)})\n",
        "plt.boxplot(tot_resultados_cv, labels=scores, showmeans=True)\n",
        "plt.show()"
      ],
      "metadata": {
        "id": "MUtC2uvbbyGC",
        "outputId": "af1be12f-36a2-44ce-945d-ffd4ece54e5c",
        "colab": {
          "base_uri": "https://localhost:8080/",
          "height": 268
        }
      },
      "execution_count": 114,
      "outputs": [
        {
          "output_type": "display_data",
          "data": {
            "text/plain": [
              "<Figure size 576x288 with 1 Axes>"
            ],
            "image/png": "[encoded data removed]"
          },
          "metadata": {}
        }
      ]
    },
    {
      "cell_type": "markdown",
      "source": [
        "Donde observamos que los resultados con menos varianza para cada split, son los de los modelos categóricos. Así mismo, el promedio más alto es también para los categóricos. Por lo que nos quedamos con el modelo de Random Forest con variables categóricas de calidad, ya que entre los dos modelos con variables categóricas, es el que arroja mejores resultados para los datos de prueba:"
      ],
      "metadata": {
        "id": "EqVdphl2f2mJ"
      }
    },
    {
      "cell_type": "code",
      "source": [
        "best_RFC_model = RandomForestClassifier(**grid4.best_params_)\n",
        "\n",
        "best_RFC_model.fit(Xtv_cat, np.ravel(ytv_cat))\n",
        "yhat = best_RFC_model.predict(Xtest_cat)\n",
        "\n",
        "print('Accuracy:',accuracy_score(ytest_cat,yhat))\n",
        "print('F1-score:',f1_score(ytest_cat,yhat,average='micro'))\n",
        "print('Precision:',precision_score(ytest_cat,yhat,average='micro'))\n",
        "print('Recall:',recall_score(ytest_cat,yhat,average='micro'))"
      ],
      "metadata": {
        "id": "6pViLYS_gMlx",
        "outputId": "1660b398-6594-4679-d305-5de5994d92e8",
        "colab": {
          "base_uri": "https://localhost:8080/"
        }
      },
      "execution_count": 117,
      "outputs": [
        {
          "output_type": "stream",
          "name": "stdout",
          "text": [
            "Accuracy: 1.0\n",
            "F1-score: 1.0\n",
            "Precision: 1.0\n",
            "Recall: 1.0\n"
          ]
        }
      ]
    },
    {
      "cell_type": "markdown",
      "source": [
        "Un 100% en todas las métricas."
      ],
      "metadata": {
        "id": "oEWHbaoNuVyA"
      }
    },
    {
      "cell_type": "markdown",
      "source": [
        "### **Determina el grado de exactitud a través del reporte de clasificación y análisis de la gráfica de Precision Recall.**"
      ],
      "metadata": {
        "id": "Nzjo_26FhaaB"
      }
    },
    {
      "cell_type": "markdown",
      "source": [
        "* Reporte de clasificacion:"
      ],
      "metadata": {
        "id": "kZJPC9LGh8Nv"
      }
    },
    {
      "cell_type": "code",
      "source": [
        "target_names = ['Verde', 'Amarillo', 'Rojo']\n",
        "print(classification_report(ytest_cat, yhat, target_names=target_names))"
      ],
      "metadata": {
        "id": "BdU45pE9hc-3",
        "outputId": "fbe03f5e-92e6-4042-923c-d78694d6ec61",
        "colab": {
          "base_uri": "https://localhost:8080/"
        }
      },
      "execution_count": 118,
      "outputs": [
        {
          "output_type": "stream",
          "name": "stdout",
          "text": [
            "              precision    recall  f1-score   support\n",
            "\n",
            "       Verde       1.00      1.00      1.00        64\n",
            "    Amarillo       1.00      1.00      1.00        37\n",
            "        Rojo       1.00      1.00      1.00        58\n",
            "\n",
            "    accuracy                           1.00       159\n",
            "   macro avg       1.00      1.00      1.00       159\n",
            "weighted avg       1.00      1.00      1.00       159\n",
            "\n"
          ]
        }
      ]
    },
    {
      "cell_type": "markdown",
      "source": [
        "Validamos que tenemos un 100% de exactitud"
      ],
      "metadata": {
        "id": "NkU20bQZpVqa"
      }
    },
    {
      "cell_type": "markdown",
      "source": [
        "* Grafica de Precision-Recall"
      ],
      "metadata": {
        "id": "-UgHffKNh-TH"
      }
    },
    {
      "cell_type": "markdown",
      "source": [
        "Aplicamos one-hot encoder a los datos de Y de prueba, así como a las predicciones. Ya que es necesario hacer una curva para cada clase"
      ],
      "metadata": {
        "id": "i6xOMinxpZ7S"
      }
    },
    {
      "cell_type": "code",
      "source": [
        "Y_ohe = OneHotEncoder()\n",
        "Y_fitted = Y_ohe.fit(Y)\n",
        "y_test_multicolum = Y_fitted.transform(ytest_cat).toarray()\n",
        "y_hat_multicolum = Y_fitted.transform(pd.DataFrame(yhat,columns=['SEMAFORO'])).toarray()"
      ],
      "metadata": {
        "id": "ThZrpJJniGpH"
      },
      "execution_count": 136,
      "outputs": []
    },
    {
      "cell_type": "markdown",
      "source": [
        "Generamos las curvas de precision vs. recall de cada clase:"
      ],
      "metadata": {
        "id": "8Imk6AVGp3Ko"
      }
    },
    {
      "cell_type": "code",
      "source": [
        "precision = dict()\n",
        "recall = dict()\n",
        "clases = ['Verde','Amarillo','Rojo']\n",
        "for i in range(3):\n",
        "    precision[i], recall[i], _ = precision_recall_curve(y_test_multicolum[:, i],\n",
        "                                                        y_hat_multicolum[:, i])\n",
        "    plt.plot(recall[i], precision[i], lw=2, label=clases[i])\n",
        "plt.xlabel(\"recall\")\n",
        "plt.ylabel(\"precision\")\n",
        "plt.legend(loc=\"best\")\n",
        "plt.show()"
      ],
      "metadata": {
        "id": "G__H9qoukmsB",
        "outputId": "8183eaf2-ad55-4cfa-ffca-9f5c44c7ba6c",
        "colab": {
          "base_uri": "https://localhost:8080/",
          "height": 285
        }
      },
      "execution_count": 159,
      "outputs": [
        {
          "output_type": "display_data",
          "data": {
            "text/plain": [
              "<Figure size 576x288 with 1 Axes>"
            ],
            "image/png": "[encoded data removed]"
          },
          "metadata": {}
        }
      ]
    },
    {
      "cell_type": "markdown",
      "source": [
        "Observamos una exactitud del 100% para cada clase con los datos de prueba."
      ],
      "metadata": {
        "id": "BArR-6V3qJ_A"
      }
    },
    {
      "cell_type": "markdown",
      "source": [
        "Generamos como complemento una curva de ROC para cada clase:"
      ],
      "metadata": {
        "id": "sg5agPsaqNmY"
      }
    },
    {
      "cell_type": "code",
      "source": [
        "fpr = dict()\n",
        "tpr = dict()\n",
        "\n",
        "for i in range(3):\n",
        "    fpr[i], tpr[i], _ = roc_curve(y_test_multicolum[:, i],\n",
        "                                  y_hat_multicolum[:, i])\n",
        "    plt.plot(fpr[i], tpr[i], lw=2, label=clases[i])\n",
        "\n",
        "plt.xlabel(\"false positive rate\")\n",
        "plt.ylabel(\"true positive rate\")\n",
        "plt.legend(loc=\"best\")\n",
        "plt.title(\"ROC curve\")\n",
        "plt.show()"
      ],
      "metadata": {
        "id": "oA97G6ZomLy4",
        "outputId": "b6d13cea-3d5b-4a58-97b3-fe9770dc59d3",
        "colab": {
          "base_uri": "https://localhost:8080/",
          "height": 301
        }
      },
      "execution_count": 157,
      "outputs": [
        {
          "output_type": "display_data",
          "data": {
            "text/plain": [
              "<Figure size 576x288 with 1 Axes>"
            ],
            "image/png": "[encoded data removed]"
          },
          "metadata": {}
        }
      ]
    },
    {
      "cell_type": "markdown",
      "source": [
        "Donde igual obtenemos un 100% de area bajo la curva."
      ],
      "metadata": {
        "id": "ffvU_JyzqR-w"
      }
    },
    {
      "cell_type": "markdown",
      "source": [
        "### **Visualiza los resultados del modelo o las predicciones a través de una matriz de confusión.**"
      ],
      "metadata": {
        "id": "2C8rg3OKmlHQ"
      }
    },
    {
      "cell_type": "markdown",
      "source": [
        "Generamos la matriz de confusión:"
      ],
      "metadata": {
        "id": "LL6x2VfupK0J"
      }
    },
    {
      "cell_type": "code",
      "source": [
        "cm = confusion_matrix(ytest_cat, yhat)"
      ],
      "metadata": {
        "id": "b0xKN7wFmnBw"
      },
      "execution_count": 144,
      "outputs": []
    },
    {
      "cell_type": "markdown",
      "source": [
        "La visualizamos:"
      ],
      "metadata": {
        "id": "d2tDrAM1pMRo"
      }
    },
    {
      "cell_type": "code",
      "source": [
        "df_cm = pd.DataFrame(cm, index = ['Verde','Amarillo','Rojo'], columns = ['Verde','Amarillo','Rojo'])\n",
        "plt.figure(figsize = (5,5))\n",
        "ax = sns.heatmap(df_cm, annot=True, cmap='OrRd', cbar=False)\n",
        "ax.set(ylabel=\"Etiquetas Reales\", xlabel=\"Etiquetas de Predicción\")"
      ],
      "metadata": {
        "id": "Z8PfNQxxnqoy",
        "outputId": "fe37abfb-1877-48ee-b8b4-694e2203266c",
        "colab": {
          "base_uri": "https://localhost:8080/",
          "height": 375
        }
      },
      "execution_count": 154,
      "outputs": [
        {
          "output_type": "execute_result",
          "data": {
            "text/plain": [
              "[Text(21.499999999999996, 0.5, 'Etiquetas Reales'),\n",
              " Text(0.5, 21.5, 'Etiquetas de Predicción')]"
            ]
          },
          "metadata": {},
          "execution_count": 154
        },
        {
          "output_type": "display_data",
          "data": {
            "text/plain": [
              "<Figure size 360x360 with 1 Axes>"
            ],
            "image/png": "[encoded data removed]"
          },
          "metadata": {}
        }
      ]
    },
    {
      "cell_type": "markdown",
      "source": [
        "Y encontramos que el modelo consiguió predecir con un 100% de exactitud los datos de prueba. Lo cual nos dice que nuestro modelo generaliza y predice correctamente."
      ],
      "metadata": {
        "id": "mqHhOpGNpNuo"
      }
    }
  ]
}