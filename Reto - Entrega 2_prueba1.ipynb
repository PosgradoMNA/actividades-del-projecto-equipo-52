{
  "nbformat": 4,
  "nbformat_minor": 0,
  "metadata": {
    "colab": {
      "name": "assignment01.ipynb",
      "provenance": [],
      "include_colab_link": true
    },
    "kernelspec": {
      "name": "python3",
      "display_name": "Python 3"
    },
    "language_info": {
      "name": "python"
    }
  },
  "cells": [
    {
      "cell_type": "markdown",
      "metadata": {
        "id": "view-in-github",
        "colab_type": "text"
      },
      "source": [
        "<a href=\"https://colab.research.google.com/github/PosgradoMNA/actividades-del-projecto-equipo-52/blob/main/Reto%20-%20Entrega%202_prueba1.ipynb\" target=\"_parent\"><img src=\"https://colab.research.google.com/assets/colab-badge.svg\" alt=\"Open In Colab\"/></a>"
      ]
    },
    {
      "cell_type": "markdown",
      "source": [
        "> # **Reto - Entrega 2**\n",
        ">### **Maestría en Inteligencia Artificial Aplicada**\n",
        ">### **Curso: Inteligencia Artificial y Aprendizaje Automático**\n",
        ">### **Tecnológico de Monterrey**\n",
        ">### **Prof: María de la Paz Rico Fernández**\n",
        "\n",
        "### **Genaro Ramos Higuera - A00351269**\n",
        "### **Gerardo Aaron Castañeda Jaramillo - A01137646**"
      ],
      "metadata": {
        "id": "g4kUMHJDsYA-"
      }
    },
    {
      "cell_type": "code",
      "source": [
        "import numpy as np\n",
        "import pandas as pd\n",
        "import seaborn as sns \n",
        "import matplotlib.pyplot as plt \n",
        "\n",
        "from sklearn.preprocessing import OneHotEncoder\n",
        "from sklearn.ensemble import RandomForestClassifier\n",
        "from sklearn.tree import DecisionTreeClassifier\n",
        "from sklearn.inspection import permutation_importance\n",
        "from sklearn.model_selection import train_test_split\n",
        "from sklearn import metrics\n",
        "from sklearn.metrics import accuracy_score, f1_score, precision_score, recall_score\n",
        "from sklearn.model_selection import RepeatedStratifiedKFold, cross_validate, StratifiedKFold\n",
        "from sklearn.model_selection import GridSearchCV\n",
        "from sklearn.metrics import get_scorer\n",
        "from sklearn.metrics import confusion_matrix\n",
        "\n",
        "from sklearn.model_selection import learning_curve\n",
        "from sklearn.model_selection import validation_curve\n",
        "\n",
        "from sklearn.metrics import classification_report\n",
        "from sklearn.metrics import RocCurveDisplay, precision_recall_curve"
      ],
      "metadata": {
        "id": "8Yan2paWEogS"
      },
      "execution_count": 1,
      "outputs": []
    },
    {
      "cell_type": "code",
      "source": [
        "url = 'https://github.com/PosgradoMNA/actividades-del-projecto-equipo-52/blob/main/aguas_subterraneas.csv?raw=true'\n",
        "\n",
        "data_asb = pd.read_csv(url,sep=\",\")\n",
        "print(data_asb.shape)\n",
        "data_asb.head()"
      ],
      "metadata": {
        "colab": {
          "base_uri": "https://localhost:8080/",
          "height": 318
        },
        "id": "JRWpb_vPFRcK",
        "outputId": "a7476e20-b299-49f2-f2a0-b539b5eacbd4"
      },
      "execution_count": 2,
      "outputs": [
        {
          "output_type": "stream",
          "name": "stdout",
          "text": [
            "(1054, 34)\n"
          ]
        },
        {
          "output_type": "execute_result",
          "data": {
            "text/plain": [
              "       CLAVE   LONGITUD   LATITUD  ORGANISMO_DE_CUENCA  SUBTIPO  ALC_mg/L  \\\n",
              "0     DLAGU6 -102.02210  22.20887                  6.0      5.0   229.990   \n",
              "1  DLAGU6516 -102.20075  21.99958                  6.0      5.0   231.990   \n",
              "2     DLAGU7 -102.28801  22.36685                  6.0      5.0   204.920   \n",
              "3     DLAGU9 -102.29449  22.18435                  6.0      5.0   327.000   \n",
              "4   DLBAJ107 -110.24480  23.45138                 10.0      5.0   309.885   \n",
              "\n",
              "   COND_mS/cm  SDT_M_mg/L  FLUO_mg/L  DUR_mg/L  ...  CALIDAD_CF  CALIDAD_NNO3  \\\n",
              "0       940.0       603.6     0.9766  213.7320  ...           1             1   \n",
              "1       608.0       445.4     0.9298  185.0514  ...           1             2   \n",
              "2       532.0       342.0     1.8045  120.7190  ...           1             1   \n",
              "3       686.0       478.6     1.1229  199.8790  ...           1             1   \n",
              "4      1841.0      1179.0     0.2343  476.9872  ...           3             3   \n",
              "\n",
              "   CALIDAD_AS  CALIDAD_CD  CALIDAD_CR  CALIDAD_HG  CALIDAD_PB  CALIDAD_MN  \\\n",
              "0           2           1           1           1           1           1   \n",
              "1           2           1           1           1           1           1   \n",
              "2           3           1           1           1           1           1   \n",
              "3           2           1           1           1           1           1   \n",
              "4           1           1           1           1           1           1   \n",
              "\n",
              "   CALIDAD_FE  SEMAFORO  \n",
              "0           1         1  \n",
              "1           1         1  \n",
              "2           1         3  \n",
              "3           1         1  \n",
              "4           1         3  \n",
              "\n",
              "[5 rows x 34 columns]"
            ],
            "text/html": [
              "\n",
              "  <div id=\"df-c42a0039-e967-42f0-b83b-d340fa2e4c92\">\n",
              "    <div class=\"colab-df-container\">\n",
              "      <div>\n",
              "<style scoped>\n",
              "    .dataframe tbody tr th:only-of-type {\n",
              "        vertical-align: middle;\n",
              "    }\n",
              "\n",
              "    .dataframe tbody tr th {\n",
              "        vertical-align: top;\n",
              "    }\n",
              "\n",
              "    .dataframe thead th {\n",
              "        text-align: right;\n",
              "    }\n",
              "</style>\n",
              "<table border=\"1\" class=\"dataframe\">\n",
              "  <thead>\n",
              "    <tr style=\"text-align: right;\">\n",
              "      <th></th>\n",
              "      <th>CLAVE</th>\n",
              "      <th>LONGITUD</th>\n",
              "      <th>LATITUD</th>\n",
              "      <th>ORGANISMO_DE_CUENCA</th>\n",
              "      <th>SUBTIPO</th>\n",
              "      <th>ALC_mg/L</th>\n",
              "      <th>COND_mS/cm</th>\n",
              "      <th>SDT_M_mg/L</th>\n",
              "      <th>FLUO_mg/L</th>\n",
              "      <th>DUR_mg/L</th>\n",
              "      <th>...</th>\n",
              "      <th>CALIDAD_CF</th>\n",
              "      <th>CALIDAD_NNO3</th>\n",
              "      <th>CALIDAD_AS</th>\n",
              "      <th>CALIDAD_CD</th>\n",
              "      <th>CALIDAD_CR</th>\n",
              "      <th>CALIDAD_HG</th>\n",
              "      <th>CALIDAD_PB</th>\n",
              "      <th>CALIDAD_MN</th>\n",
              "      <th>CALIDAD_FE</th>\n",
              "      <th>SEMAFORO</th>\n",
              "    </tr>\n",
              "  </thead>\n",
              "  <tbody>\n",
              "    <tr>\n",
              "      <th>0</th>\n",
              "      <td>DLAGU6</td>\n",
              "      <td>-102.02210</td>\n",
              "      <td>22.20887</td>\n",
              "      <td>6.0</td>\n",
              "      <td>5.0</td>\n",
              "      <td>229.990</td>\n",
              "      <td>940.0</td>\n",
              "      <td>603.6</td>\n",
              "      <td>0.9766</td>\n",
              "      <td>213.7320</td>\n",
              "      <td>...</td>\n",
              "      <td>1</td>\n",
              "      <td>1</td>\n",
              "      <td>2</td>\n",
              "      <td>1</td>\n",
              "      <td>1</td>\n",
              "      <td>1</td>\n",
              "      <td>1</td>\n",
              "      <td>1</td>\n",
              "      <td>1</td>\n",
              "      <td>1</td>\n",
              "    </tr>\n",
              "    <tr>\n",
              "      <th>1</th>\n",
              "      <td>DLAGU6516</td>\n",
              "      <td>-102.20075</td>\n",
              "      <td>21.99958</td>\n",
              "      <td>6.0</td>\n",
              "      <td>5.0</td>\n",
              "      <td>231.990</td>\n",
              "      <td>608.0</td>\n",
              "      <td>445.4</td>\n",
              "      <td>0.9298</td>\n",
              "      <td>185.0514</td>\n",
              "      <td>...</td>\n",
              "      <td>1</td>\n",
              "      <td>2</td>\n",
              "      <td>2</td>\n",
              "      <td>1</td>\n",
              "      <td>1</td>\n",
              "      <td>1</td>\n",
              "      <td>1</td>\n",
              "      <td>1</td>\n",
              "      <td>1</td>\n",
              "      <td>1</td>\n",
              "    </tr>\n",
              "    <tr>\n",
              "      <th>2</th>\n",
              "      <td>DLAGU7</td>\n",
              "      <td>-102.28801</td>\n",
              "      <td>22.36685</td>\n",
              "      <td>6.0</td>\n",
              "      <td>5.0</td>\n",
              "      <td>204.920</td>\n",
              "      <td>532.0</td>\n",
              "      <td>342.0</td>\n",
              "      <td>1.8045</td>\n",
              "      <td>120.7190</td>\n",
              "      <td>...</td>\n",
              "      <td>1</td>\n",
              "      <td>1</td>\n",
              "      <td>3</td>\n",
              "      <td>1</td>\n",
              "      <td>1</td>\n",
              "      <td>1</td>\n",
              "      <td>1</td>\n",
              "      <td>1</td>\n",
              "      <td>1</td>\n",
              "      <td>3</td>\n",
              "    </tr>\n",
              "    <tr>\n",
              "      <th>3</th>\n",
              "      <td>DLAGU9</td>\n",
              "      <td>-102.29449</td>\n",
              "      <td>22.18435</td>\n",
              "      <td>6.0</td>\n",
              "      <td>5.0</td>\n",
              "      <td>327.000</td>\n",
              "      <td>686.0</td>\n",
              "      <td>478.6</td>\n",
              "      <td>1.1229</td>\n",
              "      <td>199.8790</td>\n",
              "      <td>...</td>\n",
              "      <td>1</td>\n",
              "      <td>1</td>\n",
              "      <td>2</td>\n",
              "      <td>1</td>\n",
              "      <td>1</td>\n",
              "      <td>1</td>\n",
              "      <td>1</td>\n",
              "      <td>1</td>\n",
              "      <td>1</td>\n",
              "      <td>1</td>\n",
              "    </tr>\n",
              "    <tr>\n",
              "      <th>4</th>\n",
              "      <td>DLBAJ107</td>\n",
              "      <td>-110.24480</td>\n",
              "      <td>23.45138</td>\n",
              "      <td>10.0</td>\n",
              "      <td>5.0</td>\n",
              "      <td>309.885</td>\n",
              "      <td>1841.0</td>\n",
              "      <td>1179.0</td>\n",
              "      <td>0.2343</td>\n",
              "      <td>476.9872</td>\n",
              "      <td>...</td>\n",
              "      <td>3</td>\n",
              "      <td>3</td>\n",
              "      <td>1</td>\n",
              "      <td>1</td>\n",
              "      <td>1</td>\n",
              "      <td>1</td>\n",
              "      <td>1</td>\n",
              "      <td>1</td>\n",
              "      <td>1</td>\n",
              "      <td>3</td>\n",
              "    </tr>\n",
              "  </tbody>\n",
              "</table>\n",
              "<p>5 rows × 34 columns</p>\n",
              "</div>\n",
              "      <button class=\"colab-df-convert\" onclick=\"convertToInteractive('df-c42a0039-e967-42f0-b83b-d340fa2e4c92')\"\n",
              "              title=\"Convert this dataframe to an interactive table.\"\n",
              "              style=\"display:none;\">\n",
              "        \n",
              "  <svg xmlns=\"http://www.w3.org/2000/svg\" height=\"24px\"viewBox=\"0 0 24 24\"\n",
              "       width=\"24px\">\n",
              "    <path d=\"M0 0h24v24H0V0z\" fill=\"none\"/>\n",
              "    <path d=\"M18.56 5.44l.94 2.06.94-2.06 2.06-.94-2.06-.94-.94-2.06-.94 2.06-2.06.94zm-11 1L8.5 8.5l.94-2.06 2.06-.94-2.06-.94L8.5 2.5l-.94 2.06-2.06.94zm10 10l.94 2.06.94-2.06 2.06-.94-2.06-.94-.94-2.06-.94 2.06-2.06.94z\"/><path d=\"M17.41 7.96l-1.37-1.37c-.4-.4-.92-.59-1.43-.59-.52 0-1.04.2-1.43.59L10.3 9.45l-7.72 7.72c-.78.78-.78 2.05 0 2.83L4 21.41c.39.39.9.59 1.41.59.51 0 1.02-.2 1.41-.59l7.78-7.78 2.81-2.81c.8-.78.8-2.07 0-2.86zM5.41 20L4 18.59l7.72-7.72 1.47 1.35L5.41 20z\"/>\n",
              "  </svg>\n",
              "      </button>\n",
              "      \n",
              "  <style>\n",
              "    .colab-df-container {\n",
              "      display:flex;\n",
              "      flex-wrap:wrap;\n",
              "      gap: 12px;\n",
              "    }\n",
              "\n",
              "    .colab-df-convert {\n",
              "      background-color: #E8F0FE;\n",
              "      border: none;\n",
              "      border-radius: 50%;\n",
              "      cursor: pointer;\n",
              "      display: none;\n",
              "      fill: #1967D2;\n",
              "      height: 32px;\n",
              "      padding: 0 0 0 0;\n",
              "      width: 32px;\n",
              "    }\n",
              "\n",
              "    .colab-df-convert:hover {\n",
              "      background-color: #E2EBFA;\n",
              "      box-shadow: 0px 1px 2px rgba(60, 64, 67, 0.3), 0px 1px 3px 1px rgba(60, 64, 67, 0.15);\n",
              "      fill: #174EA6;\n",
              "    }\n",
              "\n",
              "    [theme=dark] .colab-df-convert {\n",
              "      background-color: #3B4455;\n",
              "      fill: #D2E3FC;\n",
              "    }\n",
              "\n",
              "    [theme=dark] .colab-df-convert:hover {\n",
              "      background-color: #434B5C;\n",
              "      box-shadow: 0px 1px 3px 1px rgba(0, 0, 0, 0.15);\n",
              "      filter: drop-shadow(0px 1px 2px rgba(0, 0, 0, 0.3));\n",
              "      fill: #FFFFFF;\n",
              "    }\n",
              "  </style>\n",
              "\n",
              "      <script>\n",
              "        const buttonEl =\n",
              "          document.querySelector('#df-c42a0039-e967-42f0-b83b-d340fa2e4c92 button.colab-df-convert');\n",
              "        buttonEl.style.display =\n",
              "          google.colab.kernel.accessAllowed ? 'block' : 'none';\n",
              "\n",
              "        async function convertToInteractive(key) {\n",
              "          const element = document.querySelector('#df-c42a0039-e967-42f0-b83b-d340fa2e4c92');\n",
              "          const dataTable =\n",
              "            await google.colab.kernel.invokeFunction('convertToInteractive',\n",
              "                                                     [key], {});\n",
              "          if (!dataTable) return;\n",
              "\n",
              "          const docLinkHtml = 'Like what you see? Visit the ' +\n",
              "            '<a target=\"_blank\" href=https://colab.research.google.com/notebooks/data_table.ipynb>data table notebook</a>'\n",
              "            + ' to learn more about interactive tables.';\n",
              "          element.innerHTML = '';\n",
              "          dataTable['output_type'] = 'display_data';\n",
              "          await google.colab.output.renderOutput(dataTable, element);\n",
              "          const docLink = document.createElement('div');\n",
              "          docLink.innerHTML = docLinkHtml;\n",
              "          element.appendChild(docLink);\n",
              "        }\n",
              "      </script>\n",
              "    </div>\n",
              "  </div>\n",
              "  "
            ]
          },
          "metadata": {},
          "execution_count": 2
        }
      ]
    },
    {
      "cell_type": "markdown",
      "source": [
        "### **Selecciona tus variables independientes X y dependiente Y (semáforo)**"
      ],
      "metadata": {
        "id": "WfUyFMLMEYPL"
      }
    },
    {
      "cell_type": "markdown",
      "source": [
        "Separamos las columnas en base a su tipo de variable:"
      ],
      "metadata": {
        "id": "YnyK89__GRTC"
      }
    },
    {
      "cell_type": "code",
      "source": [
        "#definimos variables numéricas #16\n",
        "num_nom_geo = ['LONGITUD','LATITUD']\n",
        "num_nom_cal = ['ALC_mg/L','COND_mS/cm','SDT_M_mg/L','FLUO_mg/L','DUR_mg/L','CF_NMP/100_mL','NNO3_mg/L','AS_TOT_mg/L', 'CD_TOT_mg/L','CR_TOT_mg/L',\n",
        "               'HG_TOT_mg/L','PB_TOT_mg/L','MN_TOT_mg/L','FE_TOT_mg/L']\n",
        "#definimos variables categóricas #16\n",
        "cat_nom = ['ORGANISMO_DE_CUENCA','SUBTIPO']\n",
        "cat_nom_cal = ['CALIDAD_ALC','CALIDAD_COND','CALIDAD_SDT','CALIDAD_FLUO','CALIDAD_DUR', 'CALIDAD_CF','CALIDAD_NNO3','CALIDAD_AS',\n",
        "               'CALIDAD_CD','CALIDAD_CR','CALIDAD_HG','CALIDAD_PB','CALIDAD_MN','CALIDAD_FE']\n",
        "#VARIABLE CATEGORICA DE SALIDA Y  #1\n",
        "y_nom = ['SEMAFORO']"
      ],
      "metadata": {
        "id": "TFvLpcIkFpyp"
      },
      "execution_count": 35,
      "outputs": []
    },
    {
      "cell_type": "markdown",
      "source": [
        "Generamos los datos en Y, y dos tipos de X. Una donde se utilizaran los datos numericos de calidad, y otra donde se utilizaran los datos categoricos de calidad. Utilizar las variables numericas y categoricas de calidad, donde las categoricas son dependientes de las numericas, puede afectar la correlacion entre variables y eventualmente el modelo. "
      ],
      "metadata": {
        "id": "aOFVhu15GV5J"
      }
    },
    {
      "cell_type": "code",
      "source": [
        "Y = data_asb[['SEMAFORO']]\n",
        "\n",
        "X_num = data_asb[num_nom_geo + cat_nom + num_nom_cal]\n",
        "X_cat = data_asb[num_nom_geo + cat_nom + cat_nom_cal]"
      ],
      "metadata": {
        "id": "8--iK74iF8na"
      },
      "execution_count": 36,
      "outputs": []
    },
    {
      "cell_type": "markdown",
      "source": [
        "### **Cambia a one hot encoding el semáforo**"
      ],
      "metadata": {
        "id": "hNkPnaumH-YC"
      }
    },
    {
      "cell_type": "markdown",
      "source": [
        "Previamente en la parte 1 ya se cambiaron los valores del semaforo a 1:verde, 2:amarillo, 3:rojo"
      ],
      "metadata": {
        "id": "0GTAJeQ6qFg6"
      }
    },
    {
      "cell_type": "code",
      "source": [
        "#ohe = OneHotEncoder()\n",
        "#y_transformed = ohe.fit_transform(Y).toarray()\n",
        "#y_transformed = pd.DataFrame(y_transformed, columns = ['Verde','Amarillo','Rojo'])\n",
        "#y_transformed.head(5)"
      ],
      "metadata": {
        "id": "zze_cbLTOES6"
      },
      "execution_count": 37,
      "outputs": []
    },
    {
      "cell_type": "markdown",
      "source": [
        "### **Realiza un análisis general de las features importances a traves de decision trees o random forest.**"
      ],
      "metadata": {
        "id": "ERxnUhG1QCkS"
      }
    },
    {
      "cell_type": "markdown",
      "source": [
        "Definimos modelos a usar:"
      ],
      "metadata": {
        "id": "BVwjfJ0BVlK6"
      }
    },
    {
      "cell_type": "code",
      "source": [
        "def get_models():\n",
        "  modelos = list()\n",
        "  nombres = list()\n",
        "\n",
        "  modelos.append(DecisionTreeClassifier())\n",
        "  nombres.append('DTC')\n",
        "  \n",
        "  modelos.append(RandomForestClassifier())\n",
        "  nombres.append('RFC')\n",
        "  \n",
        "  return modelos, nombres"
      ],
      "metadata": {
        "id": "XlDaM4sJUhyi"
      },
      "execution_count": 38,
      "outputs": []
    },
    {
      "cell_type": "markdown",
      "source": [
        "Obtenemos los features importances con variables de calidad numericas:"
      ],
      "metadata": {
        "id": "8Ld2nABOVmdY"
      }
    },
    {
      "cell_type": "code",
      "source": [
        "modelos, nombres = get_models()\n",
        "\n",
        "for m in range(len(modelos)):\n",
        "  modelos[m].fit(X_num, np.ravel(Y))\n",
        "  importance = permutation_importance(modelos[m], X_num, Y, n_repeats=10)\n",
        "  print('\\033[1m' + nombres[m] + '\\033[0m')\n",
        "  for i,v in enumerate(importance['importances_mean']):\n",
        "    print(X_num.columns[i]+':', v.round(3))\n",
        "  f = plt.figure()\n",
        "  plt.bar(X_num.columns, importance['importances_mean'])\n",
        "  plt.xticks(rotation='vertical')\n",
        "  plt.show() "
      ],
      "metadata": {
        "colab": {
          "base_uri": "https://localhost:8080/",
          "height": 1000
        },
        "id": "B7ARZHo6UtQB",
        "outputId": "ac2efa2b-164e-4453-c50b-0e7bc87e9ced"
      },
      "execution_count": 39,
      "outputs": [
        {
          "output_type": "stream",
          "name": "stdout",
          "text": [
            "\u001b[1mDTC\u001b[0m\n",
            "LONGITUD: 0.0\n",
            "LATITUD: 0.008\n",
            "ORGANISMO_DE_CUENCA: 0.0\n",
            "SUBTIPO: 0.0\n",
            "ALC_mg/L: 0.031\n",
            "COND_mS/cm: 0.057\n",
            "SDT_M_mg/L: 0.011\n",
            "FLUO_mg/L: 0.197\n",
            "DUR_mg/L: 0.154\n",
            "CF_NMP/100_mL: 0.079\n",
            "NNO3_mg/L: 0.1\n",
            "AS_TOT_mg/L: 0.112\n",
            "CD_TOT_mg/L: 0.0\n",
            "CR_TOT_mg/L: 0.016\n",
            "HG_TOT_mg/L: 0.002\n",
            "PB_TOT_mg/L: 0.013\n",
            "MN_TOT_mg/L: 0.053\n",
            "FE_TOT_mg/L: 0.081\n"
          ]
        },
        {
          "output_type": "display_data",
          "data": {
            "text/plain": [
              "<Figure size 432x288 with 1 Axes>"
            ],
            "image/png": "[encoded data removed]"
          },
          "metadata": {
            "needs_background": "light"
          }
        },
        {
          "output_type": "stream",
          "name": "stdout",
          "text": [
            "\u001b[1mRFC\u001b[0m\n",
            "LONGITUD: 0.0\n",
            "LATITUD: 0.002\n",
            "ORGANISMO_DE_CUENCA: 0.0\n",
            "SUBTIPO: 0.0\n",
            "ALC_mg/L: 0.022\n",
            "COND_mS/cm: 0.011\n",
            "SDT_M_mg/L: 0.004\n",
            "FLUO_mg/L: 0.2\n",
            "DUR_mg/L: 0.138\n",
            "CF_NMP/100_mL: 0.075\n",
            "NNO3_mg/L: 0.094\n",
            "AS_TOT_mg/L: 0.117\n",
            "CD_TOT_mg/L: 0.0\n",
            "CR_TOT_mg/L: 0.009\n",
            "HG_TOT_mg/L: 0.0\n",
            "PB_TOT_mg/L: 0.006\n",
            "MN_TOT_mg/L: 0.052\n",
            "FE_TOT_mg/L: 0.076\n"
          ]
        },
        {
          "output_type": "display_data",
          "data": {
            "text/plain": [
              "<Figure size 432x288 with 1 Axes>"
            ],
            "image/png": "[encoded data removed]"
          },
          "metadata": {
            "needs_background": "light"
          }
        }
      ]
    },
    {
      "cell_type": "markdown",
      "source": [
        "Obtenemos los feature importance con las variables de calidad categoricas:"
      ],
      "metadata": {
        "id": "nzwiGjy0VqfY"
      }
    },
    {
      "cell_type": "code",
      "source": [
        "modelos, nombres = get_models()\n",
        "\n",
        "for m in range(len(modelos)):\n",
        "  modelos[m].fit(X_cat, np.ravel(Y))\n",
        "  importance = permutation_importance(modelos[m], X_cat, Y, n_repeats=10)\n",
        "  print('\\033[1m' + nombres[m] + '\\033[0m')\n",
        "  for i,v in enumerate(importance['importances_mean']):\n",
        "    print(X_cat.columns[i]+':', v.round(3))\n",
        "  f = plt.figure()\n",
        "  plt.bar(X_cat.columns, importance['importances_mean'])\n",
        "  plt.xticks(rotation='vertical')\n",
        "  plt.show() "
      ],
      "metadata": {
        "colab": {
          "base_uri": "https://localhost:8080/",
          "height": 1000
        },
        "id": "8o5qSU84VtcA",
        "outputId": "0c4f7e60-9aa5-4ed4-8727-5372461135b5"
      },
      "execution_count": 40,
      "outputs": [
        {
          "output_type": "stream",
          "name": "stdout",
          "text": [
            "\u001b[1mDTC\u001b[0m\n",
            "LONGITUD: 0.004\n",
            "LATITUD: 0.004\n",
            "ORGANISMO_DE_CUENCA: 0.0\n",
            "SUBTIPO: 0.0\n",
            "CALIDAD_ALC: 0.029\n",
            "CALIDAD_COND: 0.058\n",
            "CALIDAD_SDT: 0.001\n",
            "CALIDAD_FLUO: 0.205\n",
            "CALIDAD_DUR: 0.144\n",
            "CALIDAD_CF: 0.08\n",
            "CALIDAD_NNO3: 0.098\n",
            "CALIDAD_AS: 0.114\n",
            "CALIDAD_CD: 0.0\n",
            "CALIDAD_CR: 0.02\n",
            "CALIDAD_HG: 0.0\n",
            "CALIDAD_PB: 0.012\n",
            "CALIDAD_MN: 0.055\n",
            "CALIDAD_FE: 0.076\n"
          ]
        },
        {
          "output_type": "display_data",
          "data": {
            "text/plain": [
              "<Figure size 432x288 with 1 Axes>"
            ],
            "image/png": "[encoded data removed]"
          },
          "metadata": {
            "needs_background": "light"
          }
        },
        {
          "output_type": "stream",
          "name": "stdout",
          "text": [
            "\u001b[1mRFC\u001b[0m\n",
            "LONGITUD: 0.0\n",
            "LATITUD: 0.004\n",
            "ORGANISMO_DE_CUENCA: 0.0\n",
            "SUBTIPO: 0.0\n",
            "CALIDAD_ALC: 0.023\n",
            "CALIDAD_COND: 0.011\n",
            "CALIDAD_SDT: 0.01\n",
            "CALIDAD_FLUO: 0.198\n",
            "CALIDAD_DUR: 0.139\n",
            "CALIDAD_CF: 0.081\n",
            "CALIDAD_NNO3: 0.098\n",
            "CALIDAD_AS: 0.113\n",
            "CALIDAD_CD: 0.0\n",
            "CALIDAD_CR: 0.015\n",
            "CALIDAD_HG: 0.0\n",
            "CALIDAD_PB: 0.01\n",
            "CALIDAD_MN: 0.054\n",
            "CALIDAD_FE: 0.074\n"
          ]
        },
        {
          "output_type": "display_data",
          "data": {
            "text/plain": [
              "<Figure size 432x288 with 1 Axes>"
            ],
            "image/png": "[encoded data removed]"
          },
          "metadata": {
            "needs_background": "light"
          }
        }
      ]
    },
    {
      "cell_type": "markdown",
      "source": [
        "Y donde observamos que las variables de ubicacion geografica, asi como organismo de cuenca y subtipo no tienen ninguna importancia significativa. Mientras que las de calidad, con algunas excepciones como las de CD y HG, son las que tienen mayor importancia. "
      ],
      "metadata": {
        "id": "vwah94seV9yA"
      }
    },
    {
      "cell_type": "markdown",
      "source": [
        "### **Selecciona las variables de mayor importancia.**"
      ],
      "metadata": {
        "id": "3T7Px_exWVzZ"
      }
    },
    {
      "cell_type": "markdown",
      "source": [
        "Removemos de nuestras listas de columnas las variables que no tienen feature importance"
      ],
      "metadata": {
        "id": "oi55ETsSXVEZ"
      }
    },
    {
      "cell_type": "code",
      "source": [
        "num_nom_cal.remove('CD_TOT_mg/L')\n",
        "num_nom_cal.remove('HG_TOT_mg/L')\n",
        "cat_nom_cal.remove('CALIDAD_CD')\n",
        "cat_nom_cal.remove('CALIDAD_HG')"
      ],
      "metadata": {
        "id": "izjGLNKWWa-Q"
      },
      "execution_count": 9,
      "outputs": []
    },
    {
      "cell_type": "markdown",
      "source": [
        "Observamos con cuales nos quedamos:"
      ],
      "metadata": {
        "id": "zQ9dpBw2XZI5"
      }
    },
    {
      "cell_type": "code",
      "source": [
        "print(num_nom_cal)\n",
        "print(cat_nom_cal)"
      ],
      "metadata": {
        "colab": {
          "base_uri": "https://localhost:8080/"
        },
        "id": "rSkEIhPOXJw5",
        "outputId": "3f2e2bbb-db7c-4f0e-e492-7708fee4e09e"
      },
      "execution_count": 10,
      "outputs": [
        {
          "output_type": "stream",
          "name": "stdout",
          "text": [
            "['ALC_mg/L', 'COND_mS/cm', 'SDT_M_mg/L', 'FLUO_mg/L', 'DUR_mg/L', 'CF_NMP/100_mL', 'NNO3_mg/L', 'AS_TOT_mg/L', 'CR_TOT_mg/L', 'PB_TOT_mg/L', 'MN_TOT_mg/L', 'FE_TOT_mg/L']\n",
            "['CALIDAD_ALC', 'CALIDAD_COND', 'CALIDAD_SDT', 'CALIDAD_FLUO', 'CALIDAD_DUR', 'CALIDAD_CF', 'CALIDAD_NNO3', 'CALIDAD_AS', 'CALIDAD_CR', 'CALIDAD_PB', 'CALIDAD_MN', 'CALIDAD_FE']\n"
          ]
        }
      ]
    },
    {
      "cell_type": "markdown",
      "source": [
        "Generamos nuevas dataframes con las columnas a utilizar:"
      ],
      "metadata": {
        "id": "H_dSRj1IXbKh"
      }
    },
    {
      "cell_type": "code",
      "source": [
        "X_num = data_asb[num_nom_cal]\n",
        "X_cat = data_asb[cat_nom_cal]"
      ],
      "metadata": {
        "id": "ERDsHAoYXHVT"
      },
      "execution_count": 11,
      "outputs": []
    },
    {
      "cell_type": "markdown",
      "source": [
        "### **Realiza tu clasificador, recuerda dividir los datos de manera balanceada (auxiliate de train test split)**"
      ],
      "metadata": {
        "id": "kRewZgfGXieh"
      }
    },
    {
      "cell_type": "markdown",
      "source": [
        "* Comenzamos con variables numericas:"
      ],
      "metadata": {
        "id": "vcGPXBtNX5j4"
      }
    },
    {
      "cell_type": "code",
      "source": [
        "score_list = list()"
      ],
      "metadata": {
        "id": "C4CedaQP28FE"
      },
      "execution_count": 12,
      "outputs": []
    },
    {
      "cell_type": "code",
      "source": [
        "def get_scores(yreal, ypred, model, aver='micro'):\n",
        "  temp_list = list()\n",
        "\n",
        "  temp_list.append(model)\n",
        "  accu = accuracy_score(yreal,ypred)\n",
        "  f1 = f1_score(yreal,ypred,average=aver)\n",
        "  precision = precision_score(yreal,ypred,average=aver)\n",
        "  recall = recall_score(yreal,ypred,average=aver)\n",
        "\n",
        "  temp_list.append(accu)\n",
        "  temp_list.append(f1)\n",
        "  temp_list.append(precision)\n",
        "  temp_list.append(recall)\n",
        "  print('Accuracy:', accu)\n",
        "  print('f1_score:', f1)\n",
        "  print('Precision:', precision)\n",
        "  print('Recall:', recall)\n",
        "\n",
        "  return temp_list"
      ],
      "metadata": {
        "id": "pSEb0oDB3dqB"
      },
      "execution_count": 13,
      "outputs": []
    },
    {
      "cell_type": "markdown",
      "source": [
        "Sabemos de la parte 1 que las clases de salida tienen diferentes proporciones, por lo que utilizamos el parametro stratify:"
      ],
      "metadata": {
        "id": "2S_nAgTQYPey"
      }
    },
    {
      "cell_type": "code",
      "source": [
        "Xtv_num, Xtest_num, ytv_num, ytest_num = train_test_split(X_num, Y, test_size=0.15, stratify=Y, random_state=0) \n",
        "print(Xtv_num.shape, ': dimensión de datos de entrada de entrenamiento y validación')\n",
        "print(Xtest_num.shape, ': dimensión de datos de entrada de prueba')  \n",
        "print(ytv_num.shape, ': dimensión de variable de salida para entrenamiento y validación')\n",
        "print(ytest_num.shape, ': dimensión de variable de salida para prueba')"
      ],
      "metadata": {
        "colab": {
          "base_uri": "https://localhost:8080/"
        },
        "id": "JUpssKqvXuUZ",
        "outputId": "3be0c781-bbe3-4ba2-d7a9-211a8b25bec8"
      },
      "execution_count": 14,
      "outputs": [
        {
          "output_type": "stream",
          "name": "stdout",
          "text": [
            "(895, 12) : dimensión de datos de entrada de entrenamiento y validación\n",
            "(159, 12) : dimensión de datos de entrada de prueba\n",
            "(895, 1) : dimensión de variable de salida para entrenamiento y validación\n",
            "(159, 1) : dimensión de variable de salida para prueba\n"
          ]
        }
      ]
    },
    {
      "cell_type": "markdown",
      "source": [
        "* Comenzamos con Decision Tree"
      ],
      "metadata": {
        "id": "cHGl6mpztjPD"
      }
    },
    {
      "cell_type": "code",
      "source": [
        "#obtenemos el modelo y los parametros de cross validation\n",
        "modeloVC = DecisionTreeClassifier()\n",
        "cvVC = RepeatedStratifiedKFold(n_splits=5, n_repeats=3, random_state=1)\n",
        "\n",
        "delta_max_depth = np.linspace(1, 20, 20)\n",
        "\n",
        "train_scores, valid_scores = validation_curve(modeloVC, \n",
        "                                              Xtv_num, \n",
        "                                              np.ravel(ytv_num), \n",
        "                                              param_name=\"max_depth\", \n",
        "                                              param_range=delta_max_depth,\n",
        "                                              cv=cvVC,\n",
        "                                              scoring='accuracy')\n",
        "\n",
        "train_mean = np.mean(train_scores, axis=1)\n",
        "train_std = np.std(train_scores, axis=1)\n",
        "valid_mean = np.mean(valid_scores, axis=1)\n",
        "valid_std = np.std(valid_scores, axis=1)\n",
        "\n",
        "# Curva de entrenamiento con la métrica de exactitud (accuracy):\n",
        "plt.plot(delta_max_depth, train_mean, color='blue', marker='o', markersize=5, label='Training')\n",
        "\n",
        "# Curva de validación:\n",
        "plt.plot(delta_max_depth, valid_mean, color='red', marker='o', markersize=5, label='Validation')\n",
        "\n",
        "plt.title('Función validation_curve() para Decision Tree')\n",
        "plt.xlabel('Valores del parámetro max_depth')\n",
        "plt.ylabel('Accuracy')\n",
        "plt.grid(b=True)\n",
        "plt.legend(loc='lower right')\n",
        "plt.show()"
      ],
      "metadata": {
        "colab": {
          "base_uri": "https://localhost:8080/",
          "height": 297
        },
        "id": "1tjt7e8Hrp7K",
        "outputId": "f3401ceb-acec-42b8-d415-6d57b8a64b0f"
      },
      "execution_count": 15,
      "outputs": [
        {
          "output_type": "display_data",
          "data": {
            "text/plain": [
              "<Figure size 432x288 with 1 Axes>"
            ],
            "image/png": "[encoded data removed]"
          },
          "metadata": {
            "needs_background": "light"
          }
        }
      ]
    },
    {
      "cell_type": "code",
      "source": [
        "#obtenemos el modelo y los parámetros\n",
        "modeloDTC_iter = DecisionTreeClassifier()\n",
        "cvSVM = RepeatedStratifiedKFold(n_splits=5, n_repeats=3, random_state=1)\n",
        "\n",
        "dicc_grid = [{'ccp_alpha':[0.0001,0.01,0.1,1.0,10.,100],'criterion':['gini','entropy'],\n",
        "             'max_depth':[1,2,3,4,5,6,7,8,9,10],'min_samples_split':[2,3,4,5,6],'class_weight':['balanced', None]}]\n",
        "\n",
        "grid1 = GridSearchCV(estimator=modeloDTC_iter, \n",
        "                    param_grid=dicc_grid, \n",
        "                    cv=cvSVM, \n",
        "                    scoring='accuracy',\n",
        "                    n_jobs=-1,\n",
        "                    error_score='raise')"
      ],
      "metadata": {
        "id": "Dzgy-_rBZU_5"
      },
      "execution_count": 16,
      "outputs": []
    },
    {
      "cell_type": "code",
      "source": [
        "grid1.fit(Xtv_num, np.ravel(ytv_num))\n",
        "\n",
        "print('Mejor valor de accuracy obtenido con la mejor combinación:', grid1.best_score_)\n",
        "print('Mejor combinación de valores encontrados de los hiperparámetros:', grid1.best_params_)\n",
        "print('Métrica utilizada:', grid1.scoring)\n",
        "print('Mejor Index:',grid1.best_index_)"
      ],
      "metadata": {
        "colab": {
          "base_uri": "https://localhost:8080/"
        },
        "id": "lAMZluuSbI6J",
        "outputId": "28bfd7d1-d9c9-4473-9ae6-88e8bf9541a1"
      },
      "execution_count": 17,
      "outputs": [
        {
          "output_type": "stream",
          "name": "stdout",
          "text": [
            "Mejor valor de accuracy obtenido con la mejor combinación: 0.9575418994413406\n",
            "Mejor combinación de valores encontrados de los hiperparámetros: {'ccp_alpha': 0.0001, 'class_weight': None, 'criterion': 'gini', 'max_depth': 10, 'min_samples_split': 4}\n",
            "Métrica utilizada: accuracy\n",
            "Mejor Index: 147\n"
          ]
        }
      ]
    },
    {
      "cell_type": "code",
      "source": [
        "model_DTC_num = DecisionTreeClassifier(**grid1.best_params_)\n",
        "\n",
        "model_DTC_num.fit(Xtv_num, ytv_num)\n",
        "#realizamos las predicciones\n",
        "yhat_num = model_DTC_num.predict(Xtest_num)\n",
        "\n",
        "score_list.append(get_scores(ytest_num,yhat_num, 'DTC num'))"
      ],
      "metadata": {
        "colab": {
          "base_uri": "https://localhost:8080/"
        },
        "id": "TRxoLMDLewVL",
        "outputId": "717f05c9-d379-4769-833f-304f62b52255"
      },
      "execution_count": 18,
      "outputs": [
        {
          "output_type": "stream",
          "name": "stdout",
          "text": [
            "Accuracy: 0.9622641509433962\n",
            "f1_score: 0.9622641509433962\n",
            "Precision: 0.9622641509433962\n",
            "Recall: 0.9622641509433962\n"
          ]
        }
      ]
    },
    {
      "cell_type": "markdown",
      "source": [
        "* Seguimos con Random Forest"
      ],
      "metadata": {
        "id": "8r1ey7SptstR"
      }
    },
    {
      "cell_type": "code",
      "source": [
        "#obtenemos el modelo y los parametros de cross validation\n",
        "modeloVC = RandomForestClassifier()\n",
        "cvVC = RepeatedStratifiedKFold(n_splits=5, n_repeats=3, random_state=1)\n",
        "\n",
        "delta_max_depth = np.linspace(1, 20, 20)\n",
        "\n",
        "train_scores, valid_scores = validation_curve(modeloVC, \n",
        "                                              Xtv_num, \n",
        "                                              np.ravel(ytv_num), \n",
        "                                              param_name=\"max_depth\", \n",
        "                                              param_range=delta_max_depth,\n",
        "                                              cv=cvVC,\n",
        "                                              scoring='accuracy')\n",
        "\n",
        "train_mean = np.mean(train_scores, axis=1)\n",
        "train_std = np.std(train_scores, axis=1)\n",
        "valid_mean = np.mean(valid_scores, axis=1)\n",
        "valid_std = np.std(valid_scores, axis=1)\n",
        "\n",
        "# Curva de entrenamiento con la métrica de exactitud (accuracy):\n",
        "plt.plot(delta_max_depth, train_mean, color='blue', marker='o', markersize=5, label='Training')\n",
        "\n",
        "# Curva de validación:\n",
        "plt.plot(delta_max_depth, valid_mean, color='red', marker='o', markersize=5, label='Validation')\n",
        "\n",
        "plt.title('Función validation_curve() para Random Forest')\n",
        "plt.xlabel('Valores del parámetro max_depth')\n",
        "plt.ylabel('Accuracy')\n",
        "plt.grid(b=True)\n",
        "plt.legend(loc='lower right')\n",
        "plt.show()"
      ],
      "metadata": {
        "colab": {
          "base_uri": "https://localhost:8080/",
          "height": 297
        },
        "id": "TL5YbONztv5y",
        "outputId": "83582c88-97d3-4d13-ae2f-3d2e58631562"
      },
      "execution_count": 19,
      "outputs": [
        {
          "output_type": "display_data",
          "data": {
            "text/plain": [
              "<Figure size 432x288 with 1 Axes>"
            ],
            "image/png": "[encoded data removed]"
          },
          "metadata": {
            "needs_background": "light"
          }
        }
      ]
    },
    {
      "cell_type": "code",
      "source": [
        "#obtenemos el modelo y los parámetros\n",
        "modeloRFC_iter = RandomForestClassifier()\n",
        "cvSVM = RepeatedStratifiedKFold(n_splits=5, n_repeats=3, random_state=1)\n",
        "\n",
        "dicc_grid = [{'ccp_alpha':[0.0001,0.01,0.1,1.0,10.,100],'criterion':['gini','entropy'],\n",
        "             'max_depth':[4,5,6,7,8,9,10],'min_samples_split':[2,3,4,5,6],'class_weight':['balanced', None]}]\n",
        "\n",
        "grid2 = GridSearchCV(estimator=modeloDTC_iter, \n",
        "                    param_grid=dicc_grid, \n",
        "                    cv=cvSVM, \n",
        "                    scoring='accuracy',\n",
        "                    n_jobs=-1,\n",
        "                    error_score='raise')"
      ],
      "metadata": {
        "id": "Rg45piMZuQnq"
      },
      "execution_count": 20,
      "outputs": []
    },
    {
      "cell_type": "code",
      "source": [
        "grid2.fit(Xtv_num, np.ravel(ytv_num))\n",
        "\n",
        "print('Mejor valor de accuracy obtenido con la mejor combinación:', grid2.best_score_)\n",
        "print('Mejor combinación de valores encontrados de los hiperparámetros:', grid2.best_params_)\n",
        "print('Métrica utilizada:', grid2.scoring)\n",
        "print('Mejor Index:',grid2.best_index_)"
      ],
      "metadata": {
        "colab": {
          "base_uri": "https://localhost:8080/"
        },
        "id": "T3L6TlB4uUQx",
        "outputId": "c609c045-fe78-4fd7-b744-caaf87fd8f57"
      },
      "execution_count": 21,
      "outputs": [
        {
          "output_type": "stream",
          "name": "stdout",
          "text": [
            "Mejor valor de accuracy obtenido con la mejor combinación: 0.955679702048417\n",
            "Mejor combinación de valores encontrados de los hiperparámetros: {'ccp_alpha': 0.0001, 'class_weight': None, 'criterion': 'gini', 'max_depth': 10, 'min_samples_split': 4}\n",
            "Métrica utilizada: accuracy\n",
            "Mejor Index: 102\n"
          ]
        }
      ]
    },
    {
      "cell_type": "code",
      "source": [
        "model_RFC_num = RandomForestClassifier(**grid2.best_params_)\n",
        "\n",
        "model_RFC_num.fit(Xtv_num, np.ravel(ytv_num))\n",
        "#realizamos las predicciones\n",
        "yhat_num = model_RFC_num.predict(Xtest_num)\n",
        "\n",
        "score_list.append(get_scores(ytest_num,yhat_num, 'RFC num'))"
      ],
      "metadata": {
        "colab": {
          "base_uri": "https://localhost:8080/"
        },
        "id": "mErTEe25uYwi",
        "outputId": "213d46db-9bb1-4ada-bcea-4fb3f25f8559"
      },
      "execution_count": 22,
      "outputs": [
        {
          "output_type": "stream",
          "name": "stdout",
          "text": [
            "Accuracy: 0.9622641509433962\n",
            "f1_score: 0.9622641509433962\n",
            "Precision: 0.9622641509433962\n",
            "Recall: 0.9622641509433962\n"
          ]
        }
      ]
    },
    {
      "cell_type": "markdown",
      "source": [
        "* Comenzamos con variables categoricas:"
      ],
      "metadata": {
        "id": "W8LVZBxXu4AT"
      }
    },
    {
      "cell_type": "code",
      "source": [
        "Xtv_cat, Xtest_cat, ytv_cat, ytest_cat = train_test_split(X_cat, Y, test_size=0.15, stratify=Y, random_state=0) \n",
        "print(Xtv_cat.shape, ': dimensión de datos de entrada de entrenamiento y validación')\n",
        "print(Xtest_cat.shape, ': dimensión de datos de entrada de prueba')  \n",
        "print(ytv_cat.shape, ': dimensión de variable de salida para entrenamiento y validación')\n",
        "print(ytest_cat.shape, ': dimensión de variable de salida para prueba')"
      ],
      "metadata": {
        "colab": {
          "base_uri": "https://localhost:8080/"
        },
        "outputId": "dd160a5c-b36d-40f6-91e3-f645884666f9",
        "id": "ACR1msWou2Fr"
      },
      "execution_count": 23,
      "outputs": [
        {
          "output_type": "stream",
          "name": "stdout",
          "text": [
            "(895, 12) : dimensión de datos de entrada de entrenamiento y validación\n",
            "(159, 12) : dimensión de datos de entrada de prueba\n",
            "(895, 1) : dimensión de variable de salida para entrenamiento y validación\n",
            "(159, 1) : dimensión de variable de salida para prueba\n"
          ]
        }
      ]
    },
    {
      "cell_type": "markdown",
      "source": [
        "* Comenzamos con Decision Tree"
      ],
      "metadata": {
        "id": "6LSkBn4eu2Ft"
      }
    },
    {
      "cell_type": "code",
      "source": [
        "#obtenemos el modelo y los parametros de cross validation\n",
        "modeloVC = DecisionTreeClassifier()\n",
        "cvVC = RepeatedStratifiedKFold(n_splits=5, n_repeats=3, random_state=1)\n",
        "\n",
        "delta_max_depth = np.linspace(1, 20, 20)\n",
        "\n",
        "train_scores, valid_scores = validation_curve(modeloVC, \n",
        "                                              Xtv_cat, \n",
        "                                              np.ravel(ytv_cat), \n",
        "                                              param_name=\"max_depth\", \n",
        "                                              param_range=delta_max_depth,\n",
        "                                              cv=cvVC,\n",
        "                                              scoring='accuracy')\n",
        "\n",
        "train_mean = np.mean(train_scores, axis=1)\n",
        "train_std = np.std(train_scores, axis=1)\n",
        "valid_mean = np.mean(valid_scores, axis=1)\n",
        "valid_std = np.std(valid_scores, axis=1)\n",
        "\n",
        "# Curva de entrenamiento con la métrica de exactitud (accuracy):\n",
        "plt.plot(delta_max_depth, train_mean, color='blue', marker='o', markersize=5, label='Training')\n",
        "\n",
        "# Curva de validación:\n",
        "plt.plot(delta_max_depth, valid_mean, color='red', marker='o', markersize=5, label='Validation')\n",
        "\n",
        "plt.title('Función validation_curve() para Decision Tree')\n",
        "plt.xlabel('Valores del parámetro max_depth')\n",
        "plt.ylabel('Accuracy')\n",
        "plt.grid(b=True)\n",
        "plt.legend(loc='lower right')\n",
        "plt.show()"
      ],
      "metadata": {
        "outputId": "57d8fa05-87d6-4d63-a43c-308d7fc180fc",
        "colab": {
          "base_uri": "https://localhost:8080/",
          "height": 297
        },
        "id": "2PoJS1wRu2Ft"
      },
      "execution_count": 24,
      "outputs": [
        {
          "output_type": "display_data",
          "data": {
            "text/plain": [
              "<Figure size 432x288 with 1 Axes>"
            ],
            "image/png": "[encoded data removed]"
          },
          "metadata": {
            "needs_background": "light"
          }
        }
      ]
    },
    {
      "cell_type": "code",
      "source": [
        "#obtenemos el modelo y los parámetros\n",
        "modeloDTC_iter = DecisionTreeClassifier()\n",
        "cvSVM = RepeatedStratifiedKFold(n_splits=5, n_repeats=3, random_state=1)\n",
        "\n",
        "dicc_grid = [{'ccp_alpha':[0.0001,0.01,0.1,1.0,10.,100],'criterion':['gini','entropy'],\n",
        "             'max_depth':[1,2,3,4,5,6,7,8,9,10],'min_samples_split':[2,3,4,5,6],'class_weight':['balanced', None]}]\n",
        "\n",
        "grid3 = GridSearchCV(estimator=modeloDTC_iter, \n",
        "                    param_grid=dicc_grid, \n",
        "                    cv=cvSVM, \n",
        "                    scoring='accuracy',\n",
        "                    n_jobs=-1,\n",
        "                    error_score='raise')"
      ],
      "metadata": {
        "id": "BRNMSWvPu2Ft"
      },
      "execution_count": 25,
      "outputs": []
    },
    {
      "cell_type": "code",
      "source": [
        "grid3.fit(Xtv_cat, np.ravel(ytv_cat))\n",
        "\n",
        "print('Mejor valor de accuracy obtenido con la mejor combinación:', grid3.best_score_)\n",
        "print('Mejor combinación de valores encontrados de los hiperparámetros:', grid3.best_params_)\n",
        "print('Métrica utilizada:', grid3.scoring)\n",
        "print('Mejor Index:',grid3.best_index_)"
      ],
      "metadata": {
        "colab": {
          "base_uri": "https://localhost:8080/"
        },
        "outputId": "86b6c2dc-1cc3-4c99-f688-468d8678e642",
        "id": "0PTPjamSu2Fu"
      },
      "execution_count": 26,
      "outputs": [
        {
          "output_type": "stream",
          "name": "stdout",
          "text": [
            "Mejor valor de accuracy obtenido con la mejor combinación: 0.9810055865921787\n",
            "Mejor combinación de valores encontrados de los hiperparámetros: {'ccp_alpha': 0.0001, 'class_weight': None, 'criterion': 'gini', 'max_depth': 10, 'min_samples_split': 4}\n",
            "Métrica utilizada: accuracy\n",
            "Mejor Index: 147\n"
          ]
        }
      ]
    },
    {
      "cell_type": "code",
      "source": [
        "model_DTC_cat = DecisionTreeClassifier(**grid3.best_params_)\n",
        "\n",
        "model_DTC_cat.fit(Xtv_cat, np.ravel(ytv_cat))\n",
        "#realizamos las predicciones\n",
        "yhat_num = model_DTC_cat.predict(Xtest_cat)\n",
        "\n",
        "score_list.append(get_scores(ytest_num,yhat_num, 'DTC cat'))"
      ],
      "metadata": {
        "colab": {
          "base_uri": "https://localhost:8080/"
        },
        "outputId": "0c53f077-379f-48d5-ee67-c982574e1306",
        "id": "UzqKtJ58u2Fu"
      },
      "execution_count": 27,
      "outputs": [
        {
          "output_type": "stream",
          "name": "stdout",
          "text": [
            "Accuracy: 1.0\n",
            "f1_score: 1.0\n",
            "Precision: 1.0\n",
            "Recall: 1.0\n"
          ]
        }
      ]
    },
    {
      "cell_type": "markdown",
      "source": [
        "* Seguimos con Random Forest"
      ],
      "metadata": {
        "id": "sAMYDTx3u2Fu"
      }
    },
    {
      "cell_type": "code",
      "source": [
        "#obtenemos el modelo y los parametros de cross validation\n",
        "modeloVC = RandomForestClassifier()\n",
        "cvVC = RepeatedStratifiedKFold(n_splits=5, n_repeats=3, random_state=1)\n",
        "\n",
        "delta_max_depth = np.linspace(1, 20, 20)\n",
        "\n",
        "train_scores, valid_scores = validation_curve(modeloVC, \n",
        "                                              Xtv_cat, \n",
        "                                              np.ravel(ytv_cat), \n",
        "                                              param_name=\"max_depth\", \n",
        "                                              param_range=delta_max_depth,\n",
        "                                              cv=cvVC,\n",
        "                                              scoring='accuracy')\n",
        "\n",
        "train_mean = np.mean(train_scores, axis=1)\n",
        "train_std = np.std(train_scores, axis=1)\n",
        "valid_mean = np.mean(valid_scores, axis=1)\n",
        "valid_std = np.std(valid_scores, axis=1)\n",
        "\n",
        "# Curva de entrenamiento con la métrica de exactitud (accuracy):\n",
        "plt.plot(delta_max_depth, train_mean, color='blue', marker='o', markersize=5, label='Training')\n",
        "\n",
        "# Curva de validación:\n",
        "plt.plot(delta_max_depth, valid_mean, color='red', marker='o', markersize=5, label='Validation')\n",
        "\n",
        "plt.title('Función validation_curve() para Random Forest')\n",
        "plt.xlabel('Valores del parámetro max_depth')\n",
        "plt.ylabel('Accuracy')\n",
        "plt.grid(b=True)\n",
        "plt.legend(loc='lower right')\n",
        "plt.show()"
      ],
      "metadata": {
        "outputId": "f77c3aa4-1f1d-447e-fc2f-b3f04a8677e8",
        "colab": {
          "base_uri": "https://localhost:8080/",
          "height": 297
        },
        "id": "DKssLygru2Fu"
      },
      "execution_count": 28,
      "outputs": [
        {
          "output_type": "display_data",
          "data": {
            "text/plain": [
              "<Figure size 432x288 with 1 Axes>"
            ],
            "image/png": "[encoded data removed]"
          },
          "metadata": {
            "needs_background": "light"
          }
        }
      ]
    },
    {
      "cell_type": "code",
      "source": [
        "#obtenemos el modelo y los parámetros\n",
        "modeloRFC_iter = RandomForestClassifier()\n",
        "cvSVM = RepeatedStratifiedKFold(n_splits=5, n_repeats=3, random_state=1)\n",
        "\n",
        "dicc_grid = [{'ccp_alpha':[0.0001,0.01,0.1,1.0,10.,100],'criterion':['gini','entropy'],\n",
        "             'max_depth':[4,5,6,7,8,9,10],'min_samples_split':[2,3,4,5,6],'class_weight':['balanced', None]}]\n",
        "\n",
        "grid4 = GridSearchCV(estimator=modeloDTC_iter, \n",
        "                    param_grid=dicc_grid, \n",
        "                    cv=cvSVM, \n",
        "                    scoring='accuracy',\n",
        "                    n_jobs=-1,\n",
        "                    error_score='raise')"
      ],
      "metadata": {
        "id": "cCbk3geDu2Fv"
      },
      "execution_count": 29,
      "outputs": []
    },
    {
      "cell_type": "code",
      "source": [
        "grid4.fit(Xtv_cat, np.ravel(ytv_cat))\n",
        "\n",
        "print('Mejor valor de accuracy obtenido con la mejor combinación:', grid4.best_score_)\n",
        "print('Mejor combinación de valores encontrados de los hiperparámetros:', grid4.best_params_)\n",
        "print('Métrica utilizada:', grid4.scoring)\n",
        "print('Mejor Index:',grid4.best_index_)"
      ],
      "metadata": {
        "colab": {
          "base_uri": "https://localhost:8080/"
        },
        "id": "vVhJNyInu2Fv",
        "outputId": "a8852abe-bdc4-4654-c18f-dba5736e5b92"
      },
      "execution_count": 30,
      "outputs": [
        {
          "output_type": "stream",
          "name": "stdout",
          "text": [
            "Mejor valor de accuracy obtenido con la mejor combinación: 0.9810055865921787\n",
            "Mejor combinación de valores encontrados de los hiperparámetros: {'ccp_alpha': 0.0001, 'class_weight': None, 'criterion': 'entropy', 'max_depth': 10, 'min_samples_split': 6}\n",
            "Métrica utilizada: accuracy\n",
            "Mejor Index: 139\n"
          ]
        }
      ]
    },
    {
      "cell_type": "code",
      "source": [
        "model_RFC_cat = RandomForestClassifier(**grid4.best_params_)\n",
        "\n",
        "model_RFC_cat.fit(Xtv_cat, np.ravel(ytv_cat))\n",
        "#realizamos las predicciones\n",
        "yhat_num = model_RFC_cat.predict(Xtest_cat)\n",
        "\n",
        "score_list.append(get_scores(ytest_num,yhat_num, 'RFC cat'))"
      ],
      "metadata": {
        "colab": {
          "base_uri": "https://localhost:8080/"
        },
        "id": "m9Kfr8z5u2Fv",
        "outputId": "79e82ebf-1305-4bd9-b4d0-b9604fc71775"
      },
      "execution_count": 31,
      "outputs": [
        {
          "output_type": "stream",
          "name": "stdout",
          "text": [
            "Accuracy: 1.0\n",
            "f1_score: 1.0\n",
            "Precision: 1.0\n",
            "Recall: 1.0\n"
          ]
        }
      ]
    },
    {
      "cell_type": "markdown",
      "source": [
        "### **Explora que clasificador es el más optimo, ejemplo:**"
      ],
      "metadata": {
        "id": "GPPW6lSM5D7p"
      }
    },
    {
      "cell_type": "markdown",
      "source": [
        "Donde en orden son accuracy, f1-score, precision y recall:"
      ],
      "metadata": {
        "id": "pesmZ2qS5Mtg"
      }
    },
    {
      "cell_type": "code",
      "source": [
        "score_list"
      ],
      "metadata": {
        "colab": {
          "base_uri": "https://localhost:8080/"
        },
        "id": "2-cf2E-Z5JdQ",
        "outputId": "69d2b0ae-b5d9-4c17-e400-2e321a31d483"
      },
      "execution_count": 32,
      "outputs": [
        {
          "output_type": "execute_result",
          "data": {
            "text/plain": [
              "[['DTC num',\n",
              "  0.9622641509433962,\n",
              "  0.9622641509433962,\n",
              "  0.9622641509433962,\n",
              "  0.9622641509433962],\n",
              " ['RFC num',\n",
              "  0.9622641509433962,\n",
              "  0.9622641509433962,\n",
              "  0.9622641509433962,\n",
              "  0.9622641509433962],\n",
              " ['DTC cat', 1.0, 1.0, 1.0, 1.0],\n",
              " ['RFC cat', 1.0, 1.0, 1.0, 1.0]]"
            ]
          },
          "metadata": {},
          "execution_count": 32
        }
      ]
    }
  ]
}