{
  "nbformat": 4,
  "nbformat_minor": 0,
  "metadata": {
    "colab": {
      "name": "assignment01.ipynb",
      "provenance": [],
      "include_colab_link": true
    },
    "kernelspec": {
      "name": "python3",
      "display_name": "Python 3"
    },
    "language_info": {
      "name": "python"
    }
  },
  "cells": [
    {
      "cell_type": "markdown",
      "metadata": {
        "id": "view-in-github",
        "colab_type": "text"
      },
      "source": [
        "<a href=\"https://colab.research.google.com/github/PosgradoMNA/actividades-del-projecto-equipo-52/blob/main/Reto%20-%20Entrega%202_prueba1.ipynb\" target=\"_parent\"><img src=\"https://colab.research.google.com/assets/colab-badge.svg\" alt=\"Open In Colab\"/></a>"
      ]
    },
    {
      "cell_type": "markdown",
      "source": [
        "> # **Reto - Entrega 2**\n",
        ">### **Maestría en Inteligencia Artificial Aplicada**\n",
        ">### **Curso: Inteligencia Artificial y Aprendizaje Automático**\n",
        ">### **Tecnológico de Monterrey**\n",
        ">### **Prof: María de la Paz Rico Fernández**\n",
        "\n",
        "### **Genaro Ramos Higuera - A00351269**\n",
        "### **Gerardo Aaron Castañeda Jaramillo - A01137646**"
      ],
      "metadata": {
        "id": "g4kUMHJDsYA-"
      }
    },
    {
      "cell_type": "markdown",
      "source": [
        "## **Selecciona tus variables independientes X y dependiente Y (semáforo)**"
      ],
      "metadata": {
        "id": "WfUyFMLMEYPL"
      }
    }
  ]
}