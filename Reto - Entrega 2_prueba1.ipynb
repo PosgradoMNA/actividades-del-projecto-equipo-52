{
  "nbformat": 4,
  "nbformat_minor": 0,
  "metadata": {
    "colab": {
      "name": "assignment01.ipynb",
      "provenance": [],
      "include_colab_link": true
    },
    "kernelspec": {
      "name": "python3",
      "display_name": "Python 3"
    },
    "language_info": {
      "name": "python"
    }
  },
  "cells": [
    {
      "cell_type": "markdown",
      "metadata": {
        "id": "view-in-github",
        "colab_type": "text"
      },
      "source": [
        "<a href=\"https://colab.research.google.com/github/PosgradoMNA/actividades-del-projecto-equipo-52/blob/main/Reto%20-%20Entrega%202_prueba1.ipynb\" target=\"_parent\"><img src=\"https://colab.research.google.com/assets/colab-badge.svg\" alt=\"Open In Colab\"/></a>"
      ]
    },
    {
      "cell_type": "markdown",
      "source": [
        "> # **Reto - Entrega 2**\n",
        ">### **Maestría en Inteligencia Artificial Aplicada**\n",
        ">### **Curso: Inteligencia Artificial y Aprendizaje Automático**\n",
        ">### **Tecnológico de Monterrey**\n",
        ">### **Prof: María de la Paz Rico Fernández**\n",
        "\n",
        "### **Genaro Ramos Higuera - A00351269**\n",
        "### **Gerardo Aaron Castañeda Jaramillo - A01137646**"
      ],
      "metadata": {
        "id": "g4kUMHJDsYA-"
      }
    },
    {
      "cell_type": "code",
      "source": [
        "import numpy as np\n",
        "import pandas as pd\n",
        "import seaborn as sns \n",
        "import matplotlib.pyplot as plt \n",
        "\n",
        "from sklearn.preprocessing import OneHotEncoder\n",
        "from sklearn.ensemble import RandomForestClassifier\n",
        "from sklearn.tree import DecisionTreeClassifier\n",
        "from sklearn.inspection import permutation_importance\n",
        "from sklearn.model_selection import train_test_split\n",
        "from sklearn import metrics\n",
        "from sklearn.metrics import accuracy_score, f1_score, precision_score, recall_score\n",
        "from sklearn.model_selection import RepeatedStratifiedKFold, cross_validate, StratifiedKFold\n",
        "from sklearn.model_selection import GridSearchCV\n",
        "from sklearn.metrics import get_scorer\n",
        "from sklearn.metrics import confusion_matrix\n",
        "\n",
        "from sklearn.model_selection import learning_curve\n",
        "from sklearn.model_selection import validation_curve\n",
        "\n",
        "from sklearn.metrics import classification_report\n",
        "from sklearn.metrics import RocCurveDisplay, precision_recall_curve, roc_curve"
      ],
      "metadata": {
        "id": "8Yan2paWEogS"
      },
      "execution_count": 1,
      "outputs": []
    },
    {
      "cell_type": "markdown",
      "source": [
        "# **AGUAS SUBTERRANEAS**"
      ],
      "metadata": {
        "id": "C8Lon6BoG8xA"
      }
    },
    {
      "cell_type": "code",
      "source": [
        "url = 'https://github.com/PosgradoMNA/actividades-del-projecto-equipo-52/blob/main/aguas_subterraneas.csv?raw=true'\n",
        "\n",
        "data_asb = pd.read_csv(url,sep=\",\")\n",
        "print(data_asb.shape)\n",
        "data_asb.head()"
      ],
      "metadata": {
        "colab": {
          "base_uri": "https://localhost:8080/",
          "height": 318
        },
        "id": "JRWpb_vPFRcK",
        "outputId": "00671148-7277-451c-ff35-2559a325d667"
      },
      "execution_count": null,
      "outputs": [
        {
          "output_type": "stream",
          "name": "stdout",
          "text": [
            "(1054, 34)\n"
          ]
        },
        {
          "output_type": "execute_result",
          "data": {
            "text/plain": [
              "       CLAVE   LONGITUD   LATITUD  ORGANISMO_DE_CUENCA  SUBTIPO  ALC_mg/L  \\\n",
              "0     DLAGU6 -102.02210  22.20887                  6.0      5.0   229.990   \n",
              "1  DLAGU6516 -102.20075  21.99958                  6.0      5.0   231.990   \n",
              "2     DLAGU7 -102.28801  22.36685                  6.0      5.0   204.920   \n",
              "3     DLAGU9 -102.29449  22.18435                  6.0      5.0   327.000   \n",
              "4   DLBAJ107 -110.24480  23.45138                 10.0      5.0   309.885   \n",
              "\n",
              "   COND_mS/cm  SDT_M_mg/L  FLUO_mg/L  DUR_mg/L  ...  CALIDAD_CF  CALIDAD_NNO3  \\\n",
              "0       940.0       603.6     0.9766  213.7320  ...           1             1   \n",
              "1       608.0       445.4     0.9298  185.0514  ...           1             2   \n",
              "2       532.0       342.0     1.8045  120.7190  ...           1             1   \n",
              "3       686.0       478.6     1.1229  199.8790  ...           1             1   \n",
              "4      1841.0      1179.0     0.2343  476.9872  ...           3             3   \n",
              "\n",
              "   CALIDAD_AS  CALIDAD_CD  CALIDAD_CR  CALIDAD_HG  CALIDAD_PB  CALIDAD_MN  \\\n",
              "0           2           1           1           1           1           1   \n",
              "1           2           1           1           1           1           1   \n",
              "2           3           1           1           1           1           1   \n",
              "3           2           1           1           1           1           1   \n",
              "4           1           1           1           1           1           1   \n",
              "\n",
              "   CALIDAD_FE  SEMAFORO  \n",
              "0           1         1  \n",
              "1           1         1  \n",
              "2           1         3  \n",
              "3           1         1  \n",
              "4           1         3  \n",
              "\n",
              "[5 rows x 34 columns]"
            ],
            "text/html": [
              "\n",
              "  <div id=\"df-614e0d05-4de6-457c-9cd4-558baf66ff79\">\n",
              "    <div class=\"colab-df-container\">\n",
              "      <div>\n",
              "<style scoped>\n",
              "    .dataframe tbody tr th:only-of-type {\n",
              "        vertical-align: middle;\n",
              "    }\n",
              "\n",
              "    .dataframe tbody tr th {\n",
              "        vertical-align: top;\n",
              "    }\n",
              "\n",
              "    .dataframe thead th {\n",
              "        text-align: right;\n",
              "    }\n",
              "</style>\n",
              "<table border=\"1\" class=\"dataframe\">\n",
              "  <thead>\n",
              "    <tr style=\"text-align: right;\">\n",
              "      <th></th>\n",
              "      <th>CLAVE</th>\n",
              "      <th>LONGITUD</th>\n",
              "      <th>LATITUD</th>\n",
              "      <th>ORGANISMO_DE_CUENCA</th>\n",
              "      <th>SUBTIPO</th>\n",
              "      <th>ALC_mg/L</th>\n",
              "      <th>COND_mS/cm</th>\n",
              "      <th>SDT_M_mg/L</th>\n",
              "      <th>FLUO_mg/L</th>\n",
              "      <th>DUR_mg/L</th>\n",
              "      <th>...</th>\n",
              "      <th>CALIDAD_CF</th>\n",
              "      <th>CALIDAD_NNO3</th>\n",
              "      <th>CALIDAD_AS</th>\n",
              "      <th>CALIDAD_CD</th>\n",
              "      <th>CALIDAD_CR</th>\n",
              "      <th>CALIDAD_HG</th>\n",
              "      <th>CALIDAD_PB</th>\n",
              "      <th>CALIDAD_MN</th>\n",
              "      <th>CALIDAD_FE</th>\n",
              "      <th>SEMAFORO</th>\n",
              "    </tr>\n",
              "  </thead>\n",
              "  <tbody>\n",
              "    <tr>\n",
              "      <th>0</th>\n",
              "      <td>DLAGU6</td>\n",
              "      <td>-102.02210</td>\n",
              "      <td>22.20887</td>\n",
              "      <td>6.0</td>\n",
              "      <td>5.0</td>\n",
              "      <td>229.990</td>\n",
              "      <td>940.0</td>\n",
              "      <td>603.6</td>\n",
              "      <td>0.9766</td>\n",
              "      <td>213.7320</td>\n",
              "      <td>...</td>\n",
              "      <td>1</td>\n",
              "      <td>1</td>\n",
              "      <td>2</td>\n",
              "      <td>1</td>\n",
              "      <td>1</td>\n",
              "      <td>1</td>\n",
              "      <td>1</td>\n",
              "      <td>1</td>\n",
              "      <td>1</td>\n",
              "      <td>1</td>\n",
              "    </tr>\n",
              "    <tr>\n",
              "      <th>1</th>\n",
              "      <td>DLAGU6516</td>\n",
              "      <td>-102.20075</td>\n",
              "      <td>21.99958</td>\n",
              "      <td>6.0</td>\n",
              "      <td>5.0</td>\n",
              "      <td>231.990</td>\n",
              "      <td>608.0</td>\n",
              "      <td>445.4</td>\n",
              "      <td>0.9298</td>\n",
              "      <td>185.0514</td>\n",
              "      <td>...</td>\n",
              "      <td>1</td>\n",
              "      <td>2</td>\n",
              "      <td>2</td>\n",
              "      <td>1</td>\n",
              "      <td>1</td>\n",
              "      <td>1</td>\n",
              "      <td>1</td>\n",
              "      <td>1</td>\n",
              "      <td>1</td>\n",
              "      <td>1</td>\n",
              "    </tr>\n",
              "    <tr>\n",
              "      <th>2</th>\n",
              "      <td>DLAGU7</td>\n",
              "      <td>-102.28801</td>\n",
              "      <td>22.36685</td>\n",
              "      <td>6.0</td>\n",
              "      <td>5.0</td>\n",
              "      <td>204.920</td>\n",
              "      <td>532.0</td>\n",
              "      <td>342.0</td>\n",
              "      <td>1.8045</td>\n",
              "      <td>120.7190</td>\n",
              "      <td>...</td>\n",
              "      <td>1</td>\n",
              "      <td>1</td>\n",
              "      <td>3</td>\n",
              "      <td>1</td>\n",
              "      <td>1</td>\n",
              "      <td>1</td>\n",
              "      <td>1</td>\n",
              "      <td>1</td>\n",
              "      <td>1</td>\n",
              "      <td>3</td>\n",
              "    </tr>\n",
              "    <tr>\n",
              "      <th>3</th>\n",
              "      <td>DLAGU9</td>\n",
              "      <td>-102.29449</td>\n",
              "      <td>22.18435</td>\n",
              "      <td>6.0</td>\n",
              "      <td>5.0</td>\n",
              "      <td>327.000</td>\n",
              "      <td>686.0</td>\n",
              "      <td>478.6</td>\n",
              "      <td>1.1229</td>\n",
              "      <td>199.8790</td>\n",
              "      <td>...</td>\n",
              "      <td>1</td>\n",
              "      <td>1</td>\n",
              "      <td>2</td>\n",
              "      <td>1</td>\n",
              "      <td>1</td>\n",
              "      <td>1</td>\n",
              "      <td>1</td>\n",
              "      <td>1</td>\n",
              "      <td>1</td>\n",
              "      <td>1</td>\n",
              "    </tr>\n",
              "    <tr>\n",
              "      <th>4</th>\n",
              "      <td>DLBAJ107</td>\n",
              "      <td>-110.24480</td>\n",
              "      <td>23.45138</td>\n",
              "      <td>10.0</td>\n",
              "      <td>5.0</td>\n",
              "      <td>309.885</td>\n",
              "      <td>1841.0</td>\n",
              "      <td>1179.0</td>\n",
              "      <td>0.2343</td>\n",
              "      <td>476.9872</td>\n",
              "      <td>...</td>\n",
              "      <td>3</td>\n",
              "      <td>3</td>\n",
              "      <td>1</td>\n",
              "      <td>1</td>\n",
              "      <td>1</td>\n",
              "      <td>1</td>\n",
              "      <td>1</td>\n",
              "      <td>1</td>\n",
              "      <td>1</td>\n",
              "      <td>3</td>\n",
              "    </tr>\n",
              "  </tbody>\n",
              "</table>\n",
              "<p>5 rows × 34 columns</p>\n",
              "</div>\n",
              "      <button class=\"colab-df-convert\" onclick=\"convertToInteractive('df-614e0d05-4de6-457c-9cd4-558baf66ff79')\"\n",
              "              title=\"Convert this dataframe to an interactive table.\"\n",
              "              style=\"display:none;\">\n",
              "        \n",
              "  <svg xmlns=\"http://www.w3.org/2000/svg\" height=\"24px\"viewBox=\"0 0 24 24\"\n",
              "       width=\"24px\">\n",
              "    <path d=\"M0 0h24v24H0V0z\" fill=\"none\"/>\n",
              "    <path d=\"M18.56 5.44l.94 2.06.94-2.06 2.06-.94-2.06-.94-.94-2.06-.94 2.06-2.06.94zm-11 1L8.5 8.5l.94-2.06 2.06-.94-2.06-.94L8.5 2.5l-.94 2.06-2.06.94zm10 10l.94 2.06.94-2.06 2.06-.94-2.06-.94-.94-2.06-.94 2.06-2.06.94z\"/><path d=\"M17.41 7.96l-1.37-1.37c-.4-.4-.92-.59-1.43-.59-.52 0-1.04.2-1.43.59L10.3 9.45l-7.72 7.72c-.78.78-.78 2.05 0 2.83L4 21.41c.39.39.9.59 1.41.59.51 0 1.02-.2 1.41-.59l7.78-7.78 2.81-2.81c.8-.78.8-2.07 0-2.86zM5.41 20L4 18.59l7.72-7.72 1.47 1.35L5.41 20z\"/>\n",
              "  </svg>\n",
              "      </button>\n",
              "      \n",
              "  <style>\n",
              "    .colab-df-container {\n",
              "      display:flex;\n",
              "      flex-wrap:wrap;\n",
              "      gap: 12px;\n",
              "    }\n",
              "\n",
              "    .colab-df-convert {\n",
              "      background-color: #E8F0FE;\n",
              "      border: none;\n",
              "      border-radius: 50%;\n",
              "      cursor: pointer;\n",
              "      display: none;\n",
              "      fill: #1967D2;\n",
              "      height: 32px;\n",
              "      padding: 0 0 0 0;\n",
              "      width: 32px;\n",
              "    }\n",
              "\n",
              "    .colab-df-convert:hover {\n",
              "      background-color: #E2EBFA;\n",
              "      box-shadow: 0px 1px 2px rgba(60, 64, 67, 0.3), 0px 1px 3px 1px rgba(60, 64, 67, 0.15);\n",
              "      fill: #174EA6;\n",
              "    }\n",
              "\n",
              "    [theme=dark] .colab-df-convert {\n",
              "      background-color: #3B4455;\n",
              "      fill: #D2E3FC;\n",
              "    }\n",
              "\n",
              "    [theme=dark] .colab-df-convert:hover {\n",
              "      background-color: #434B5C;\n",
              "      box-shadow: 0px 1px 3px 1px rgba(0, 0, 0, 0.15);\n",
              "      filter: drop-shadow(0px 1px 2px rgba(0, 0, 0, 0.3));\n",
              "      fill: #FFFFFF;\n",
              "    }\n",
              "  </style>\n",
              "\n",
              "      <script>\n",
              "        const buttonEl =\n",
              "          document.querySelector('#df-614e0d05-4de6-457c-9cd4-558baf66ff79 button.colab-df-convert');\n",
              "        buttonEl.style.display =\n",
              "          google.colab.kernel.accessAllowed ? 'block' : 'none';\n",
              "\n",
              "        async function convertToInteractive(key) {\n",
              "          const element = document.querySelector('#df-614e0d05-4de6-457c-9cd4-558baf66ff79');\n",
              "          const dataTable =\n",
              "            await google.colab.kernel.invokeFunction('convertToInteractive',\n",
              "                                                     [key], {});\n",
              "          if (!dataTable) return;\n",
              "\n",
              "          const docLinkHtml = 'Like what you see? Visit the ' +\n",
              "            '<a target=\"_blank\" href=https://colab.research.google.com/notebooks/data_table.ipynb>data table notebook</a>'\n",
              "            + ' to learn more about interactive tables.';\n",
              "          element.innerHTML = '';\n",
              "          dataTable['output_type'] = 'display_data';\n",
              "          await google.colab.output.renderOutput(dataTable, element);\n",
              "          const docLink = document.createElement('div');\n",
              "          docLink.innerHTML = docLinkHtml;\n",
              "          element.appendChild(docLink);\n",
              "        }\n",
              "      </script>\n",
              "    </div>\n",
              "  </div>\n",
              "  "
            ]
          },
          "metadata": {},
          "execution_count": 2
        }
      ]
    },
    {
      "cell_type": "markdown",
      "source": [
        "### **Selecciona tus variables independientes X y dependiente Y (semáforo)**"
      ],
      "metadata": {
        "id": "WfUyFMLMEYPL"
      }
    },
    {
      "cell_type": "markdown",
      "source": [
        "Separamos las columnas en base a su tipo de variable:"
      ],
      "metadata": {
        "id": "YnyK89__GRTC"
      }
    },
    {
      "cell_type": "code",
      "source": [
        "#definimos variables numéricas #16\n",
        "num_nom_geo = ['LONGITUD','LATITUD']\n",
        "num_nom_cal = ['ALC_mg/L','COND_mS/cm','SDT_M_mg/L','FLUO_mg/L','DUR_mg/L','CF_NMP/100_mL','NNO3_mg/L','AS_TOT_mg/L', 'CD_TOT_mg/L','CR_TOT_mg/L',\n",
        "               'HG_TOT_mg/L','PB_TOT_mg/L','MN_TOT_mg/L','FE_TOT_mg/L']\n",
        "#definimos variables categóricas #16\n",
        "cat_nom = ['ORGANISMO_DE_CUENCA','SUBTIPO']\n",
        "cat_nom_cal = ['CALIDAD_ALC','CALIDAD_COND','CALIDAD_SDT','CALIDAD_FLUO','CALIDAD_DUR', 'CALIDAD_CF','CALIDAD_NNO3','CALIDAD_AS',\n",
        "               'CALIDAD_CD','CALIDAD_CR','CALIDAD_HG','CALIDAD_PB','CALIDAD_MN','CALIDAD_FE']\n",
        "#VARIABLE CATEGORICA DE SALIDA Y  #1\n",
        "y_nom = ['SEMAFORO']"
      ],
      "metadata": {
        "id": "TFvLpcIkFpyp"
      },
      "execution_count": null,
      "outputs": []
    },
    {
      "cell_type": "markdown",
      "source": [
        "Generamos los datos en Y, y dos tipos de X. Una donde se utilizarán los datos numéricos de calidad, y otra donde se utilizarán los datos categóricos de calidad. Utilizar las variables numéricas y categorías de calidad, donde las categóricas son dependientes de las numéricas, puede afectar la correlación entre variables y eventualmente el modelo."
      ],
      "metadata": {
        "id": "aOFVhu15GV5J"
      }
    },
    {
      "cell_type": "code",
      "source": [
        "Y = data_asb[['SEMAFORO']]\n",
        "\n",
        "X_num = data_asb[num_nom_geo + cat_nom + num_nom_cal]\n",
        "X_cat = data_asb[num_nom_geo + cat_nom + cat_nom_cal]"
      ],
      "metadata": {
        "id": "8--iK74iF8na"
      },
      "execution_count": null,
      "outputs": []
    },
    {
      "cell_type": "markdown",
      "source": [
        "### **Cambia a label encoding el semáforo, ej, de [\"clase 1\", \"clase 2\", \"clase 3\"] a [ 1,2,3]**"
      ],
      "metadata": {
        "id": "hNkPnaumH-YC"
      }
    },
    {
      "cell_type": "markdown",
      "source": [
        "Previamente en la parte 1 del reto ya se cambiaron los valores del semáforo a 1:verde, 2:amarillo, 3:rojo"
      ],
      "metadata": {
        "id": "0GTAJeQ6qFg6"
      }
    },
    {
      "cell_type": "code",
      "source": [
        "Y.value_counts()"
      ],
      "metadata": {
        "id": "zze_cbLTOES6",
        "outputId": "3273d986-f9a1-4f71-c973-0dac808ea107",
        "colab": {
          "base_uri": "https://localhost:8080/"
        }
      },
      "execution_count": null,
      "outputs": [
        {
          "output_type": "execute_result",
          "data": {
            "text/plain": [
              "SEMAFORO\n",
              "1           427\n",
              "3           382\n",
              "2           245\n",
              "dtype: int64"
            ]
          },
          "metadata": {},
          "execution_count": 85
        }
      ]
    },
    {
      "cell_type": "markdown",
      "source": [
        "### **Realiza un análisis general de las features importances a traves de decision trees o random forest.**"
      ],
      "metadata": {
        "id": "ERxnUhG1QCkS"
      }
    },
    {
      "cell_type": "markdown",
      "source": [
        "Definimos modelos a usar:"
      ],
      "metadata": {
        "id": "BVwjfJ0BVlK6"
      }
    },
    {
      "cell_type": "code",
      "source": [
        "def get_models():\n",
        "  modelos = list()\n",
        "  nombres = list()\n",
        "\n",
        "  modelos.append(DecisionTreeClassifier())\n",
        "  nombres.append('DTC')\n",
        "  \n",
        "  modelos.append(RandomForestClassifier())\n",
        "  nombres.append('RFC')\n",
        "  \n",
        "  return modelos, nombres"
      ],
      "metadata": {
        "id": "XlDaM4sJUhyi"
      },
      "execution_count": null,
      "outputs": []
    },
    {
      "cell_type": "markdown",
      "source": [
        "Obtenemos los feature importance con variables de calidad numéricas:"
      ],
      "metadata": {
        "id": "8Ld2nABOVmdY"
      }
    },
    {
      "cell_type": "code",
      "source": [
        "modelos, nombres = get_models()\n",
        "\n",
        "for m in range(len(modelos)):\n",
        "  modelos[m].fit(X_num, np.ravel(Y))\n",
        "  importance = permutation_importance(modelos[m], X_num, Y, n_repeats=10)\n",
        "  print('\\033[1m' + nombres[m] + '\\033[0m')\n",
        "  for i,v in enumerate(importance['importances_mean']):\n",
        "    print(X_num.columns[i]+':', v.round(3))\n",
        "  f = plt.figure()\n",
        "  plt.bar(X_num.columns, importance['importances_mean'])\n",
        "  plt.xticks(rotation='vertical')\n",
        "  plt.show() "
      ],
      "metadata": {
        "colab": {
          "base_uri": "https://localhost:8080/",
          "height": 1000
        },
        "id": "B7ARZHo6UtQB",
        "outputId": "8f644551-df70-4802-e663-33eb3e8a7e87"
      },
      "execution_count": null,
      "outputs": [
        {
          "output_type": "stream",
          "name": "stdout",
          "text": [
            "\u001b[1mDTC\u001b[0m\n",
            "LONGITUD: 0.0\n",
            "LATITUD: 0.007\n",
            "ORGANISMO_DE_CUENCA: 0.0\n",
            "SUBTIPO: 0.0\n",
            "ALC_mg/L: 0.03\n",
            "COND_mS/cm: 0.058\n",
            "SDT_M_mg/L: 0.005\n",
            "FLUO_mg/L: 0.204\n",
            "DUR_mg/L: 0.152\n",
            "CF_NMP/100_mL: 0.081\n",
            "NNO3_mg/L: 0.099\n",
            "AS_TOT_mg/L: 0.116\n",
            "CD_TOT_mg/L: 0.0\n",
            "CR_TOT_mg/L: 0.017\n",
            "HG_TOT_mg/L: 0.002\n",
            "PB_TOT_mg/L: 0.014\n",
            "MN_TOT_mg/L: 0.052\n",
            "FE_TOT_mg/L: 0.079\n"
          ]
        },
        {
          "output_type": "display_data",
          "data": {
            "text/plain": [
              "<Figure size 576x288 with 1 Axes>"
            ],
            "image/png": "[encoded data removed]"
          },
          "metadata": {}
        },
        {
          "output_type": "stream",
          "name": "stdout",
          "text": [
            "\u001b[1mRFC\u001b[0m\n",
            "LONGITUD: 0.0\n",
            "LATITUD: 0.002\n",
            "ORGANISMO_DE_CUENCA: 0.0\n",
            "SUBTIPO: 0.0\n",
            "ALC_mg/L: 0.026\n",
            "COND_mS/cm: 0.006\n",
            "SDT_M_mg/L: 0.006\n",
            "FLUO_mg/L: 0.192\n",
            "DUR_mg/L: 0.135\n",
            "CF_NMP/100_mL: 0.071\n",
            "NNO3_mg/L: 0.094\n",
            "AS_TOT_mg/L: 0.112\n",
            "CD_TOT_mg/L: 0.0\n",
            "CR_TOT_mg/L: 0.009\n",
            "HG_TOT_mg/L: 0.0\n",
            "PB_TOT_mg/L: 0.004\n",
            "MN_TOT_mg/L: 0.051\n",
            "FE_TOT_mg/L: 0.075\n"
          ]
        },
        {
          "output_type": "display_data",
          "data": {
            "text/plain": [
              "<Figure size 576x288 with 1 Axes>"
            ],
            "image/png": "[encoded data removed]"
          },
          "metadata": {}
        }
      ]
    },
    {
      "cell_type": "markdown",
      "source": [
        "Obtenemos los feature importance con las variables de calidad categóricas:"
      ],
      "metadata": {
        "id": "nzwiGjy0VqfY"
      }
    },
    {
      "cell_type": "code",
      "source": [
        "modelos, nombres = get_models()\n",
        "\n",
        "for m in range(len(modelos)):\n",
        "  modelos[m].fit(X_cat, np.ravel(Y))\n",
        "  importance = permutation_importance(modelos[m], X_cat, Y, n_repeats=10)\n",
        "  print('\\033[1m' + nombres[m] + '\\033[0m')\n",
        "  for i,v in enumerate(importance['importances_mean']):\n",
        "    print(X_cat.columns[i]+':', v.round(3))\n",
        "  f = plt.figure()\n",
        "  plt.bar(X_cat.columns, importance['importances_mean'])\n",
        "  plt.xticks(rotation='vertical')\n",
        "  plt.show() "
      ],
      "metadata": {
        "colab": {
          "base_uri": "https://localhost:8080/",
          "height": 1000
        },
        "id": "8o5qSU84VtcA",
        "outputId": "30ee4cf3-feec-4b99-ce4d-c394f3513366"
      },
      "execution_count": null,
      "outputs": [
        {
          "output_type": "stream",
          "name": "stdout",
          "text": [
            "\u001b[1mDTC\u001b[0m\n",
            "LONGITUD: 0.0\n",
            "LATITUD: 0.006\n",
            "ORGANISMO_DE_CUENCA: 0.002\n",
            "SUBTIPO: 0.0\n",
            "CALIDAD_ALC: 0.031\n",
            "CALIDAD_COND: 0.061\n",
            "CALIDAD_SDT: 0.01\n",
            "CALIDAD_FLUO: 0.204\n",
            "CALIDAD_DUR: 0.156\n",
            "CALIDAD_CF: 0.08\n",
            "CALIDAD_NNO3: 0.1\n",
            "CALIDAD_AS: 0.115\n",
            "CALIDAD_CD: 0.0\n",
            "CALIDAD_CR: 0.021\n",
            "CALIDAD_HG: 0.0\n",
            "CALIDAD_PB: 0.013\n",
            "CALIDAD_MN: 0.055\n",
            "CALIDAD_FE: 0.078\n"
          ]
        },
        {
          "output_type": "display_data",
          "data": {
            "text/plain": [
              "<Figure size 576x288 with 1 Axes>"
            ],
            "image/png": "[encoded data removed]"
          },
          "metadata": {}
        },
        {
          "output_type": "stream",
          "name": "stdout",
          "text": [
            "\u001b[1mRFC\u001b[0m\n",
            "LONGITUD: 0.001\n",
            "LATITUD: 0.003\n",
            "ORGANISMO_DE_CUENCA: 0.0\n",
            "SUBTIPO: 0.0\n",
            "CALIDAD_ALC: 0.021\n",
            "CALIDAD_COND: 0.012\n",
            "CALIDAD_SDT: 0.01\n",
            "CALIDAD_FLUO: 0.201\n",
            "CALIDAD_DUR: 0.142\n",
            "CALIDAD_CF: 0.078\n",
            "CALIDAD_NNO3: 0.099\n",
            "CALIDAD_AS: 0.112\n",
            "CALIDAD_CD: 0.0\n",
            "CALIDAD_CR: 0.013\n",
            "CALIDAD_HG: 0.0\n",
            "CALIDAD_PB: 0.01\n",
            "CALIDAD_MN: 0.053\n",
            "CALIDAD_FE: 0.074\n"
          ]
        },
        {
          "output_type": "display_data",
          "data": {
            "text/plain": [
              "<Figure size 576x288 with 1 Axes>"
            ],
            "image/png": "[encoded data removed]"
          },
          "metadata": {}
        }
      ]
    },
    {
      "cell_type": "markdown",
      "source": [
        "Y donde observamos que las variables de ubicación geográfica, así como organismo de cuenca y subtipo no tienen ninguna importancia significativa. Mientras que las de calidad, con algunas excepciones como las de CD y HG, son las que tienen mayor importancia."
      ],
      "metadata": {
        "id": "vwah94seV9yA"
      }
    },
    {
      "cell_type": "markdown",
      "source": [
        "### **Selecciona las variables de mayor importancia.**"
      ],
      "metadata": {
        "id": "3T7Px_exWVzZ"
      }
    },
    {
      "cell_type": "markdown",
      "source": [
        "Removemos de nuestras listas de columnas las variables que no tienen feature importance"
      ],
      "metadata": {
        "id": "oi55ETsSXVEZ"
      }
    },
    {
      "cell_type": "code",
      "source": [
        "num_nom_cal.remove('CD_TOT_mg/L')\n",
        "num_nom_cal.remove('HG_TOT_mg/L')\n",
        "cat_nom_cal.remove('CALIDAD_CD')\n",
        "cat_nom_cal.remove('CALIDAD_HG')"
      ],
      "metadata": {
        "id": "izjGLNKWWa-Q"
      },
      "execution_count": null,
      "outputs": []
    },
    {
      "cell_type": "markdown",
      "source": [
        "Observamos con cuales nos quedamos:"
      ],
      "metadata": {
        "id": "zQ9dpBw2XZI5"
      }
    },
    {
      "cell_type": "code",
      "source": [
        "print(num_nom_cal)\n",
        "print(cat_nom_cal)"
      ],
      "metadata": {
        "colab": {
          "base_uri": "https://localhost:8080/"
        },
        "id": "rSkEIhPOXJw5",
        "outputId": "e18c8417-f35e-44ad-c7ef-3a946d16b9cb"
      },
      "execution_count": null,
      "outputs": [
        {
          "output_type": "stream",
          "name": "stdout",
          "text": [
            "['ALC_mg/L', 'COND_mS/cm', 'SDT_M_mg/L', 'FLUO_mg/L', 'DUR_mg/L', 'CF_NMP/100_mL', 'NNO3_mg/L', 'AS_TOT_mg/L', 'CR_TOT_mg/L', 'PB_TOT_mg/L', 'MN_TOT_mg/L', 'FE_TOT_mg/L']\n",
            "['CALIDAD_ALC', 'CALIDAD_COND', 'CALIDAD_SDT', 'CALIDAD_FLUO', 'CALIDAD_DUR', 'CALIDAD_CF', 'CALIDAD_NNO3', 'CALIDAD_AS', 'CALIDAD_CR', 'CALIDAD_PB', 'CALIDAD_MN', 'CALIDAD_FE']\n"
          ]
        }
      ]
    },
    {
      "cell_type": "markdown",
      "source": [
        "Generamos nuevas dataframes con las columnas a utilizar:"
      ],
      "metadata": {
        "id": "H_dSRj1IXbKh"
      }
    },
    {
      "cell_type": "code",
      "source": [
        "X_num = data_asb[num_nom_cal]\n",
        "X_cat = data_asb[cat_nom_cal]"
      ],
      "metadata": {
        "id": "ERDsHAoYXHVT"
      },
      "execution_count": null,
      "outputs": []
    },
    {
      "cell_type": "markdown",
      "source": [
        "### **Realiza tu clasificador, recuerda dividir los datos de manera balanceada (auxiliate de train test split)**"
      ],
      "metadata": {
        "id": "kRewZgfGXieh"
      }
    },
    {
      "cell_type": "markdown",
      "source": [
        "* Comenzamos con variables numéricas:"
      ],
      "metadata": {
        "id": "vcGPXBtNX5j4"
      }
    },
    {
      "cell_type": "code",
      "source": [
        "score_list = list()\n",
        "grid_splits = list()"
      ],
      "metadata": {
        "id": "C4CedaQP28FE"
      },
      "execution_count": null,
      "outputs": []
    },
    {
      "cell_type": "code",
      "source": [
        "def get_scores(yreal, ypred, model, aver='micro'):\n",
        "  temp_list = list()\n",
        "\n",
        "  temp_list.append(model)\n",
        "  accu = accuracy_score(yreal,ypred)\n",
        "  f1 = f1_score(yreal,ypred,average=aver)\n",
        "  precision = precision_score(yreal,ypred,average=aver)\n",
        "  recall = recall_score(yreal,ypred,average=aver)\n",
        "\n",
        "  temp_list.append(accu)\n",
        "  temp_list.append(f1)\n",
        "  temp_list.append(precision)\n",
        "  temp_list.append(recall)\n",
        "  print('Accuracy:', accu)\n",
        "  print('f1_score:', f1)\n",
        "  print('Precision:', precision)\n",
        "  print('Recall:', recall)\n",
        "\n",
        "  return temp_list"
      ],
      "metadata": {
        "id": "pSEb0oDB3dqB"
      },
      "execution_count": null,
      "outputs": []
    },
    {
      "cell_type": "markdown",
      "source": [
        "Sabemos de la parte 1 que las clases de salida tienen diferentes proporciones, por lo que utilizamos el parámetro stratify:"
      ],
      "metadata": {
        "id": "2S_nAgTQYPey"
      }
    },
    {
      "cell_type": "code",
      "source": [
        "Xtv_num, Xtest_num, ytv_num, ytest_num = train_test_split(X_num, Y, test_size=0.15, stratify=Y, random_state=0) \n",
        "print(Xtv_num.shape, ': dimensión de datos de entrada de entrenamiento y validación')\n",
        "print(Xtest_num.shape, ': dimensión de datos de entrada de prueba')  \n",
        "print(ytv_num.shape, ': dimensión de variable de salida para entrenamiento y validación')\n",
        "print(ytest_num.shape, ': dimensión de variable de salida para prueba')"
      ],
      "metadata": {
        "colab": {
          "base_uri": "https://localhost:8080/"
        },
        "id": "JUpssKqvXuUZ",
        "outputId": "ff358d3d-36f0-437b-ccb0-77e960560d28"
      },
      "execution_count": null,
      "outputs": [
        {
          "output_type": "stream",
          "name": "stdout",
          "text": [
            "(895, 12) : dimensión de datos de entrada de entrenamiento y validación\n",
            "(159, 12) : dimensión de datos de entrada de prueba\n",
            "(895, 1) : dimensión de variable de salida para entrenamiento y validación\n",
            "(159, 1) : dimensión de variable de salida para prueba\n"
          ]
        }
      ]
    },
    {
      "cell_type": "markdown",
      "source": [
        "* Decision Tree variables numéricas de calidad de entrada:"
      ],
      "metadata": {
        "id": "cHGl6mpztjPD"
      }
    },
    {
      "cell_type": "markdown",
      "source": [
        "Comenzamos viendo la curva de aprendizaje para el parámetro de max_depth:"
      ],
      "metadata": {
        "id": "ThjhgH_irKeZ"
      }
    },
    {
      "cell_type": "code",
      "source": [
        "#obtenemos el modelo y los parametros de cross validation\n",
        "modeloVC = DecisionTreeClassifier()\n",
        "cvVC = RepeatedStratifiedKFold(n_splits=5, n_repeats=3, random_state=1)\n",
        "\n",
        "delta_max_depth = np.linspace(1, 20, 20)\n",
        "\n",
        "train_scores, valid_scores = validation_curve(modeloVC, \n",
        "                                              Xtv_num, \n",
        "                                              np.ravel(ytv_num), \n",
        "                                              param_name=\"max_depth\", \n",
        "                                              param_range=delta_max_depth,\n",
        "                                              cv=cvVC,\n",
        "                                              scoring='accuracy')\n",
        "\n",
        "train_mean = np.mean(train_scores, axis=1)\n",
        "train_std = np.std(train_scores, axis=1)\n",
        "valid_mean = np.mean(valid_scores, axis=1)\n",
        "valid_std = np.std(valid_scores, axis=1)\n",
        "\n",
        "# Curva de entrenamiento con la métrica de exactitud (accuracy):\n",
        "plt.plot(delta_max_depth, train_mean, color='blue', marker='o', markersize=5, label='Training')\n",
        "\n",
        "# Curva de validación:\n",
        "plt.plot(delta_max_depth, valid_mean, color='red', marker='o', markersize=5, label='Validation')\n",
        "\n",
        "plt.title('Función validation_curve() para Decision Tree')\n",
        "plt.xlabel('Valores del parámetro max_depth')\n",
        "plt.ylabel('Accuracy')\n",
        "plt.grid(b=True)\n",
        "plt.legend(loc='lower right')\n",
        "plt.show()"
      ],
      "metadata": {
        "colab": {
          "base_uri": "https://localhost:8080/",
          "height": 301
        },
        "id": "1tjt7e8Hrp7K",
        "outputId": "f1f89dba-89fc-45b5-f6f1-65ac32490cfc"
      },
      "execution_count": null,
      "outputs": [
        {
          "output_type": "display_data",
          "data": {
            "text/plain": [
              "<Figure size 576x288 with 1 Axes>"
            ],
            "image/png": "[encoded data removed]"
          },
          "metadata": {}
        }
      ]
    },
    {
      "cell_type": "markdown",
      "source": [
        "Y observamos que después de max_depth 10 ya no existen cambios significativos para las curvas de training o validación, asi que nos quedamos con un máximo de 10 para el gridsearch para este parámetro:"
      ],
      "metadata": {
        "id": "lshC8ISRrR0I"
      }
    },
    {
      "cell_type": "code",
      "source": [
        "#obtenemos el modelo y los parámetros\n",
        "modeloDTC_iter = DecisionTreeClassifier()\n",
        "cvSVM = RepeatedStratifiedKFold(n_splits=5, n_repeats=3, random_state=1)\n",
        "\n",
        "dicc_grid = [{'ccp_alpha':[0.0001,0.01,0.1,1.0,10.,100],'criterion':['gini','entropy'],\n",
        "             'max_depth':[1,2,3,4,5,6,7,8,9,10],'min_samples_split':[2,3,4,5,6],'class_weight':['balanced', None]}]\n",
        "\n",
        "grid1 = GridSearchCV(estimator=modeloDTC_iter, \n",
        "                    param_grid=dicc_grid, \n",
        "                    cv=cvSVM, \n",
        "                    scoring='accuracy',\n",
        "                    n_jobs=-1,\n",
        "                    error_score='raise')"
      ],
      "metadata": {
        "id": "Dzgy-_rBZU_5"
      },
      "execution_count": null,
      "outputs": []
    },
    {
      "cell_type": "markdown",
      "source": [
        "Corremos el grid search:"
      ],
      "metadata": {
        "id": "NldM-6xJrhgA"
      }
    },
    {
      "cell_type": "code",
      "source": [
        "grid1.fit(Xtv_num, np.ravel(ytv_num))\n",
        "\n",
        "print('Mejor valor de accuracy obtenido con la mejor combinación:', grid1.best_score_)\n",
        "print('Mejor combinación de valores encontrados de los hiperparámetros:', grid1.best_params_)\n",
        "print('Métrica utilizada:', grid1.scoring)\n",
        "print('Mejor Index:',grid1.best_index_)\n",
        "\n",
        "grid_splits.append(grid1) "
      ],
      "metadata": {
        "colab": {
          "base_uri": "https://localhost:8080/"
        },
        "id": "lAMZluuSbI6J",
        "outputId": "f35a0d4e-6c71-4499-8f23-091ea06f1c36"
      },
      "execution_count": null,
      "outputs": [
        {
          "output_type": "stream",
          "name": "stdout",
          "text": [
            "Mejor valor de accuracy obtenido con la mejor combinación: 0.9582867783985101\n",
            "Mejor combinación de valores encontrados de los hiperparámetros: {'ccp_alpha': 0.0001, 'class_weight': None, 'criterion': 'gini', 'max_depth': 10, 'min_samples_split': 4}\n",
            "Métrica utilizada: accuracy\n",
            "Mejor Index: 147\n"
          ]
        }
      ]
    },
    {
      "cell_type": "markdown",
      "source": [
        "Observamos un accuracy del 95.82% máximo con los hiper parámetros. Ahora probamos el modelo con sus hiper parámetros para los datos de prueba:"
      ],
      "metadata": {
        "id": "UwihYhqdrlFo"
      }
    },
    {
      "cell_type": "code",
      "source": [
        "model_DTC_num = DecisionTreeClassifier(**grid1.best_params_)\n",
        "\n",
        "model_DTC_num.fit(Xtv_num, ytv_num)\n",
        "#realizamos las predicciones\n",
        "yhat_num = model_DTC_num.predict(Xtest_num)\n",
        "\n",
        "score_list.append(get_scores(ytest_num,yhat_num, 'DTC num'))"
      ],
      "metadata": {
        "colab": {
          "base_uri": "https://localhost:8080/"
        },
        "id": "TRxoLMDLewVL",
        "outputId": "2f7e02d2-3c0a-432a-8f57-c8a09504db1e"
      },
      "execution_count": null,
      "outputs": [
        {
          "output_type": "stream",
          "name": "stdout",
          "text": [
            "Accuracy: 0.949685534591195\n",
            "f1_score: 0.949685534591195\n",
            "Precision: 0.949685534591195\n",
            "Recall: 0.949685534591195\n"
          ]
        }
      ]
    },
    {
      "cell_type": "markdown",
      "source": [
        "Donde observamos que accuracy disminuye cerca de 1%. Lo que sugiere un muy mínimo sobreentrenamiento. Es un valor muy aceptable."
      ],
      "metadata": {
        "id": "t68LeM35r7K4"
      }
    },
    {
      "cell_type": "markdown",
      "source": [
        "* Random Forest variables numéricas de calidad de entrada:"
      ],
      "metadata": {
        "id": "8r1ey7SptstR"
      }
    },
    {
      "cell_type": "markdown",
      "source": [
        "Comenzamos viendo la curva de aprendizaje para el parámetro de max_depth:"
      ],
      "metadata": {
        "id": "4-YnGsxXsH_4"
      }
    },
    {
      "cell_type": "code",
      "source": [
        "#obtenemos el modelo y los parametros de cross validation\n",
        "modeloVC = RandomForestClassifier()\n",
        "cvVC = RepeatedStratifiedKFold(n_splits=5, n_repeats=3, random_state=1)\n",
        "\n",
        "delta_max_depth = np.linspace(1, 20, 20)\n",
        "\n",
        "train_scores, valid_scores = validation_curve(modeloVC, \n",
        "                                              Xtv_num, \n",
        "                                              np.ravel(ytv_num), \n",
        "                                              param_name=\"max_depth\", \n",
        "                                              param_range=delta_max_depth,\n",
        "                                              cv=cvVC,\n",
        "                                              scoring='accuracy')\n",
        "\n",
        "train_mean = np.mean(train_scores, axis=1)\n",
        "train_std = np.std(train_scores, axis=1)\n",
        "valid_mean = np.mean(valid_scores, axis=1)\n",
        "valid_std = np.std(valid_scores, axis=1)\n",
        "\n",
        "# Curva de entrenamiento con la métrica de exactitud (accuracy):\n",
        "plt.plot(delta_max_depth, train_mean, color='blue', marker='o', markersize=5, label='Training')\n",
        "\n",
        "# Curva de validación:\n",
        "plt.plot(delta_max_depth, valid_mean, color='red', marker='o', markersize=5, label='Validation')\n",
        "\n",
        "plt.title('Función validation_curve() para Random Forest')\n",
        "plt.xlabel('Valores del parámetro max_depth')\n",
        "plt.ylabel('Accuracy')\n",
        "plt.grid(b=True)\n",
        "plt.legend(loc='lower right')\n",
        "plt.show()"
      ],
      "metadata": {
        "colab": {
          "base_uri": "https://localhost:8080/",
          "height": 301
        },
        "id": "TL5YbONztv5y",
        "outputId": "6afafc8d-0af5-42a1-9a1e-c0825e789fd3"
      },
      "execution_count": null,
      "outputs": [
        {
          "output_type": "display_data",
          "data": {
            "text/plain": [
              "<Figure size 576x288 with 1 Axes>"
            ],
            "image/png": "[encoded data removed]"
          },
          "metadata": {}
        }
      ]
    },
    {
      "cell_type": "markdown",
      "source": [
        "Y observamos que después de max_depth 10 ya no existen cambios significativos para las curvas de training o validación, así como que previo a 4 la métrica de accuracy aún sigue pudiendo subir. Por lo que nos quedamos con un mínimo de 4 y un máximo de 10 para el gridsearch de este parámetro:"
      ],
      "metadata": {
        "id": "pDzyA6cZsKkZ"
      }
    },
    {
      "cell_type": "code",
      "source": [
        "#obtenemos el modelo y los parámetros\n",
        "modeloRFC_iter = RandomForestClassifier()\n",
        "cvSVM = RepeatedStratifiedKFold(n_splits=5, n_repeats=3, random_state=1)\n",
        "\n",
        "dicc_grid = [{'ccp_alpha':[0.0001,0.01,0.1,1.0,10.,100],'criterion':['gini','entropy'],\n",
        "             'max_depth':[4,5,6,7,8,9,10],'min_samples_split':[2,3,4,5,6],'class_weight':['balanced', None]}]\n",
        "\n",
        "grid2 = GridSearchCV(estimator=modeloDTC_iter, \n",
        "                    param_grid=dicc_grid, \n",
        "                    cv=cvSVM, \n",
        "                    scoring='accuracy',\n",
        "                    n_jobs=-1,\n",
        "                    error_score='raise')"
      ],
      "metadata": {
        "id": "Rg45piMZuQnq"
      },
      "execution_count": null,
      "outputs": []
    },
    {
      "cell_type": "markdown",
      "source": [
        "Corremos el grid search:"
      ],
      "metadata": {
        "id": "9HPhWuXDskM5"
      }
    },
    {
      "cell_type": "code",
      "source": [
        "grid2.fit(Xtv_num, np.ravel(ytv_num))\n",
        "\n",
        "print('Mejor valor de accuracy obtenido con la mejor combinación:', grid2.best_score_)\n",
        "print('Mejor combinación de valores encontrados de los hiperparámetros:', grid2.best_params_)\n",
        "print('Métrica utilizada:', grid2.scoring)\n",
        "print('Mejor Index:',grid2.best_index_)\n",
        "\n",
        "grid_splits.append(grid2)"
      ],
      "metadata": {
        "colab": {
          "base_uri": "https://localhost:8080/"
        },
        "id": "T3L6TlB4uUQx",
        "outputId": "9d2a2264-d88f-4ca6-8de4-de0ef0141a49"
      },
      "execution_count": null,
      "outputs": [
        {
          "output_type": "stream",
          "name": "stdout",
          "text": [
            "Mejor valor de accuracy obtenido con la mejor combinación: 0.9564245810055865\n",
            "Mejor combinación de valores encontrados de los hiperparámetros: {'ccp_alpha': 0.0001, 'class_weight': None, 'criterion': 'gini', 'max_depth': 10, 'min_samples_split': 3}\n",
            "Métrica utilizada: accuracy\n",
            "Mejor Index: 101\n"
          ]
        }
      ]
    },
    {
      "cell_type": "markdown",
      "source": [
        "Observamos un accuracy del 95.64% máximo con los hiper parámetros. Ahora probamos el modelo con sus hiper parámetros para los datos de prueba:"
      ],
      "metadata": {
        "id": "rkGzwwMssoLI"
      }
    },
    {
      "cell_type": "code",
      "source": [
        "model_RFC_num = RandomForestClassifier(**grid2.best_params_)\n",
        "\n",
        "model_RFC_num.fit(Xtv_num, np.ravel(ytv_num))\n",
        "yhat_num = model_RFC_num.predict(Xtest_num)\n",
        "\n",
        "score_list.append(get_scores(ytest_num,yhat_num, 'RFC num'))"
      ],
      "metadata": {
        "colab": {
          "base_uri": "https://localhost:8080/"
        },
        "id": "mErTEe25uYwi",
        "outputId": "57ddc9ca-bd68-49b1-ffd4-8a51873f4f7b"
      },
      "execution_count": null,
      "outputs": [
        {
          "output_type": "stream",
          "name": "stdout",
          "text": [
            "Accuracy: 0.9811320754716981\n",
            "f1_score: 0.9811320754716981\n",
            "Precision: 0.9811320754716981\n",
            "Recall: 0.9811320754716981\n"
          ]
        }
      ]
    },
    {
      "cell_type": "markdown",
      "source": [
        "Donde observamos que accuracy aumenta cerca de 1.5%. Lo cual es muy buena indicación de que está generalizando correctamente."
      ],
      "metadata": {
        "id": "QBIAjneZssbA"
      }
    },
    {
      "cell_type": "markdown",
      "source": [
        "* Comenzamos con variables categóricas:"
      ],
      "metadata": {
        "id": "W8LVZBxXu4AT"
      }
    },
    {
      "cell_type": "markdown",
      "source": [
        "Particionamos los datos:"
      ],
      "metadata": {
        "id": "nngtsD1As2H4"
      }
    },
    {
      "cell_type": "code",
      "source": [
        "Xtv_cat, Xtest_cat, ytv_cat, ytest_cat = train_test_split(X_cat, Y, test_size=0.15, stratify=Y, random_state=0) \n",
        "print(Xtv_cat.shape, ': dimensión de datos de entrada de entrenamiento y validación')\n",
        "print(Xtest_cat.shape, ': dimensión de datos de entrada de prueba')  \n",
        "print(ytv_cat.shape, ': dimensión de variable de salida para entrenamiento y validación')\n",
        "print(ytest_cat.shape, ': dimensión de variable de salida para prueba')"
      ],
      "metadata": {
        "colab": {
          "base_uri": "https://localhost:8080/"
        },
        "outputId": "dd69d11c-9ebe-4c1b-c19f-a7c1424e29d3",
        "id": "ACR1msWou2Fr"
      },
      "execution_count": null,
      "outputs": [
        {
          "output_type": "stream",
          "name": "stdout",
          "text": [
            "(895, 12) : dimensión de datos de entrada de entrenamiento y validación\n",
            "(159, 12) : dimensión de datos de entrada de prueba\n",
            "(895, 1) : dimensión de variable de salida para entrenamiento y validación\n",
            "(159, 1) : dimensión de variable de salida para prueba\n"
          ]
        }
      ]
    },
    {
      "cell_type": "markdown",
      "source": [
        "* Decision Tree variables categóricas de calidad de entrada:"
      ],
      "metadata": {
        "id": "6LSkBn4eu2Ft"
      }
    },
    {
      "cell_type": "markdown",
      "source": [
        "Comenzamos viendo la curva de aprendizaje para el parámetro de max_depth:"
      ],
      "metadata": {
        "id": "9ZCOaNv6tTrh"
      }
    },
    {
      "cell_type": "code",
      "source": [
        "#obtenemos el modelo y los parametros de cross validation\n",
        "modeloVC = DecisionTreeClassifier()\n",
        "cvVC = RepeatedStratifiedKFold(n_splits=5, n_repeats=3, random_state=1)\n",
        "\n",
        "delta_max_depth = np.linspace(1, 20, 20)\n",
        "\n",
        "train_scores, valid_scores = validation_curve(modeloVC, \n",
        "                                              Xtv_cat, \n",
        "                                              np.ravel(ytv_cat), \n",
        "                                              param_name=\"max_depth\", \n",
        "                                              param_range=delta_max_depth,\n",
        "                                              cv=cvVC,\n",
        "                                              scoring='accuracy')\n",
        "\n",
        "train_mean = np.mean(train_scores, axis=1)\n",
        "train_std = np.std(train_scores, axis=1)\n",
        "valid_mean = np.mean(valid_scores, axis=1)\n",
        "valid_std = np.std(valid_scores, axis=1)\n",
        "\n",
        "# Curva de entrenamiento con la métrica de exactitud (accuracy):\n",
        "plt.plot(delta_max_depth, train_mean, color='blue', marker='o', markersize=5, label='Training')\n",
        "\n",
        "# Curva de validación:\n",
        "plt.plot(delta_max_depth, valid_mean, color='red', marker='o', markersize=5, label='Validation')\n",
        "\n",
        "plt.title('Función validation_curve() para Decision Tree')\n",
        "plt.xlabel('Valores del parámetro max_depth')\n",
        "plt.ylabel('Accuracy')\n",
        "plt.grid(b=True)\n",
        "plt.legend(loc='lower right')\n",
        "plt.show()"
      ],
      "metadata": {
        "outputId": "ee5c1d14-e1df-4190-95e7-b580ce690fb4",
        "colab": {
          "base_uri": "https://localhost:8080/",
          "height": 301
        },
        "id": "2PoJS1wRu2Ft"
      },
      "execution_count": null,
      "outputs": [
        {
          "output_type": "display_data",
          "data": {
            "text/plain": [
              "<Figure size 576x288 with 1 Axes>"
            ],
            "image/png": "[encoded data removed]"
          },
          "metadata": {}
        }
      ]
    },
    {
      "cell_type": "markdown",
      "source": [
        "Y observamos que después de max_depth 10 ya no existen cambios significativos para las curvas de training o validación, asi que nos quedamos con un máximo de 10 para el gridsearch para este parámetro:"
      ],
      "metadata": {
        "id": "_vGZ9zD6tZdg"
      }
    },
    {
      "cell_type": "code",
      "source": [
        "#obtenemos el modelo y los parámetros\n",
        "modeloDTC_iter = DecisionTreeClassifier()\n",
        "cvSVM = RepeatedStratifiedKFold(n_splits=5, n_repeats=3, random_state=1)\n",
        "\n",
        "dicc_grid = [{'ccp_alpha':[0.0001,0.01,0.1,1.0,10.,100],'criterion':['gini','entropy'],\n",
        "             'max_depth':[1,2,3,4,5,6,7,8,9,10],'min_samples_split':[2,3,4,5,6],'class_weight':['balanced', None]}]\n",
        "\n",
        "grid3 = GridSearchCV(estimator=modeloDTC_iter, \n",
        "                    param_grid=dicc_grid, \n",
        "                    cv=cvSVM, \n",
        "                    scoring='accuracy',\n",
        "                    n_jobs=-1,\n",
        "                    error_score='raise')"
      ],
      "metadata": {
        "id": "BRNMSWvPu2Ft"
      },
      "execution_count": null,
      "outputs": []
    },
    {
      "cell_type": "markdown",
      "source": [
        "Corremos el grid search:"
      ],
      "metadata": {
        "id": "DoNJBjewtdcP"
      }
    },
    {
      "cell_type": "code",
      "source": [
        "grid3.fit(Xtv_cat, np.ravel(ytv_cat))\n",
        "\n",
        "print('Mejor valor de accuracy obtenido con la mejor combinación:', grid3.best_score_)\n",
        "print('Mejor combinación de valores encontrados de los hiperparámetros:', grid3.best_params_)\n",
        "print('Métrica utilizada:', grid3.scoring)\n",
        "print('Mejor Index:',grid3.best_index_)\n",
        "\n",
        "grid_splits.append(grid3)"
      ],
      "metadata": {
        "colab": {
          "base_uri": "https://localhost:8080/"
        },
        "outputId": "7d9027cb-5bb9-4073-addd-acfebab592b3",
        "id": "0PTPjamSu2Fu"
      },
      "execution_count": null,
      "outputs": [
        {
          "output_type": "stream",
          "name": "stdout",
          "text": [
            "Mejor valor de accuracy obtenido con la mejor combinación: 0.9802607076350093\n",
            "Mejor combinación de valores encontrados de los hiperparámetros: {'ccp_alpha': 0.0001, 'class_weight': None, 'criterion': 'entropy', 'max_depth': 10, 'min_samples_split': 3}\n",
            "Métrica utilizada: accuracy\n",
            "Mejor Index: 196\n"
          ]
        }
      ]
    },
    {
      "cell_type": "markdown",
      "source": [
        "Observamos un accuracy del 98.03% máximo con los hiper parámetros. Ahora probamos el modelo con sus hiper parámetros para los datos de prueba:"
      ],
      "metadata": {
        "id": "RwWLS24htgKn"
      }
    },
    {
      "cell_type": "code",
      "source": [
        "model_DTC_cat = DecisionTreeClassifier(**grid3.best_params_)\n",
        "\n",
        "model_DTC_cat.fit(Xtv_cat, np.ravel(ytv_cat))\n",
        "yhat_cat = model_DTC_cat.predict(Xtest_cat)\n",
        "\n",
        "score_list.append(get_scores(ytest_cat,yhat_cat, 'DTC cat'))"
      ],
      "metadata": {
        "colab": {
          "base_uri": "https://localhost:8080/"
        },
        "outputId": "344be420-005a-4520-ec69-7b0c0c8f940c",
        "id": "UzqKtJ58u2Fu"
      },
      "execution_count": null,
      "outputs": [
        {
          "output_type": "stream",
          "name": "stdout",
          "text": [
            "Accuracy: 0.9937106918238994\n",
            "f1_score: 0.9937106918238994\n",
            "Precision: 0.9937106918238994\n",
            "Recall: 0.9937106918238994\n"
          ]
        }
      ]
    },
    {
      "cell_type": "markdown",
      "source": [
        "Donde observamos que accuracy incrementa a 99.4%. Lo cual es muy buena indicación de que está generalizando correctamente."
      ],
      "metadata": {
        "id": "trF_kBnrtnsv"
      }
    },
    {
      "cell_type": "markdown",
      "source": [
        "* Random Forest variables categóricas de calidad de entrada:"
      ],
      "metadata": {
        "id": "sAMYDTx3u2Fu"
      }
    },
    {
      "cell_type": "markdown",
      "source": [
        "Comenzamos viendo la curva de aprendizaje para el parámetro de max_depth:"
      ],
      "metadata": {
        "id": "e5RAJpEdtzFn"
      }
    },
    {
      "cell_type": "code",
      "source": [
        "#obtenemos el modelo y los parametros de cross validation\n",
        "modeloVC = RandomForestClassifier()\n",
        "cvVC = RepeatedStratifiedKFold(n_splits=5, n_repeats=3, random_state=1)\n",
        "\n",
        "delta_max_depth = np.linspace(1, 20, 20)\n",
        "\n",
        "train_scores, valid_scores = validation_curve(modeloVC, \n",
        "                                              Xtv_cat, \n",
        "                                              np.ravel(ytv_cat), \n",
        "                                              param_name=\"max_depth\", \n",
        "                                              param_range=delta_max_depth,\n",
        "                                              cv=cvVC,\n",
        "                                              scoring='accuracy')\n",
        "\n",
        "train_mean = np.mean(train_scores, axis=1)\n",
        "train_std = np.std(train_scores, axis=1)\n",
        "valid_mean = np.mean(valid_scores, axis=1)\n",
        "valid_std = np.std(valid_scores, axis=1)\n",
        "\n",
        "# Curva de entrenamiento con la métrica de exactitud (accuracy):\n",
        "plt.plot(delta_max_depth, train_mean, color='blue', marker='o', markersize=5, label='Training')\n",
        "\n",
        "# Curva de validación:\n",
        "plt.plot(delta_max_depth, valid_mean, color='red', marker='o', markersize=5, label='Validation')\n",
        "\n",
        "plt.title('Función validation_curve() para Random Forest')\n",
        "plt.xlabel('Valores del parámetro max_depth')\n",
        "plt.ylabel('Accuracy')\n",
        "plt.grid(b=True)\n",
        "plt.legend(loc='lower right')\n",
        "plt.show()"
      ],
      "metadata": {
        "outputId": "8ee99b3d-2496-4f5d-f038-5ac581aee9c7",
        "colab": {
          "base_uri": "https://localhost:8080/",
          "height": 301
        },
        "id": "DKssLygru2Fu"
      },
      "execution_count": null,
      "outputs": [
        {
          "output_type": "display_data",
          "data": {
            "text/plain": [
              "<Figure size 576x288 with 1 Axes>"
            ],
            "image/png": "[encoded data removed]"
          },
          "metadata": {}
        }
      ]
    },
    {
      "cell_type": "markdown",
      "source": [
        "Y observamos que después de max_depth 10 ya no existen cambios significativos para las curvas de training o validación, así como que previo a 4 la métrica de accuracy aún sigue pudiendo subir. Por lo que nos quedamos con un mínimo de 4 y un máximo de 10 para el gridsearch de este parámetro:"
      ],
      "metadata": {
        "id": "DcOgWj2Gt3So"
      }
    },
    {
      "cell_type": "code",
      "source": [
        "#obtenemos el modelo y los parámetros\n",
        "modeloRFC_iter = RandomForestClassifier()\n",
        "cvSVM = RepeatedStratifiedKFold(n_splits=5, n_repeats=3, random_state=1)\n",
        "\n",
        "dicc_grid = [{'ccp_alpha':[0.0001,0.01,0.1,1.0,10.,100],'criterion':['gini','entropy'],\n",
        "             'max_depth':[4,5,6,7,8,9,10],'min_samples_split':[2,3,4,5,6],'class_weight':['balanced', None]}]\n",
        "\n",
        "grid4 = GridSearchCV(estimator=modeloDTC_iter, \n",
        "                    param_grid=dicc_grid, \n",
        "                    cv=cvSVM, \n",
        "                    scoring='accuracy',\n",
        "                    n_jobs=-1,\n",
        "                    error_score='raise')"
      ],
      "metadata": {
        "id": "cCbk3geDu2Fv"
      },
      "execution_count": null,
      "outputs": []
    },
    {
      "cell_type": "markdown",
      "source": [
        "Corremos el grid search:"
      ],
      "metadata": {
        "id": "_GnI9_Wat4-I"
      }
    },
    {
      "cell_type": "code",
      "source": [
        "grid4.fit(Xtv_cat, np.ravel(ytv_cat))\n",
        "\n",
        "print('Mejor valor de accuracy obtenido con la mejor combinación:', grid4.best_score_)\n",
        "print('Mejor combinación de valores encontrados de los hiperparámetros:', grid4.best_params_)\n",
        "print('Métrica utilizada:', grid4.scoring)\n",
        "print('Mejor Index:',grid4.best_index_)\n",
        "\n",
        "grid_splits.append(grid4)"
      ],
      "metadata": {
        "colab": {
          "base_uri": "https://localhost:8080/"
        },
        "id": "vVhJNyInu2Fv",
        "outputId": "962770b3-8a4b-4c44-f3c9-8910635cfba8"
      },
      "execution_count": null,
      "outputs": [
        {
          "output_type": "stream",
          "name": "stdout",
          "text": [
            "Mejor valor de accuracy obtenido con la mejor combinación: 0.980633147113594\n",
            "Mejor combinación de valores encontrados de los hiperparámetros: {'ccp_alpha': 0.0001, 'class_weight': None, 'criterion': 'entropy', 'max_depth': 10, 'min_samples_split': 4}\n",
            "Métrica utilizada: accuracy\n",
            "Mejor Index: 137\n"
          ]
        }
      ]
    },
    {
      "cell_type": "markdown",
      "source": [
        "Observamos un accuracy del 98.06% máximo con los hiper parámetros. Ahora probamos el modelo con sus hiper parámetros para los datos de prueba:"
      ],
      "metadata": {
        "id": "e2bQo8CCt8uQ"
      }
    },
    {
      "cell_type": "code",
      "source": [
        "model_RFC_cat = RandomForestClassifier(**grid4.best_params_)\n",
        "\n",
        "model_RFC_cat.fit(Xtv_cat, np.ravel(ytv_cat))\n",
        "#realizamos las predicciones\n",
        "yhat_cat = model_RFC_cat.predict(Xtest_cat)\n",
        "\n",
        "score_list.append(get_scores(ytest_cat,yhat_cat, 'RFC cat'))"
      ],
      "metadata": {
        "colab": {
          "base_uri": "https://localhost:8080/"
        },
        "id": "m9Kfr8z5u2Fv",
        "outputId": "71564a12-c4d7-408b-f774-713aa9607404"
      },
      "execution_count": null,
      "outputs": [
        {
          "output_type": "stream",
          "name": "stdout",
          "text": [
            "Accuracy: 1.0\n",
            "f1_score: 1.0\n",
            "Precision: 1.0\n",
            "Recall: 1.0\n"
          ]
        }
      ]
    },
    {
      "cell_type": "markdown",
      "source": [
        "Donde observamos que accuracy incrementa a 100%. Lo cual es muy buena indicación de que está generalizando perfectamente."
      ],
      "metadata": {
        "id": "5vdHHQeJuBJh"
      }
    },
    {
      "cell_type": "markdown",
      "source": [
        "### **Explora que clasificador es el más optimo, ejemplo:**"
      ],
      "metadata": {
        "id": "GPPW6lSM5D7p"
      }
    },
    {
      "cell_type": "markdown",
      "source": [
        "Obtenemos los resultados de cada split del cross validation hecho en cada gridsearch:"
      ],
      "metadata": {
        "id": "K1wWypsgfn7a"
      }
    },
    {
      "cell_type": "code",
      "source": [
        "tot_resultados_cv = list()\n",
        "for grid in grid_splits:\n",
        "  indx = grid.best_index_\n",
        "  resultados_cv = list()\n",
        "  for i in range(15):\n",
        "    resultados_cv.append(grid.cv_results_['split' + str(i) + '_test_score'][indx])\n",
        "  tot_resultados_cv.append(resultados_cv)"
      ],
      "metadata": {
        "id": "qg69CEdVaueR"
      },
      "execution_count": null,
      "outputs": []
    },
    {
      "cell_type": "markdown",
      "source": [
        "Generamos una lista con los nombres de cada modelo:"
      ],
      "metadata": {
        "id": "CBEQBKY-fu4j"
      }
    },
    {
      "cell_type": "code",
      "source": [
        "scores = list()\n",
        "for scor in score_list:\n",
        "  scores.append(scor[0])"
      ],
      "metadata": {
        "id": "xe6Dxg5rcKrD"
      },
      "execution_count": null,
      "outputs": []
    },
    {
      "cell_type": "markdown",
      "source": [
        "Visualizamos en boxplots la distribución de los resultados de accuracy para cada modelo:"
      ],
      "metadata": {
        "id": "n8gnONHTfwiI"
      }
    },
    {
      "cell_type": "code",
      "source": [
        "sns.set(rc={'figure.figsize':(8,4)})\n",
        "plt.boxplot(tot_resultados_cv, labels=scores, showmeans=True)\n",
        "plt.show()"
      ],
      "metadata": {
        "id": "MUtC2uvbbyGC",
        "outputId": "af1be12f-36a2-44ce-945d-ffd4ece54e5c",
        "colab": {
          "base_uri": "https://localhost:8080/",
          "height": 268
        }
      },
      "execution_count": null,
      "outputs": [
        {
          "output_type": "display_data",
          "data": {
            "text/plain": [
              "<Figure size 576x288 with 1 Axes>"
            ],
            "image/png": "[encoded data removed]"
          },
          "metadata": {}
        }
      ]
    },
    {
      "cell_type": "markdown",
      "source": [
        "Donde observamos que los resultados con menos varianza para cada split, son los de los modelos categóricos. Así mismo, el promedio más alto es también para los categóricos. Por lo que nos quedamos con el modelo de Random Forest con variables categóricas de calidad, ya que entre los dos modelos con variables categóricas, es el que arroja mejores resultados para los datos de prueba:"
      ],
      "metadata": {
        "id": "EqVdphl2f2mJ"
      }
    },
    {
      "cell_type": "code",
      "source": [
        "best_RFC_model = RandomForestClassifier(**grid4.best_params_)\n",
        "\n",
        "best_RFC_model.fit(Xtv_cat, np.ravel(ytv_cat))\n",
        "yhat = best_RFC_model.predict(Xtest_cat)\n",
        "\n",
        "print('Accuracy:',accuracy_score(ytest_cat,yhat))\n",
        "print('F1-score:',f1_score(ytest_cat,yhat,average='micro'))\n",
        "print('Precision:',precision_score(ytest_cat,yhat,average='micro'))\n",
        "print('Recall:',recall_score(ytest_cat,yhat,average='micro'))"
      ],
      "metadata": {
        "id": "6pViLYS_gMlx",
        "outputId": "1660b398-6594-4679-d305-5de5994d92e8",
        "colab": {
          "base_uri": "https://localhost:8080/"
        }
      },
      "execution_count": null,
      "outputs": [
        {
          "output_type": "stream",
          "name": "stdout",
          "text": [
            "Accuracy: 1.0\n",
            "F1-score: 1.0\n",
            "Precision: 1.0\n",
            "Recall: 1.0\n"
          ]
        }
      ]
    },
    {
      "cell_type": "markdown",
      "source": [
        "Un 100% en todas las métricas."
      ],
      "metadata": {
        "id": "oEWHbaoNuVyA"
      }
    },
    {
      "cell_type": "markdown",
      "source": [
        "### **Determina el grado de exactitud a través del reporte de clasificación y análisis de la gráfica de Precision Recall.**"
      ],
      "metadata": {
        "id": "Nzjo_26FhaaB"
      }
    },
    {
      "cell_type": "markdown",
      "source": [
        "* Reporte de clasificacion:"
      ],
      "metadata": {
        "id": "kZJPC9LGh8Nv"
      }
    },
    {
      "cell_type": "code",
      "source": [
        "target_names = ['Verde', 'Amarillo', 'Rojo']\n",
        "print(classification_report(ytest_cat, yhat, target_names=target_names))"
      ],
      "metadata": {
        "id": "BdU45pE9hc-3",
        "outputId": "fbe03f5e-92e6-4042-923c-d78694d6ec61",
        "colab": {
          "base_uri": "https://localhost:8080/"
        }
      },
      "execution_count": null,
      "outputs": [
        {
          "output_type": "stream",
          "name": "stdout",
          "text": [
            "              precision    recall  f1-score   support\n",
            "\n",
            "       Verde       1.00      1.00      1.00        64\n",
            "    Amarillo       1.00      1.00      1.00        37\n",
            "        Rojo       1.00      1.00      1.00        58\n",
            "\n",
            "    accuracy                           1.00       159\n",
            "   macro avg       1.00      1.00      1.00       159\n",
            "weighted avg       1.00      1.00      1.00       159\n",
            "\n"
          ]
        }
      ]
    },
    {
      "cell_type": "markdown",
      "source": [
        "Validamos que tenemos un 100% de exactitud"
      ],
      "metadata": {
        "id": "NkU20bQZpVqa"
      }
    },
    {
      "cell_type": "markdown",
      "source": [
        "* Grafica de Precision-Recall"
      ],
      "metadata": {
        "id": "-UgHffKNh-TH"
      }
    },
    {
      "cell_type": "markdown",
      "source": [
        "Aplicamos one-hot encoder a los datos de Y de prueba, así como a las predicciones. Ya que es necesario hacer una curva para cada clase"
      ],
      "metadata": {
        "id": "i6xOMinxpZ7S"
      }
    },
    {
      "cell_type": "code",
      "source": [
        "Y_ohe = OneHotEncoder()\n",
        "Y_fitted = Y_ohe.fit(Y)\n",
        "y_test_multicolum = Y_fitted.transform(ytest_cat).toarray()\n",
        "y_hat_multicolum = Y_fitted.transform(pd.DataFrame(yhat,columns=['SEMAFORO'])).toarray()"
      ],
      "metadata": {
        "id": "ThZrpJJniGpH"
      },
      "execution_count": null,
      "outputs": []
    },
    {
      "cell_type": "markdown",
      "source": [
        "Generamos las curvas de precision vs. recall de cada clase:"
      ],
      "metadata": {
        "id": "8Imk6AVGp3Ko"
      }
    },
    {
      "cell_type": "code",
      "source": [
        "precision = dict()\n",
        "recall = dict()\n",
        "clases = ['Verde','Amarillo','Rojo']\n",
        "for i in range(3):\n",
        "    precision[i], recall[i], _ = precision_recall_curve(y_test_multicolum[:, i],\n",
        "                                                        y_hat_multicolum[:, i])\n",
        "    plt.plot(recall[i], precision[i], lw=2, label=clases[i])\n",
        "plt.xlabel(\"recall\")\n",
        "plt.ylabel(\"precision\")\n",
        "plt.legend(loc=\"best\")\n",
        "plt.show()"
      ],
      "metadata": {
        "id": "G__H9qoukmsB",
        "outputId": "8183eaf2-ad55-4cfa-ffca-9f5c44c7ba6c",
        "colab": {
          "base_uri": "https://localhost:8080/",
          "height": 285
        }
      },
      "execution_count": null,
      "outputs": [
        {
          "output_type": "display_data",
          "data": {
            "text/plain": [
              "<Figure size 576x288 with 1 Axes>"
            ],
            "image/png": "[encoded data removed]"
          },
          "metadata": {}
        }
      ]
    },
    {
      "cell_type": "markdown",
      "source": [
        "Observamos una exactitud del 100% para cada clase con los datos de prueba."
      ],
      "metadata": {
        "id": "BArR-6V3qJ_A"
      }
    },
    {
      "cell_type": "markdown",
      "source": [
        "Generamos como complemento una curva de ROC para cada clase:"
      ],
      "metadata": {
        "id": "sg5agPsaqNmY"
      }
    },
    {
      "cell_type": "code",
      "source": [
        "fpr = dict()\n",
        "tpr = dict()\n",
        "\n",
        "for i in range(3):\n",
        "    fpr[i], tpr[i], _ = roc_curve(y_test_multicolum[:, i],\n",
        "                                  y_hat_multicolum[:, i])\n",
        "    plt.plot(fpr[i], tpr[i], lw=2, label=clases[i])\n",
        "\n",
        "plt.xlabel(\"false positive rate\")\n",
        "plt.ylabel(\"true positive rate\")\n",
        "plt.legend(loc=\"best\")\n",
        "plt.title(\"ROC curve\")\n",
        "plt.show()"
      ],
      "metadata": {
        "id": "oA97G6ZomLy4",
        "outputId": "b6d13cea-3d5b-4a58-97b3-fe9770dc59d3",
        "colab": {
          "base_uri": "https://localhost:8080/",
          "height": 301
        }
      },
      "execution_count": null,
      "outputs": [
        {
          "output_type": "display_data",
          "data": {
            "text/plain": [
              "<Figure size 576x288 with 1 Axes>"
            ],
            "image/png": "[encoded data removed]"
          },
          "metadata": {}
        }
      ]
    },
    {
      "cell_type": "markdown",
      "source": [
        "Donde igual obtenemos un 100% de area bajo la curva."
      ],
      "metadata": {
        "id": "ffvU_JyzqR-w"
      }
    },
    {
      "cell_type": "markdown",
      "source": [
        "### **Visualiza los resultados del modelo o las predicciones a través de una matriz de confusión.**"
      ],
      "metadata": {
        "id": "2C8rg3OKmlHQ"
      }
    },
    {
      "cell_type": "markdown",
      "source": [
        "Generamos la matriz de confusión:"
      ],
      "metadata": {
        "id": "LL6x2VfupK0J"
      }
    },
    {
      "cell_type": "code",
      "source": [
        "cm = confusion_matrix(ytest_cat, yhat)"
      ],
      "metadata": {
        "id": "b0xKN7wFmnBw"
      },
      "execution_count": null,
      "outputs": []
    },
    {
      "cell_type": "markdown",
      "source": [
        "La visualizamos:"
      ],
      "metadata": {
        "id": "d2tDrAM1pMRo"
      }
    },
    {
      "cell_type": "code",
      "source": [
        "df_cm = pd.DataFrame(cm, index = ['Verde','Amarillo','Rojo'], columns = ['Verde','Amarillo','Rojo'])\n",
        "plt.figure(figsize = (5,5))\n",
        "ax = sns.heatmap(df_cm, annot=True, cmap='OrRd', cbar=False)\n",
        "ax.set(ylabel=\"Etiquetas Reales\", xlabel=\"Etiquetas de Predicción\")"
      ],
      "metadata": {
        "id": "Z8PfNQxxnqoy",
        "outputId": "fe37abfb-1877-48ee-b8b4-694e2203266c",
        "colab": {
          "base_uri": "https://localhost:8080/",
          "height": 375
        }
      },
      "execution_count": null,
      "outputs": [
        {
          "output_type": "execute_result",
          "data": {
            "text/plain": [
              "[Text(21.499999999999996, 0.5, 'Etiquetas Reales'),\n",
              " Text(0.5, 21.5, 'Etiquetas de Predicción')]"
            ]
          },
          "metadata": {},
          "execution_count": 154
        },
        {
          "output_type": "display_data",
          "data": {
            "text/plain": [
              "<Figure size 360x360 with 1 Axes>"
            ],
            "image/png": "[encoded data removed]"
          },
          "metadata": {}
        }
      ]
    },
    {
      "cell_type": "markdown",
      "source": [
        "Y encontramos que el modelo consiguió predecir con un 100% de exactitud los datos de prueba. Lo cual nos dice que nuestro modelo generaliza y predice correctamente."
      ],
      "metadata": {
        "id": "mqHhOpGNpNuo"
      }
    },
    {
      "cell_type": "markdown",
      "source": [
        "# **AGUAS SUPERFICIALES**"
      ],
      "metadata": {
        "id": "DugzRufWG_AN"
      }
    },
    {
      "cell_type": "code",
      "source": [
        "url = 'https://github.com/PosgradoMNA/actividades-del-projecto-equipo-52/blob/main/aguas_superficiales.csv?raw=true'\n",
        "\n",
        "data_asp = pd.read_csv(url,sep=\",\")\n",
        "print(data_asp.shape)\n",
        "data_asp.head()"
      ],
      "metadata": {
        "colab": {
          "base_uri": "https://localhost:8080/",
          "height": 335
        },
        "outputId": "b58ef632-382d-4431-dafa-7049436f1462",
        "id": "LgSR0huJHHDq"
      },
      "execution_count": 2,
      "outputs": [
        {
          "output_type": "stream",
          "name": "stdout",
          "text": [
            "(3479, 35)\n"
          ]
        },
        {
          "output_type": "execute_result",
          "data": {
            "text/plain": [
              "      CLAVE   LONGITUD   LATITUD  ORGANISMO_DE_CUENCA  SUBTIPO  GRUPO  \\\n",
              "0    DLAGU8 -102.33911  22.24730                  6.0     22.0    1.0   \n",
              "1  DLBAJ100 -109.84290  22.90473                 10.0     21.0    0.0   \n",
              "2  DLBAJ101 -109.86442  22.89880                 10.0     21.0    0.0   \n",
              "3  DLBAJ102 -109.88604  22.89609                 10.0      2.0    0.0   \n",
              "4  DLBAJ103 -109.89657  22.87694                 10.0      2.0    0.0   \n",
              "\n",
              "   DBO_mg/L  DQO_mg/L  SST_mg/L  COLI_FEC_NMP_100mL  ...  CALIDAD_ENTEROC  \\\n",
              "0  1.024631  1.138962  1.003678            1.000431  ...                0   \n",
              "1  1.000000  1.000000  1.000000            1.000000  ...                1   \n",
              "2  1.000000  1.000000  1.000000            1.000000  ...                1   \n",
              "3  1.000000  1.000000  1.003885            1.000000  ...                1   \n",
              "4  1.000000  1.000000  1.000000            1.000000  ...                1   \n",
              "\n",
              "   CALIDAD_OD_PORC  CALIDAD_OD_PORC_SUP  CALIDAD_OD_PORC_MED  \\\n",
              "0                0                    3                    0   \n",
              "1                0                    1                    1   \n",
              "2                0                    1                    1   \n",
              "3                0                    0                    0   \n",
              "4                0                    1                    1   \n",
              "\n",
              "   CALIDAD_OD_PORC_FON  CALIDAD_TOX_D_48  CALIDAD_TOX_V_15  \\\n",
              "0                    0                 0                 0   \n",
              "1                    1                 0                 0   \n",
              "2                    1                 0                 0   \n",
              "3                    1                 0                 0   \n",
              "4                    1                 0                 0   \n",
              "\n",
              "   CALIDAD TOX_D_48_SUP  CALIDAD_TOX_FIS_SUP_15  SEMAFORO  \n",
              "0                     1                       1         3  \n",
              "1                     0                       1         1  \n",
              "2                     0                       1         1  \n",
              "3                     0                       1         1  \n",
              "4                     0                       1         1  \n",
              "\n",
              "[5 rows x 35 columns]"
            ],
            "text/html": [
              "\n",
              "  <div id=\"df-04f243dd-558d-415e-9550-82a86b5c9503\">\n",
              "    <div class=\"colab-df-container\">\n",
              "      <div>\n",
              "<style scoped>\n",
              "    .dataframe tbody tr th:only-of-type {\n",
              "        vertical-align: middle;\n",
              "    }\n",
              "\n",
              "    .dataframe tbody tr th {\n",
              "        vertical-align: top;\n",
              "    }\n",
              "\n",
              "    .dataframe thead th {\n",
              "        text-align: right;\n",
              "    }\n",
              "</style>\n",
              "<table border=\"1\" class=\"dataframe\">\n",
              "  <thead>\n",
              "    <tr style=\"text-align: right;\">\n",
              "      <th></th>\n",
              "      <th>CLAVE</th>\n",
              "      <th>LONGITUD</th>\n",
              "      <th>LATITUD</th>\n",
              "      <th>ORGANISMO_DE_CUENCA</th>\n",
              "      <th>SUBTIPO</th>\n",
              "      <th>GRUPO</th>\n",
              "      <th>DBO_mg/L</th>\n",
              "      <th>DQO_mg/L</th>\n",
              "      <th>SST_mg/L</th>\n",
              "      <th>COLI_FEC_NMP_100mL</th>\n",
              "      <th>...</th>\n",
              "      <th>CALIDAD_ENTEROC</th>\n",
              "      <th>CALIDAD_OD_PORC</th>\n",
              "      <th>CALIDAD_OD_PORC_SUP</th>\n",
              "      <th>CALIDAD_OD_PORC_MED</th>\n",
              "      <th>CALIDAD_OD_PORC_FON</th>\n",
              "      <th>CALIDAD_TOX_D_48</th>\n",
              "      <th>CALIDAD_TOX_V_15</th>\n",
              "      <th>CALIDAD TOX_D_48_SUP</th>\n",
              "      <th>CALIDAD_TOX_FIS_SUP_15</th>\n",
              "      <th>SEMAFORO</th>\n",
              "    </tr>\n",
              "  </thead>\n",
              "  <tbody>\n",
              "    <tr>\n",
              "      <th>0</th>\n",
              "      <td>DLAGU8</td>\n",
              "      <td>-102.33911</td>\n",
              "      <td>22.24730</td>\n",
              "      <td>6.0</td>\n",
              "      <td>22.0</td>\n",
              "      <td>1.0</td>\n",
              "      <td>1.024631</td>\n",
              "      <td>1.138962</td>\n",
              "      <td>1.003678</td>\n",
              "      <td>1.000431</td>\n",
              "      <td>...</td>\n",
              "      <td>0</td>\n",
              "      <td>0</td>\n",
              "      <td>3</td>\n",
              "      <td>0</td>\n",
              "      <td>0</td>\n",
              "      <td>0</td>\n",
              "      <td>0</td>\n",
              "      <td>1</td>\n",
              "      <td>1</td>\n",
              "      <td>3</td>\n",
              "    </tr>\n",
              "    <tr>\n",
              "      <th>1</th>\n",
              "      <td>DLBAJ100</td>\n",
              "      <td>-109.84290</td>\n",
              "      <td>22.90473</td>\n",
              "      <td>10.0</td>\n",
              "      <td>21.0</td>\n",
              "      <td>0.0</td>\n",
              "      <td>1.000000</td>\n",
              "      <td>1.000000</td>\n",
              "      <td>1.000000</td>\n",
              "      <td>1.000000</td>\n",
              "      <td>...</td>\n",
              "      <td>1</td>\n",
              "      <td>0</td>\n",
              "      <td>1</td>\n",
              "      <td>1</td>\n",
              "      <td>1</td>\n",
              "      <td>0</td>\n",
              "      <td>0</td>\n",
              "      <td>0</td>\n",
              "      <td>1</td>\n",
              "      <td>1</td>\n",
              "    </tr>\n",
              "    <tr>\n",
              "      <th>2</th>\n",
              "      <td>DLBAJ101</td>\n",
              "      <td>-109.86442</td>\n",
              "      <td>22.89880</td>\n",
              "      <td>10.0</td>\n",
              "      <td>21.0</td>\n",
              "      <td>0.0</td>\n",
              "      <td>1.000000</td>\n",
              "      <td>1.000000</td>\n",
              "      <td>1.000000</td>\n",
              "      <td>1.000000</td>\n",
              "      <td>...</td>\n",
              "      <td>1</td>\n",
              "      <td>0</td>\n",
              "      <td>1</td>\n",
              "      <td>1</td>\n",
              "      <td>1</td>\n",
              "      <td>0</td>\n",
              "      <td>0</td>\n",
              "      <td>0</td>\n",
              "      <td>1</td>\n",
              "      <td>1</td>\n",
              "    </tr>\n",
              "    <tr>\n",
              "      <th>3</th>\n",
              "      <td>DLBAJ102</td>\n",
              "      <td>-109.88604</td>\n",
              "      <td>22.89609</td>\n",
              "      <td>10.0</td>\n",
              "      <td>2.0</td>\n",
              "      <td>0.0</td>\n",
              "      <td>1.000000</td>\n",
              "      <td>1.000000</td>\n",
              "      <td>1.003885</td>\n",
              "      <td>1.000000</td>\n",
              "      <td>...</td>\n",
              "      <td>1</td>\n",
              "      <td>0</td>\n",
              "      <td>0</td>\n",
              "      <td>0</td>\n",
              "      <td>1</td>\n",
              "      <td>0</td>\n",
              "      <td>0</td>\n",
              "      <td>0</td>\n",
              "      <td>1</td>\n",
              "      <td>1</td>\n",
              "    </tr>\n",
              "    <tr>\n",
              "      <th>4</th>\n",
              "      <td>DLBAJ103</td>\n",
              "      <td>-109.89657</td>\n",
              "      <td>22.87694</td>\n",
              "      <td>10.0</td>\n",
              "      <td>2.0</td>\n",
              "      <td>0.0</td>\n",
              "      <td>1.000000</td>\n",
              "      <td>1.000000</td>\n",
              "      <td>1.000000</td>\n",
              "      <td>1.000000</td>\n",
              "      <td>...</td>\n",
              "      <td>1</td>\n",
              "      <td>0</td>\n",
              "      <td>1</td>\n",
              "      <td>1</td>\n",
              "      <td>1</td>\n",
              "      <td>0</td>\n",
              "      <td>0</td>\n",
              "      <td>0</td>\n",
              "      <td>1</td>\n",
              "      <td>1</td>\n",
              "    </tr>\n",
              "  </tbody>\n",
              "</table>\n",
              "<p>5 rows × 35 columns</p>\n",
              "</div>\n",
              "      <button class=\"colab-df-convert\" onclick=\"convertToInteractive('df-04f243dd-558d-415e-9550-82a86b5c9503')\"\n",
              "              title=\"Convert this dataframe to an interactive table.\"\n",
              "              style=\"display:none;\">\n",
              "        \n",
              "  <svg xmlns=\"http://www.w3.org/2000/svg\" height=\"24px\"viewBox=\"0 0 24 24\"\n",
              "       width=\"24px\">\n",
              "    <path d=\"M0 0h24v24H0V0z\" fill=\"none\"/>\n",
              "    <path d=\"M18.56 5.44l.94 2.06.94-2.06 2.06-.94-2.06-.94-.94-2.06-.94 2.06-2.06.94zm-11 1L8.5 8.5l.94-2.06 2.06-.94-2.06-.94L8.5 2.5l-.94 2.06-2.06.94zm10 10l.94 2.06.94-2.06 2.06-.94-2.06-.94-.94-2.06-.94 2.06-2.06.94z\"/><path d=\"M17.41 7.96l-1.37-1.37c-.4-.4-.92-.59-1.43-.59-.52 0-1.04.2-1.43.59L10.3 9.45l-7.72 7.72c-.78.78-.78 2.05 0 2.83L4 21.41c.39.39.9.59 1.41.59.51 0 1.02-.2 1.41-.59l7.78-7.78 2.81-2.81c.8-.78.8-2.07 0-2.86zM5.41 20L4 18.59l7.72-7.72 1.47 1.35L5.41 20z\"/>\n",
              "  </svg>\n",
              "      </button>\n",
              "      \n",
              "  <style>\n",
              "    .colab-df-container {\n",
              "      display:flex;\n",
              "      flex-wrap:wrap;\n",
              "      gap: 12px;\n",
              "    }\n",
              "\n",
              "    .colab-df-convert {\n",
              "      background-color: #E8F0FE;\n",
              "      border: none;\n",
              "      border-radius: 50%;\n",
              "      cursor: pointer;\n",
              "      display: none;\n",
              "      fill: #1967D2;\n",
              "      height: 32px;\n",
              "      padding: 0 0 0 0;\n",
              "      width: 32px;\n",
              "    }\n",
              "\n",
              "    .colab-df-convert:hover {\n",
              "      background-color: #E2EBFA;\n",
              "      box-shadow: 0px 1px 2px rgba(60, 64, 67, 0.3), 0px 1px 3px 1px rgba(60, 64, 67, 0.15);\n",
              "      fill: #174EA6;\n",
              "    }\n",
              "\n",
              "    [theme=dark] .colab-df-convert {\n",
              "      background-color: #3B4455;\n",
              "      fill: #D2E3FC;\n",
              "    }\n",
              "\n",
              "    [theme=dark] .colab-df-convert:hover {\n",
              "      background-color: #434B5C;\n",
              "      box-shadow: 0px 1px 3px 1px rgba(0, 0, 0, 0.15);\n",
              "      filter: drop-shadow(0px 1px 2px rgba(0, 0, 0, 0.3));\n",
              "      fill: #FFFFFF;\n",
              "    }\n",
              "  </style>\n",
              "\n",
              "      <script>\n",
              "        const buttonEl =\n",
              "          document.querySelector('#df-04f243dd-558d-415e-9550-82a86b5c9503 button.colab-df-convert');\n",
              "        buttonEl.style.display =\n",
              "          google.colab.kernel.accessAllowed ? 'block' : 'none';\n",
              "\n",
              "        async function convertToInteractive(key) {\n",
              "          const element = document.querySelector('#df-04f243dd-558d-415e-9550-82a86b5c9503');\n",
              "          const dataTable =\n",
              "            await google.colab.kernel.invokeFunction('convertToInteractive',\n",
              "                                                     [key], {});\n",
              "          if (!dataTable) return;\n",
              "\n",
              "          const docLinkHtml = 'Like what you see? Visit the ' +\n",
              "            '<a target=\"_blank\" href=https://colab.research.google.com/notebooks/data_table.ipynb>data table notebook</a>'\n",
              "            + ' to learn more about interactive tables.';\n",
              "          element.innerHTML = '';\n",
              "          dataTable['output_type'] = 'display_data';\n",
              "          await google.colab.output.renderOutput(dataTable, element);\n",
              "          const docLink = document.createElement('div');\n",
              "          docLink.innerHTML = docLinkHtml;\n",
              "          element.appendChild(docLink);\n",
              "        }\n",
              "      </script>\n",
              "    </div>\n",
              "  </div>\n",
              "  "
            ]
          },
          "metadata": {},
          "execution_count": 2
        }
      ]
    },
    {
      "cell_type": "markdown",
      "source": [
        "### **Selecciona tus variables independientes X y dependiente Y (semáforo)**"
      ],
      "metadata": {
        "id": "b9yrvP8BHHDr"
      }
    },
    {
      "cell_type": "markdown",
      "source": [
        "Separamos las columnas en base a su tipo de variable:"
      ],
      "metadata": {
        "id": "Kg3f309UHHDr"
      }
    },
    {
      "cell_type": "code",
      "source": [
        "#definimos variables numéricas\n",
        "num_nom_geo = ['LONGITUD','LATITUD']\n",
        "num_nom_cal = ['DBO_mg/L','DQO_mg/L','SST_mg/L','COLI_FEC_NMP_100mL','E_COLI_NMP_100mL','ENTEROC_NMP_100mL','OD_PORC','OD_PORC_SUP',\n",
        "              'OD_PORC_MED','OD_PORC_FON','TOX_D_48_UT','TOX_V_15_UT','TOX_D_48_SUP_UT','TOX_FIS_SUP_15_UT']\n",
        "\n",
        "#definimos variables categóricas\n",
        "cat_nom = ['ORGANISMO_DE_CUENCA','SUBTIPO','GRUPO']\n",
        "cat_nom_cal = ['CALIDAD_DBO','CALIDAD_DQO','CALIDAD_SST','CALIDAD_COLI_FEC','CALIDAD_E_COLI','CALIDAD_ENTEROC','CALIDAD_OD_PORC','CALIDAD_OD_PORC_SUP',\n",
        "               'CALIDAD_OD_PORC_MED','CALIDAD_OD_PORC_FON','CALIDAD_TOX_D_48','CALIDAD_TOX_V_15','CALIDAD TOX_D_48_SUP','CALIDAD_TOX_FIS_SUP_15']\n",
        "#VARIABLE CATEGORICA DE SALIDA Y\n",
        "y_nom = ['SEMAFORO']"
      ],
      "metadata": {
        "id": "Gq2X5v6yHHDr"
      },
      "execution_count": 3,
      "outputs": []
    },
    {
      "cell_type": "markdown",
      "source": [
        "Generamos los datos en Y, y dos tipos de X. Una donde se utilizarán los datos numéricos de calidad, y otra donde se utilizarán los datos categóricos de calidad. Utilizar las variables numéricas y categorías de calidad, donde las categóricas son dependientes de las numéricas, puede afectar la correlación entre variables y eventualmente el modelo."
      ],
      "metadata": {
        "id": "tztsHL5PHHDs"
      }
    },
    {
      "cell_type": "code",
      "source": [
        "Y = data_asp[['SEMAFORO']]\n",
        "\n",
        "X_num = data_asp[num_nom_geo + cat_nom + num_nom_cal]\n",
        "X_cat = data_asp[num_nom_geo + cat_nom + cat_nom_cal]"
      ],
      "metadata": {
        "id": "O6UGuzw3HHDs"
      },
      "execution_count": 4,
      "outputs": []
    },
    {
      "cell_type": "markdown",
      "source": [
        "### **Cambia a label encoding el semáforo, ej, de [\"clase 1\", \"clase 2\", \"clase 3\"] a [ 1,2,3]**"
      ],
      "metadata": {
        "id": "xuhz-PyBHHDs"
      }
    },
    {
      "cell_type": "markdown",
      "source": [
        "Previamente en la parte 1 del reto ya se cambiaron los valores del semáforo a 1:verde, 2:amarillo, 3:rojo"
      ],
      "metadata": {
        "id": "f-5sNXw-HHDs"
      }
    },
    {
      "cell_type": "code",
      "source": [
        "Y.value_counts()"
      ],
      "metadata": {
        "outputId": "8b98d8b1-7639-4e5a-a33a-086364170015",
        "colab": {
          "base_uri": "https://localhost:8080/"
        },
        "id": "Yba2T8sbHHDs"
      },
      "execution_count": 5,
      "outputs": [
        {
          "output_type": "execute_result",
          "data": {
            "text/plain": [
              "SEMAFORO\n",
              "1           1259\n",
              "2           1129\n",
              "3           1091\n",
              "dtype: int64"
            ]
          },
          "metadata": {},
          "execution_count": 5
        }
      ]
    },
    {
      "cell_type": "markdown",
      "source": [
        "### **Realiza un análisis general de las features importances a traves de decision trees o random forest.**"
      ],
      "metadata": {
        "id": "EJkFA3pSHHDt"
      }
    },
    {
      "cell_type": "markdown",
      "source": [
        "Definimos modelos a usar:"
      ],
      "metadata": {
        "id": "OXonbs2FHHDt"
      }
    },
    {
      "cell_type": "code",
      "source": [
        "def get_models():\n",
        "  modelos = list()\n",
        "  nombres = list()\n",
        "\n",
        "  modelos.append(DecisionTreeClassifier())\n",
        "  nombres.append('DTC')\n",
        "  \n",
        "  modelos.append(RandomForestClassifier())\n",
        "  nombres.append('RFC')\n",
        "  \n",
        "  return modelos, nombres"
      ],
      "metadata": {
        "id": "1i2isJUUHHDt"
      },
      "execution_count": 6,
      "outputs": []
    },
    {
      "cell_type": "markdown",
      "source": [
        "Obtenemos los feature importance con variables de calidad numéricas:"
      ],
      "metadata": {
        "id": "6R_1w2LJHHDt"
      }
    },
    {
      "cell_type": "code",
      "source": [
        "modelos, nombres = get_models()\n",
        "\n",
        "for m in range(len(modelos)):\n",
        "  modelos[m].fit(X_num, np.ravel(Y))\n",
        "  importance = permutation_importance(modelos[m], X_num, Y, n_repeats=10)\n",
        "  print('\\033[1m' + nombres[m] + '\\033[0m')\n",
        "  for i,v in enumerate(importance['importances_mean']):\n",
        "    print(X_num.columns[i]+':', v.round(3))\n",
        "  f = plt.figure()\n",
        "  plt.bar(X_num.columns, importance['importances_mean'])\n",
        "  plt.xticks(rotation='vertical')\n",
        "  plt.show() "
      ],
      "metadata": {
        "colab": {
          "base_uri": "https://localhost:8080/",
          "height": 1000
        },
        "outputId": "2a622847-0990-454b-d5b6-53e27548317a",
        "id": "5LkpItE0HHDt"
      },
      "execution_count": 7,
      "outputs": [
        {
          "output_type": "stream",
          "name": "stdout",
          "text": [
            "\u001b[1mDTC\u001b[0m\n",
            "LONGITUD: 0.001\n",
            "LATITUD: 0.003\n",
            "ORGANISMO_DE_CUENCA: 0.004\n",
            "SUBTIPO: 0.0\n",
            "GRUPO: 0.0\n",
            "DBO_mg/L: 0.026\n",
            "DQO_mg/L: 0.334\n",
            "SST_mg/L: 0.045\n",
            "COLI_FEC_NMP_100mL: 0.245\n",
            "E_COLI_NMP_100mL: 0.12\n",
            "ENTEROC_NMP_100mL: 0.06\n",
            "OD_PORC: 0.028\n",
            "OD_PORC_SUP: 0.05\n",
            "OD_PORC_MED: 0.0\n",
            "OD_PORC_FON: 0.02\n",
            "TOX_D_48_UT: 0.0\n",
            "TOX_V_15_UT: 0.0\n",
            "TOX_D_48_SUP_UT: 0.001\n",
            "TOX_FIS_SUP_15_UT: 0.0\n"
          ]
        },
        {
          "output_type": "display_data",
          "data": {
            "text/plain": [
              "<Figure size 432x288 with 1 Axes>"
            ],
            "image/png": "[encoded data removed]"
          },
          "metadata": {
            "needs_background": "light"
          }
        },
        {
          "output_type": "stream",
          "name": "stdout",
          "text": [
            "\u001b[1mRFC\u001b[0m\n",
            "LONGITUD: 0.001\n",
            "LATITUD: 0.001\n",
            "ORGANISMO_DE_CUENCA: 0.001\n",
            "SUBTIPO: 0.001\n",
            "GRUPO: 0.001\n",
            "DBO_mg/L: 0.002\n",
            "DQO_mg/L: 0.354\n",
            "SST_mg/L: 0.029\n",
            "COLI_FEC_NMP_100mL: 0.27\n",
            "E_COLI_NMP_100mL: 0.011\n",
            "ENTEROC_NMP_100mL: 0.055\n",
            "OD_PORC: 0.005\n",
            "OD_PORC_SUP: 0.015\n",
            "OD_PORC_MED: 0.001\n",
            "OD_PORC_FON: 0.007\n",
            "TOX_D_48_UT: 0.0\n",
            "TOX_V_15_UT: 0.0\n",
            "TOX_D_48_SUP_UT: 0.001\n",
            "TOX_FIS_SUP_15_UT: 0.0\n"
          ]
        },
        {
          "output_type": "display_data",
          "data": {
            "text/plain": [
              "<Figure size 432x288 with 1 Axes>"
            ],
            "image/png": "[encoded data removed]"
          },
          "metadata": {
            "needs_background": "light"
          }
        }
      ]
    },
    {
      "cell_type": "markdown",
      "source": [
        "Y donde observamos que las variables de ubicación geográfica, así como organismo de cuenca, subtipo y grupo no tienen una importancia significativa. Mientras que las de calidad, son algunas las que dan la mayor importancia. Pero vemos que OD_PORC_MED, TOX_D_48_UT, TOX_V_15_UT, TOX_D_48_SUP_UT, y TOX_FIS_SUP_15_UT no tienen efecto alguno."
      ],
      "metadata": {
        "id": "MLWH4W3qRNsn"
      }
    },
    {
      "cell_type": "markdown",
      "source": [
        "Obtenemos los feature importance con las variables de calidad categóricas:"
      ],
      "metadata": {
        "id": "PebdiRfBHHDu"
      }
    },
    {
      "cell_type": "code",
      "source": [
        "modelos, nombres = get_models()\n",
        "\n",
        "for m in range(len(modelos)):\n",
        "  modelos[m].fit(X_cat, np.ravel(Y))\n",
        "  importance = permutation_importance(modelos[m], X_cat, Y, n_repeats=10)\n",
        "  print('\\033[1m' + nombres[m] + '\\033[0m')\n",
        "  for i,v in enumerate(importance['importances_mean']):\n",
        "    print(X_cat.columns[i]+':', v.round(3))\n",
        "  f = plt.figure()\n",
        "  plt.bar(X_cat.columns, importance['importances_mean'])\n",
        "  plt.xticks(rotation='vertical')\n",
        "  plt.show() "
      ],
      "metadata": {
        "colab": {
          "base_uri": "https://localhost:8080/",
          "height": 1000
        },
        "outputId": "ee9199f0-a6bb-44b9-9337-db6acf5dc0ec",
        "id": "XGzoE0f4HHDu"
      },
      "execution_count": 8,
      "outputs": [
        {
          "output_type": "stream",
          "name": "stdout",
          "text": [
            "\u001b[1mDTC\u001b[0m\n",
            "LONGITUD: 0.0\n",
            "LATITUD: 0.0\n",
            "ORGANISMO_DE_CUENCA: 0.0\n",
            "SUBTIPO: 0.0\n",
            "GRUPO: 0.0\n",
            "CALIDAD_DBO: 0.022\n",
            "CALIDAD_DQO: 0.331\n",
            "CALIDAD_SST: 0.044\n",
            "CALIDAD_COLI_FEC: 0.253\n",
            "CALIDAD_E_COLI: 0.119\n",
            "CALIDAD_ENTEROC: 0.059\n",
            "CALIDAD_OD_PORC: 0.035\n",
            "CALIDAD_OD_PORC_SUP: 0.021\n",
            "CALIDAD_OD_PORC_MED: 0.0\n",
            "CALIDAD_OD_PORC_FON: 0.027\n",
            "CALIDAD_TOX_D_48: 0.0\n",
            "CALIDAD_TOX_V_15: 0.0\n",
            "CALIDAD TOX_D_48_SUP: 0.001\n",
            "CALIDAD_TOX_FIS_SUP_15: 0.001\n"
          ]
        },
        {
          "output_type": "display_data",
          "data": {
            "text/plain": [
              "<Figure size 432x288 with 1 Axes>"
            ],
            "image/png": "[encoded data removed]"
          },
          "metadata": {
            "needs_background": "light"
          }
        },
        {
          "output_type": "stream",
          "name": "stdout",
          "text": [
            "\u001b[1mRFC\u001b[0m\n",
            "LONGITUD: 0.0\n",
            "LATITUD: 0.0\n",
            "ORGANISMO_DE_CUENCA: 0.0\n",
            "SUBTIPO: 0.0\n",
            "GRUPO: 0.0\n",
            "CALIDAD_DBO: 0.002\n",
            "CALIDAD_DQO: 0.376\n",
            "CALIDAD_SST: 0.039\n",
            "CALIDAD_COLI_FEC: 0.13\n",
            "CALIDAD_E_COLI: 0.025\n",
            "CALIDAD_ENTEROC: 0.052\n",
            "CALIDAD_OD_PORC: 0.01\n",
            "CALIDAD_OD_PORC_SUP: 0.019\n",
            "CALIDAD_OD_PORC_MED: 0.001\n",
            "CALIDAD_OD_PORC_FON: 0.022\n",
            "CALIDAD_TOX_D_48: 0.0\n",
            "CALIDAD_TOX_V_15: 0.0\n",
            "CALIDAD TOX_D_48_SUP: 0.001\n",
            "CALIDAD_TOX_FIS_SUP_15: 0.0\n"
          ]
        },
        {
          "output_type": "display_data",
          "data": {
            "text/plain": [
              "<Figure size 432x288 with 1 Axes>"
            ],
            "image/png": "[encoded data removed]"
          },
          "metadata": {
            "needs_background": "light"
          }
        }
      ]
    },
    {
      "cell_type": "markdown",
      "source": [
        "Y donde observamos que las variables de ubicación geográfica, así como organismo de cuenca, subtipo y grupo no tienen una importancia significativa. Mientras que las de calidad, son algunas las que dan la mayor importancia. Pero vemos que CALIDAD_OD_PORC_MED, CALIDAD_TOX_D_48, CALIDAD_TOX_V_15, TOX_D_48_SUP, y CALIDAD_TOX_FIS_SUP_15 no tienen efecto alguno."
      ],
      "metadata": {
        "id": "gArQkjRDHHDu"
      }
    },
    {
      "cell_type": "markdown",
      "source": [
        "### **Selecciona las variables de mayor importancia.**"
      ],
      "metadata": {
        "id": "m6OyhIyPHHDu"
      }
    },
    {
      "cell_type": "markdown",
      "source": [
        "Removemos de nuestras listas de columnas las variables que no tienen feature importance"
      ],
      "metadata": {
        "id": "LSWuN40AHHDu"
      }
    },
    {
      "cell_type": "code",
      "source": [
        "num_nom_cal = ['DBO_mg/L','DQO_mg/L','SST_mg/L','COLI_FEC_NMP_100mL','E_COLI_NMP_100mL','ENTEROC_NMP_100mL','OD_PORC','OD_PORC_SUP',\n",
        "              'OD_PORC_FON']\n",
        "\n",
        "cat_nom_cal = ['CALIDAD_DBO','CALIDAD_DQO','CALIDAD_SST','CALIDAD_COLI_FEC','CALIDAD_E_COLI','CALIDAD_ENTEROC','CALIDAD_OD_PORC','CALIDAD_OD_PORC_SUP',\n",
        "               'CALIDAD_OD_PORC_FON']"
      ],
      "metadata": {
        "id": "fVWpbHVKHHDv"
      },
      "execution_count": 11,
      "outputs": []
    },
    {
      "cell_type": "markdown",
      "source": [
        "Generamos nuevas dataframes con las columnas a utilizar:"
      ],
      "metadata": {
        "id": "_Jy5JnWNHHDv"
      }
    },
    {
      "cell_type": "code",
      "source": [
        "X_num = data_asp[num_nom_cal]\n",
        "X_cat = data_asp[cat_nom_cal]"
      ],
      "metadata": {
        "id": "4IKi9g86HHDv"
      },
      "execution_count": 13,
      "outputs": []
    },
    {
      "cell_type": "markdown",
      "source": [
        "### **Realiza tu clasificador, recuerda dividir los datos de manera balanceada (auxiliate de train test split)**"
      ],
      "metadata": {
        "id": "XrNaptfJHHDv"
      }
    },
    {
      "cell_type": "markdown",
      "source": [
        "* Comenzamos con variables numéricas:"
      ],
      "metadata": {
        "id": "3_SnuTxlHHDw"
      }
    },
    {
      "cell_type": "code",
      "source": [
        "score_list = list()\n",
        "grid_splits = list()"
      ],
      "metadata": {
        "id": "Fghz5jsVHHDw"
      },
      "execution_count": 17,
      "outputs": []
    },
    {
      "cell_type": "code",
      "source": [
        "def get_scores(yreal, ypred, model, aver='micro'):\n",
        "  temp_list = list()\n",
        "\n",
        "  temp_list.append(model)\n",
        "  accu = accuracy_score(yreal,ypred)\n",
        "  f1 = f1_score(yreal,ypred,average=aver)\n",
        "  precision = precision_score(yreal,ypred,average=aver)\n",
        "  recall = recall_score(yreal,ypred,average=aver)\n",
        "\n",
        "  temp_list.append(accu)\n",
        "  temp_list.append(f1)\n",
        "  temp_list.append(precision)\n",
        "  temp_list.append(recall)\n",
        "  print('Accuracy:', accu)\n",
        "  print('f1_score:', f1)\n",
        "  print('Precision:', precision)\n",
        "  print('Recall:', recall)\n",
        "\n",
        "  return temp_list"
      ],
      "metadata": {
        "id": "LwL3TUdyHHDw"
      },
      "execution_count": 18,
      "outputs": []
    },
    {
      "cell_type": "markdown",
      "source": [
        "Sabemos de la parte 1 que las clases de salida tienen diferentes proporciones, por lo que utilizamos el parámetro stratify:"
      ],
      "metadata": {
        "id": "H1ZGphrrHHDw"
      }
    },
    {
      "cell_type": "code",
      "source": [
        "Xtv_num, Xtest_num, ytv_num, ytest_num = train_test_split(X_num, Y, test_size=0.15, stratify=Y, random_state=0) \n",
        "print(Xtv_num.shape, ': dimensión de datos de entrada de entrenamiento y validación')\n",
        "print(Xtest_num.shape, ': dimensión de datos de entrada de prueba')  \n",
        "print(ytv_num.shape, ': dimensión de variable de salida para entrenamiento y validación')\n",
        "print(ytest_num.shape, ': dimensión de variable de salida para prueba')"
      ],
      "metadata": {
        "colab": {
          "base_uri": "https://localhost:8080/"
        },
        "outputId": "864db4b2-2a52-4fd5-ba03-23cef6b655e2",
        "id": "Hu-qEoO5HHDw"
      },
      "execution_count": 19,
      "outputs": [
        {
          "output_type": "stream",
          "name": "stdout",
          "text": [
            "(2957, 9) : dimensión de datos de entrada de entrenamiento y validación\n",
            "(522, 9) : dimensión de datos de entrada de prueba\n",
            "(2957, 1) : dimensión de variable de salida para entrenamiento y validación\n",
            "(522, 1) : dimensión de variable de salida para prueba\n"
          ]
        }
      ]
    },
    {
      "cell_type": "markdown",
      "source": [
        "* Decision Tree variables numéricas de calidad de entrada:"
      ],
      "metadata": {
        "id": "d6ai-bs4HHDx"
      }
    },
    {
      "cell_type": "markdown",
      "source": [
        "Comenzamos viendo la curva de aprendizaje para el parámetro de max_depth:"
      ],
      "metadata": {
        "id": "6DThEYloHHDx"
      }
    },
    {
      "cell_type": "code",
      "source": [
        "#obtenemos el modelo y los parametros de cross validation\n",
        "modeloVC = DecisionTreeClassifier()\n",
        "cvVC = RepeatedStratifiedKFold(n_splits=5, n_repeats=3, random_state=1)\n",
        "\n",
        "delta_max_depth = np.linspace(1, 20, 20)\n",
        "\n",
        "train_scores, valid_scores = validation_curve(modeloVC, \n",
        "                                              Xtv_num, \n",
        "                                              np.ravel(ytv_num), \n",
        "                                              param_name=\"max_depth\", \n",
        "                                              param_range=delta_max_depth,\n",
        "                                              cv=cvVC,\n",
        "                                              scoring='accuracy')\n",
        "\n",
        "train_mean = np.mean(train_scores, axis=1)\n",
        "train_std = np.std(train_scores, axis=1)\n",
        "valid_mean = np.mean(valid_scores, axis=1)\n",
        "valid_std = np.std(valid_scores, axis=1)\n",
        "\n",
        "# Curva de entrenamiento con la métrica de exactitud (accuracy):\n",
        "plt.plot(delta_max_depth, train_mean, color='blue', marker='o', markersize=5, label='Training')\n",
        "\n",
        "# Curva de validación:\n",
        "plt.plot(delta_max_depth, valid_mean, color='red', marker='o', markersize=5, label='Validation')\n",
        "\n",
        "plt.title('Función validation_curve() para Decision Tree')\n",
        "plt.xlabel('Valores del parámetro max_depth')\n",
        "plt.ylabel('Accuracy')\n",
        "plt.grid(b=True)\n",
        "plt.legend(loc='lower right')\n",
        "plt.show()"
      ],
      "metadata": {
        "colab": {
          "base_uri": "https://localhost:8080/",
          "height": 297
        },
        "outputId": "a855c421-2775-4291-a92b-c5f4e7e4cfc9",
        "id": "-4eJYG4uHHDx"
      },
      "execution_count": 20,
      "outputs": [
        {
          "output_type": "display_data",
          "data": {
            "text/plain": [
              "<Figure size 432x288 with 1 Axes>"
            ],
            "image/png": "[encoded data removed]"
          },
          "metadata": {
            "needs_background": "light"
          }
        }
      ]
    },
    {
      "cell_type": "markdown",
      "source": [
        "Y observamos que después de max_depth 10 ya no existen cambios significativos para las curvas de training o validación, asi que nos quedamos con un máximo de 10 para el gridsearch para este parámetro:"
      ],
      "metadata": {
        "id": "EfT23wRJHHDz"
      }
    },
    {
      "cell_type": "code",
      "source": [
        "#obtenemos el modelo y los parámetros\n",
        "modeloDTC_iter = DecisionTreeClassifier()\n",
        "cvSVM = RepeatedStratifiedKFold(n_splits=5, n_repeats=3, random_state=1)\n",
        "\n",
        "dicc_grid = [{'ccp_alpha':[0.0001,0.01,0.1,1.0,10.,100],'criterion':['gini','entropy'],\n",
        "             'max_depth':[1,2,3,4,5,6,7,8,9,10],'min_samples_split':[2,3,4,5,6],'class_weight':['balanced', None]}]\n",
        "\n",
        "grid1 = GridSearchCV(estimator=modeloDTC_iter, \n",
        "                    param_grid=dicc_grid, \n",
        "                    cv=cvSVM, \n",
        "                    scoring='accuracy',\n",
        "                    n_jobs=-1,\n",
        "                    error_score='raise')"
      ],
      "metadata": {
        "id": "2pcKYlGLHHDz"
      },
      "execution_count": 21,
      "outputs": []
    },
    {
      "cell_type": "markdown",
      "source": [
        "Corremos el grid search:"
      ],
      "metadata": {
        "id": "KTBO-iuNHHDz"
      }
    },
    {
      "cell_type": "code",
      "source": [
        "grid1.fit(Xtv_num, np.ravel(ytv_num))\n",
        "\n",
        "print('Mejor valor de accuracy obtenido con la mejor combinación:', grid1.best_score_)\n",
        "print('Mejor combinación de valores encontrados de los hiperparámetros:', grid1.best_params_)\n",
        "print('Métrica utilizada:', grid1.scoring)\n",
        "print('Mejor Index:',grid1.best_index_)\n",
        "\n",
        "grid_splits.append(grid1) "
      ],
      "metadata": {
        "colab": {
          "base_uri": "https://localhost:8080/"
        },
        "outputId": "e1b5eccb-c64e-4879-c903-61d3c9373c92",
        "id": "K_0NT75DHHDz"
      },
      "execution_count": 22,
      "outputs": [
        {
          "output_type": "stream",
          "name": "stdout",
          "text": [
            "Mejor valor de accuracy obtenido con la mejor combinación: 0.9896289690705935\n",
            "Mejor combinación de valores encontrados de los hiperparámetros: {'ccp_alpha': 0.0001, 'class_weight': 'balanced', 'criterion': 'gini', 'max_depth': 10, 'min_samples_split': 3}\n",
            "Métrica utilizada: accuracy\n",
            "Mejor Index: 46\n"
          ]
        }
      ]
    },
    {
      "cell_type": "markdown",
      "source": [
        "Observamos un accuracy del 98.96% máximo con los hiper parámetros. Ahora probamos el modelo con sus hiper parámetros para los datos de prueba:"
      ],
      "metadata": {
        "id": "5ocueR7WHHDz"
      }
    },
    {
      "cell_type": "code",
      "source": [
        "model_DTC_num = DecisionTreeClassifier(**grid1.best_params_)\n",
        "\n",
        "model_DTC_num.fit(Xtv_num, ytv_num)\n",
        "#realizamos las predicciones\n",
        "yhat_num = model_DTC_num.predict(Xtest_num)\n",
        "\n",
        "score_list.append(get_scores(ytest_num,yhat_num, 'DTC num'))"
      ],
      "metadata": {
        "colab": {
          "base_uri": "https://localhost:8080/"
        },
        "outputId": "67b8c49f-1043-4776-b5e9-acc2df44f4ca",
        "id": "4mK_Wk3PHHD0"
      },
      "execution_count": 23,
      "outputs": [
        {
          "output_type": "stream",
          "name": "stdout",
          "text": [
            "Accuracy: 0.9885057471264368\n",
            "f1_score: 0.9885057471264368\n",
            "Precision: 0.9885057471264368\n",
            "Recall: 0.9885057471264368\n"
          ]
        }
      ]
    },
    {
      "cell_type": "markdown",
      "source": [
        "Donde observamos que accuracy disminuye una muy pequeña cantidad. Lo que sugiere un muy mínimo sobreentrenamiento. Es un valor muy aceptable."
      ],
      "metadata": {
        "id": "fzohulqzHHD0"
      }
    },
    {
      "cell_type": "markdown",
      "source": [
        "* Random Forest variables numéricas de calidad de entrada:"
      ],
      "metadata": {
        "id": "xPGXxn32HHD0"
      }
    },
    {
      "cell_type": "markdown",
      "source": [
        "Comenzamos viendo la curva de aprendizaje para el parámetro de max_depth:"
      ],
      "metadata": {
        "id": "mu8rNjaaHHD0"
      }
    },
    {
      "cell_type": "code",
      "source": [
        "#obtenemos el modelo y los parametros de cross validation\n",
        "modeloVC = RandomForestClassifier()\n",
        "cvVC = RepeatedStratifiedKFold(n_splits=5, n_repeats=3, random_state=1)\n",
        "\n",
        "delta_max_depth = np.linspace(1, 20, 20)\n",
        "\n",
        "train_scores, valid_scores = validation_curve(modeloVC, \n",
        "                                              Xtv_num, \n",
        "                                              np.ravel(ytv_num), \n",
        "                                              param_name=\"max_depth\", \n",
        "                                              param_range=delta_max_depth,\n",
        "                                              cv=cvVC,\n",
        "                                              scoring='accuracy')\n",
        "\n",
        "train_mean = np.mean(train_scores, axis=1)\n",
        "train_std = np.std(train_scores, axis=1)\n",
        "valid_mean = np.mean(valid_scores, axis=1)\n",
        "valid_std = np.std(valid_scores, axis=1)\n",
        "\n",
        "# Curva de entrenamiento con la métrica de exactitud (accuracy):\n",
        "plt.plot(delta_max_depth, train_mean, color='blue', marker='o', markersize=5, label='Training')\n",
        "\n",
        "# Curva de validación:\n",
        "plt.plot(delta_max_depth, valid_mean, color='red', marker='o', markersize=5, label='Validation')\n",
        "\n",
        "plt.title('Función validation_curve() para Random Forest')\n",
        "plt.xlabel('Valores del parámetro max_depth')\n",
        "plt.ylabel('Accuracy')\n",
        "plt.grid(b=True)\n",
        "plt.legend(loc='lower right')\n",
        "plt.show()"
      ],
      "metadata": {
        "colab": {
          "base_uri": "https://localhost:8080/",
          "height": 297
        },
        "outputId": "85ff8de5-fdd1-436c-eb71-3fe725124560",
        "id": "r2CYnl3KHHD1"
      },
      "execution_count": 24,
      "outputs": [
        {
          "output_type": "display_data",
          "data": {
            "text/plain": [
              "<Figure size 432x288 with 1 Axes>"
            ],
            "image/png": "[encoded data removed]"
          },
          "metadata": {
            "needs_background": "light"
          }
        }
      ]
    },
    {
      "cell_type": "markdown",
      "source": [
        "Y observamos que después de max_depth 10 ya no existen cambios significativos para las curvas de training o validación, así como que previo a 4 la métrica de accuracy aún sigue pudiendo subir. Por lo que nos quedamos con un mínimo de 4 y un máximo de 10 para el gridsearch de este parámetro:"
      ],
      "metadata": {
        "id": "GGzQ-mVmHHD1"
      }
    },
    {
      "cell_type": "code",
      "source": [
        "#obtenemos el modelo y los parámetros\n",
        "modeloRFC_iter = RandomForestClassifier()\n",
        "cvSVM = RepeatedStratifiedKFold(n_splits=5, n_repeats=3, random_state=1)\n",
        "\n",
        "dicc_grid = [{'ccp_alpha':[0.0001,0.01,0.1,1.0,10.,100],'criterion':['gini','entropy'],\n",
        "             'max_depth':[4,5,6,7,8,9,10],'min_samples_split':[2,3,4,5,6],'class_weight':['balanced', None]}]\n",
        "\n",
        "grid2 = GridSearchCV(estimator=modeloDTC_iter, \n",
        "                    param_grid=dicc_grid, \n",
        "                    cv=cvSVM, \n",
        "                    scoring='accuracy',\n",
        "                    n_jobs=-1,\n",
        "                    error_score='raise')"
      ],
      "metadata": {
        "id": "pIYXeN8hHHD1"
      },
      "execution_count": 25,
      "outputs": []
    },
    {
      "cell_type": "markdown",
      "source": [
        "Corremos el grid search:"
      ],
      "metadata": {
        "id": "5vHnuwBxHHD1"
      }
    },
    {
      "cell_type": "code",
      "source": [
        "grid2.fit(Xtv_num, np.ravel(ytv_num))\n",
        "\n",
        "print('Mejor valor de accuracy obtenido con la mejor combinación:', grid2.best_score_)\n",
        "print('Mejor combinación de valores encontrados de los hiperparámetros:', grid2.best_params_)\n",
        "print('Métrica utilizada:', grid2.scoring)\n",
        "print('Mejor Index:',grid2.best_index_)\n",
        "\n",
        "grid_splits.append(grid2)"
      ],
      "metadata": {
        "colab": {
          "base_uri": "https://localhost:8080/"
        },
        "outputId": "00f73f75-268c-4e42-dedc-17e86ced42a4",
        "id": "KmkmLeXYHHD1"
      },
      "execution_count": 26,
      "outputs": [
        {
          "output_type": "stream",
          "name": "stdout",
          "text": [
            "Mejor valor de accuracy obtenido con la mejor combinación: 0.9897415816832059\n",
            "Mejor combinación de valores encontrados de los hiperparámetros: {'ccp_alpha': 0.0001, 'class_weight': 'balanced', 'criterion': 'gini', 'max_depth': 10, 'min_samples_split': 3}\n",
            "Métrica utilizada: accuracy\n",
            "Mejor Index: 31\n"
          ]
        }
      ]
    },
    {
      "cell_type": "markdown",
      "source": [
        "Observamos un accuracy del 98.97% máximo con los hiper parámetros. Ahora probamos el modelo con sus hiper parámetros para los datos de prueba:"
      ],
      "metadata": {
        "id": "b-a5q23SHHD2"
      }
    },
    {
      "cell_type": "code",
      "source": [
        "model_RFC_num = RandomForestClassifier(**grid2.best_params_)\n",
        "\n",
        "model_RFC_num.fit(Xtv_num, np.ravel(ytv_num))\n",
        "yhat_num = model_RFC_num.predict(Xtest_num)\n",
        "\n",
        "score_list.append(get_scores(ytest_num,yhat_num, 'RFC num'))"
      ],
      "metadata": {
        "colab": {
          "base_uri": "https://localhost:8080/"
        },
        "outputId": "0e8fff0a-2d35-4bc8-d18e-1c2356cae410",
        "id": "9WhqpNNUHHD2"
      },
      "execution_count": 27,
      "outputs": [
        {
          "output_type": "stream",
          "name": "stdout",
          "text": [
            "Accuracy: 0.9846743295019157\n",
            "f1_score: 0.9846743295019157\n",
            "Precision: 0.9846743295019157\n",
            "Recall: 0.9846743295019157\n"
          ]
        }
      ]
    },
    {
      "cell_type": "markdown",
      "source": [
        "Donde observamos que el accuracy disminuye centésimas con los datos de prueba. Lo cual indica un ligero sobreentrenamiento. Pero muy dentro de valores aceptables."
      ],
      "metadata": {
        "id": "5Laa8lWQHHD2"
      }
    },
    {
      "cell_type": "markdown",
      "source": [
        "* Comenzamos con variables categóricas:"
      ],
      "metadata": {
        "id": "wtTCIfXTHHD2"
      }
    },
    {
      "cell_type": "markdown",
      "source": [
        "Particionamos los datos:"
      ],
      "metadata": {
        "id": "wq7hVRpUHHD2"
      }
    },
    {
      "cell_type": "code",
      "source": [
        "Xtv_cat, Xtest_cat, ytv_cat, ytest_cat = train_test_split(X_cat, Y, test_size=0.15, stratify=Y, random_state=0) \n",
        "print(Xtv_cat.shape, ': dimensión de datos de entrada de entrenamiento y validación')\n",
        "print(Xtest_cat.shape, ': dimensión de datos de entrada de prueba')  \n",
        "print(ytv_cat.shape, ': dimensión de variable de salida para entrenamiento y validación')\n",
        "print(ytest_cat.shape, ': dimensión de variable de salida para prueba')"
      ],
      "metadata": {
        "colab": {
          "base_uri": "https://localhost:8080/"
        },
        "outputId": "c015e9ab-399f-43d5-d9d6-9fb40426d886",
        "id": "hNlXnJwHHHD2"
      },
      "execution_count": 28,
      "outputs": [
        {
          "output_type": "stream",
          "name": "stdout",
          "text": [
            "(2957, 9) : dimensión de datos de entrada de entrenamiento y validación\n",
            "(522, 9) : dimensión de datos de entrada de prueba\n",
            "(2957, 1) : dimensión de variable de salida para entrenamiento y validación\n",
            "(522, 1) : dimensión de variable de salida para prueba\n"
          ]
        }
      ]
    },
    {
      "cell_type": "markdown",
      "source": [
        "* Decision Tree variables categóricas de calidad de entrada:"
      ],
      "metadata": {
        "id": "n_Fa1Rs0HHD3"
      }
    },
    {
      "cell_type": "markdown",
      "source": [
        "Comenzamos viendo la curva de aprendizaje para el parámetro de max_depth:"
      ],
      "metadata": {
        "id": "zr_GzGHmHHD3"
      }
    },
    {
      "cell_type": "code",
      "source": [
        "#obtenemos el modelo y los parametros de cross validation\n",
        "modeloVC = DecisionTreeClassifier()\n",
        "cvVC = RepeatedStratifiedKFold(n_splits=5, n_repeats=3, random_state=1)\n",
        "\n",
        "delta_max_depth = np.linspace(1, 20, 20)\n",
        "\n",
        "train_scores, valid_scores = validation_curve(modeloVC, \n",
        "                                              Xtv_cat, \n",
        "                                              np.ravel(ytv_cat), \n",
        "                                              param_name=\"max_depth\", \n",
        "                                              param_range=delta_max_depth,\n",
        "                                              cv=cvVC,\n",
        "                                              scoring='accuracy')\n",
        "\n",
        "train_mean = np.mean(train_scores, axis=1)\n",
        "train_std = np.std(train_scores, axis=1)\n",
        "valid_mean = np.mean(valid_scores, axis=1)\n",
        "valid_std = np.std(valid_scores, axis=1)\n",
        "\n",
        "# Curva de entrenamiento con la métrica de exactitud (accuracy):\n",
        "plt.plot(delta_max_depth, train_mean, color='blue', marker='o', markersize=5, label='Training')\n",
        "\n",
        "# Curva de validación:\n",
        "plt.plot(delta_max_depth, valid_mean, color='red', marker='o', markersize=5, label='Validation')\n",
        "\n",
        "plt.title('Función validation_curve() para Decision Tree')\n",
        "plt.xlabel('Valores del parámetro max_depth')\n",
        "plt.ylabel('Accuracy')\n",
        "plt.grid(b=True)\n",
        "plt.legend(loc='lower right')\n",
        "plt.show()"
      ],
      "metadata": {
        "outputId": "2663ba5e-d4a1-494f-8b8e-b9a71cfa96ab",
        "colab": {
          "base_uri": "https://localhost:8080/",
          "height": 297
        },
        "id": "jPkfNbfkHHD3"
      },
      "execution_count": 29,
      "outputs": [
        {
          "output_type": "display_data",
          "data": {
            "text/plain": [
              "<Figure size 432x288 with 1 Axes>"
            ],
            "image/png": "[encoded data removed]"
          },
          "metadata": {
            "needs_background": "light"
          }
        }
      ]
    },
    {
      "cell_type": "markdown",
      "source": [
        "Y observamos que después de max_depth 8 ya no existen cambios significativos para las curvas de training o validación, asi que nos quedamos con un máximo de 10 para el gridsearch para este parámetro:"
      ],
      "metadata": {
        "id": "WlsdgECKHHD3"
      }
    },
    {
      "cell_type": "code",
      "source": [
        "#obtenemos el modelo y los parámetros\n",
        "modeloDTC_iter = DecisionTreeClassifier()\n",
        "cvSVM = RepeatedStratifiedKFold(n_splits=5, n_repeats=3, random_state=1)\n",
        "\n",
        "dicc_grid = [{'ccp_alpha':[0.0001,0.01,0.1,1.0,10.,100],'criterion':['gini','entropy'],\n",
        "             'max_depth':[1,2,3,4,5,6,7,8],'min_samples_split':[2,3,4,5,6],'class_weight':['balanced', None]}]\n",
        "\n",
        "grid3 = GridSearchCV(estimator=modeloDTC_iter, \n",
        "                    param_grid=dicc_grid, \n",
        "                    cv=cvSVM, \n",
        "                    scoring='accuracy',\n",
        "                    n_jobs=-1,\n",
        "                    error_score='raise')"
      ],
      "metadata": {
        "id": "8agK8i_8HHD3"
      },
      "execution_count": 30,
      "outputs": []
    },
    {
      "cell_type": "markdown",
      "source": [
        "Corremos el grid search:"
      ],
      "metadata": {
        "id": "rgKGlBPEHHD3"
      }
    },
    {
      "cell_type": "code",
      "source": [
        "grid3.fit(Xtv_cat, np.ravel(ytv_cat))\n",
        "\n",
        "print('Mejor valor de accuracy obtenido con la mejor combinación:', grid3.best_score_)\n",
        "print('Mejor combinación de valores encontrados de los hiperparámetros:', grid3.best_params_)\n",
        "print('Métrica utilizada:', grid3.scoring)\n",
        "print('Mejor Index:',grid3.best_index_)\n",
        "\n",
        "grid_splits.append(grid3)"
      ],
      "metadata": {
        "colab": {
          "base_uri": "https://localhost:8080/"
        },
        "outputId": "56306b79-c352-4319-93e5-c29c1f5ca8c0",
        "id": "axcwPFs-HHD3"
      },
      "execution_count": 31,
      "outputs": [
        {
          "output_type": "stream",
          "name": "stdout",
          "text": [
            "Mejor valor de accuracy obtenido con la mejor combinación: 0.9979708769683387\n",
            "Mejor combinación de valores encontrados de los hiperparámetros: {'ccp_alpha': 0.01, 'class_weight': 'balanced', 'criterion': 'entropy', 'max_depth': 8, 'min_samples_split': 2}\n",
            "Métrica utilizada: accuracy\n",
            "Mejor Index: 285\n"
          ]
        }
      ]
    },
    {
      "cell_type": "markdown",
      "source": [
        "Observamos un accuracy del 99.79% máximo con los hiper parámetros. Ahora probamos el modelo con sus hiper parámetros para los datos de prueba:"
      ],
      "metadata": {
        "id": "SE1mrCWjHHD4"
      }
    },
    {
      "cell_type": "code",
      "source": [
        "model_DTC_cat = DecisionTreeClassifier(**grid3.best_params_)\n",
        "\n",
        "model_DTC_cat.fit(Xtv_cat, np.ravel(ytv_cat))\n",
        "yhat_cat = model_DTC_cat.predict(Xtest_cat)\n",
        "\n",
        "score_list.append(get_scores(ytest_cat,yhat_cat, 'DTC cat'))"
      ],
      "metadata": {
        "colab": {
          "base_uri": "https://localhost:8080/"
        },
        "outputId": "5dcf3fc1-5c5c-4594-c48c-b59364f54dfc",
        "id": "oz30JX_1HHD4"
      },
      "execution_count": 32,
      "outputs": [
        {
          "output_type": "stream",
          "name": "stdout",
          "text": [
            "Accuracy: 0.9961685823754789\n",
            "f1_score: 0.9961685823754789\n",
            "Precision: 0.9961685823754789\n",
            "Recall: 0.9961685823754789\n"
          ]
        }
      ]
    },
    {
      "cell_type": "markdown",
      "source": [
        "Donde observamos que el accuracy disminuye centésimas con los datos de prueba. Lo cual indica un ligero sobreentrenamiento. Pero muy dentro de valores aceptables."
      ],
      "metadata": {
        "id": "jL5lUxF8HHD4"
      }
    },
    {
      "cell_type": "markdown",
      "source": [
        "* Random Forest variables categóricas de calidad de entrada:"
      ],
      "metadata": {
        "id": "o6Dj6a25HHD4"
      }
    },
    {
      "cell_type": "markdown",
      "source": [
        "Comenzamos viendo la curva de aprendizaje para el parámetro de max_depth:"
      ],
      "metadata": {
        "id": "mk8FgumkHHD4"
      }
    },
    {
      "cell_type": "code",
      "source": [
        "#obtenemos el modelo y los parametros de cross validation\n",
        "modeloVC = RandomForestClassifier()\n",
        "cvVC = RepeatedStratifiedKFold(n_splits=5, n_repeats=3, random_state=1)\n",
        "\n",
        "delta_max_depth = np.linspace(1, 20, 20)\n",
        "\n",
        "train_scores, valid_scores = validation_curve(modeloVC, \n",
        "                                              Xtv_cat, \n",
        "                                              np.ravel(ytv_cat), \n",
        "                                              param_name=\"max_depth\", \n",
        "                                              param_range=delta_max_depth,\n",
        "                                              cv=cvVC,\n",
        "                                              scoring='accuracy')\n",
        "\n",
        "train_mean = np.mean(train_scores, axis=1)\n",
        "train_std = np.std(train_scores, axis=1)\n",
        "valid_mean = np.mean(valid_scores, axis=1)\n",
        "valid_std = np.std(valid_scores, axis=1)\n",
        "\n",
        "# Curva de entrenamiento con la métrica de exactitud (accuracy):\n",
        "plt.plot(delta_max_depth, train_mean, color='blue', marker='o', markersize=5, label='Training')\n",
        "\n",
        "# Curva de validación:\n",
        "plt.plot(delta_max_depth, valid_mean, color='red', marker='o', markersize=5, label='Validation')\n",
        "\n",
        "plt.title('Función validation_curve() para Random Forest')\n",
        "plt.xlabel('Valores del parámetro max_depth')\n",
        "plt.ylabel('Accuracy')\n",
        "plt.grid(b=True)\n",
        "plt.legend(loc='lower right')\n",
        "plt.show()"
      ],
      "metadata": {
        "outputId": "4813a528-07e3-452c-ec0a-af50c2f48a72",
        "colab": {
          "base_uri": "https://localhost:8080/",
          "height": 297
        },
        "id": "_ZY5I7hQHHD4"
      },
      "execution_count": 33,
      "outputs": [
        {
          "output_type": "display_data",
          "data": {
            "text/plain": [
              "<Figure size 432x288 with 1 Axes>"
            ],
            "image/png": "[encoded data removed]"
          },
          "metadata": {
            "needs_background": "light"
          }
        }
      ]
    },
    {
      "cell_type": "markdown",
      "source": [
        "Y observamos que después de max_depth 8 ya no existen cambios significativos para las curvas de training o validación, así como que previo a 4 la métrica de accuracy aún sigue pudiendo subir. Por lo que nos quedamos con un mínimo de 4 y un máximo de 10 para el gridsearch de este parámetro:"
      ],
      "metadata": {
        "id": "MQZEDbKAHHD5"
      }
    },
    {
      "cell_type": "code",
      "source": [
        "#obtenemos el modelo y los parámetros\n",
        "modeloRFC_iter = RandomForestClassifier()\n",
        "cvSVM = RepeatedStratifiedKFold(n_splits=5, n_repeats=3, random_state=1)\n",
        "\n",
        "dicc_grid = [{'ccp_alpha':[0.0001,0.01,0.1,1.0,10.,100],'criterion':['gini','entropy'],\n",
        "             'max_depth':[4,5,6,7,8],'min_samples_split':[2,3,4,5,6],'class_weight':['balanced', None]}]\n",
        "\n",
        "grid4 = GridSearchCV(estimator=modeloDTC_iter, \n",
        "                    param_grid=dicc_grid, \n",
        "                    cv=cvSVM, \n",
        "                    scoring='accuracy',\n",
        "                    n_jobs=-1,\n",
        "                    error_score='raise')"
      ],
      "metadata": {
        "id": "yfZOTKUGHHD5"
      },
      "execution_count": 34,
      "outputs": []
    },
    {
      "cell_type": "markdown",
      "source": [
        "Corremos el grid search:"
      ],
      "metadata": {
        "id": "e9bSzPjKHHD5"
      }
    },
    {
      "cell_type": "code",
      "source": [
        "grid4.fit(Xtv_cat, np.ravel(ytv_cat))\n",
        "\n",
        "print('Mejor valor de accuracy obtenido con la mejor combinación:', grid4.best_score_)\n",
        "print('Mejor combinación de valores encontrados de los hiperparámetros:', grid4.best_params_)\n",
        "print('Métrica utilizada:', grid4.scoring)\n",
        "print('Mejor Index:',grid4.best_index_)\n",
        "\n",
        "grid_splits.append(grid4)"
      ],
      "metadata": {
        "colab": {
          "base_uri": "https://localhost:8080/"
        },
        "outputId": "d6957709-db6c-44dd-94c3-663c4a7da204",
        "id": "1WtSUzZ6HHD5"
      },
      "execution_count": 35,
      "outputs": [
        {
          "output_type": "stream",
          "name": "stdout",
          "text": [
            "Mejor valor de accuracy obtenido con la mejor combinación: 0.9979708769683387\n",
            "Mejor combinación de valores encontrados de los hiperparámetros: {'ccp_alpha': 0.01, 'class_weight': 'balanced', 'criterion': 'entropy', 'max_depth': 8, 'min_samples_split': 2}\n",
            "Métrica utilizada: accuracy\n",
            "Mejor Index: 195\n"
          ]
        }
      ]
    },
    {
      "cell_type": "markdown",
      "source": [
        "Observamos un accuracy del 99.79% máximo con los hiper parámetros. Ahora probamos el modelo con sus hiper parámetros para los datos de prueba:"
      ],
      "metadata": {
        "id": "9xl9V-ppHHD5"
      }
    },
    {
      "cell_type": "code",
      "source": [
        "model_RFC_cat = RandomForestClassifier(**grid4.best_params_)\n",
        "\n",
        "model_RFC_cat.fit(Xtv_cat, np.ravel(ytv_cat))\n",
        "#realizamos las predicciones\n",
        "yhat_cat = model_RFC_cat.predict(Xtest_cat)\n",
        "\n",
        "score_list.append(get_scores(ytest_cat,yhat_cat, 'RFC cat'))"
      ],
      "metadata": {
        "colab": {
          "base_uri": "https://localhost:8080/"
        },
        "outputId": "f7dda73d-acf2-4cd9-8560-56042259c501",
        "id": "JivjCd2eHHD6"
      },
      "execution_count": 36,
      "outputs": [
        {
          "output_type": "stream",
          "name": "stdout",
          "text": [
            "Accuracy: 0.9885057471264368\n",
            "f1_score: 0.9885057471264368\n",
            "Precision: 0.9885057471264368\n",
            "Recall: 0.9885057471264368\n"
          ]
        }
      ]
    },
    {
      "cell_type": "markdown",
      "source": [
        "Donde observamos que el accuracy disminuye cerca de 1% con los datos de prueba. Lo cual indica un ligero sobreentrenamiento. Pero muy dentro de valores aceptables."
      ],
      "metadata": {
        "id": "aKr69RWOHHD6"
      }
    },
    {
      "cell_type": "markdown",
      "source": [
        "### **Explora que clasificador es el más optimo, ejemplo:**"
      ],
      "metadata": {
        "id": "UHlOJvThHHD6"
      }
    },
    {
      "cell_type": "markdown",
      "source": [
        "Obtenemos los resultados de cada split del cross validation hecho en cada gridsearch:"
      ],
      "metadata": {
        "id": "He4R8CNFHHD7"
      }
    },
    {
      "cell_type": "code",
      "source": [
        "tot_resultados_cv = list()\n",
        "for grid in grid_splits:\n",
        "  indx = grid.best_index_\n",
        "  resultados_cv = list()\n",
        "  for i in range(15):\n",
        "    resultados_cv.append(grid.cv_results_['split' + str(i) + '_test_score'][indx])\n",
        "  tot_resultados_cv.append(resultados_cv)"
      ],
      "metadata": {
        "id": "vsipwjoHHHD8"
      },
      "execution_count": 37,
      "outputs": []
    },
    {
      "cell_type": "markdown",
      "source": [
        "Generamos una lista con los nombres de cada modelo:"
      ],
      "metadata": {
        "id": "nOKjgFIGHHD8"
      }
    },
    {
      "cell_type": "code",
      "source": [
        "scores = list()\n",
        "for scor in score_list:\n",
        "  scores.append(scor[0])"
      ],
      "metadata": {
        "id": "usq1viMMHHD8"
      },
      "execution_count": 38,
      "outputs": []
    },
    {
      "cell_type": "markdown",
      "source": [
        "Visualizamos en boxplots la distribución de los resultados de accuracy para cada modelo:"
      ],
      "metadata": {
        "id": "fz3KHmjJHHD8"
      }
    },
    {
      "cell_type": "code",
      "source": [
        "sns.set(rc={'figure.figsize':(8,4)})\n",
        "plt.boxplot(tot_resultados_cv, labels=scores, showmeans=True)\n",
        "plt.show()"
      ],
      "metadata": {
        "outputId": "9c7a2f57-0b78-452e-f3c2-c16d590d094c",
        "colab": {
          "base_uri": "https://localhost:8080/",
          "height": 268
        },
        "id": "8jIUOS-QHHD8"
      },
      "execution_count": 39,
      "outputs": [
        {
          "output_type": "display_data",
          "data": {
            "text/plain": [
              "<Figure size 576x288 with 1 Axes>"
            ],
            "image/png": "[encoded data removed]"
          },
          "metadata": {}
        }
      ]
    },
    {
      "cell_type": "markdown",
      "source": [
        "Donde observamos que los resultados con menos varianza para cada split, son los de los modelos categóricos. Así mismo, el promedio más alto es también para los categóricos. Por lo que nos quedamos con el modelo de Decision Tree con variables categóricas de calidad, ya que entre los dos modelos con variables categóricas, es el que arroja mejores resultados para los datos de prueba:"
      ],
      "metadata": {
        "id": "7n_PPJLYHHD8"
      }
    },
    {
      "cell_type": "code",
      "source": [
        "best_RFC_model = DecisionTreeClassifier(**grid3.best_params_)\n",
        "\n",
        "best_RFC_model.fit(Xtv_cat, np.ravel(ytv_cat))\n",
        "yhat = best_RFC_model.predict(Xtest_cat)\n",
        "\n",
        "print('Accuracy:',accuracy_score(ytest_cat,yhat))\n",
        "print('F1-score:',f1_score(ytest_cat,yhat,average='micro'))\n",
        "print('Precision:',precision_score(ytest_cat,yhat,average='micro'))\n",
        "print('Recall:',recall_score(ytest_cat,yhat,average='micro'))"
      ],
      "metadata": {
        "outputId": "c2b05f83-df17-488e-f2a6-8e14ebe99a55",
        "colab": {
          "base_uri": "https://localhost:8080/"
        },
        "id": "qNW1cetJHHD9"
      },
      "execution_count": 47,
      "outputs": [
        {
          "output_type": "stream",
          "name": "stdout",
          "text": [
            "Accuracy: 0.9961685823754789\n",
            "F1-score: 0.9961685823754789\n",
            "Precision: 0.9961685823754789\n",
            "Recall: 0.9961685823754789\n"
          ]
        }
      ]
    },
    {
      "cell_type": "markdown",
      "source": [
        "Un 99.62% en sus métricas."
      ],
      "metadata": {
        "id": "CT4A9VflHHD9"
      }
    },
    {
      "cell_type": "markdown",
      "source": [
        "### **Determina el grado de exactitud a través del reporte de clasificación y análisis de la gráfica de Precision Recall.**"
      ],
      "metadata": {
        "id": "_8sfkv2sHHD9"
      }
    },
    {
      "cell_type": "markdown",
      "source": [
        "* Reporte de clasificacion:"
      ],
      "metadata": {
        "id": "TO12Zs8OHHD9"
      }
    },
    {
      "cell_type": "code",
      "source": [
        "target_names = ['Verde', 'Amarillo', 'Rojo']\n",
        "print(classification_report(ytest_cat, yhat, target_names=target_names))"
      ],
      "metadata": {
        "outputId": "a478f32e-1184-428f-cb1f-89ce85204549",
        "colab": {
          "base_uri": "https://localhost:8080/"
        },
        "id": "sbeZilMDHHD9"
      },
      "execution_count": 48,
      "outputs": [
        {
          "output_type": "stream",
          "name": "stdout",
          "text": [
            "              precision    recall  f1-score   support\n",
            "\n",
            "       Verde       0.99      1.00      1.00       189\n",
            "    Amarillo       0.99      1.00      1.00       169\n",
            "        Rojo       1.00      0.99      0.99       164\n",
            "\n",
            "    accuracy                           1.00       522\n",
            "   macro avg       1.00      1.00      1.00       522\n",
            "weighted avg       1.00      1.00      1.00       522\n",
            "\n"
          ]
        }
      ]
    },
    {
      "cell_type": "markdown",
      "source": [
        "Validamos que tenemos un 100% de accuracy. Pero que para precision, recall, y f1-score obtenemos 99% en algunas clases."
      ],
      "metadata": {
        "id": "Enp2QzBSHHD9"
      }
    },
    {
      "cell_type": "markdown",
      "source": [
        "* Grafica de Precision-Recall"
      ],
      "metadata": {
        "id": "EsXdfdOMHHD-"
      }
    },
    {
      "cell_type": "markdown",
      "source": [
        "Aplicamos one-hot encoder a los datos de Y de prueba, así como a las predicciones. Ya que es necesario hacer una curva para cada clase"
      ],
      "metadata": {
        "id": "6IUmJhBsHHD-"
      }
    },
    {
      "cell_type": "code",
      "source": [
        "Y_ohe = OneHotEncoder()\n",
        "Y_fitted = Y_ohe.fit(Y)\n",
        "y_test_multicolum = Y_fitted.transform(ytest_cat).toarray()\n",
        "y_hat_multicolum = Y_fitted.transform(pd.DataFrame(yhat,columns=['SEMAFORO'])).toarray()"
      ],
      "metadata": {
        "id": "7ll78BtGHHD-"
      },
      "execution_count": 49,
      "outputs": []
    },
    {
      "cell_type": "markdown",
      "source": [
        "Generamos las curvas de precision vs. recall de cada clase:"
      ],
      "metadata": {
        "id": "ki9LojcfHHD-"
      }
    },
    {
      "cell_type": "code",
      "source": [
        "precision = dict()\n",
        "recall = dict()\n",
        "clases = ['Verde','Amarillo','Rojo']\n",
        "for i in range(3):\n",
        "    precision[i], recall[i], _ = precision_recall_curve(y_test_multicolum[:, i],\n",
        "                                                        y_hat_multicolum[:, i])\n",
        "    plt.plot(recall[i], precision[i], lw=2, label=clases[i])\n",
        "plt.xlabel(\"recall\")\n",
        "plt.ylabel(\"precision\")\n",
        "plt.legend(loc=\"best\")\n",
        "plt.show()"
      ],
      "metadata": {
        "outputId": "a3927e84-c54e-4e97-e5ca-115eac060bc0",
        "colab": {
          "base_uri": "https://localhost:8080/",
          "height": 285
        },
        "id": "0bSBHYGvHHD-"
      },
      "execution_count": 50,
      "outputs": [
        {
          "output_type": "display_data",
          "data": {
            "text/plain": [
              "<Figure size 576x288 with 1 Axes>"
            ],
            "image/png": "[encoded data removed]"
          },
          "metadata": {}
        }
      ]
    },
    {
      "cell_type": "markdown",
      "source": [
        "Observamos una exactitud cercana al 99% para cada clase con los datos de prueba."
      ],
      "metadata": {
        "id": "bY3_Bqu3HHD-"
      }
    },
    {
      "cell_type": "markdown",
      "source": [
        "Generamos como complemento una curva de ROC para cada clase:"
      ],
      "metadata": {
        "id": "zZirVzSWHHD-"
      }
    },
    {
      "cell_type": "code",
      "source": [
        "fpr = dict()\n",
        "tpr = dict()\n",
        "\n",
        "for i in range(3):\n",
        "    fpr[i], tpr[i], _ = roc_curve(y_test_multicolum[:, i],\n",
        "                                  y_hat_multicolum[:, i])\n",
        "    plt.plot(fpr[i], tpr[i], lw=2, label=clases[i])\n",
        "\n",
        "plt.xlabel(\"false positive rate\")\n",
        "plt.ylabel(\"true positive rate\")\n",
        "plt.legend(loc=\"best\")\n",
        "plt.title(\"ROC curve\")\n",
        "plt.show()"
      ],
      "metadata": {
        "outputId": "bdb454ed-a860-4824-d723-d5fcac78b02e",
        "colab": {
          "base_uri": "https://localhost:8080/",
          "height": 301
        },
        "id": "4lm-RZL6HHD-"
      },
      "execution_count": 51,
      "outputs": [
        {
          "output_type": "display_data",
          "data": {
            "text/plain": [
              "<Figure size 576x288 with 1 Axes>"
            ],
            "image/png": "[encoded data removed]"
          },
          "metadata": {}
        }
      ]
    },
    {
      "cell_type": "markdown",
      "source": [
        "Donde igual obtenemos un 99% de area bajo la curva."
      ],
      "metadata": {
        "id": "3wloDAkoHHD_"
      }
    },
    {
      "cell_type": "markdown",
      "source": [
        "### **Visualiza los resultados del modelo o las predicciones a través de una matriz de confusión.**"
      ],
      "metadata": {
        "id": "zYIFTgPlHHD_"
      }
    },
    {
      "cell_type": "markdown",
      "source": [
        "Generamos la matriz de confusión:"
      ],
      "metadata": {
        "id": "pLcEoQjiHHD_"
      }
    },
    {
      "cell_type": "code",
      "source": [
        "cm = confusion_matrix(ytest_cat, yhat)"
      ],
      "metadata": {
        "id": "jevvplgfHHD_"
      },
      "execution_count": 52,
      "outputs": []
    },
    {
      "cell_type": "markdown",
      "source": [
        "La visualizamos:"
      ],
      "metadata": {
        "id": "PofIGnoVHHD_"
      }
    },
    {
      "cell_type": "code",
      "source": [
        "df_cm = pd.DataFrame(cm, index = ['Verde','Amarillo','Rojo'], columns = ['Verde','Amarillo','Rojo'])\n",
        "plt.figure(figsize = (5,5))\n",
        "ax = sns.heatmap(df_cm, annot=True, fmt='d', cmap='OrRd', cbar=False)\n",
        "ax.set(ylabel=\"Etiquetas Reales\", xlabel=\"Etiquetas de Predicción\")"
      ],
      "metadata": {
        "outputId": "dfbba3a1-61c4-4ae5-d557-f54743fcd8a5",
        "colab": {
          "base_uri": "https://localhost:8080/",
          "height": 375
        },
        "id": "1pxz4pciHHD_"
      },
      "execution_count": 58,
      "outputs": [
        {
          "output_type": "execute_result",
          "data": {
            "text/plain": [
              "[Text(21.499999999999996, 0.5, 'Etiquetas Reales'),\n",
              " Text(0.5, 21.5, 'Etiquetas de Predicción')]"
            ]
          },
          "metadata": {},
          "execution_count": 58
        },
        {
          "output_type": "display_data",
          "data": {
            "text/plain": [
              "<Figure size 360x360 with 1 Axes>"
            ],
            "image/png": "[encoded data removed]"
          },
          "metadata": {}
        }
      ]
    },
    {
      "cell_type": "markdown",
      "source": [
        "Y encontramos que el modelo consiguió predecir con un 99% de exactitud los datos de prueba. Tuvo únicamente 2 predicciones erróneas."
      ],
      "metadata": {
        "id": "-1u5jmSEHHEA"
      }
    }
  ]
}