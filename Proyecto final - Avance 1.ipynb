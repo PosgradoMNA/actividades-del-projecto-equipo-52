{
  "nbformat": 4,
  "nbformat_minor": 0,
  "metadata": {
    "colab": {
      "name": "assignment01.ipynb",
      "provenance": [],
      "include_colab_link": true
    },
    "kernelspec": {
      "name": "python3",
      "display_name": "Python 3"
    },
    "language_info": {
      "name": "python"
    }
  },
  "cells": [
    {
      "cell_type": "markdown",
      "metadata": {
        "id": "view-in-github",
        "colab_type": "text"
      },
      "source": [
        "<a href=\"https://colab.research.google.com/github/PosgradoMNA/actividades-del-projecto-equipo-52/blob/main/Proyecto%20final%20-%20Avance%201.ipynb\" target=\"_parent\"><img src=\"https://colab.research.google.com/assets/colab-badge.svg\" alt=\"Open In Colab\"/></a>"
      ]
    },
    {
      "cell_type": "markdown",
      "source": [
        "> # **Proyecto final - Avance 1**\n",
        ">### **Maestría en Inteligencia Artificial Aplicada**\n",
        ">### **Curso: Inteligencia Artificial y Aprendizaje Automático**\n",
        ">### **Tecnológico de Monterrey**\n",
        ">### **Prof: Jobish Vallikavungal Devassia**\n",
        "\n",
        "### **Genaro Ramos Higuera - A00351269**\n",
        "### **Gerardo Aaron Castañeda Jaramillo - A01137646**"
      ],
      "metadata": {
        "id": "6yXluwCjPVD3"
      }
    },
    {
      "cell_type": "markdown",
      "source": [
        "# **Telco Customer Churn - Focused customer retention programs**\n",
        "\n",
        "* Base de Datos Generada por IBM, Inc.\n",
        "* [Enlace de descarga de www.kaggle.com ](https://www.kaggle.com/datasets/blastchar/telco-customer-churn)\n",
        "\n",
        ">Base de datos:\n",
        ">* Columna de \"Churn\" indica cuales clientes dejaron de serlo el último mes\n",
        ">* Servicios a los que cada cliente se ha suscrito: teléfono, múltiples líneas, internet, seguridad en línea, respaldos en la nube, protección de dispositivos, soporte técnico, transmisión de TV y películas.\n",
        ">* Información de la cuenta del cliente: cuánto tiempo ha sido cliente, contrato, método de pago, facturación electrónica, cargos mensuales y cargos totales\n",
        ">* Información demográfica sobre los clientes: género, rango de edad y si tienen parejas y dependientes\n",
        "\n",
        "* Preguntas de Investigación:\n",
        ">1. ¿Es la información de pago de los clientes son un factor que afecte la decisión de continuar con los servicios?\n",
        ">2. ¿Son los servicios un factor que afecte la decisión de continuar con los servicios?\n",
        ">3. ¿Es la información demográfica un factor que afecte la decisión de continuar con los servicios?\n",
        ">4. ¿Es posible predecir cuando un cliente no va a seguir contratando los servicios?\n",
        ">5. ¿ Que variables pueden identificar de los clientes que hicieron Churn de los que NO hicieron Churn?\n",
        ">6. ¿ Existe una correlación de algunas o de todas variables como para poder identificar y clasificar a los clientes y poder segmentarlos ? \n",
        ">7. ¿ Que variables pudieran introducir sesgos ? O cuáles pueden generar ruido en nuestro análisis?\n",
        ">8. ¿Necesitaremos de otros campos o variables en nuestro análisis?\n",
        "\n",
        "\n",
        "\n",
        "* ¿Qué actor (empresa, sector de la sociedad, organismo descentralizado, gobierno, etc.) estaría interesado en las preguntas mencionadas que identificó?\n",
        "\n",
        ">* Telco Systems es el principal interesado, ya que son sus propios datos\n",
        ">* Toda compañía que sea competencia con Telco Systems\n",
        ">* Los clientes, para tomar decisiones informadas\n",
        ">* o Cualesquier Compañía de Telecomunicaciones que desee mejorar sus niveles de retención de clientes.\n",
        "\n",
        "\n",
        "\n",
        "\n",
        "\n",
        "\n",
        "\n"
      ],
      "metadata": {
        "id": "j5s-rI2mRg4m"
      }
    },
    {
      "cell_type": "markdown",
      "source": [],
      "metadata": {
        "id": "oV4-LUDIkK-p"
      }
    },
    {
      "cell_type": "code",
      "source": [
        "https://github.com/PosgradoMNA/actividades-del-projecto-equipo-52/blob/main/WA_Fn-UseC_-Telco-Customer-Churn.csv\n"
      ],
      "metadata": {
        "id": "KglCMcGXmoim"
      },
      "execution_count": null,
      "outputs": []
    }
  ]
}