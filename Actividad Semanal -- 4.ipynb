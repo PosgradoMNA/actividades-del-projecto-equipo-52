{
  "nbformat": 4,
  "nbformat_minor": 0,
  "metadata": {
    "colab": {
      "name": "assignment01.ipynb",
      "provenance": [],
      "include_colab_link": true
    },
    "kernelspec": {
      "name": "python3",
      "display_name": "Python 3"
    },
    "language_info": {
      "name": "python"
    }
  },
  "cells": [
    {
      "cell_type": "markdown",
      "metadata": {
        "id": "view-in-github",
        "colab_type": "text"
      },
      "source": [
        "<a href=\"https://colab.research.google.com/github/PosgradoMNA/actividades-del-projecto-equipo-52/blob/main/Actividad%20Semanal%20--%204.ipynb\" target=\"_parent\"><img src=\"https://colab.research.google.com/assets/colab-badge.svg\" alt=\"Open In Colab\"/></a>"
      ]
    },
    {
      "cell_type": "markdown",
      "source": [
        "> # **Actividad Semanal -- 4**\n",
        ">## **Maestría en Inteligencia Artificial Aplicada**\n",
        ">### **Curso: TC4029.10 Ciencia y analítica de datos (Gpo 10)**\n",
        ">## **Tecnológico de Monterrey**\n",
        ">## **Prof: Jobish Vallikavungal Devassia**\n",
        "\n",
        "\n",
        "\n",
        "\n",
        "### **Gerardo Aaron Castañeda Jaramillo  -  Matrícula A01137646**\n",
        "### **Genaro Ramos Higuera  -  Matrícula A00351269**\n",
        "### **5 de octubre del 2022**"
      ],
      "metadata": {
        "id": "N3oTf365bKNg"
      }
    },
    {
      "cell_type": "markdown",
      "source": [
        "## **Parte 1: Ejercicio guiado**"
      ],
      "metadata": {
        "id": "Ut4LC_dz1HGk"
      }
    },
    {
      "cell_type": "code",
      "source": [
        "import pandas as pd\n",
        "import numpy as np\n",
        "from sklearn.decomposition import PCA\n",
        "from sklearn import preprocessing"
      ],
      "metadata": {
        "id": "mxM_WppZPMFx"
      },
      "execution_count": 1,
      "outputs": []
    },
    {
      "cell_type": "code",
      "source": [
        "df = pd.read_csv('https://raw.githubusercontent.com/PosgradoMNA/Actividades_Aprendizaje-/main/default%20of%20credit%20card%20clients.csv', index_col = 0)\n",
        "df.index.name = None"
      ],
      "metadata": {
        "id": "-_DsCYxKbgnO"
      },
      "execution_count": 2,
      "outputs": []
    },
    {
      "cell_type": "markdown",
      "source": [
        "### Formato dado en anterior ejercicio a la base de datos"
      ],
      "metadata": {
        "id": "i4OKv1uO6w84"
      }
    },
    {
      "cell_type": "code",
      "source": [
        "df_norm = df.copy()\n",
        "\n",
        "#eliminamos valores mayores a 4 en X3 \n",
        "X3_values = []\n",
        "for i in range(0,len(df_norm.index)):\n",
        "  if df_norm['X3'].iloc[i] > 4:\n",
        "    if df_norm['X3'].iloc[i] not in X3_values:\n",
        "      X3_values.append(int(df_norm['X3'].iloc[i]))\n",
        "for i in X3_values:\n",
        "  df_norm['X3'].replace(i,4,inplace=True)\n",
        "\n",
        "#sustituimos valores de x3 de 0 por valor 4 de others\n",
        "df_norm['X3'].replace(0,4,inplace=True)\n",
        "\n",
        "#sustituimos valores de 0 en X4 por por 3, ya que entra dentro de el valor 3 = others\n",
        "df_norm['X4'].replace(0,3,inplace=True)\n",
        "\n",
        "#cambimos valores de -2 de X6 a X11 por -1\n",
        "df_norm.iloc[:,5:11] = df_norm.iloc[:,5:11].replace(-2,-1)\n",
        "\n",
        "#cambiamos valores negativos de X12 a X24\n",
        "for col in df_norm.iloc[:,11:23].columns:\n",
        "  df_norm[col] = df_norm[col].abs()\n",
        "\n",
        "#eliminamos las filas con valores nulos, que representan 42/30000\n",
        "df_norm.dropna(axis=0,inplace=True)"
      ],
      "metadata": {
        "id": "afbYCHgJ35fi"
      },
      "execution_count": 3,
      "outputs": []
    },
    {
      "cell_type": "markdown",
      "source": [
        "Cambiaremos los nombres de las columnas para su más fácil visualización"
      ],
      "metadata": {
        "id": "SN1Tt81jDpTK"
      }
    },
    {
      "cell_type": "code",
      "source": [
        "columns_name = ['BAL','SEX','EDUCATION','MARRIAGE','AGE','PAYSTAT_1','PAYSTAT_2','PAYSTAT_3','PAYSTAT_4','PAYSTAT_5','PAYSTAT_6','BILL_1','BILL_2','BILL_3','BILL_4','BILL_5','BILL_6','PAY_1',\n",
        "                'PAY_2','PAY_3','PAY_4','PAY_5','PAY_6','Y']\n",
        "df_norm.columns = columns_name\n",
        "df_norm.columns"
      ],
      "metadata": {
        "colab": {
          "base_uri": "https://localhost:8080/"
        },
        "id": "OzFO8osgDmSn",
        "outputId": "59495d9f-2244-4755-9b63-eb738950c6a2"
      },
      "execution_count": 4,
      "outputs": [
        {
          "output_type": "execute_result",
          "data": {
            "text/plain": [
              "Index(['BAL', 'SEX', 'EDUCATION', 'MARRIAGE', 'AGE', 'PAYSTAT_1', 'PAYSTAT_2',\n",
              "       'PAYSTAT_3', 'PAYSTAT_4', 'PAYSTAT_5', 'PAYSTAT_6', 'BILL_1', 'BILL_2',\n",
              "       'BILL_3', 'BILL_4', 'BILL_5', 'BILL_6', 'PAY_1', 'PAY_2', 'PAY_3',\n",
              "       'PAY_4', 'PAY_5', 'PAY_6', 'Y'],\n",
              "      dtype='object')"
            ]
          },
          "metadata": {},
          "execution_count": 4
        }
      ]
    },
    {
      "cell_type": "markdown",
      "source": [
        "Analizamos la base de datos con formato"
      ],
      "metadata": {
        "id": "hviSfyE-69iX"
      }
    },
    {
      "cell_type": "markdown",
      "source": [
        "## **Paso 1: Determine el número mínimo de componentes principales que representan la mayor parte de la variación en sus datos**"
      ],
      "metadata": {
        "id": "UlQ2Ohqw1UnH"
      }
    },
    {
      "cell_type": "markdown",
      "source": [
        "Comenzamos separando los valores de entrada al modelo de los valores Y, y separando los valores que se usaran en el PCA ya que no aplica bien usarse con valores categoricos"
      ],
      "metadata": {
        "id": "Bhbeh2aNA1Ib"
      }
    },
    {
      "cell_type": "code",
      "source": [
        "dfw = df_norm.copy()\n",
        "\n",
        "Y_values = dfw['Y']\n",
        "x_values = dfw.drop('Y',axis=1)\n",
        "x_pca = x_values.drop(['SEX','EDUCATION','MARRIAGE','PAYSTAT_1','PAYSTAT_2','PAYSTAT_3','PAYSTAT_4','PAYSTAT_5','PAYSTAT_6'],axis=1)\n",
        "x_pca.columns"
      ],
      "metadata": {
        "id": "BD51uhIQ1Xgc",
        "outputId": "f2724375-b78c-4630-fb5c-fd0caac47c7d",
        "colab": {
          "base_uri": "https://localhost:8080/"
        }
      },
      "execution_count": 5,
      "outputs": [
        {
          "output_type": "execute_result",
          "data": {
            "text/plain": [
              "Index(['BAL', 'AGE', 'BILL_1', 'BILL_2', 'BILL_3', 'BILL_4', 'BILL_5',\n",
              "       'BILL_6', 'PAY_1', 'PAY_2', 'PAY_3', 'PAY_4', 'PAY_5', 'PAY_6'],\n",
              "      dtype='object')"
            ]
          },
          "metadata": {},
          "execution_count": 5
        }
      ]
    },
    {
      "cell_type": "markdown",
      "source": [
        "Primero utilizamos el método de preprocessing de \"scale\" para tener todas las columnas en una misma escala"
      ],
      "metadata": {
        "id": "yNbJbDtgA-nP"
      }
    },
    {
      "cell_type": "code",
      "source": [
        "prepross = preprocessing.scale(x_pca)"
      ],
      "metadata": {
        "id": "butajMTTYLqW"
      },
      "execution_count": 12,
      "outputs": []
    },
    {
      "cell_type": "markdown",
      "source": [
        "Seguido evaluamos la proporción de la variancia de cada variable:"
      ],
      "metadata": {
        "id": "Jge8CwzmYbpl"
      }
    },
    {
      "cell_type": "code",
      "source": [
        "Varience = np.cov(prepross)\n",
        "Varience"
      ],
      "metadata": {
        "colab": {
          "base_uri": "https://localhost:8080/"
        },
        "id": "Bol2qHDOY121",
        "outputId": "c0e047de-ff14-4768-ac9b-59427a3bbc4d"
      },
      "execution_count": 7,
      "outputs": [
        {
          "output_type": "execute_result",
          "data": {
            "text/plain": [
              "array([[ 0.09855445,  0.05873296,  0.02405292, ...,  0.05482134,\n",
              "         0.13462329, -0.04466394],\n",
              "       [ 0.05873296,  0.05996909,  0.01243276, ...,  0.02275172,\n",
              "         0.04635209, -0.0728375 ],\n",
              "       [ 0.02405292,  0.01243276,  0.02507056, ...,  0.04552031,\n",
              "         0.04651452,  0.02445099],\n",
              "       ...,\n",
              "       [ 0.05482134,  0.02275172,  0.04552031, ...,  0.2175491 ,\n",
              "         0.02598707,  0.06828943],\n",
              "       [ 0.13462329,  0.04635209,  0.04651452, ...,  0.02598707,\n",
              "         2.43806621,  0.04228367],\n",
              "       [-0.04466394, -0.0728375 ,  0.02445099, ...,  0.06828943,\n",
              "         0.04228367,  0.18447319]])"
            ]
          },
          "metadata": {},
          "execution_count": 7
        }
      ]
    },
    {
      "cell_type": "code",
      "source": [
        "total = 0\n",
        "for i in range(0,len(prepross[0])-1):\n",
        "  total = total + Varience[i][i]\n",
        "print('Total Varience \\t\\t\\t:', total.round(2))\n",
        "min_val = total\n",
        "minv_str = ''\n",
        "max_val = 0\n",
        "maxv_str = ''\n",
        "x_val = 0\n",
        "for i in range(0,len(prepross[0])-1):\n",
        "  x_val = ((Varience[i][i]/total)*100).round(2)\n",
        "  str_val = str(x_pca.columns[i])\n",
        "  if x_val > max_val:\n",
        "    max_val = x_val\n",
        "    maxv_str = x_pca.columns[i]\n",
        "  elif x_val < min_val:\n",
        "    min_val = x_val\n",
        "    minv_str = x_pca.columns[i]\n",
        "  print('Varience prop. of ' + str_val + ': ' + str(x_val) + '%' )\n",
        "\n",
        "print('Min value is: ' + str(min_val) + '% in ' + minv_str)\n",
        "print('Max value is: ' + str(max_val) + '% in ' + maxv_str)\n"
      ],
      "metadata": {
        "colab": {
          "base_uri": "https://localhost:8080/"
        },
        "id": "5RfTh9oRYgaj",
        "outputId": "b080e7d6-9422-4493-a3c7-505681ec038c"
      },
      "execution_count": 14,
      "outputs": [
        {
          "output_type": "stream",
          "name": "stdout",
          "text": [
            "Total Varience \t\t\t: 11.14\n",
            "Varience prop. of BAL: 0.88%\n",
            "Varience prop. of AGE: 0.54%\n",
            "Varience prop. of BILL_1: 0.22%\n",
            "Varience prop. of BILL_2: 0.52%\n",
            "Varience prop. of BILL_3: 6.54%\n",
            "Varience prop. of BILL_4: 0.74%\n",
            "Varience prop. of BILL_5: 72.24%\n",
            "Varience prop. of BILL_6: 0.86%\n",
            "Varience prop. of PAY_1: 0.33%\n",
            "Varience prop. of PAY_2: 1.32%\n",
            "Varience prop. of PAY_3: 0.61%\n",
            "Varience prop. of PAY_4: 4.68%\n",
            "Varience prop. of PAY_5: 10.53%\n",
            "Min value is: 0.22% in BILL_1\n",
            "Max value is: 72.24% in BILL_5\n"
          ]
        }
      ]
    },
    {
      "cell_type": "markdown",
      "source": [
        "Donde podemos ver que, de las variables, la de mayor importancia es BILL_5 con un 72.24%, y la de menor importancia es BILL_1 con 0.22%"
      ],
      "metadata": {
        "id": "HlmljrZ1hceq"
      }
    },
    {
      "cell_type": "markdown",
      "source": [
        "Y ahora utilizamos el método de PCA"
      ],
      "metadata": {
        "id": "7pg2YI7DYX5G"
      }
    },
    {
      "cell_type": "code",
      "source": [
        "pcs = PCA()\n",
        "pcs.fit(prepross) "
      ],
      "metadata": {
        "colab": {
          "base_uri": "https://localhost:8080/"
        },
        "id": "Yfa8949fwVXI",
        "outputId": "d0713c3b-5ff9-4c62-e9a5-ffc035319df7"
      },
      "execution_count": 15,
      "outputs": [
        {
          "output_type": "execute_result",
          "data": {
            "text/plain": [
              "PCA()"
            ]
          },
          "metadata": {},
          "execution_count": 15
        }
      ]
    },
    {
      "cell_type": "markdown",
      "source": [
        "Presentamos la variación estándar, la proporción de la variancia, y la proporción cumulativa en base los componentes principales"
      ],
      "metadata": {
        "id": "hWoamW-uBRJi"
      }
    },
    {
      "cell_type": "code",
      "source": [
        "pcsSummary_df = pd.DataFrame({'Standard deviation': np.sqrt(pcs.explained_variance_),\n",
        "                             'Proportion of variance': pcs.explained_variance_ratio_,\n",
        "                             'Cumulative proportion': np.cumsum(pcs.explained_variance_ratio_)\n",
        "                             })\n",
        "\n",
        "pcsSummary_df = pcsSummary_df.transpose()\n",
        "pcsSummary_df.columns = ['PC{}'.format(i) for i in range(1, len(pcsSummary_df.columns) + 1)]\n",
        "pcsSummary_df.round(4) "
      ],
      "metadata": {
        "colab": {
          "base_uri": "https://localhost:8080/",
          "height": 143
        },
        "id": "91QQnkuqwQj3",
        "outputId": "69b93660-1343-49ba-8eb4-b19d525cde42"
      },
      "execution_count": 16,
      "outputs": [
        {
          "output_type": "execute_result",
          "data": {
            "text/plain": [
              "                           PC1     PC2     PC3     PC4     PC5     PC6  \\\n",
              "Standard deviation      2.4350  1.3082  1.0222  0.9620  0.9383  0.9333   \n",
              "Proportion of variance  0.4235  0.1222  0.0746  0.0661  0.0629  0.0622   \n",
              "Cumulative proportion   0.4235  0.5457  0.6204  0.6865  0.7494  0.8116   \n",
              "\n",
              "                           PC7     PC8     PC9    PC10    PC11    PC12  \\\n",
              "Standard deviation      0.8820  0.8521  0.8413  0.5139  0.2680  0.2022   \n",
              "Proportion of variance  0.0556  0.0519  0.0506  0.0189  0.0051  0.0029   \n",
              "Cumulative proportion   0.8671  0.9190  0.9696  0.9884  0.9936  0.9965   \n",
              "\n",
              "                          PC13    PC14  \n",
              "Standard deviation      0.1605  0.1537  \n",
              "Proportion of variance  0.0018  0.0017  \n",
              "Cumulative proportion   0.9983  1.0000  "
            ],
            "text/html": [
              "\n",
              "  <div id=\"df-ad18ac26-8b30-4294-b213-e89ceafdae00\">\n",
              "    <div class=\"colab-df-container\">\n",
              "      <div>\n",
              "<style scoped>\n",
              "    .dataframe tbody tr th:only-of-type {\n",
              "        vertical-align: middle;\n",
              "    }\n",
              "\n",
              "    .dataframe tbody tr th {\n",
              "        vertical-align: top;\n",
              "    }\n",
              "\n",
              "    .dataframe thead th {\n",
              "        text-align: right;\n",
              "    }\n",
              "</style>\n",
              "<table border=\"1\" class=\"dataframe\">\n",
              "  <thead>\n",
              "    <tr style=\"text-align: right;\">\n",
              "      <th></th>\n",
              "      <th>PC1</th>\n",
              "      <th>PC2</th>\n",
              "      <th>PC3</th>\n",
              "      <th>PC4</th>\n",
              "      <th>PC5</th>\n",
              "      <th>PC6</th>\n",
              "      <th>PC7</th>\n",
              "      <th>PC8</th>\n",
              "      <th>PC9</th>\n",
              "      <th>PC10</th>\n",
              "      <th>PC11</th>\n",
              "      <th>PC12</th>\n",
              "      <th>PC13</th>\n",
              "      <th>PC14</th>\n",
              "    </tr>\n",
              "  </thead>\n",
              "  <tbody>\n",
              "    <tr>\n",
              "      <th>Standard deviation</th>\n",
              "      <td>2.4350</td>\n",
              "      <td>1.3082</td>\n",
              "      <td>1.0222</td>\n",
              "      <td>0.9620</td>\n",
              "      <td>0.9383</td>\n",
              "      <td>0.9333</td>\n",
              "      <td>0.8820</td>\n",
              "      <td>0.8521</td>\n",
              "      <td>0.8413</td>\n",
              "      <td>0.5139</td>\n",
              "      <td>0.2680</td>\n",
              "      <td>0.2022</td>\n",
              "      <td>0.1605</td>\n",
              "      <td>0.1537</td>\n",
              "    </tr>\n",
              "    <tr>\n",
              "      <th>Proportion of variance</th>\n",
              "      <td>0.4235</td>\n",
              "      <td>0.1222</td>\n",
              "      <td>0.0746</td>\n",
              "      <td>0.0661</td>\n",
              "      <td>0.0629</td>\n",
              "      <td>0.0622</td>\n",
              "      <td>0.0556</td>\n",
              "      <td>0.0519</td>\n",
              "      <td>0.0506</td>\n",
              "      <td>0.0189</td>\n",
              "      <td>0.0051</td>\n",
              "      <td>0.0029</td>\n",
              "      <td>0.0018</td>\n",
              "      <td>0.0017</td>\n",
              "    </tr>\n",
              "    <tr>\n",
              "      <th>Cumulative proportion</th>\n",
              "      <td>0.4235</td>\n",
              "      <td>0.5457</td>\n",
              "      <td>0.6204</td>\n",
              "      <td>0.6865</td>\n",
              "      <td>0.7494</td>\n",
              "      <td>0.8116</td>\n",
              "      <td>0.8671</td>\n",
              "      <td>0.9190</td>\n",
              "      <td>0.9696</td>\n",
              "      <td>0.9884</td>\n",
              "      <td>0.9936</td>\n",
              "      <td>0.9965</td>\n",
              "      <td>0.9983</td>\n",
              "      <td>1.0000</td>\n",
              "    </tr>\n",
              "  </tbody>\n",
              "</table>\n",
              "</div>\n",
              "      <button class=\"colab-df-convert\" onclick=\"convertToInteractive('df-ad18ac26-8b30-4294-b213-e89ceafdae00')\"\n",
              "              title=\"Convert this dataframe to an interactive table.\"\n",
              "              style=\"display:none;\">\n",
              "        \n",
              "  <svg xmlns=\"http://www.w3.org/2000/svg\" height=\"24px\"viewBox=\"0 0 24 24\"\n",
              "       width=\"24px\">\n",
              "    <path d=\"M0 0h24v24H0V0z\" fill=\"none\"/>\n",
              "    <path d=\"M18.56 5.44l.94 2.06.94-2.06 2.06-.94-2.06-.94-.94-2.06-.94 2.06-2.06.94zm-11 1L8.5 8.5l.94-2.06 2.06-.94-2.06-.94L8.5 2.5l-.94 2.06-2.06.94zm10 10l.94 2.06.94-2.06 2.06-.94-2.06-.94-.94-2.06-.94 2.06-2.06.94z\"/><path d=\"M17.41 7.96l-1.37-1.37c-.4-.4-.92-.59-1.43-.59-.52 0-1.04.2-1.43.59L10.3 9.45l-7.72 7.72c-.78.78-.78 2.05 0 2.83L4 21.41c.39.39.9.59 1.41.59.51 0 1.02-.2 1.41-.59l7.78-7.78 2.81-2.81c.8-.78.8-2.07 0-2.86zM5.41 20L4 18.59l7.72-7.72 1.47 1.35L5.41 20z\"/>\n",
              "  </svg>\n",
              "      </button>\n",
              "      \n",
              "  <style>\n",
              "    .colab-df-container {\n",
              "      display:flex;\n",
              "      flex-wrap:wrap;\n",
              "      gap: 12px;\n",
              "    }\n",
              "\n",
              "    .colab-df-convert {\n",
              "      background-color: #E8F0FE;\n",
              "      border: none;\n",
              "      border-radius: 50%;\n",
              "      cursor: pointer;\n",
              "      display: none;\n",
              "      fill: #1967D2;\n",
              "      height: 32px;\n",
              "      padding: 0 0 0 0;\n",
              "      width: 32px;\n",
              "    }\n",
              "\n",
              "    .colab-df-convert:hover {\n",
              "      background-color: #E2EBFA;\n",
              "      box-shadow: 0px 1px 2px rgba(60, 64, 67, 0.3), 0px 1px 3px 1px rgba(60, 64, 67, 0.15);\n",
              "      fill: #174EA6;\n",
              "    }\n",
              "\n",
              "    [theme=dark] .colab-df-convert {\n",
              "      background-color: #3B4455;\n",
              "      fill: #D2E3FC;\n",
              "    }\n",
              "\n",
              "    [theme=dark] .colab-df-convert:hover {\n",
              "      background-color: #434B5C;\n",
              "      box-shadow: 0px 1px 3px 1px rgba(0, 0, 0, 0.15);\n",
              "      filter: drop-shadow(0px 1px 2px rgba(0, 0, 0, 0.3));\n",
              "      fill: #FFFFFF;\n",
              "    }\n",
              "  </style>\n",
              "\n",
              "      <script>\n",
              "        const buttonEl =\n",
              "          document.querySelector('#df-ad18ac26-8b30-4294-b213-e89ceafdae00 button.colab-df-convert');\n",
              "        buttonEl.style.display =\n",
              "          google.colab.kernel.accessAllowed ? 'block' : 'none';\n",
              "\n",
              "        async function convertToInteractive(key) {\n",
              "          const element = document.querySelector('#df-ad18ac26-8b30-4294-b213-e89ceafdae00');\n",
              "          const dataTable =\n",
              "            await google.colab.kernel.invokeFunction('convertToInteractive',\n",
              "                                                     [key], {});\n",
              "          if (!dataTable) return;\n",
              "\n",
              "          const docLinkHtml = 'Like what you see? Visit the ' +\n",
              "            '<a target=\"_blank\" href=https://colab.research.google.com/notebooks/data_table.ipynb>data table notebook</a>'\n",
              "            + ' to learn more about interactive tables.';\n",
              "          element.innerHTML = '';\n",
              "          dataTable['output_type'] = 'display_data';\n",
              "          await google.colab.output.renderOutput(dataTable, element);\n",
              "          const docLink = document.createElement('div');\n",
              "          docLink.innerHTML = docLinkHtml;\n",
              "          element.appendChild(docLink);\n",
              "        }\n",
              "      </script>\n",
              "    </div>\n",
              "  </div>\n",
              "  "
            ]
          },
          "metadata": {},
          "execution_count": 16
        }
      ]
    },
    {
      "cell_type": "markdown",
      "source": [
        "Evaluamos en base a la proporción cumulativa cuantos componentes principales son necesarios para llegar a una variabilidad arriba al 90%"
      ],
      "metadata": {
        "id": "07Y8shYBBi2b"
      }
    },
    {
      "cell_type": "code",
      "source": [
        "pcsSummary_df.iloc[2,7].round(4)*100"
      ],
      "metadata": {
        "colab": {
          "base_uri": "https://localhost:8080/"
        },
        "id": "BQr_EgguwxPf",
        "outputId": "8d3fb7ea-2489-4e20-c9c9-d70326251fb4"
      },
      "execution_count": 20,
      "outputs": [
        {
          "output_type": "execute_result",
          "data": {
            "text/plain": [
              "91.9"
            ]
          },
          "metadata": {},
          "execution_count": 20
        }
      ]
    },
    {
      "cell_type": "code",
      "source": [
        "(1 - pcsSummary_df.iloc[2,7]).round(4)*100"
      ],
      "metadata": {
        "colab": {
          "base_uri": "https://localhost:8080/"
        },
        "id": "Fx6jPOs-S9jx",
        "outputId": "710b77b0-94d8-4867-e455-8ed04b794600"
      },
      "execution_count": 21,
      "outputs": [
        {
          "output_type": "execute_result",
          "data": {
            "text/plain": [
              "8.1"
            ]
          },
          "metadata": {},
          "execution_count": 21
        }
      ]
    },
    {
      "cell_type": "code",
      "source": [
        "import matplotlib as mpl\n",
        "import matplotlib.pyplot as plt\n",
        "import seaborn as sns "
      ],
      "metadata": {
        "id": "HsRxJXutVBmP"
      },
      "execution_count": 24,
      "outputs": []
    },
    {
      "cell_type": "code",
      "source": [
        "PC_components = np.arange(pcs.n_components_) + 1\n",
        "#PC_components\n",
        "\n",
        "_ = sns.set(style = 'whitegrid', \n",
        "            font_scale = 1.2\n",
        "            )\n",
        "\n",
        "fig, ax = plt.subplots(figsize=(10, 7))\n",
        "\n",
        "_ = sns.barplot(x = PC_components, \n",
        "                y = pcs.explained_variance_ratio_, \n",
        "                color = 'b'\n",
        "                )\n",
        "\n",
        "_ = sns.lineplot(x = PC_components-1, \n",
        "                 y = np.cumsum(pcs.explained_variance_ratio_), \n",
        "                 color = 'black', \n",
        "                 linestyle = '-', \n",
        "                 linewidth = 2, \n",
        "                 marker = 'o', \n",
        "                 markersize = 8\n",
        "                 )\n",
        "\n",
        "plt.title('Scree Plot')\n",
        "plt.xlabel('N-th Principal Component')\n",
        "plt.ylabel('Variance Explained')\n",
        "plt.ylim(0, 1)\n",
        "plt.show()"
      ],
      "metadata": {
        "colab": {
          "base_uri": "https://localhost:8080/",
          "height": 469
        },
        "id": "_4VYSZM3VDP1",
        "outputId": "80cf5c85-b420-4383-84d0-928bdf405ba6"
      },
      "execution_count": 25,
      "outputs": [
        {
          "output_type": "display_data",
          "data": {
            "text/plain": [
              "<Figure size 720x504 with 1 Axes>"
            ],
            "image/png": "[encoded data removed]"
          },
          "metadata": {}
        }
      ]
    },
    {
      "cell_type": "markdown",
      "source": [
        "*   El primer componente principal abarca únicamente un 42% de la variabilidad\n",
        "*   Es necesario abarcar hasta PC8 para llegar a un 91.9% de variabilidad\n",
        "*   Reducir el número de variables a menos de 8 significaría una pérdida de variabilidad considerable\n",
        "*   Existe una pérdida de variación del 8.1% incluyendo 8 componentes principales"
      ],
      "metadata": {
        "id": "EGUk9dJPCBCL"
      }
    },
    {
      "cell_type": "markdown",
      "source": [
        "### El numero **mínimo de componentes principales** para el modelo son **12**"
      ],
      "metadata": {
        "id": "cMHH3tc1CcGb"
      }
    },
    {
      "cell_type": "markdown",
      "source": [
        "## **Paso 2: Interprete cada componente principal en términos de las variables originales**"
      ],
      "metadata": {
        "id": "XrwkJ7yMCsSs"
      }
    },
    {
      "cell_type": "markdown",
      "source": [
        "Comenzamos usando el método de .transpose() para acomodar los componentes principales en las columnas, contra los nombres de las columnas de la base de datos original. Para así poder visualizar el impacto de las variables originales sobre los componentes principales."
      ],
      "metadata": {
        "id": "9NY17rsIC_Uq"
      }
    },
    {
      "cell_type": "code",
      "source": [
        "pcsComponents_df = pd.DataFrame(pcs.components_.transpose(), \n",
        "                                columns=pcsSummary_df.columns,\n",
        "                                index=x_pca.columns\n",
        "                                )\n",
        "pcsComponents_df.iloc[:,:8]"
      ],
      "metadata": {
        "colab": {
          "base_uri": "https://localhost:8080/",
          "height": 488
        },
        "id": "w7Nc-lJTC1_I",
        "outputId": "cf4131fd-3f52-4b6f-be97-31a89536b2b7"
      },
      "execution_count": 28,
      "outputs": [
        {
          "output_type": "execute_result",
          "data": {
            "text/plain": [
              "             PC1       PC2       PC3       PC4       PC5       PC6       PC7  \\\n",
              "BAL     0.165565  0.300538 -0.378209 -0.199249 -0.025290 -0.084130  0.111396   \n",
              "AGE     0.032799  0.071926 -0.870358  0.336170  0.028978  0.074672 -0.078368   \n",
              "BILL_1  0.372395 -0.191181 -0.032392 -0.058608 -0.035930 -0.045563  0.006440   \n",
              "BILL_2  0.382992 -0.175861 -0.001193  0.010543 -0.078185 -0.035791 -0.032184   \n",
              "BILL_3  0.388074 -0.127792  0.034773  0.063238 -0.123864  0.084363 -0.115457   \n",
              "BILL_4  0.391472 -0.120484  0.033747  0.073973 -0.021841  0.007817  0.122453   \n",
              "BILL_5  0.388217 -0.107094  0.033053  0.036804  0.120742 -0.080628 -0.007429   \n",
              "BILL_6  0.380670 -0.092900  0.016839 -0.077661  0.143763  0.083384  0.008679   \n",
              "PAY_1   0.135517  0.382542  0.172912  0.363005 -0.232924  0.009000 -0.203041   \n",
              "PAY_2   0.116982  0.408651  0.199867  0.346810 -0.202384  0.385506 -0.275814   \n",
              "PAY_3   0.128317  0.392692  0.121707  0.243789  0.255365 -0.073663  0.785579   \n",
              "PAY_4   0.117534  0.349220  0.062927 -0.093103  0.641375 -0.415408 -0.465452   \n",
              "PAY_5   0.113978  0.304255 -0.060837 -0.610840  0.108001  0.622988  0.012184   \n",
              "PAY_6   0.106573  0.322510 -0.048376 -0.365528 -0.597160 -0.498555  0.026263   \n",
              "\n",
              "             PC8  \n",
              "BAL    -0.060753  \n",
              "AGE     0.033714  \n",
              "BILL_1  0.002512  \n",
              "BILL_2 -0.132825  \n",
              "BILL_3  0.093353  \n",
              "BILL_4  0.040436  \n",
              "BILL_5  0.049898  \n",
              "BILL_6  0.004406  \n",
              "PAY_1  -0.747025  \n",
              "PAY_2   0.577791  \n",
              "PAY_3   0.066375  \n",
              "PAY_4   0.077758  \n",
              "PAY_5  -0.162046  \n",
              "PAY_6   0.189907  "
            ],
            "text/html": [
              "\n",
              "  <div id=\"df-42ee3a0e-39a8-4823-8abb-7a7efbf98aaf\">\n",
              "    <div class=\"colab-df-container\">\n",
              "      <div>\n",
              "<style scoped>\n",
              "    .dataframe tbody tr th:only-of-type {\n",
              "        vertical-align: middle;\n",
              "    }\n",
              "\n",
              "    .dataframe tbody tr th {\n",
              "        vertical-align: top;\n",
              "    }\n",
              "\n",
              "    .dataframe thead th {\n",
              "        text-align: right;\n",
              "    }\n",
              "</style>\n",
              "<table border=\"1\" class=\"dataframe\">\n",
              "  <thead>\n",
              "    <tr style=\"text-align: right;\">\n",
              "      <th></th>\n",
              "      <th>PC1</th>\n",
              "      <th>PC2</th>\n",
              "      <th>PC3</th>\n",
              "      <th>PC4</th>\n",
              "      <th>PC5</th>\n",
              "      <th>PC6</th>\n",
              "      <th>PC7</th>\n",
              "      <th>PC8</th>\n",
              "    </tr>\n",
              "  </thead>\n",
              "  <tbody>\n",
              "    <tr>\n",
              "      <th>BAL</th>\n",
              "      <td>0.165565</td>\n",
              "      <td>0.300538</td>\n",
              "      <td>-0.378209</td>\n",
              "      <td>-0.199249</td>\n",
              "      <td>-0.025290</td>\n",
              "      <td>-0.084130</td>\n",
              "      <td>0.111396</td>\n",
              "      <td>-0.060753</td>\n",
              "    </tr>\n",
              "    <tr>\n",
              "      <th>AGE</th>\n",
              "      <td>0.032799</td>\n",
              "      <td>0.071926</td>\n",
              "      <td>-0.870358</td>\n",
              "      <td>0.336170</td>\n",
              "      <td>0.028978</td>\n",
              "      <td>0.074672</td>\n",
              "      <td>-0.078368</td>\n",
              "      <td>0.033714</td>\n",
              "    </tr>\n",
              "    <tr>\n",
              "      <th>BILL_1</th>\n",
              "      <td>0.372395</td>\n",
              "      <td>-0.191181</td>\n",
              "      <td>-0.032392</td>\n",
              "      <td>-0.058608</td>\n",
              "      <td>-0.035930</td>\n",
              "      <td>-0.045563</td>\n",
              "      <td>0.006440</td>\n",
              "      <td>0.002512</td>\n",
              "    </tr>\n",
              "    <tr>\n",
              "      <th>BILL_2</th>\n",
              "      <td>0.382992</td>\n",
              "      <td>-0.175861</td>\n",
              "      <td>-0.001193</td>\n",
              "      <td>0.010543</td>\n",
              "      <td>-0.078185</td>\n",
              "      <td>-0.035791</td>\n",
              "      <td>-0.032184</td>\n",
              "      <td>-0.132825</td>\n",
              "    </tr>\n",
              "    <tr>\n",
              "      <th>BILL_3</th>\n",
              "      <td>0.388074</td>\n",
              "      <td>-0.127792</td>\n",
              "      <td>0.034773</td>\n",
              "      <td>0.063238</td>\n",
              "      <td>-0.123864</td>\n",
              "      <td>0.084363</td>\n",
              "      <td>-0.115457</td>\n",
              "      <td>0.093353</td>\n",
              "    </tr>\n",
              "    <tr>\n",
              "      <th>BILL_4</th>\n",
              "      <td>0.391472</td>\n",
              "      <td>-0.120484</td>\n",
              "      <td>0.033747</td>\n",
              "      <td>0.073973</td>\n",
              "      <td>-0.021841</td>\n",
              "      <td>0.007817</td>\n",
              "      <td>0.122453</td>\n",
              "      <td>0.040436</td>\n",
              "    </tr>\n",
              "    <tr>\n",
              "      <th>BILL_5</th>\n",
              "      <td>0.388217</td>\n",
              "      <td>-0.107094</td>\n",
              "      <td>0.033053</td>\n",
              "      <td>0.036804</td>\n",
              "      <td>0.120742</td>\n",
              "      <td>-0.080628</td>\n",
              "      <td>-0.007429</td>\n",
              "      <td>0.049898</td>\n",
              "    </tr>\n",
              "    <tr>\n",
              "      <th>BILL_6</th>\n",
              "      <td>0.380670</td>\n",
              "      <td>-0.092900</td>\n",
              "      <td>0.016839</td>\n",
              "      <td>-0.077661</td>\n",
              "      <td>0.143763</td>\n",
              "      <td>0.083384</td>\n",
              "      <td>0.008679</td>\n",
              "      <td>0.004406</td>\n",
              "    </tr>\n",
              "    <tr>\n",
              "      <th>PAY_1</th>\n",
              "      <td>0.135517</td>\n",
              "      <td>0.382542</td>\n",
              "      <td>0.172912</td>\n",
              "      <td>0.363005</td>\n",
              "      <td>-0.232924</td>\n",
              "      <td>0.009000</td>\n",
              "      <td>-0.203041</td>\n",
              "      <td>-0.747025</td>\n",
              "    </tr>\n",
              "    <tr>\n",
              "      <th>PAY_2</th>\n",
              "      <td>0.116982</td>\n",
              "      <td>0.408651</td>\n",
              "      <td>0.199867</td>\n",
              "      <td>0.346810</td>\n",
              "      <td>-0.202384</td>\n",
              "      <td>0.385506</td>\n",
              "      <td>-0.275814</td>\n",
              "      <td>0.577791</td>\n",
              "    </tr>\n",
              "    <tr>\n",
              "      <th>PAY_3</th>\n",
              "      <td>0.128317</td>\n",
              "      <td>0.392692</td>\n",
              "      <td>0.121707</td>\n",
              "      <td>0.243789</td>\n",
              "      <td>0.255365</td>\n",
              "      <td>-0.073663</td>\n",
              "      <td>0.785579</td>\n",
              "      <td>0.066375</td>\n",
              "    </tr>\n",
              "    <tr>\n",
              "      <th>PAY_4</th>\n",
              "      <td>0.117534</td>\n",
              "      <td>0.349220</td>\n",
              "      <td>0.062927</td>\n",
              "      <td>-0.093103</td>\n",
              "      <td>0.641375</td>\n",
              "      <td>-0.415408</td>\n",
              "      <td>-0.465452</td>\n",
              "      <td>0.077758</td>\n",
              "    </tr>\n",
              "    <tr>\n",
              "      <th>PAY_5</th>\n",
              "      <td>0.113978</td>\n",
              "      <td>0.304255</td>\n",
              "      <td>-0.060837</td>\n",
              "      <td>-0.610840</td>\n",
              "      <td>0.108001</td>\n",
              "      <td>0.622988</td>\n",
              "      <td>0.012184</td>\n",
              "      <td>-0.162046</td>\n",
              "    </tr>\n",
              "    <tr>\n",
              "      <th>PAY_6</th>\n",
              "      <td>0.106573</td>\n",
              "      <td>0.322510</td>\n",
              "      <td>-0.048376</td>\n",
              "      <td>-0.365528</td>\n",
              "      <td>-0.597160</td>\n",
              "      <td>-0.498555</td>\n",
              "      <td>0.026263</td>\n",
              "      <td>0.189907</td>\n",
              "    </tr>\n",
              "  </tbody>\n",
              "</table>\n",
              "</div>\n",
              "      <button class=\"colab-df-convert\" onclick=\"convertToInteractive('df-42ee3a0e-39a8-4823-8abb-7a7efbf98aaf')\"\n",
              "              title=\"Convert this dataframe to an interactive table.\"\n",
              "              style=\"display:none;\">\n",
              "        \n",
              "  <svg xmlns=\"http://www.w3.org/2000/svg\" height=\"24px\"viewBox=\"0 0 24 24\"\n",
              "       width=\"24px\">\n",
              "    <path d=\"M0 0h24v24H0V0z\" fill=\"none\"/>\n",
              "    <path d=\"M18.56 5.44l.94 2.06.94-2.06 2.06-.94-2.06-.94-.94-2.06-.94 2.06-2.06.94zm-11 1L8.5 8.5l.94-2.06 2.06-.94-2.06-.94L8.5 2.5l-.94 2.06-2.06.94zm10 10l.94 2.06.94-2.06 2.06-.94-2.06-.94-.94-2.06-.94 2.06-2.06.94z\"/><path d=\"M17.41 7.96l-1.37-1.37c-.4-.4-.92-.59-1.43-.59-.52 0-1.04.2-1.43.59L10.3 9.45l-7.72 7.72c-.78.78-.78 2.05 0 2.83L4 21.41c.39.39.9.59 1.41.59.51 0 1.02-.2 1.41-.59l7.78-7.78 2.81-2.81c.8-.78.8-2.07 0-2.86zM5.41 20L4 18.59l7.72-7.72 1.47 1.35L5.41 20z\"/>\n",
              "  </svg>\n",
              "      </button>\n",
              "      \n",
              "  <style>\n",
              "    .colab-df-container {\n",
              "      display:flex;\n",
              "      flex-wrap:wrap;\n",
              "      gap: 12px;\n",
              "    }\n",
              "\n",
              "    .colab-df-convert {\n",
              "      background-color: #E8F0FE;\n",
              "      border: none;\n",
              "      border-radius: 50%;\n",
              "      cursor: pointer;\n",
              "      display: none;\n",
              "      fill: #1967D2;\n",
              "      height: 32px;\n",
              "      padding: 0 0 0 0;\n",
              "      width: 32px;\n",
              "    }\n",
              "\n",
              "    .colab-df-convert:hover {\n",
              "      background-color: #E2EBFA;\n",
              "      box-shadow: 0px 1px 2px rgba(60, 64, 67, 0.3), 0px 1px 3px 1px rgba(60, 64, 67, 0.15);\n",
              "      fill: #174EA6;\n",
              "    }\n",
              "\n",
              "    [theme=dark] .colab-df-convert {\n",
              "      background-color: #3B4455;\n",
              "      fill: #D2E3FC;\n",
              "    }\n",
              "\n",
              "    [theme=dark] .colab-df-convert:hover {\n",
              "      background-color: #434B5C;\n",
              "      box-shadow: 0px 1px 3px 1px rgba(0, 0, 0, 0.15);\n",
              "      filter: drop-shadow(0px 1px 2px rgba(0, 0, 0, 0.3));\n",
              "      fill: #FFFFFF;\n",
              "    }\n",
              "  </style>\n",
              "\n",
              "      <script>\n",
              "        const buttonEl =\n",
              "          document.querySelector('#df-42ee3a0e-39a8-4823-8abb-7a7efbf98aaf button.colab-df-convert');\n",
              "        buttonEl.style.display =\n",
              "          google.colab.kernel.accessAllowed ? 'block' : 'none';\n",
              "\n",
              "        async function convertToInteractive(key) {\n",
              "          const element = document.querySelector('#df-42ee3a0e-39a8-4823-8abb-7a7efbf98aaf');\n",
              "          const dataTable =\n",
              "            await google.colab.kernel.invokeFunction('convertToInteractive',\n",
              "                                                     [key], {});\n",
              "          if (!dataTable) return;\n",
              "\n",
              "          const docLinkHtml = 'Like what you see? Visit the ' +\n",
              "            '<a target=\"_blank\" href=https://colab.research.google.com/notebooks/data_table.ipynb>data table notebook</a>'\n",
              "            + ' to learn more about interactive tables.';\n",
              "          element.innerHTML = '';\n",
              "          dataTable['output_type'] = 'display_data';\n",
              "          await google.colab.output.renderOutput(dataTable, element);\n",
              "          const docLink = document.createElement('div');\n",
              "          docLink.innerHTML = docLinkHtml;\n",
              "          element.appendChild(docLink);\n",
              "        }\n",
              "      </script>\n",
              "    </div>\n",
              "  </div>\n",
              "  "
            ]
          },
          "metadata": {},
          "execution_count": 28
        }
      ]
    },
    {
      "cell_type": "markdown",
      "source": [
        "Ahora evaluamos las variables con el mayor valor absoluto en los coeficientes"
      ],
      "metadata": {
        "id": "SYdxFMklFTZf"
      }
    },
    {
      "cell_type": "code",
      "source": [
        "for pc in pcsComponents_df.iloc[:,:12]:\n",
        "  print('Top 3 variables con mayores coeficientes en magnitud de: ' + pc)\n",
        "  indexes_abs = pcsComponents_df[pc].abs().nlargest(3).index\n",
        "  individual_pc = pcsComponents_df[pc]\n",
        "  print(individual_pc[indexes_abs])"
      ],
      "metadata": {
        "colab": {
          "base_uri": "https://localhost:8080/"
        },
        "id": "MqckMe-zFxi9",
        "outputId": "0d0210f8-bfa2-4b00-a287-67927b7d6d72"
      },
      "execution_count": 29,
      "outputs": [
        {
          "output_type": "stream",
          "name": "stdout",
          "text": [
            "Top 3 variables con mayores coeficientes en magnitud de: PC1\n",
            "BILL_4    0.391472\n",
            "BILL_5    0.388217\n",
            "BILL_3    0.388074\n",
            "Name: PC1, dtype: float64\n",
            "Top 3 variables con mayores coeficientes en magnitud de: PC2\n",
            "PAY_2    0.408651\n",
            "PAY_3    0.392692\n",
            "PAY_1    0.382542\n",
            "Name: PC2, dtype: float64\n",
            "Top 3 variables con mayores coeficientes en magnitud de: PC3\n",
            "AGE     -0.870358\n",
            "BAL     -0.378209\n",
            "PAY_2    0.199867\n",
            "Name: PC3, dtype: float64\n",
            "Top 3 variables con mayores coeficientes en magnitud de: PC4\n",
            "PAY_5   -0.610840\n",
            "PAY_6   -0.365528\n",
            "PAY_1    0.363005\n",
            "Name: PC4, dtype: float64\n",
            "Top 3 variables con mayores coeficientes en magnitud de: PC5\n",
            "PAY_4    0.641375\n",
            "PAY_6   -0.597160\n",
            "PAY_3    0.255365\n",
            "Name: PC5, dtype: float64\n",
            "Top 3 variables con mayores coeficientes en magnitud de: PC6\n",
            "PAY_5    0.622988\n",
            "PAY_6   -0.498555\n",
            "PAY_4   -0.415408\n",
            "Name: PC6, dtype: float64\n",
            "Top 3 variables con mayores coeficientes en magnitud de: PC7\n",
            "PAY_3    0.785579\n",
            "PAY_4   -0.465452\n",
            "PAY_2   -0.275814\n",
            "Name: PC7, dtype: float64\n",
            "Top 3 variables con mayores coeficientes en magnitud de: PC8\n",
            "PAY_1   -0.747025\n",
            "PAY_2    0.577791\n",
            "PAY_6    0.189907\n",
            "Name: PC8, dtype: float64\n",
            "Top 3 variables con mayores coeficientes en magnitud de: PC9\n",
            "BAL     -0.821286\n",
            "AGE      0.330819\n",
            "PAY_6    0.312869\n",
            "Name: PC9, dtype: float64\n",
            "Top 3 variables con mayores coeficientes en magnitud de: PC10\n",
            "BILL_1    0.565958\n",
            "BILL_6   -0.494260\n",
            "BILL_5   -0.418157\n",
            "Name: PC10, dtype: float64\n",
            "Top 3 variables con mayores coeficientes en magnitud de: PC11\n",
            "BILL_4   -0.531114\n",
            "BILL_6    0.517053\n",
            "BILL_3   -0.476552\n",
            "Name: PC11, dtype: float64\n",
            "Top 3 variables con mayores coeficientes en magnitud de: PC12\n",
            "BILL_3    0.503784\n",
            "BILL_4   -0.480108\n",
            "BILL_1   -0.434756\n",
            "Name: PC12, dtype: float64\n"
          ]
        }
      ]
    },
    {
      "cell_type": "markdown",
      "source": [
        "Y donde podemos ver las 3 variables con mayor magnitud de cada componente principal"
      ],
      "metadata": {
        "id": "1Y3E5pFjL0SB"
      }
    },
    {
      "cell_type": "markdown",
      "source": [
        "Ahora para los eigenvectors:"
      ],
      "metadata": {
        "id": "EGEZITVOWXij"
      }
    },
    {
      "cell_type": "code",
      "source": [
        "pcs.components_.round(3)"
      ],
      "metadata": {
        "colab": {
          "base_uri": "https://localhost:8080/"
        },
        "id": "xuCtBbcyWZi4",
        "outputId": "bac9e5fb-c1cc-490b-def4-1f883d2c5103"
      },
      "execution_count": 30,
      "outputs": [
        {
          "output_type": "execute_result",
          "data": {
            "text/plain": [
              "array([[ 0.166,  0.033,  0.372,  0.383,  0.388,  0.391,  0.388,  0.381,\n",
              "         0.136,  0.117,  0.128,  0.118,  0.114,  0.107],\n",
              "       [ 0.301,  0.072, -0.191, -0.176, -0.128, -0.12 , -0.107, -0.093,\n",
              "         0.383,  0.409,  0.393,  0.349,  0.304,  0.323],\n",
              "       [-0.378, -0.87 , -0.032, -0.001,  0.035,  0.034,  0.033,  0.017,\n",
              "         0.173,  0.2  ,  0.122,  0.063, -0.061, -0.048],\n",
              "       [-0.199,  0.336, -0.059,  0.011,  0.063,  0.074,  0.037, -0.078,\n",
              "         0.363,  0.347,  0.244, -0.093, -0.611, -0.366],\n",
              "       [-0.025,  0.029, -0.036, -0.078, -0.124, -0.022,  0.121,  0.144,\n",
              "        -0.233, -0.202,  0.255,  0.641,  0.108, -0.597],\n",
              "       [-0.084,  0.075, -0.046, -0.036,  0.084,  0.008, -0.081,  0.083,\n",
              "         0.009,  0.386, -0.074, -0.415,  0.623, -0.499],\n",
              "       [ 0.111, -0.078,  0.006, -0.032, -0.115,  0.122, -0.007,  0.009,\n",
              "        -0.203, -0.276,  0.786, -0.465,  0.012,  0.026],\n",
              "       [-0.061,  0.034,  0.003, -0.133,  0.093,  0.04 ,  0.05 ,  0.004,\n",
              "        -0.747,  0.578,  0.066,  0.078, -0.162,  0.19 ],\n",
              "       [-0.821,  0.331,  0.008,  0.017, -0.021,  0.019,  0.023,  0.063,\n",
              "         0.034, -0.12 ,  0.152,  0.096,  0.254,  0.313],\n",
              "       [-0.03 , -0.009,  0.566,  0.386,  0.123, -0.201, -0.418, -0.494,\n",
              "        -0.064,  0.048,  0.143,  0.128,  0.062, -0.087],\n",
              "       [-0.006,  0.001,  0.415,  0.042, -0.477, -0.531,  0.063,  0.517,\n",
              "         0.044,  0.146,  0.005, -0.109, -0.1  ,  0.026],\n",
              "       [ 0.016, -0.001, -0.435,  0.342,  0.504, -0.48 , -0.26 ,  0.336,\n",
              "        -0.066, -0.072,  0.121,  0.009, -0.068,  0.021],\n",
              "       [-0.001,  0.   , -0.177,  0.308, -0.062, -0.382,  0.725, -0.425,\n",
              "        -0.041,  0.032,  0.028, -0.08 ,  0.091, -0.011],\n",
              "       [ 0.003,  0.001, -0.323,  0.658, -0.532,  0.33 , -0.199,  0.058,\n",
              "        -0.083,  0.124, -0.06 ,  0.035, -0.005,  0.007]])"
            ]
          },
          "metadata": {},
          "execution_count": 30
        }
      ]
    },
    {
      "cell_type": "markdown",
      "source": [
        "Donde podemos ver cada vector para cada componente principal"
      ],
      "metadata": {
        "id": "ZR2H5NeiW5Zl"
      }
    },
    {
      "cell_type": "markdown",
      "source": [
        "Ahora, para los eigenvalues:"
      ],
      "metadata": {
        "id": "rkQPMK7sW6O_"
      }
    },
    {
      "cell_type": "code",
      "source": [
        "pcs.explained_variance_.round(3)"
      ],
      "metadata": {
        "colab": {
          "base_uri": "https://localhost:8080/"
        },
        "id": "a3WYPDDjWi0n",
        "outputId": "752643a4-6a97-4af7-c2a6-6414e44704e8"
      },
      "execution_count": 31,
      "outputs": [
        {
          "output_type": "execute_result",
          "data": {
            "text/plain": [
              "array([5.929, 1.711, 1.045, 0.926, 0.88 , 0.871, 0.778, 0.726, 0.708,\n",
              "       0.264, 0.072, 0.041, 0.026, 0.024])"
            ]
          },
          "metadata": {},
          "execution_count": 31
        }
      ]
    },
    {
      "cell_type": "markdown",
      "source": [
        "Lo que nos dice la importancia de cada dirección de cada vector"
      ],
      "metadata": {
        "id": "Z8JMqfWaXNgz"
      }
    },
    {
      "cell_type": "markdown",
      "source": [
        "## **Paso 3: Identifique valores atípicos**"
      ],
      "metadata": {
        "id": "WILhE1i-MT6n"
      }
    },
    {
      "cell_type": "markdown",
      "source": [
        "Para identificar los valores atípicos generaremos graficas de boxplot de cada componente principal"
      ],
      "metadata": {
        "id": "ljdRPYWtM5c7"
      }
    },
    {
      "cell_type": "code",
      "source": [
        "sns.set(rc={'figure.figsize':(20,15)})\n",
        "fig, ax =plt.subplots(2,4)\n",
        "j = 0\n",
        "k = 0\n",
        "for pc in pcsComponents_df.iloc[:,:8]:\n",
        "  sns.boxplot(x=pcsComponents_df[pc],ax=ax[k,j])\n",
        "  j = j + 1\n",
        "  if j > 3:\n",
        "    k = k + 1\n",
        "    j = 0\n",
        "plt.tight_layout()"
      ],
      "metadata": {
        "colab": {
          "base_uri": "https://localhost:8080/",
          "height": 1000
        },
        "id": "WGEdDnOdNH4b",
        "outputId": "1042219c-b82f-4285-bc7b-f09d484b2be0"
      },
      "execution_count": 35,
      "outputs": [
        {
          "output_type": "display_data",
          "data": {
            "text/plain": [
              "<Figure size 1440x1080 with 8 Axes>"
            ],
            "image/png": "[encoded data removed]"
          },
          "metadata": {}
        }
      ]
    },
    {
      "cell_type": "markdown",
      "source": [
        "Donde podemos observar que PC3, PC4, PC5, PC6, PC7 y PC8 tienen valores atípicos"
      ],
      "metadata": {
        "id": "XHq7TifmRS_G"
      }
    },
    {
      "cell_type": "markdown",
      "source": [
        "## **Parte 2: Responde las siguientes preguntas en una celda de texto en Jupyter Notebook**"
      ],
      "metadata": {
        "id": "mEA2dnoaRwmu"
      }
    },
    {
      "cell_type": "markdown",
      "source": [
        "* **¿Cuál es el número de componentes mínimo y por qué?**\n",
        "\n",
        "El número de componentes mínimos lo definimos en base a la variabilidad. En este caso elegimos 8 componentes como mínimo ya que era el mínimo necesario para cubrir un 90% de la variabilidad. Bien podríamos decidirnos por un valor de variabilidad menor y así disminuir los componentes. Sin embargo, eso nos haría perder un porcentaje mayor de variabilidad. Por en esta ocasión se tomó esa decisión de utilizar 8 componentes principales. \n",
        "\n",
        "* **¿Cuál es la variación de los datos que representan esos componentes?**\n",
        "\n",
        "Representan un 91.9% de la variación. Un valor arriba del 90% que se considera bastante valido para la parte de modelación. \n",
        "\n",
        "* **¿Cuál es la pérdida de información después de realizar PCA?**\n",
        "\n",
        "Existe una pérdida de variación del 8.1%\n",
        "\n",
        "* **De las variables originales, ¿Cuál tiene mayor y cuál tiene menor importancia en los componentes principales?**\n",
        "\n",
        "Dependiendo del componente principal, son las variables originales que mayor importancia tienen sobre cada uno. Pero si calculamos la covariancia de cada variable respecto a las demás, y sacamos el porcentaje de cada una sobre el total de variancia, obtenemos que la de mayor importancia es BILL_5 con un 72.24%, y la de menor importancia es BILL_1 con 0.22%\n",
        "\n",
        "* **¿Cuándo se recomienda realizar un PCA y qué beneficios ofrece para Machine Learning?**\n",
        "\n",
        "Este método se recomienda usarse cuando hay una gran correlación entre las variables. Si su correlación es baja, entonces no es recomendable usarse. De igual manera solo se recomienda usarse para variables continuas. Si hay variables categoricas no se recomienda.\n",
        "\n",
        "El método de PCA se utiliza para reducir la dimensionalidad de un set de datos. Nos ayuda a mejorar el rendimiento de los modelos en machine learning sin una gran pérdida de variación de los datos.\n",
        "\n",
        " "
      ],
      "metadata": {
        "id": "CESql8o0R-sh"
      }
    }
  ]
}