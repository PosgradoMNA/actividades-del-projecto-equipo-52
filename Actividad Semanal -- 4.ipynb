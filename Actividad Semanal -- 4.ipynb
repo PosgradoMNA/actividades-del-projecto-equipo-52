{
  "nbformat": 4,
  "nbformat_minor": 0,
  "metadata": {
    "colab": {
      "name": "assignment01.ipynb",
      "provenance": [],
      "include_colab_link": true
    },
    "kernelspec": {
      "name": "python3",
      "display_name": "Python 3"
    },
    "language_info": {
      "name": "python"
    }
  },
  "cells": [
    {
      "cell_type": "markdown",
      "metadata": {
        "id": "view-in-github",
        "colab_type": "text"
      },
      "source": [
        "<a href=\"https://colab.research.google.com/github/PosgradoMNA/actividades-del-projecto-equipo-52/blob/main/Actividad%20Semanal%20--%204.ipynb\" target=\"_parent\"><img src=\"https://colab.research.google.com/assets/colab-badge.svg\" alt=\"Open In Colab\"/></a>"
      ]
    },
    {
      "cell_type": "markdown",
      "source": [
        "> # **Actividad Semanal -- 4**\n",
        ">## **Maestría en Inteligencia Artificial Aplicada**\n",
        ">### **Curso: TC4029.10 Ciencia y analítica de datos (Gpo 10)**\n",
        ">## **Tecnológico de Monterrey**\n",
        ">## **Prof: Jobish Vallikavungal Devassia**\n",
        "\n",
        "\n",
        "\n",
        "\n",
        "### **Gerardo Aaron Castañeda Jaramillo  -  Matrícula A01137646**\n",
        "### **Genaro Ramos Higuera  -  Matrícula A00351269**\n",
        "### **5 de octubre del 2022**"
      ],
      "metadata": {
        "id": "N3oTf365bKNg"
      }
    },
    {
      "cell_type": "markdown",
      "source": [
        "## **Parte 1: Ejercicio guiado**"
      ],
      "metadata": {
        "id": "Ut4LC_dz1HGk"
      }
    },
    {
      "cell_type": "code",
      "source": [
        "import pandas as pd\n",
        "import numpy as np\n",
        "from sklearn.decomposition import PCA\n",
        "from sklearn import preprocessing"
      ],
      "metadata": {
        "id": "mxM_WppZPMFx"
      },
      "execution_count": 1,
      "outputs": []
    },
    {
      "cell_type": "code",
      "source": [
        "df = pd.read_csv('https://raw.githubusercontent.com/PosgradoMNA/Actividades_Aprendizaje-/main/default%20of%20credit%20card%20clients.csv', index_col = 0)\n",
        "df.index.name = None"
      ],
      "metadata": {
        "id": "-_DsCYxKbgnO"
      },
      "execution_count": 2,
      "outputs": []
    },
    {
      "cell_type": "markdown",
      "source": [
        "### Formato dado en anterior ejercicio a la base de datos"
      ],
      "metadata": {
        "id": "i4OKv1uO6w84"
      }
    },
    {
      "cell_type": "code",
      "source": [
        "df_norm = df.copy()\n",
        "\n",
        "#eliminamos valores mayores a 4 en X3 \n",
        "X3_values = []\n",
        "for i in range(0,len(df_norm.index)):\n",
        "  if df_norm['X3'].iloc[i] > 4:\n",
        "    if df_norm['X3'].iloc[i] not in X3_values:\n",
        "      X3_values.append(int(df_norm['X3'].iloc[i]))\n",
        "for i in X3_values:\n",
        "  df_norm['X3'].replace(i,4,inplace=True)\n",
        "\n",
        "#sustituimos valores de x3 de 0 por valor 4 de others\n",
        "df_norm['X3'].replace(0,4,inplace=True)\n",
        "\n",
        "#sustituimos valores de 0 en X4 por por 3, ya que entra dentro de el valor 3 = others\n",
        "df_norm['X4'].replace(0,3,inplace=True)\n",
        "\n",
        "#cambimos valores de -2 de X6 a X11 por -1\n",
        "df_norm.iloc[:,5:11] = df_norm.iloc[:,5:11].replace(-2,-1)\n",
        "\n",
        "#cambiamos valores negativos de X12 a X24\n",
        "for col in df_norm.iloc[:,11:23].columns:\n",
        "  df_norm[col] = df_norm[col].abs()\n",
        "\n",
        "#eliminamos las filas con valores nulos, que representan 42/30000\n",
        "df_norm.dropna(axis=0,inplace=True)"
      ],
      "metadata": {
        "id": "afbYCHgJ35fi"
      },
      "execution_count": 3,
      "outputs": []
    },
    {
      "cell_type": "markdown",
      "source": [
        "Cambiaremos los nombres de las columnas para su más fácil visualización"
      ],
      "metadata": {
        "id": "SN1Tt81jDpTK"
      }
    },
    {
      "cell_type": "code",
      "source": [
        "columns_name = ['BAL','SEX','EDUCATION','MARRIAGE','AGE','PAYSTAT_1','PAYSTAT_2','PAYSTAT_3','PAYSTAT_4','PAYSTAT_5','PAYSTAT_6','BILL_1','BILL_2','BILL_3','BILL_4','BILL_5','BILL_6','PAY_1',\n",
        "                'PAY_2','PAY_3','PAY_4','PAY_5','PAY_6','Y']\n",
        "df_norm.columns = columns_name\n",
        "df_norm.columns"
      ],
      "metadata": {
        "colab": {
          "base_uri": "https://localhost:8080/"
        },
        "id": "OzFO8osgDmSn",
        "outputId": "f42f50f0-2dde-4317-9c4b-4d8e61c48435"
      },
      "execution_count": 4,
      "outputs": [
        {
          "output_type": "execute_result",
          "data": {
            "text/plain": [
              "Index(['BAL', 'SEX', 'EDUCATION', 'MARRIAGE', 'AGE', 'PAYSTAT_1', 'PAYSTAT_2',\n",
              "       'PAYSTAT_3', 'PAYSTAT_4', 'PAYSTAT_5', 'PAYSTAT_6', 'BILL_1', 'BILL_2',\n",
              "       'BILL_3', 'BILL_4', 'BILL_5', 'BILL_6', 'PAY_1', 'PAY_2', 'PAY_3',\n",
              "       'PAY_4', 'PAY_5', 'PAY_6', 'Y'],\n",
              "      dtype='object')"
            ]
          },
          "metadata": {},
          "execution_count": 4
        }
      ]
    },
    {
      "cell_type": "markdown",
      "source": [
        "Analizamos la base de datos con formato"
      ],
      "metadata": {
        "id": "hviSfyE-69iX"
      }
    },
    {
      "cell_type": "markdown",
      "source": [
        "## **Paso 1: Determine el número mínimo de componentes principales que representan la mayor parte de la variación en sus datos**"
      ],
      "metadata": {
        "id": "UlQ2Ohqw1UnH"
      }
    },
    {
      "cell_type": "markdown",
      "source": [
        "Comenzamos separando los valores de entrada al modelo de los valores Y"
      ],
      "metadata": {
        "id": "Bhbeh2aNA1Ib"
      }
    },
    {
      "cell_type": "code",
      "source": [
        "dfw = df_norm.copy()\n",
        "\n",
        "Y_values = dfw['Y']\n",
        "x_values = dfw.drop('Y',axis=1)"
      ],
      "metadata": {
        "id": "BD51uhIQ1Xgc"
      },
      "execution_count": 5,
      "outputs": []
    },
    {
      "cell_type": "markdown",
      "source": [
        "Primero utilizamos el método de preprocessing de \"scale\" para tener todas las columnas en una misma escala"
      ],
      "metadata": {
        "id": "yNbJbDtgA-nP"
      }
    },
    {
      "cell_type": "code",
      "source": [
        "prepross = preprocessing.scale(x_values)"
      ],
      "metadata": {
        "id": "butajMTTYLqW"
      },
      "execution_count": 6,
      "outputs": []
    },
    {
      "cell_type": "markdown",
      "source": [
        "Seguido evaluamos la proporción de la variancia de cada variable:"
      ],
      "metadata": {
        "id": "Jge8CwzmYbpl"
      }
    },
    {
      "cell_type": "code",
      "source": [
        "Varience = np.cov(prepross)\n",
        "Varience"
      ],
      "metadata": {
        "colab": {
          "base_uri": "https://localhost:8080/"
        },
        "id": "Bol2qHDOY121",
        "outputId": "07880571-3285-41b5-83d7-fc9b28aba98f"
      },
      "execution_count": 7,
      "outputs": [
        {
          "output_type": "execute_result",
          "data": {
            "text/plain": [
              "array([[ 0.73029859,  0.14995265,  0.06487096, ...,  0.6641227 ,\n",
              "         0.02879403, -0.04942582],\n",
              "       [ 0.14995265,  0.69672633,  0.18226021, ...,  0.17350501,\n",
              "        -0.40750588, -0.08093353],\n",
              "       [ 0.06487096,  0.18226021,  0.13632097, ...,  0.07946293,\n",
              "        -0.13107501, -0.05885036],\n",
              "       ...,\n",
              "       [ 0.6641227 ,  0.17350501,  0.07946293, ...,  1.56252713,\n",
              "        -0.04221304,  0.10981582],\n",
              "       [ 0.02879403, -0.40750588, -0.13107501, ..., -0.04221304,\n",
              "         1.89579674,  0.15224163],\n",
              "       [-0.04942582, -0.08093353, -0.05885036, ...,  0.10981582,\n",
              "         0.15224163,  0.21947116]])"
            ]
          },
          "metadata": {},
          "execution_count": 7
        }
      ]
    },
    {
      "cell_type": "code",
      "source": [
        "t= prepross.var().sum()\n",
        "total = 0\n",
        "for i in range(0,len(prepross[0])-1):\n",
        "  total = total + Varience[i][i]\n",
        "print('Total Varience \\t\\t\\t:', total.round(2))\n",
        "min_val = total\n",
        "minv_str = ''\n",
        "max_val = 0\n",
        "maxv_str = ''\n",
        "x_val = 0\n",
        "for i in range(0,len(prepross[0])-1):\n",
        "  x_val = ((Varience[i][i]/total)*100).round(2)\n",
        "  str_val = str(x_values.columns[i])\n",
        "  if x_val > max_val:\n",
        "    max_val = x_val\n",
        "    maxv_str = x_values.columns[i]\n",
        "  elif x_val < min_val:\n",
        "    min_val = x_val\n",
        "    minv_str = x_values.columns[i]\n",
        "  print('Varience prop. of ' + str_val + ': ' + str(x_val) + '%' )\n",
        "\n",
        "print('Min value is: ' + str(min_val) + '% in ' + minv_str)\n",
        "print('Max value is: ' + str(max_val) + '% in ' + maxv_str)\n"
      ],
      "metadata": {
        "colab": {
          "base_uri": "https://localhost:8080/"
        },
        "id": "5RfTh9oRYgaj",
        "outputId": "c050c9d3-9fd7-4ee4-fc93-9e5623bf9801"
      },
      "execution_count": 31,
      "outputs": [
        {
          "output_type": "stream",
          "name": "stdout",
          "text": [
            "Total Varience \t\t\t: 27.35\n",
            "Varience prop. of BAL: 2.67%\n",
            "Varience prop. of SEX: 2.55%\n",
            "Varience prop. of EDUCATION: 0.5%\n",
            "Varience prop. of MARRIAGE: 0.48%\n",
            "Varience prop. of AGE: 2.28%\n",
            "Varience prop. of PAYSTAT_1: 0.75%\n",
            "Varience prop. of PAYSTAT_2: 29.39%\n",
            "Varience prop. of PAYSTAT_3: 1.04%\n",
            "Varience prop. of PAYSTAT_4: 1.77%\n",
            "Varience prop. of PAYSTAT_5: 1.64%\n",
            "Varience prop. of PAYSTAT_6: 1.86%\n",
            "Varience prop. of BILL_1: 3.23%\n",
            "Varience prop. of BILL_2: 3.49%\n",
            "Varience prop. of BILL_3: 2.66%\n",
            "Varience prop. of BILL_4: 0.83%\n",
            "Varience prop. of BILL_5: 3.02%\n",
            "Varience prop. of BILL_6: 4.35%\n",
            "Varience prop. of PAY_1: 30.74%\n",
            "Varience prop. of PAY_2: 1.27%\n",
            "Varience prop. of PAY_3: 1.44%\n",
            "Varience prop. of PAY_4: 0.85%\n",
            "Varience prop. of PAY_5: 3.2%\n",
            "Min value is: 0.48% in MARRIAGE\n",
            "Max value is: 30.74% in PAY_1\n"
          ]
        }
      ]
    },
    {
      "cell_type": "markdown",
      "source": [
        "Donde podemos ver que, de las variables, la de mayor importancia es PAY_1 con un 30.74%, y la de menor importancia es MARRIAGE con 0.48%"
      ],
      "metadata": {
        "id": "HlmljrZ1hceq"
      }
    },
    {
      "cell_type": "markdown",
      "source": [
        "Y ahora utilizamos el método de PCA"
      ],
      "metadata": {
        "id": "7pg2YI7DYX5G"
      }
    },
    {
      "cell_type": "code",
      "source": [
        "pcs = PCA()\n",
        "pcs.fit(prepross) "
      ],
      "metadata": {
        "colab": {
          "base_uri": "https://localhost:8080/"
        },
        "id": "Yfa8949fwVXI",
        "outputId": "863c1026-2501-40d7-a377-c3902138826f"
      },
      "execution_count": 116,
      "outputs": [
        {
          "output_type": "execute_result",
          "data": {
            "text/plain": [
              "PCA()"
            ]
          },
          "metadata": {},
          "execution_count": 116
        }
      ]
    },
    {
      "cell_type": "markdown",
      "source": [
        "Presentamos la variación estándar, la proporción de la variancia, y la proporción cumulativa en base los componentes principales"
      ],
      "metadata": {
        "id": "hWoamW-uBRJi"
      }
    },
    {
      "cell_type": "code",
      "source": [
        "pcsSummary_df = pd.DataFrame({'Standard deviation': np.sqrt(pcs.explained_variance_),\n",
        "                             'Proportion of variance': pcs.explained_variance_ratio_,\n",
        "                             'Cumulative proportion': np.cumsum(pcs.explained_variance_ratio_)\n",
        "                             })\n",
        "\n",
        "pcsSummary_df = pcsSummary_df.transpose()\n",
        "pcsSummary_df.columns = ['PC{}'.format(i) for i in range(1, len(pcsSummary_df.columns) + 1)]\n",
        "pcsSummary_df.round(4) "
      ],
      "metadata": {
        "colab": {
          "base_uri": "https://localhost:8080/",
          "height": 173
        },
        "id": "91QQnkuqwQj3",
        "outputId": "df9f8feb-0c11-43ee-e4ed-a6c3be8836e1"
      },
      "execution_count": 117,
      "outputs": [
        {
          "output_type": "execute_result",
          "data": {
            "text/plain": [
              "                           PC1     PC2     PC3     PC4     PC5     PC6  \\\n",
              "Standard deviation      2.5123  2.0276  1.2398  1.2102  1.0128  0.9874   \n",
              "Proportion of variance  0.2744  0.1787  0.0668  0.0637  0.0446  0.0424   \n",
              "Cumulative proportion   0.2744  0.4532  0.5200  0.5837  0.6283  0.6706   \n",
              "\n",
              "                           PC7     PC8     PC9    PC10  ...    PC14    PC15  \\\n",
              "Standard deviation      0.9592  0.9423  0.9327  0.8852  ...  0.7247  0.6569   \n",
              "Proportion of variance  0.0400  0.0386  0.0378  0.0341  ...  0.0228  0.0188   \n",
              "Cumulative proportion   0.7106  0.7492  0.7871  0.8211  ...  0.9331  0.9518   \n",
              "\n",
              "                          PC16    PC17    PC18    PC19    PC20    PC21  \\\n",
              "Standard deviation      0.5467  0.5033  0.4772  0.4088  0.2668  0.2016   \n",
              "Proportion of variance  0.0130  0.0110  0.0099  0.0073  0.0031  0.0018   \n",
              "Cumulative proportion   0.9648  0.9758  0.9857  0.9930  0.9961  0.9979   \n",
              "\n",
              "                          PC22    PC23  \n",
              "Standard deviation      0.1603  0.1536  \n",
              "Proportion of variance  0.0011  0.0010  \n",
              "Cumulative proportion   0.9990  1.0000  \n",
              "\n",
              "[3 rows x 23 columns]"
            ],
            "text/html": [
              "\n",
              "  <div id=\"df-a21ea071-d14c-4ba4-bdac-a3acab927af9\">\n",
              "    <div class=\"colab-df-container\">\n",
              "      <div>\n",
              "<style scoped>\n",
              "    .dataframe tbody tr th:only-of-type {\n",
              "        vertical-align: middle;\n",
              "    }\n",
              "\n",
              "    .dataframe tbody tr th {\n",
              "        vertical-align: top;\n",
              "    }\n",
              "\n",
              "    .dataframe thead th {\n",
              "        text-align: right;\n",
              "    }\n",
              "</style>\n",
              "<table border=\"1\" class=\"dataframe\">\n",
              "  <thead>\n",
              "    <tr style=\"text-align: right;\">\n",
              "      <th></th>\n",
              "      <th>PC1</th>\n",
              "      <th>PC2</th>\n",
              "      <th>PC3</th>\n",
              "      <th>PC4</th>\n",
              "      <th>PC5</th>\n",
              "      <th>PC6</th>\n",
              "      <th>PC7</th>\n",
              "      <th>PC8</th>\n",
              "      <th>PC9</th>\n",
              "      <th>PC10</th>\n",
              "      <th>...</th>\n",
              "      <th>PC14</th>\n",
              "      <th>PC15</th>\n",
              "      <th>PC16</th>\n",
              "      <th>PC17</th>\n",
              "      <th>PC18</th>\n",
              "      <th>PC19</th>\n",
              "      <th>PC20</th>\n",
              "      <th>PC21</th>\n",
              "      <th>PC22</th>\n",
              "      <th>PC23</th>\n",
              "    </tr>\n",
              "  </thead>\n",
              "  <tbody>\n",
              "    <tr>\n",
              "      <th>Standard deviation</th>\n",
              "      <td>2.5123</td>\n",
              "      <td>2.0276</td>\n",
              "      <td>1.2398</td>\n",
              "      <td>1.2102</td>\n",
              "      <td>1.0128</td>\n",
              "      <td>0.9874</td>\n",
              "      <td>0.9592</td>\n",
              "      <td>0.9423</td>\n",
              "      <td>0.9327</td>\n",
              "      <td>0.8852</td>\n",
              "      <td>...</td>\n",
              "      <td>0.7247</td>\n",
              "      <td>0.6569</td>\n",
              "      <td>0.5467</td>\n",
              "      <td>0.5033</td>\n",
              "      <td>0.4772</td>\n",
              "      <td>0.4088</td>\n",
              "      <td>0.2668</td>\n",
              "      <td>0.2016</td>\n",
              "      <td>0.1603</td>\n",
              "      <td>0.1536</td>\n",
              "    </tr>\n",
              "    <tr>\n",
              "      <th>Proportion of variance</th>\n",
              "      <td>0.2744</td>\n",
              "      <td>0.1787</td>\n",
              "      <td>0.0668</td>\n",
              "      <td>0.0637</td>\n",
              "      <td>0.0446</td>\n",
              "      <td>0.0424</td>\n",
              "      <td>0.0400</td>\n",
              "      <td>0.0386</td>\n",
              "      <td>0.0378</td>\n",
              "      <td>0.0341</td>\n",
              "      <td>...</td>\n",
              "      <td>0.0228</td>\n",
              "      <td>0.0188</td>\n",
              "      <td>0.0130</td>\n",
              "      <td>0.0110</td>\n",
              "      <td>0.0099</td>\n",
              "      <td>0.0073</td>\n",
              "      <td>0.0031</td>\n",
              "      <td>0.0018</td>\n",
              "      <td>0.0011</td>\n",
              "      <td>0.0010</td>\n",
              "    </tr>\n",
              "    <tr>\n",
              "      <th>Cumulative proportion</th>\n",
              "      <td>0.2744</td>\n",
              "      <td>0.4532</td>\n",
              "      <td>0.5200</td>\n",
              "      <td>0.5837</td>\n",
              "      <td>0.6283</td>\n",
              "      <td>0.6706</td>\n",
              "      <td>0.7106</td>\n",
              "      <td>0.7492</td>\n",
              "      <td>0.7871</td>\n",
              "      <td>0.8211</td>\n",
              "      <td>...</td>\n",
              "      <td>0.9331</td>\n",
              "      <td>0.9518</td>\n",
              "      <td>0.9648</td>\n",
              "      <td>0.9758</td>\n",
              "      <td>0.9857</td>\n",
              "      <td>0.9930</td>\n",
              "      <td>0.9961</td>\n",
              "      <td>0.9979</td>\n",
              "      <td>0.9990</td>\n",
              "      <td>1.0000</td>\n",
              "    </tr>\n",
              "  </tbody>\n",
              "</table>\n",
              "<p>3 rows × 23 columns</p>\n",
              "</div>\n",
              "      <button class=\"colab-df-convert\" onclick=\"convertToInteractive('df-a21ea071-d14c-4ba4-bdac-a3acab927af9')\"\n",
              "              title=\"Convert this dataframe to an interactive table.\"\n",
              "              style=\"display:none;\">\n",
              "        \n",
              "  <svg xmlns=\"http://www.w3.org/2000/svg\" height=\"24px\"viewBox=\"0 0 24 24\"\n",
              "       width=\"24px\">\n",
              "    <path d=\"M0 0h24v24H0V0z\" fill=\"none\"/>\n",
              "    <path d=\"M18.56 5.44l.94 2.06.94-2.06 2.06-.94-2.06-.94-.94-2.06-.94 2.06-2.06.94zm-11 1L8.5 8.5l.94-2.06 2.06-.94-2.06-.94L8.5 2.5l-.94 2.06-2.06.94zm10 10l.94 2.06.94-2.06 2.06-.94-2.06-.94-.94-2.06-.94 2.06-2.06.94z\"/><path d=\"M17.41 7.96l-1.37-1.37c-.4-.4-.92-.59-1.43-.59-.52 0-1.04.2-1.43.59L10.3 9.45l-7.72 7.72c-.78.78-.78 2.05 0 2.83L4 21.41c.39.39.9.59 1.41.59.51 0 1.02-.2 1.41-.59l7.78-7.78 2.81-2.81c.8-.78.8-2.07 0-2.86zM5.41 20L4 18.59l7.72-7.72 1.47 1.35L5.41 20z\"/>\n",
              "  </svg>\n",
              "      </button>\n",
              "      \n",
              "  <style>\n",
              "    .colab-df-container {\n",
              "      display:flex;\n",
              "      flex-wrap:wrap;\n",
              "      gap: 12px;\n",
              "    }\n",
              "\n",
              "    .colab-df-convert {\n",
              "      background-color: #E8F0FE;\n",
              "      border: none;\n",
              "      border-radius: 50%;\n",
              "      cursor: pointer;\n",
              "      display: none;\n",
              "      fill: #1967D2;\n",
              "      height: 32px;\n",
              "      padding: 0 0 0 0;\n",
              "      width: 32px;\n",
              "    }\n",
              "\n",
              "    .colab-df-convert:hover {\n",
              "      background-color: #E2EBFA;\n",
              "      box-shadow: 0px 1px 2px rgba(60, 64, 67, 0.3), 0px 1px 3px 1px rgba(60, 64, 67, 0.15);\n",
              "      fill: #174EA6;\n",
              "    }\n",
              "\n",
              "    [theme=dark] .colab-df-convert {\n",
              "      background-color: #3B4455;\n",
              "      fill: #D2E3FC;\n",
              "    }\n",
              "\n",
              "    [theme=dark] .colab-df-convert:hover {\n",
              "      background-color: #434B5C;\n",
              "      box-shadow: 0px 1px 3px 1px rgba(0, 0, 0, 0.15);\n",
              "      filter: drop-shadow(0px 1px 2px rgba(0, 0, 0, 0.3));\n",
              "      fill: #FFFFFF;\n",
              "    }\n",
              "  </style>\n",
              "\n",
              "      <script>\n",
              "        const buttonEl =\n",
              "          document.querySelector('#df-a21ea071-d14c-4ba4-bdac-a3acab927af9 button.colab-df-convert');\n",
              "        buttonEl.style.display =\n",
              "          google.colab.kernel.accessAllowed ? 'block' : 'none';\n",
              "\n",
              "        async function convertToInteractive(key) {\n",
              "          const element = document.querySelector('#df-a21ea071-d14c-4ba4-bdac-a3acab927af9');\n",
              "          const dataTable =\n",
              "            await google.colab.kernel.invokeFunction('convertToInteractive',\n",
              "                                                     [key], {});\n",
              "          if (!dataTable) return;\n",
              "\n",
              "          const docLinkHtml = 'Like what you see? Visit the ' +\n",
              "            '<a target=\"_blank\" href=https://colab.research.google.com/notebooks/data_table.ipynb>data table notebook</a>'\n",
              "            + ' to learn more about interactive tables.';\n",
              "          element.innerHTML = '';\n",
              "          dataTable['output_type'] = 'display_data';\n",
              "          await google.colab.output.renderOutput(dataTable, element);\n",
              "          const docLink = document.createElement('div');\n",
              "          docLink.innerHTML = docLinkHtml;\n",
              "          element.appendChild(docLink);\n",
              "        }\n",
              "      </script>\n",
              "    </div>\n",
              "  </div>\n",
              "  "
            ]
          },
          "metadata": {},
          "execution_count": 117
        }
      ]
    },
    {
      "cell_type": "markdown",
      "source": [
        "Evaluamos en base a la proporción cumulativa cuantos componentes principales son necesarios para llegar a una variabilidad arriba al 90%"
      ],
      "metadata": {
        "id": "07Y8shYBBi2b"
      }
    },
    {
      "cell_type": "code",
      "source": [
        "pcsSummary_df.iloc[2,12].round(4)*100"
      ],
      "metadata": {
        "colab": {
          "base_uri": "https://localhost:8080/"
        },
        "id": "BQr_EgguwxPf",
        "outputId": "05ad3ae0-3e60-4eb1-8251-28afd48605d8"
      },
      "execution_count": 105,
      "outputs": [
        {
          "output_type": "execute_result",
          "data": {
            "text/plain": [
              "91.02"
            ]
          },
          "metadata": {},
          "execution_count": 105
        }
      ]
    },
    {
      "cell_type": "code",
      "source": [
        "(1 - pcsSummary_df.iloc[2,12]).round(4)*100"
      ],
      "metadata": {
        "colab": {
          "base_uri": "https://localhost:8080/"
        },
        "id": "Fx6jPOs-S9jx",
        "outputId": "75d96e56-8aa4-4392-92f0-93de6065051b"
      },
      "execution_count": 106,
      "outputs": [
        {
          "output_type": "execute_result",
          "data": {
            "text/plain": [
              "8.98"
            ]
          },
          "metadata": {},
          "execution_count": 106
        }
      ]
    },
    {
      "cell_type": "code",
      "source": [
        "import matplotlib as mpl\n",
        "import matplotlib.pyplot as plt"
      ],
      "metadata": {
        "id": "HsRxJXutVBmP"
      },
      "execution_count": 107,
      "outputs": []
    },
    {
      "cell_type": "code",
      "source": [
        "PC_components = np.arange(pcs.n_components_) + 1\n",
        "#PC_components\n",
        "\n",
        "_ = sns.set(style = 'whitegrid', \n",
        "            font_scale = 1.2\n",
        "            )\n",
        "\n",
        "fig, ax = plt.subplots(figsize=(10, 7))\n",
        "\n",
        "_ = sns.barplot(x = PC_components, \n",
        "                y = pcs.explained_variance_ratio_, \n",
        "                color = 'b'\n",
        "                )\n",
        "\n",
        "_ = sns.lineplot(x = PC_components-1, \n",
        "                 y = np.cumsum(pcs.explained_variance_ratio_), \n",
        "                 color = 'black', \n",
        "                 linestyle = '-', \n",
        "                 linewidth = 2, \n",
        "                 marker = 'o', \n",
        "                 markersize = 8\n",
        "                 )\n",
        "\n",
        "plt.title('Scree Plot')\n",
        "plt.xlabel('N-th Principal Component')\n",
        "plt.ylabel('Variance Explained')\n",
        "plt.ylim(0, 1)\n",
        "plt.show()"
      ],
      "metadata": {
        "colab": {
          "base_uri": "https://localhost:8080/",
          "height": 469
        },
        "id": "_4VYSZM3VDP1",
        "outputId": "774b9898-65c2-42bb-8ca4-79a868dcc252"
      },
      "execution_count": 108,
      "outputs": [
        {
          "output_type": "display_data",
          "data": {
            "text/plain": [
              "<Figure size 720x504 with 1 Axes>"
            ],
            "image/png": "[encoded data removed]"
          },
          "metadata": {}
        }
      ]
    },
    {
      "cell_type": "markdown",
      "source": [
        "*   El primer componente principal abarca únicamente un 27% de la variabilidad\n",
        "*   Es necesario abarcar hasta PC12 para llegar a un 91% de variabilidad\n",
        "*   Reducir el número de variables a menos de 12 significaría una pérdida de variabilidad considerable\n",
        "*   Existe una pérdida de variación del 8.98% incluyendo 12 componentes principales"
      ],
      "metadata": {
        "id": "EGUk9dJPCBCL"
      }
    },
    {
      "cell_type": "markdown",
      "source": [
        "### El numero **mínimo de componentes principales** para el modelo son **12**"
      ],
      "metadata": {
        "id": "cMHH3tc1CcGb"
      }
    },
    {
      "cell_type": "markdown",
      "source": [
        "## **Paso 2: Interprete cada componente principal en términos de las variables originales**"
      ],
      "metadata": {
        "id": "XrwkJ7yMCsSs"
      }
    },
    {
      "cell_type": "markdown",
      "source": [
        "Comenzamos usando el método de .transpose() para acomodar los componentes principales en las columnas, contra los nombres de las columnas de la base de datos original. Para así poder visualizar el impacto de las variables originales sobre los componentes principales."
      ],
      "metadata": {
        "id": "9NY17rsIC_Uq"
      }
    },
    {
      "cell_type": "code",
      "source": [
        "pcsComponents_df = pd.DataFrame(pcs.components_.transpose(), \n",
        "                                columns=pcsSummary_df.columns,\n",
        "                                index=x_values.columns\n",
        "                                )\n",
        "pcsComponents_df.iloc[:,:12]"
      ],
      "metadata": {
        "colab": {
          "base_uri": "https://localhost:8080/",
          "height": 770
        },
        "id": "w7Nc-lJTC1_I",
        "outputId": "18b2661f-2c25-44f2-c6a3-997df9deb223"
      },
      "execution_count": 46,
      "outputs": [
        {
          "output_type": "execute_result",
          "data": {
            "text/plain": [
              "                PC1       PC2       PC3       PC4       PC5       PC6  \\\n",
              "BAL        0.091638  0.296007  0.002024  0.086406 -0.201029 -0.389330   \n",
              "SEX       -0.020013  0.030720  0.035849 -0.076578  0.836091 -0.493731   \n",
              "EDUCATION  0.011833 -0.097039 -0.351762  0.181227  0.423404  0.529667   \n",
              "MARRIAGE  -0.011474 -0.036329  0.515563 -0.367047 -0.022137  0.285825   \n",
              "AGE        0.020404  0.056296 -0.532613  0.388699 -0.159246 -0.059272   \n",
              "PAYSTAT_1  0.136321 -0.312537 -0.006848  0.035161 -0.035000 -0.053352   \n",
              "PAYSTAT_2  0.160257 -0.349301  0.013882  0.055486 -0.044026 -0.064132   \n",
              "PAYSTAT_3  0.163160 -0.359891  0.054066  0.094227 -0.031728 -0.073836   \n",
              "PAYSTAT_4  0.168784 -0.364645  0.076496  0.124406 -0.019252 -0.089147   \n",
              "PAYSTAT_5  0.173542 -0.352703  0.094631  0.132065 -0.008082 -0.079570   \n",
              "PAYSTAT_6  0.169498 -0.327244  0.096163  0.120904  0.007020 -0.064460   \n",
              "BILL_1     0.349123  0.107168 -0.120673 -0.186825 -0.012234  0.017608   \n",
              "BILL_2     0.360377  0.106668 -0.100008 -0.165931  0.009057  0.049194   \n",
              "BILL_3     0.364778  0.111938 -0.063895 -0.113742  0.036840  0.072287   \n",
              "BILL_4     0.369041  0.110421 -0.050891 -0.106408  0.027829  0.055639   \n",
              "BILL_5     0.366819  0.107716 -0.039381 -0.092939  0.024772  0.024735   \n",
              "BILL_6     0.359540  0.106852 -0.030127 -0.084689  0.007909 -0.016566   \n",
              "PAY_1      0.102666  0.144704  0.235512  0.319847  0.120461  0.210911   \n",
              "PAY_2      0.086605  0.135175  0.249584  0.358318  0.136266  0.220344   \n",
              "PAY_3      0.094702  0.147825  0.231942  0.319006  0.056164  0.142685   \n",
              "PAY_4      0.085980  0.137770  0.192991  0.269846  0.018117 -0.023426   \n",
              "PAY_5      0.083158  0.132947  0.159829  0.205222 -0.077526 -0.214991   \n",
              "PAY_6      0.078345  0.124657  0.173886  0.239559 -0.071782 -0.189603   \n",
              "\n",
              "                PC7       PC8       PC9      PC10      PC11      PC12  \n",
              "BAL        0.116019 -0.022836  0.014463  0.011844 -0.004662  0.021619  \n",
              "SEX        0.047998 -0.000020  0.010955  0.025464  0.022366 -0.050790  \n",
              "EDUCATION -0.366899 -0.000865 -0.127883  0.065020 -0.111696  0.156625  \n",
              "MARRIAGE  -0.149363 -0.009720 -0.047898  0.039708 -0.071067  0.074967  \n",
              "AGE        0.075586 -0.006081  0.037601  0.008580 -0.035022 -0.000125  \n",
              "PAYSTAT_1 -0.159410  0.046131 -0.031185  0.008681  0.383698 -0.438556  \n",
              "PAYSTAT_2 -0.161291  0.045825 -0.034420  0.015089  0.277703 -0.297440  \n",
              "PAYSTAT_3 -0.047687 -0.002083 -0.027427 -0.025352 -0.040645 -0.175681  \n",
              "PAYSTAT_4  0.063530 -0.071834  0.034195 -0.081082 -0.135696  0.157265  \n",
              "PAYSTAT_5  0.158101 -0.063029  0.063610  0.076649 -0.198053  0.287131  \n",
              "PAYSTAT_6  0.198162  0.060411  0.009298  0.014524 -0.208631  0.337524  \n",
              "BILL_1    -0.055721 -0.021016 -0.064236  0.010525  0.016945 -0.015699  \n",
              "BILL_2     0.000902 -0.065996 -0.060480 -0.037422 -0.080175 -0.106670  \n",
              "BILL_3     0.025453 -0.140717  0.045113 -0.116391  0.098639  0.038078  \n",
              "BILL_4     0.074076 -0.024220  0.016356  0.118365  0.027237  0.019679  \n",
              "BILL_5     0.055382  0.136394 -0.034155 -0.004682  0.011101  0.062557  \n",
              "BILL_6    -0.073168  0.113058  0.109155  0.016246 -0.052108  0.063833  \n",
              "PAY_1      0.240598 -0.228445 -0.041007 -0.246557 -0.481393 -0.556913  \n",
              "PAY_2      0.144792 -0.284612  0.320257 -0.273624  0.572710  0.234702  \n",
              "PAY_3      0.170326  0.274948  0.033748  0.782299  0.086687 -0.101605  \n",
              "PAY_4     -0.122027  0.731990 -0.263405 -0.431136  0.024299  0.090248  \n",
              "PAY_5     -0.695526 -0.067234  0.507173  0.056433 -0.244529  0.010081  \n",
              "PAY_6     -0.274640 -0.420290 -0.718497  0.116871  0.076843  0.169645  "
            ],
            "text/html": [
              "\n",
              "  <div id=\"df-94cb38da-6305-4adb-a276-603373a82a4b\">\n",
              "    <div class=\"colab-df-container\">\n",
              "      <div>\n",
              "<style scoped>\n",
              "    .dataframe tbody tr th:only-of-type {\n",
              "        vertical-align: middle;\n",
              "    }\n",
              "\n",
              "    .dataframe tbody tr th {\n",
              "        vertical-align: top;\n",
              "    }\n",
              "\n",
              "    .dataframe thead th {\n",
              "        text-align: right;\n",
              "    }\n",
              "</style>\n",
              "<table border=\"1\" class=\"dataframe\">\n",
              "  <thead>\n",
              "    <tr style=\"text-align: right;\">\n",
              "      <th></th>\n",
              "      <th>PC1</th>\n",
              "      <th>PC2</th>\n",
              "      <th>PC3</th>\n",
              "      <th>PC4</th>\n",
              "      <th>PC5</th>\n",
              "      <th>PC6</th>\n",
              "      <th>PC7</th>\n",
              "      <th>PC8</th>\n",
              "      <th>PC9</th>\n",
              "      <th>PC10</th>\n",
              "      <th>PC11</th>\n",
              "      <th>PC12</th>\n",
              "    </tr>\n",
              "  </thead>\n",
              "  <tbody>\n",
              "    <tr>\n",
              "      <th>BAL</th>\n",
              "      <td>0.091638</td>\n",
              "      <td>0.296007</td>\n",
              "      <td>0.002024</td>\n",
              "      <td>0.086406</td>\n",
              "      <td>-0.201029</td>\n",
              "      <td>-0.389330</td>\n",
              "      <td>0.116019</td>\n",
              "      <td>-0.022836</td>\n",
              "      <td>0.014463</td>\n",
              "      <td>0.011844</td>\n",
              "      <td>-0.004662</td>\n",
              "      <td>0.021619</td>\n",
              "    </tr>\n",
              "    <tr>\n",
              "      <th>SEX</th>\n",
              "      <td>-0.020013</td>\n",
              "      <td>0.030720</td>\n",
              "      <td>0.035849</td>\n",
              "      <td>-0.076578</td>\n",
              "      <td>0.836091</td>\n",
              "      <td>-0.493731</td>\n",
              "      <td>0.047998</td>\n",
              "      <td>-0.000020</td>\n",
              "      <td>0.010955</td>\n",
              "      <td>0.025464</td>\n",
              "      <td>0.022366</td>\n",
              "      <td>-0.050790</td>\n",
              "    </tr>\n",
              "    <tr>\n",
              "      <th>EDUCATION</th>\n",
              "      <td>0.011833</td>\n",
              "      <td>-0.097039</td>\n",
              "      <td>-0.351762</td>\n",
              "      <td>0.181227</td>\n",
              "      <td>0.423404</td>\n",
              "      <td>0.529667</td>\n",
              "      <td>-0.366899</td>\n",
              "      <td>-0.000865</td>\n",
              "      <td>-0.127883</td>\n",
              "      <td>0.065020</td>\n",
              "      <td>-0.111696</td>\n",
              "      <td>0.156625</td>\n",
              "    </tr>\n",
              "    <tr>\n",
              "      <th>MARRIAGE</th>\n",
              "      <td>-0.011474</td>\n",
              "      <td>-0.036329</td>\n",
              "      <td>0.515563</td>\n",
              "      <td>-0.367047</td>\n",
              "      <td>-0.022137</td>\n",
              "      <td>0.285825</td>\n",
              "      <td>-0.149363</td>\n",
              "      <td>-0.009720</td>\n",
              "      <td>-0.047898</td>\n",
              "      <td>0.039708</td>\n",
              "      <td>-0.071067</td>\n",
              "      <td>0.074967</td>\n",
              "    </tr>\n",
              "    <tr>\n",
              "      <th>AGE</th>\n",
              "      <td>0.020404</td>\n",
              "      <td>0.056296</td>\n",
              "      <td>-0.532613</td>\n",
              "      <td>0.388699</td>\n",
              "      <td>-0.159246</td>\n",
              "      <td>-0.059272</td>\n",
              "      <td>0.075586</td>\n",
              "      <td>-0.006081</td>\n",
              "      <td>0.037601</td>\n",
              "      <td>0.008580</td>\n",
              "      <td>-0.035022</td>\n",
              "      <td>-0.000125</td>\n",
              "    </tr>\n",
              "    <tr>\n",
              "      <th>PAYSTAT_1</th>\n",
              "      <td>0.136321</td>\n",
              "      <td>-0.312537</td>\n",
              "      <td>-0.006848</td>\n",
              "      <td>0.035161</td>\n",
              "      <td>-0.035000</td>\n",
              "      <td>-0.053352</td>\n",
              "      <td>-0.159410</td>\n",
              "      <td>0.046131</td>\n",
              "      <td>-0.031185</td>\n",
              "      <td>0.008681</td>\n",
              "      <td>0.383698</td>\n",
              "      <td>-0.438556</td>\n",
              "    </tr>\n",
              "    <tr>\n",
              "      <th>PAYSTAT_2</th>\n",
              "      <td>0.160257</td>\n",
              "      <td>-0.349301</td>\n",
              "      <td>0.013882</td>\n",
              "      <td>0.055486</td>\n",
              "      <td>-0.044026</td>\n",
              "      <td>-0.064132</td>\n",
              "      <td>-0.161291</td>\n",
              "      <td>0.045825</td>\n",
              "      <td>-0.034420</td>\n",
              "      <td>0.015089</td>\n",
              "      <td>0.277703</td>\n",
              "      <td>-0.297440</td>\n",
              "    </tr>\n",
              "    <tr>\n",
              "      <th>PAYSTAT_3</th>\n",
              "      <td>0.163160</td>\n",
              "      <td>-0.359891</td>\n",
              "      <td>0.054066</td>\n",
              "      <td>0.094227</td>\n",
              "      <td>-0.031728</td>\n",
              "      <td>-0.073836</td>\n",
              "      <td>-0.047687</td>\n",
              "      <td>-0.002083</td>\n",
              "      <td>-0.027427</td>\n",
              "      <td>-0.025352</td>\n",
              "      <td>-0.040645</td>\n",
              "      <td>-0.175681</td>\n",
              "    </tr>\n",
              "    <tr>\n",
              "      <th>PAYSTAT_4</th>\n",
              "      <td>0.168784</td>\n",
              "      <td>-0.364645</td>\n",
              "      <td>0.076496</td>\n",
              "      <td>0.124406</td>\n",
              "      <td>-0.019252</td>\n",
              "      <td>-0.089147</td>\n",
              "      <td>0.063530</td>\n",
              "      <td>-0.071834</td>\n",
              "      <td>0.034195</td>\n",
              "      <td>-0.081082</td>\n",
              "      <td>-0.135696</td>\n",
              "      <td>0.157265</td>\n",
              "    </tr>\n",
              "    <tr>\n",
              "      <th>PAYSTAT_5</th>\n",
              "      <td>0.173542</td>\n",
              "      <td>-0.352703</td>\n",
              "      <td>0.094631</td>\n",
              "      <td>0.132065</td>\n",
              "      <td>-0.008082</td>\n",
              "      <td>-0.079570</td>\n",
              "      <td>0.158101</td>\n",
              "      <td>-0.063029</td>\n",
              "      <td>0.063610</td>\n",
              "      <td>0.076649</td>\n",
              "      <td>-0.198053</td>\n",
              "      <td>0.287131</td>\n",
              "    </tr>\n",
              "    <tr>\n",
              "      <th>PAYSTAT_6</th>\n",
              "      <td>0.169498</td>\n",
              "      <td>-0.327244</td>\n",
              "      <td>0.096163</td>\n",
              "      <td>0.120904</td>\n",
              "      <td>0.007020</td>\n",
              "      <td>-0.064460</td>\n",
              "      <td>0.198162</td>\n",
              "      <td>0.060411</td>\n",
              "      <td>0.009298</td>\n",
              "      <td>0.014524</td>\n",
              "      <td>-0.208631</td>\n",
              "      <td>0.337524</td>\n",
              "    </tr>\n",
              "    <tr>\n",
              "      <th>BILL_1</th>\n",
              "      <td>0.349123</td>\n",
              "      <td>0.107168</td>\n",
              "      <td>-0.120673</td>\n",
              "      <td>-0.186825</td>\n",
              "      <td>-0.012234</td>\n",
              "      <td>0.017608</td>\n",
              "      <td>-0.055721</td>\n",
              "      <td>-0.021016</td>\n",
              "      <td>-0.064236</td>\n",
              "      <td>0.010525</td>\n",
              "      <td>0.016945</td>\n",
              "      <td>-0.015699</td>\n",
              "    </tr>\n",
              "    <tr>\n",
              "      <th>BILL_2</th>\n",
              "      <td>0.360377</td>\n",
              "      <td>0.106668</td>\n",
              "      <td>-0.100008</td>\n",
              "      <td>-0.165931</td>\n",
              "      <td>0.009057</td>\n",
              "      <td>0.049194</td>\n",
              "      <td>0.000902</td>\n",
              "      <td>-0.065996</td>\n",
              "      <td>-0.060480</td>\n",
              "      <td>-0.037422</td>\n",
              "      <td>-0.080175</td>\n",
              "      <td>-0.106670</td>\n",
              "    </tr>\n",
              "    <tr>\n",
              "      <th>BILL_3</th>\n",
              "      <td>0.364778</td>\n",
              "      <td>0.111938</td>\n",
              "      <td>-0.063895</td>\n",
              "      <td>-0.113742</td>\n",
              "      <td>0.036840</td>\n",
              "      <td>0.072287</td>\n",
              "      <td>0.025453</td>\n",
              "      <td>-0.140717</td>\n",
              "      <td>0.045113</td>\n",
              "      <td>-0.116391</td>\n",
              "      <td>0.098639</td>\n",
              "      <td>0.038078</td>\n",
              "    </tr>\n",
              "    <tr>\n",
              "      <th>BILL_4</th>\n",
              "      <td>0.369041</td>\n",
              "      <td>0.110421</td>\n",
              "      <td>-0.050891</td>\n",
              "      <td>-0.106408</td>\n",
              "      <td>0.027829</td>\n",
              "      <td>0.055639</td>\n",
              "      <td>0.074076</td>\n",
              "      <td>-0.024220</td>\n",
              "      <td>0.016356</td>\n",
              "      <td>0.118365</td>\n",
              "      <td>0.027237</td>\n",
              "      <td>0.019679</td>\n",
              "    </tr>\n",
              "    <tr>\n",
              "      <th>BILL_5</th>\n",
              "      <td>0.366819</td>\n",
              "      <td>0.107716</td>\n",
              "      <td>-0.039381</td>\n",
              "      <td>-0.092939</td>\n",
              "      <td>0.024772</td>\n",
              "      <td>0.024735</td>\n",
              "      <td>0.055382</td>\n",
              "      <td>0.136394</td>\n",
              "      <td>-0.034155</td>\n",
              "      <td>-0.004682</td>\n",
              "      <td>0.011101</td>\n",
              "      <td>0.062557</td>\n",
              "    </tr>\n",
              "    <tr>\n",
              "      <th>BILL_6</th>\n",
              "      <td>0.359540</td>\n",
              "      <td>0.106852</td>\n",
              "      <td>-0.030127</td>\n",
              "      <td>-0.084689</td>\n",
              "      <td>0.007909</td>\n",
              "      <td>-0.016566</td>\n",
              "      <td>-0.073168</td>\n",
              "      <td>0.113058</td>\n",
              "      <td>0.109155</td>\n",
              "      <td>0.016246</td>\n",
              "      <td>-0.052108</td>\n",
              "      <td>0.063833</td>\n",
              "    </tr>\n",
              "    <tr>\n",
              "      <th>PAY_1</th>\n",
              "      <td>0.102666</td>\n",
              "      <td>0.144704</td>\n",
              "      <td>0.235512</td>\n",
              "      <td>0.319847</td>\n",
              "      <td>0.120461</td>\n",
              "      <td>0.210911</td>\n",
              "      <td>0.240598</td>\n",
              "      <td>-0.228445</td>\n",
              "      <td>-0.041007</td>\n",
              "      <td>-0.246557</td>\n",
              "      <td>-0.481393</td>\n",
              "      <td>-0.556913</td>\n",
              "    </tr>\n",
              "    <tr>\n",
              "      <th>PAY_2</th>\n",
              "      <td>0.086605</td>\n",
              "      <td>0.135175</td>\n",
              "      <td>0.249584</td>\n",
              "      <td>0.358318</td>\n",
              "      <td>0.136266</td>\n",
              "      <td>0.220344</td>\n",
              "      <td>0.144792</td>\n",
              "      <td>-0.284612</td>\n",
              "      <td>0.320257</td>\n",
              "      <td>-0.273624</td>\n",
              "      <td>0.572710</td>\n",
              "      <td>0.234702</td>\n",
              "    </tr>\n",
              "    <tr>\n",
              "      <th>PAY_3</th>\n",
              "      <td>0.094702</td>\n",
              "      <td>0.147825</td>\n",
              "      <td>0.231942</td>\n",
              "      <td>0.319006</td>\n",
              "      <td>0.056164</td>\n",
              "      <td>0.142685</td>\n",
              "      <td>0.170326</td>\n",
              "      <td>0.274948</td>\n",
              "      <td>0.033748</td>\n",
              "      <td>0.782299</td>\n",
              "      <td>0.086687</td>\n",
              "      <td>-0.101605</td>\n",
              "    </tr>\n",
              "    <tr>\n",
              "      <th>PAY_4</th>\n",
              "      <td>0.085980</td>\n",
              "      <td>0.137770</td>\n",
              "      <td>0.192991</td>\n",
              "      <td>0.269846</td>\n",
              "      <td>0.018117</td>\n",
              "      <td>-0.023426</td>\n",
              "      <td>-0.122027</td>\n",
              "      <td>0.731990</td>\n",
              "      <td>-0.263405</td>\n",
              "      <td>-0.431136</td>\n",
              "      <td>0.024299</td>\n",
              "      <td>0.090248</td>\n",
              "    </tr>\n",
              "    <tr>\n",
              "      <th>PAY_5</th>\n",
              "      <td>0.083158</td>\n",
              "      <td>0.132947</td>\n",
              "      <td>0.159829</td>\n",
              "      <td>0.205222</td>\n",
              "      <td>-0.077526</td>\n",
              "      <td>-0.214991</td>\n",
              "      <td>-0.695526</td>\n",
              "      <td>-0.067234</td>\n",
              "      <td>0.507173</td>\n",
              "      <td>0.056433</td>\n",
              "      <td>-0.244529</td>\n",
              "      <td>0.010081</td>\n",
              "    </tr>\n",
              "    <tr>\n",
              "      <th>PAY_6</th>\n",
              "      <td>0.078345</td>\n",
              "      <td>0.124657</td>\n",
              "      <td>0.173886</td>\n",
              "      <td>0.239559</td>\n",
              "      <td>-0.071782</td>\n",
              "      <td>-0.189603</td>\n",
              "      <td>-0.274640</td>\n",
              "      <td>-0.420290</td>\n",
              "      <td>-0.718497</td>\n",
              "      <td>0.116871</td>\n",
              "      <td>0.076843</td>\n",
              "      <td>0.169645</td>\n",
              "    </tr>\n",
              "  </tbody>\n",
              "</table>\n",
              "</div>\n",
              "      <button class=\"colab-df-convert\" onclick=\"convertToInteractive('df-94cb38da-6305-4adb-a276-603373a82a4b')\"\n",
              "              title=\"Convert this dataframe to an interactive table.\"\n",
              "              style=\"display:none;\">\n",
              "        \n",
              "  <svg xmlns=\"http://www.w3.org/2000/svg\" height=\"24px\"viewBox=\"0 0 24 24\"\n",
              "       width=\"24px\">\n",
              "    <path d=\"M0 0h24v24H0V0z\" fill=\"none\"/>\n",
              "    <path d=\"M18.56 5.44l.94 2.06.94-2.06 2.06-.94-2.06-.94-.94-2.06-.94 2.06-2.06.94zm-11 1L8.5 8.5l.94-2.06 2.06-.94-2.06-.94L8.5 2.5l-.94 2.06-2.06.94zm10 10l.94 2.06.94-2.06 2.06-.94-2.06-.94-.94-2.06-.94 2.06-2.06.94z\"/><path d=\"M17.41 7.96l-1.37-1.37c-.4-.4-.92-.59-1.43-.59-.52 0-1.04.2-1.43.59L10.3 9.45l-7.72 7.72c-.78.78-.78 2.05 0 2.83L4 21.41c.39.39.9.59 1.41.59.51 0 1.02-.2 1.41-.59l7.78-7.78 2.81-2.81c.8-.78.8-2.07 0-2.86zM5.41 20L4 18.59l7.72-7.72 1.47 1.35L5.41 20z\"/>\n",
              "  </svg>\n",
              "      </button>\n",
              "      \n",
              "  <style>\n",
              "    .colab-df-container {\n",
              "      display:flex;\n",
              "      flex-wrap:wrap;\n",
              "      gap: 12px;\n",
              "    }\n",
              "\n",
              "    .colab-df-convert {\n",
              "      background-color: #E8F0FE;\n",
              "      border: none;\n",
              "      border-radius: 50%;\n",
              "      cursor: pointer;\n",
              "      display: none;\n",
              "      fill: #1967D2;\n",
              "      height: 32px;\n",
              "      padding: 0 0 0 0;\n",
              "      width: 32px;\n",
              "    }\n",
              "\n",
              "    .colab-df-convert:hover {\n",
              "      background-color: #E2EBFA;\n",
              "      box-shadow: 0px 1px 2px rgba(60, 64, 67, 0.3), 0px 1px 3px 1px rgba(60, 64, 67, 0.15);\n",
              "      fill: #174EA6;\n",
              "    }\n",
              "\n",
              "    [theme=dark] .colab-df-convert {\n",
              "      background-color: #3B4455;\n",
              "      fill: #D2E3FC;\n",
              "    }\n",
              "\n",
              "    [theme=dark] .colab-df-convert:hover {\n",
              "      background-color: #434B5C;\n",
              "      box-shadow: 0px 1px 3px 1px rgba(0, 0, 0, 0.15);\n",
              "      filter: drop-shadow(0px 1px 2px rgba(0, 0, 0, 0.3));\n",
              "      fill: #FFFFFF;\n",
              "    }\n",
              "  </style>\n",
              "\n",
              "      <script>\n",
              "        const buttonEl =\n",
              "          document.querySelector('#df-94cb38da-6305-4adb-a276-603373a82a4b button.colab-df-convert');\n",
              "        buttonEl.style.display =\n",
              "          google.colab.kernel.accessAllowed ? 'block' : 'none';\n",
              "\n",
              "        async function convertToInteractive(key) {\n",
              "          const element = document.querySelector('#df-94cb38da-6305-4adb-a276-603373a82a4b');\n",
              "          const dataTable =\n",
              "            await google.colab.kernel.invokeFunction('convertToInteractive',\n",
              "                                                     [key], {});\n",
              "          if (!dataTable) return;\n",
              "\n",
              "          const docLinkHtml = 'Like what you see? Visit the ' +\n",
              "            '<a target=\"_blank\" href=https://colab.research.google.com/notebooks/data_table.ipynb>data table notebook</a>'\n",
              "            + ' to learn more about interactive tables.';\n",
              "          element.innerHTML = '';\n",
              "          dataTable['output_type'] = 'display_data';\n",
              "          await google.colab.output.renderOutput(dataTable, element);\n",
              "          const docLink = document.createElement('div');\n",
              "          docLink.innerHTML = docLinkHtml;\n",
              "          element.appendChild(docLink);\n",
              "        }\n",
              "      </script>\n",
              "    </div>\n",
              "  </div>\n",
              "  "
            ]
          },
          "metadata": {},
          "execution_count": 46
        }
      ]
    },
    {
      "cell_type": "markdown",
      "source": [
        "Ahora evaluamos las variables con el mayor valor absoluto en los coeficientes"
      ],
      "metadata": {
        "id": "SYdxFMklFTZf"
      }
    },
    {
      "cell_type": "code",
      "source": [
        "for pc in pcsComponents_df.iloc[:,:12]:\n",
        "  print('Top 3 variables con mayores coeficientes en magnitud de: ' + pc)\n",
        "  indexes_abs = pcsComponents_df[pc].abs().nlargest(3).index\n",
        "  individual_pc = pcsComponents_df[pc]\n",
        "  print(individual_pc[indexes_abs])"
      ],
      "metadata": {
        "colab": {
          "base_uri": "https://localhost:8080/"
        },
        "id": "MqckMe-zFxi9",
        "outputId": "91332dcd-b880-4155-ae78-038eb32fb68f"
      },
      "execution_count": 80,
      "outputs": [
        {
          "output_type": "stream",
          "name": "stdout",
          "text": [
            "Top 3 variables con mayores coeficientes en magnitud de: PC1\n",
            "BILL_4    0.369041\n",
            "BILL_5    0.366819\n",
            "BILL_3    0.364778\n",
            "Name: PC1, dtype: float64\n",
            "Top 3 variables con mayores coeficientes en magnitud de: PC2\n",
            "PAYSTAT_4   -0.364645\n",
            "PAYSTAT_3   -0.359891\n",
            "PAYSTAT_5   -0.352703\n",
            "Name: PC2, dtype: float64\n",
            "Top 3 variables con mayores coeficientes en magnitud de: PC3\n",
            "AGE         -0.532613\n",
            "MARRIAGE     0.515563\n",
            "EDUCATION   -0.351762\n",
            "Name: PC3, dtype: float64\n",
            "Top 3 variables con mayores coeficientes en magnitud de: PC4\n",
            "AGE         0.388699\n",
            "MARRIAGE   -0.367047\n",
            "PAY_2       0.358318\n",
            "Name: PC4, dtype: float64\n",
            "Top 3 variables con mayores coeficientes en magnitud de: PC5\n",
            "SEX          0.836091\n",
            "EDUCATION    0.423404\n",
            "BAL         -0.201029\n",
            "Name: PC5, dtype: float64\n",
            "Top 3 variables con mayores coeficientes en magnitud de: PC6\n",
            "EDUCATION    0.529667\n",
            "SEX         -0.493731\n",
            "BAL         -0.389330\n",
            "Name: PC6, dtype: float64\n",
            "Top 3 variables con mayores coeficientes en magnitud de: PC7\n",
            "PAY_5       -0.695526\n",
            "EDUCATION   -0.366899\n",
            "PAY_6       -0.274640\n",
            "Name: PC7, dtype: float64\n",
            "Top 3 variables con mayores coeficientes en magnitud de: PC8\n",
            "PAY_4    0.731990\n",
            "PAY_6   -0.420290\n",
            "PAY_2   -0.284612\n",
            "Name: PC8, dtype: float64\n",
            "Top 3 variables con mayores coeficientes en magnitud de: PC9\n",
            "PAY_6   -0.718497\n",
            "PAY_5    0.507173\n",
            "PAY_2    0.320257\n",
            "Name: PC9, dtype: float64\n",
            "Top 3 variables con mayores coeficientes en magnitud de: PC10\n",
            "PAY_3    0.782299\n",
            "PAY_4   -0.431136\n",
            "PAY_2   -0.273624\n",
            "Name: PC10, dtype: float64\n",
            "Top 3 variables con mayores coeficientes en magnitud de: PC11\n",
            "PAY_2        0.572710\n",
            "PAY_1       -0.481393\n",
            "PAYSTAT_1    0.383698\n",
            "Name: PC11, dtype: float64\n",
            "Top 3 variables con mayores coeficientes en magnitud de: PC12\n",
            "PAY_1       -0.556913\n",
            "PAYSTAT_1   -0.438556\n",
            "PAYSTAT_6    0.337524\n",
            "Name: PC12, dtype: float64\n"
          ]
        }
      ]
    },
    {
      "cell_type": "markdown",
      "source": [
        "Y donde podemos ver las 3 variables con mayor magnitud de cada componente principal"
      ],
      "metadata": {
        "id": "1Y3E5pFjL0SB"
      }
    },
    {
      "cell_type": "markdown",
      "source": [
        "Ahora para los eigenvectors:"
      ],
      "metadata": {
        "id": "EGEZITVOWXij"
      }
    },
    {
      "cell_type": "code",
      "source": [
        "pcs.components_.round(3)"
      ],
      "metadata": {
        "colab": {
          "base_uri": "https://localhost:8080/"
        },
        "id": "xuCtBbcyWZi4",
        "outputId": "7fb8af23-d405-49e5-9b19-786c1e2a2f76"
      },
      "execution_count": 113,
      "outputs": [
        {
          "output_type": "execute_result",
          "data": {
            "text/plain": [
              "array([[ 0.092, -0.02 ,  0.012, -0.011,  0.02 ,  0.136,  0.16 ,  0.163,\n",
              "         0.169,  0.174,  0.169,  0.349,  0.36 ,  0.365,  0.369,  0.367,\n",
              "         0.36 ,  0.103,  0.087,  0.095,  0.086,  0.083,  0.078],\n",
              "       [ 0.296,  0.031, -0.097, -0.036,  0.056, -0.313, -0.349, -0.36 ,\n",
              "        -0.365, -0.353, -0.327,  0.107,  0.107,  0.112,  0.11 ,  0.108,\n",
              "         0.107,  0.145,  0.135,  0.148,  0.138,  0.133,  0.125],\n",
              "       [ 0.002,  0.036, -0.352,  0.516, -0.533, -0.007,  0.014,  0.054,\n",
              "         0.076,  0.095,  0.096, -0.121, -0.1  , -0.064, -0.051, -0.039,\n",
              "        -0.03 ,  0.236,  0.25 ,  0.232,  0.193,  0.16 ,  0.174],\n",
              "       [ 0.086, -0.077,  0.181, -0.367,  0.389,  0.035,  0.055,  0.094,\n",
              "         0.124,  0.132,  0.121, -0.187, -0.166, -0.114, -0.106, -0.093,\n",
              "        -0.085,  0.32 ,  0.358,  0.319,  0.27 ,  0.205,  0.24 ],\n",
              "       [-0.201,  0.836,  0.423, -0.022, -0.159, -0.035, -0.044, -0.032,\n",
              "        -0.019, -0.008,  0.007, -0.012,  0.009,  0.037,  0.028,  0.025,\n",
              "         0.008,  0.12 ,  0.136,  0.056,  0.018, -0.078, -0.072],\n",
              "       [-0.389, -0.494,  0.53 ,  0.286, -0.059, -0.053, -0.064, -0.074,\n",
              "        -0.089, -0.08 , -0.064,  0.018,  0.049,  0.072,  0.056,  0.025,\n",
              "        -0.017,  0.211,  0.22 ,  0.143, -0.023, -0.215, -0.19 ],\n",
              "       [ 0.116,  0.048, -0.367, -0.149,  0.076, -0.159, -0.161, -0.048,\n",
              "         0.064,  0.158,  0.198, -0.056,  0.001,  0.025,  0.074,  0.055,\n",
              "        -0.073,  0.241,  0.145,  0.17 , -0.122, -0.696, -0.275],\n",
              "       [-0.023, -0.   , -0.001, -0.01 , -0.006,  0.046,  0.046, -0.002,\n",
              "        -0.072, -0.063,  0.06 , -0.021, -0.066, -0.141, -0.024,  0.136,\n",
              "         0.113, -0.228, -0.285,  0.275,  0.732, -0.067, -0.42 ],\n",
              "       [ 0.014,  0.011, -0.128, -0.048,  0.038, -0.031, -0.034, -0.027,\n",
              "         0.034,  0.064,  0.009, -0.064, -0.06 ,  0.045,  0.016, -0.034,\n",
              "         0.109, -0.041,  0.32 ,  0.034, -0.263,  0.507, -0.718],\n",
              "       [ 0.012,  0.025,  0.065,  0.04 ,  0.009,  0.009,  0.015, -0.025,\n",
              "        -0.081,  0.077,  0.015,  0.011, -0.037, -0.116,  0.118, -0.005,\n",
              "         0.016, -0.247, -0.274,  0.782, -0.431,  0.056,  0.117],\n",
              "       [-0.005,  0.022, -0.112, -0.071, -0.035,  0.384,  0.278, -0.041,\n",
              "        -0.136, -0.198, -0.209,  0.017, -0.08 ,  0.099,  0.027,  0.011,\n",
              "        -0.052, -0.481,  0.573,  0.087,  0.024, -0.245,  0.077],\n",
              "       [ 0.022, -0.051,  0.157,  0.075, -0.   , -0.439, -0.297, -0.176,\n",
              "         0.157,  0.287,  0.338, -0.016, -0.107,  0.038,  0.02 ,  0.063,\n",
              "         0.064, -0.557,  0.235, -0.102,  0.09 ,  0.01 ,  0.17 ],\n",
              "       [ 0.459,  0.148,  0.15 ,  0.662,  0.514,  0.109,  0.055,  0.046,\n",
              "         0.044,  0.007, -0.014, -0.015, -0.023, -0.022, -0.034, -0.033,\n",
              "        -0.047, -0.008,  0.025, -0.038, -0.01 , -0.088, -0.092],\n",
              "       [-0.689,  0.141, -0.396,  0.203,  0.51 , -0.056, -0.042, -0.056,\n",
              "        -0.062, -0.037,  0.017,  0.013,  0.025,  0.036,  0.037,  0.046,\n",
              "         0.06 , -0.01 ,  0.005,  0.018,  0.044,  0.08 ,  0.124],\n",
              "       [-0.011,  0.019, -0.025,  0.003,  0.017, -0.595,  0.217,  0.593,\n",
              "         0.217, -0.172, -0.368,  0.039,  0.024,  0.034,  0.01 , -0.029,\n",
              "        -0.053, -0.102,  0.062,  0.085,  0.023, -0.055, -0.032],\n",
              "       [ 0.054,  0.002,  0.012,  0.007,  0.004, -0.305,  0.527,  0.014,\n",
              "        -0.587, -0.104,  0.504,  0.024,  0.02 , -0.   , -0.046, -0.035,\n",
              "        -0.01 ,  0.053,  0.035, -0.064, -0.055,  0.026, -0.001],\n",
              "       [-0.019,  0.025, -0.038, -0.008,  0.004, -0.053,  0.088, -0.228,\n",
              "         0.093,  0.195, -0.029,  0.535,  0.361,  0.1  , -0.194, -0.394,\n",
              "        -0.47 , -0.038,  0.019,  0.126,  0.138,  0.062, -0.083],\n",
              "       [ 0.003,  0.   , -0.004, -0.008, -0.005,  0.205, -0.534,  0.534,\n",
              "        -0.173, -0.346,  0.374,  0.157,  0.11 ,  0.063, -0.069, -0.136,\n",
              "        -0.138, -0.087,  0.063,  0.05 , -0.006,  0.041, -0.006],\n",
              "       [ 0.007, -0.   ,  0.   , -0.002, -0.005, -0.05 ,  0.159, -0.306,\n",
              "         0.559, -0.672,  0.323,  0.009,  0.002, -0.018,  0.007, -0.022,\n",
              "         0.015,  0.022, -0.027,  0.062, -0.064,  0.011, -0.   ],\n",
              "       [-0.01 ,  0.002, -0.003, -0.002,  0.   , -0.005, -0.02 ,  0.022,\n",
              "         0.017,  0.011, -0.034,  0.413,  0.042, -0.476, -0.529,  0.064,\n",
              "         0.518,  0.04 ,  0.146,  0.007, -0.107, -0.102,  0.026],\n",
              "       [ 0.014, -0.001,  0.001, -0.001, -0.002, -0.   ,  0.007, -0.023,\n",
              "         0.008,  0.016, -0.011, -0.435,  0.342,  0.503, -0.479, -0.259,\n",
              "         0.336, -0.064, -0.074,  0.121,  0.01 , -0.068,  0.021],\n",
              "       [-0.001, -0.001,  0.002,  0.001, -0.   , -0.003,  0.001, -0.005,\n",
              "         0.012, -0.012,  0.005, -0.178,  0.311, -0.064, -0.38 ,  0.724,\n",
              "        -0.424, -0.042,  0.032,  0.029, -0.081,  0.091, -0.011],\n",
              "       [ 0.003,  0.001,  0.001, -0.001,  0.   ,  0.   , -0.004,  0.001,\n",
              "        -0.005,  0.002,  0.003, -0.322,  0.657, -0.531,  0.332, -0.202,\n",
              "         0.059, -0.083,  0.124, -0.06 ,  0.036, -0.005,  0.007]])"
            ]
          },
          "metadata": {},
          "execution_count": 113
        }
      ]
    },
    {
      "cell_type": "markdown",
      "source": [
        "Donde podemos ver cada vector para cada componente principal"
      ],
      "metadata": {
        "id": "ZR2H5NeiW5Zl"
      }
    },
    {
      "cell_type": "markdown",
      "source": [
        "Ahora, para los eigenvalues:"
      ],
      "metadata": {
        "id": "rkQPMK7sW6O_"
      }
    },
    {
      "cell_type": "code",
      "source": [
        "pcs.explained_variance_.round(3)"
      ],
      "metadata": {
        "colab": {
          "base_uri": "https://localhost:8080/"
        },
        "id": "a3WYPDDjWi0n",
        "outputId": "be9cc286-0e0f-49e3-e7ee-f3d5c87c6870"
      },
      "execution_count": 114,
      "outputs": [
        {
          "output_type": "execute_result",
          "data": {
            "text/plain": [
              "array([6.312, 4.111, 1.537, 1.465, 1.026, 0.975, 0.92 , 0.888, 0.87 ,\n",
              "       0.784, 0.739, 0.728, 0.581, 0.525, 0.432, 0.299, 0.253, 0.228,\n",
              "       0.167, 0.071, 0.041, 0.026, 0.024])"
            ]
          },
          "metadata": {},
          "execution_count": 114
        }
      ]
    },
    {
      "cell_type": "markdown",
      "source": [
        "Lo que nos dice la importancia de cada dirección de cada vector"
      ],
      "metadata": {
        "id": "Z8JMqfWaXNgz"
      }
    },
    {
      "cell_type": "markdown",
      "source": [
        "## **Paso 3: Identifique valores atípicos**"
      ],
      "metadata": {
        "id": "WILhE1i-MT6n"
      }
    },
    {
      "cell_type": "markdown",
      "source": [
        "Para identificar los valores atípicos generaremos graficas de boxplot de cada componente principal"
      ],
      "metadata": {
        "id": "ljdRPYWtM5c7"
      }
    },
    {
      "cell_type": "code",
      "source": [
        "import seaborn as sns \n",
        "import matplotlib.pyplot as plt"
      ],
      "metadata": {
        "id": "bO1lvKaFMbpu"
      },
      "execution_count": 81,
      "outputs": []
    },
    {
      "cell_type": "code",
      "source": [
        "sns.set(rc={'figure.figsize':(20,15)})\n",
        "fig, ax =plt.subplots(3,4)\n",
        "j = 0\n",
        "k = 0\n",
        "for pc in pcsComponents_df.iloc[:,:12]:\n",
        "  sns.boxplot(x=pcsComponents_df[pc],ax=ax[k,j])\n",
        "  j = j + 1\n",
        "  if j > 3:\n",
        "    k = k + 1\n",
        "    j = 0\n",
        "plt.tight_layout()"
      ],
      "metadata": {
        "colab": {
          "base_uri": "https://localhost:8080/",
          "height": 1000
        },
        "id": "WGEdDnOdNH4b",
        "outputId": "9678cd6f-fc16-47b0-d650-0490f81afec1"
      },
      "execution_count": 101,
      "outputs": [
        {
          "output_type": "display_data",
          "data": {
            "text/plain": [
              "<Figure size 1440x1080 with 12 Axes>"
            ],
            "image/png": "[encoded data removed]"
          },
          "metadata": {}
        }
      ]
    },
    {
      "cell_type": "markdown",
      "source": [
        "Donde podemos observar que PC3, PC5, PC6, PC7, PC8, PC9, PC10, PC11 y PC12 tienen valores atípicos"
      ],
      "metadata": {
        "id": "XHq7TifmRS_G"
      }
    },
    {
      "cell_type": "markdown",
      "source": [
        "## **Parte 2: Responde las siguientes preguntas en una celda de texto en Jupyter Notebook**"
      ],
      "metadata": {
        "id": "mEA2dnoaRwmu"
      }
    },
    {
      "cell_type": "markdown",
      "source": [
        "* **¿Cuál es el número de componentes mínimo y por qué?**\n",
        "\n",
        "El número de componentes mínimos lo definimos en base a la variabilidad. En este caso elegimos 12 componentes como mínimo ya que era el mínimo necesario para cubrir un 91% de la variabilidad. Bien podríamos decidirnos por un valor de variabilidad menor y así disminuir los componentes. Sin embargo, eso nos haría perder un porcentaje mayor de variabilidad. Por en esta ocasión se tomó esa decisión de utilizar 12 componentes principales. \n",
        "\n",
        "* **¿Cuál es la variación de los datos que representan esos componentes?**\n",
        "\n",
        "Representan un 91.02% de la variación. Un valor arriba del 90% que se considera bastante valido para la parte de modelación. \n",
        "\n",
        "* **¿Cuál es la pérdida de información después de realizar PCA?**\n",
        "\n",
        "Existe una pérdida de variación del 8.98%\n",
        "\n",
        "* **De las variables originales, ¿Cuál tiene mayor y cuál tiene menor importancia en los componentes principales?**\n",
        "\n",
        "Dependiendo del componente principal, son las variables originales que mayor importancia tienen sobre cada uno. Pero si calculamos la covariancia de cada variable respecto a las demás, y sacamos el porcentaje de cada una sobre el total de variancia, obtenemos que la de mayor importancia es PAY_1 con un 30.74%, y la de menor importancia es MARRIAGE con 0.48%\n",
        "\n",
        "* **¿Cuándo se recomienda realizar un PCA y qué beneficios ofrece para Machine Learning?**\n",
        "\n",
        "Este método se recomienda usarse cuando hay una gran correlación entre las variables. Si su correlación es baja, entonces no es recomendable usarse.\n",
        "\n",
        "El método de PCA se utiliza para reducir la dimensionalidad de un set de datos. Nos ayuda a mejorar el rendimiento de los modelos en machine learning sin una gran pérdida de variación de los datos.\n",
        "\n",
        " "
      ],
      "metadata": {
        "id": "CESql8o0R-sh"
      }
    }
  ]
}